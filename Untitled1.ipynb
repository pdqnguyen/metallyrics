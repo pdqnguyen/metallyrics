{
 "cells": [
  {
   "cell_type": "code",
   "execution_count": 1,
   "metadata": {},
   "outputs": [],
   "source": [
    "import pandas as pd\n",
    "import numpy as np\n",
    "from lyricsutils import strip_lyrics, word_count\n",
    "from metallum import Band"
   ]
  },
  {
   "cell_type": "code",
   "execution_count": 2,
   "metadata": {},
   "outputs": [
    {
     "name": "stdout",
     "output_type": "stream",
     "text": [
      "fetching album Starspawn\n",
      "fetching song Vitrification of Blood (Part 1)\n",
      "fetching song Chaoplasm\n",
      "fetching song Hidden Species (Vitrification of Blood Part 2)\n",
      "fetching song Meticulous Soul Devourment\n",
      "fetching song Starspawn\n"
     ]
    }
   ],
   "source": [
    "band_name = 'Blood Incantation'\n",
    "band_id = '3540368063'\n",
    "band = Band.fetch(band_name, band_id)"
   ]
  },
  {
   "cell_type": "code",
   "execution_count": 3,
   "metadata": {},
   "outputs": [],
   "source": [
    "df_list = []\n",
    "for album_name in band.album_names:\n",
    "    word_dict = word_count(band[album_name].lyrics)\n",
    "    df = pd.DataFrame.from_dict(word_dict, orient='index')\n",
    "    if len(df) > 0:\n",
    "        df.columns = [album_name]\n",
    "        df = df.transpose()\n",
    "        df_list.append(df)\n",
    "data = pd.concat(df_list, axis=0).fillna(0)"
   ]
  },
  {
   "cell_type": "code",
   "execution_count": 4,
   "metadata": {},
   "outputs": [
    {
     "data": {
      "text/html": [
       "<div>\n",
       "<style scoped>\n",
       "    .dataframe tbody tr th:only-of-type {\n",
       "        vertical-align: middle;\n",
       "    }\n",
       "\n",
       "    .dataframe tbody tr th {\n",
       "        vertical-align: top;\n",
       "    }\n",
       "\n",
       "    .dataframe thead th {\n",
       "        text-align: right;\n",
       "    }\n",
       "</style>\n",
       "<table border=\"1\" class=\"dataframe\">\n",
       "  <thead>\n",
       "    <tr style=\"text-align: right;\">\n",
       "      <th></th>\n",
       "      <th>inside</th>\n",
       "      <th>mind</th>\n",
       "      <th>time</th>\n",
       "      <th>astral</th>\n",
       "      <th>fall</th>\n",
       "      <th>make</th>\n",
       "      <th>opening</th>\n",
       "      <th>fire</th>\n",
       "      <th>planet</th>\n",
       "      <th>dimensions</th>\n",
       "      <th>...</th>\n",
       "      <th>plane</th>\n",
       "      <th>pulp</th>\n",
       "      <th>real</th>\n",
       "      <th>release</th>\n",
       "      <th>replicating</th>\n",
       "      <th>rotten</th>\n",
       "      <th>sand</th>\n",
       "      <th>seas</th>\n",
       "      <th>seeds</th>\n",
       "      <th>ancients</th>\n",
       "    </tr>\n",
       "  </thead>\n",
       "  <tbody>\n",
       "    <tr>\n",
       "      <th>Starspawn</th>\n",
       "      <td>6</td>\n",
       "      <td>4</td>\n",
       "      <td>3</td>\n",
       "      <td>3</td>\n",
       "      <td>3</td>\n",
       "      <td>2</td>\n",
       "      <td>2</td>\n",
       "      <td>2</td>\n",
       "      <td>2</td>\n",
       "      <td>2</td>\n",
       "      <td>...</td>\n",
       "      <td>1</td>\n",
       "      <td>1</td>\n",
       "      <td>1</td>\n",
       "      <td>1</td>\n",
       "      <td>1</td>\n",
       "      <td>1</td>\n",
       "      <td>1</td>\n",
       "      <td>1</td>\n",
       "      <td>1</td>\n",
       "      <td>1</td>\n",
       "    </tr>\n",
       "  </tbody>\n",
       "</table>\n",
       "<p>1 rows × 115 columns</p>\n",
       "</div>"
      ],
      "text/plain": [
       "           inside  mind  time  astral  fall  make  opening  fire  planet  \\\n",
       "Starspawn       6     4     3       3     3     2        2     2       2   \n",
       "\n",
       "           dimensions    ...     plane  pulp  real  release  replicating  \\\n",
       "Starspawn           2    ...         1     1     1        1            1   \n",
       "\n",
       "           rotten  sand  seas  seeds  ancients  \n",
       "Starspawn       1     1     1      1         1  \n",
       "\n",
       "[1 rows x 115 columns]"
      ]
     },
     "execution_count": 4,
     "metadata": {},
     "output_type": "execute_result"
    }
   ],
   "source": [
    "word_sort = data.sum(axis=0).sort_values()[::-1].index\n",
    "data[word_sort]"
   ]
  },
  {
   "cell_type": "code",
   "execution_count": 83,
   "metadata": {},
   "outputs": [],
   "source": [
    "def rating(reviews):\n",
    "    total = sum(reviews)\n",
    "    n = len(reviews)\n",
    "    rtg = (total - 50*n) / 50\n",
    "#     rtg = np.sign(rtg) * np.log1p(abs(rtg))\n",
    "    return rtg"
   ]
  },
  {
   "cell_type": "code",
   "execution_count": 84,
   "metadata": {},
   "outputs": [
    {
     "data": {
      "text/plain": [
       "[1.0, 2.0, 3.0, 20.0, 1.2, 2.0, 0.0, -0.8, -2.0]"
      ]
     },
     "execution_count": 84,
     "metadata": {},
     "output_type": "execute_result"
    }
   ],
   "source": [
    "review_lists = [\n",
    "    [100],\n",
    "    [100, 100],\n",
    "    [100, 100, 100],\n",
    "    [100] * 20,\n",
    "    [100, 100, 10],\n",
    "    [100, 100, 50],\n",
    "    [50],\n",
    "    [10],\n",
    "    [0, 0]\n",
    "]\n",
    "[rating(x) for x in review_lists]"
   ]
  },
  {
   "cell_type": "code",
   "execution_count": 85,
   "metadata": {},
   "outputs": [
    {
     "name": "stdout",
     "output_type": "stream",
     "text": [
      "[100, 98, 95, 97, 93]\n",
      "4.66\n"
     ]
    }
   ],
   "source": [
    "print(band['Starspawn'].reviews)\n",
    "print(rating(band['Starspawn'].reviews))"
   ]
  },
  {
   "cell_type": "code",
   "execution_count": 2,
   "metadata": {},
   "outputs": [
    {
     "name": "stdout",
     "output_type": "stream",
     "text": [
      "fetching album Black Future\n",
      "fetching song Black Future\n",
      "fetching song Oblivion\n",
      "fetching song Destroying the Cosmos\n",
      "fetching song Forests of Legend\n",
      "fetching song Hunger for Violence\n",
      "fetching song Deoxyribonucleic Acid\n",
      "fetching song Asteroid\n",
      "fetching song Dark Nebula\n",
      "fetching song Accelerating Universe\n",
      "fetching album Outer Isolation\n",
      "fetching song Cosmic Cortex\n",
      "fetching song Echoless Chamber\n",
      "fetching song Dying World\n",
      "fetching song Tetrastructural Minds\n",
      "fetching song Venus Project\n",
      "fetching song Dark Creations, Dead Creators\n",
      "fetching song Fast Paced Society\n",
      "fetching song Outer Isolation\n",
      "fetching album Terminal Redux\n",
      "fetching song Charging the Void\n",
      "fetching song Cygnus Terminal\n",
      "fetching song LCD (Liquid Crystal Disease)\n",
      "fetching song Mountains Above the Sun\n",
      "fetching song Ultimate Artificer\n",
      "fetching song Pteropticon\n",
      "fetching song Psychotropia\n",
      "fetching song Pillars of Sand\n",
      "fetching song Collapse\n",
      "fetching song Recharging the Void\n",
      "[88, 94, 89, 85, 70, 90, 99, 70, 90, 90]\n"
     ]
    },
    {
     "ename": "NameError",
     "evalue": "name 'total' is not defined",
     "output_type": "error",
     "traceback": [
      "\u001b[1;31m---------------------------------------------------------------------------\u001b[0m",
      "\u001b[1;31mNameError\u001b[0m                                 Traceback (most recent call last)",
      "\u001b[1;32m<ipython-input-2-7bcfef8cb932>\u001b[0m in \u001b[0;36m<module>\u001b[1;34m()\u001b[0m\n\u001b[0;32m      2\u001b[0m \u001b[1;32mfor\u001b[0m \u001b[0malbum\u001b[0m \u001b[1;32min\u001b[0m \u001b[0mband\u001b[0m\u001b[1;33m.\u001b[0m\u001b[0malbum_names\u001b[0m\u001b[1;33m:\u001b[0m\u001b[1;33m\u001b[0m\u001b[0m\n\u001b[0;32m      3\u001b[0m     \u001b[0mprint\u001b[0m\u001b[1;33m(\u001b[0m\u001b[0mband\u001b[0m\u001b[1;33m[\u001b[0m\u001b[0malbum\u001b[0m\u001b[1;33m]\u001b[0m\u001b[1;33m.\u001b[0m\u001b[0mreviews\u001b[0m\u001b[1;33m)\u001b[0m\u001b[1;33m\u001b[0m\u001b[0m\n\u001b[1;32m----> 4\u001b[1;33m     \u001b[0mprint\u001b[0m\u001b[1;33m(\u001b[0m\u001b[0mband\u001b[0m\u001b[1;33m[\u001b[0m\u001b[0malbum\u001b[0m\u001b[1;33m]\u001b[0m\u001b[1;33m.\u001b[0m\u001b[0mrating\u001b[0m\u001b[1;33m)\u001b[0m\u001b[1;33m\u001b[0m\u001b[0m\n\u001b[0m",
      "\u001b[1;32mD:\\Projects\\metallyrics\\metallum.py\u001b[0m in \u001b[0;36mrating\u001b[1;34m(self)\u001b[0m\n\u001b[0;32m     82\u001b[0m         \u001b[0mtot\u001b[0m \u001b[1;33m=\u001b[0m \u001b[0msum\u001b[0m\u001b[1;33m(\u001b[0m\u001b[0mself\u001b[0m\u001b[1;33m.\u001b[0m\u001b[0mreviews\u001b[0m\u001b[1;33m)\u001b[0m\u001b[1;33m\u001b[0m\u001b[0m\n\u001b[0;32m     83\u001b[0m         \u001b[0mn\u001b[0m \u001b[1;33m=\u001b[0m \u001b[0mlen\u001b[0m\u001b[1;33m(\u001b[0m\u001b[0mself\u001b[0m\u001b[1;33m.\u001b[0m\u001b[0mreviews\u001b[0m\u001b[1;33m)\u001b[0m\u001b[1;33m\u001b[0m\u001b[0m\n\u001b[1;32m---> 84\u001b[1;33m         \u001b[0mrtg\u001b[0m \u001b[1;33m=\u001b[0m \u001b[1;33m(\u001b[0m\u001b[0mtotal\u001b[0m \u001b[1;33m-\u001b[0m \u001b[1;36m50\u001b[0m\u001b[1;33m*\u001b[0m\u001b[0mn\u001b[0m\u001b[1;33m)\u001b[0m \u001b[1;33m/\u001b[0m \u001b[1;36m50\u001b[0m\u001b[1;33m\u001b[0m\u001b[0m\n\u001b[0m\u001b[0;32m     85\u001b[0m         \u001b[1;31m# rtg = np.sign(rtg) * np.log1p(abs(rtg))\u001b[0m\u001b[1;33m\u001b[0m\u001b[1;33m\u001b[0m\u001b[0m\n\u001b[0;32m     86\u001b[0m         \u001b[1;32mreturn\u001b[0m \u001b[0mrtg\u001b[0m\u001b[1;33m\u001b[0m\u001b[0m\n",
      "\u001b[1;31mNameError\u001b[0m: name 'total' is not defined"
     ]
    }
   ],
   "source": [
    "band = Band.fetch('Vektor', '87803')\n",
    "for album in band.album_names:\n",
    "    print(band[album].reviews)\n",
    "    print(band[album].rating)"
   ]
  }
 ],
 "metadata": {
  "kernelspec": {
   "display_name": "Python 3",
   "language": "python",
   "name": "python3"
  },
  "language_info": {
   "codemirror_mode": {
    "name": "ipython",
    "version": 3
   },
   "file_extension": ".py",
   "mimetype": "text/x-python",
   "name": "python",
   "nbconvert_exporter": "python",
   "pygments_lexer": "ipython3",
   "version": "3.6.5"
  }
 },
 "nbformat": 4,
 "nbformat_minor": 2
}

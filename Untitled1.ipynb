{
 "cells": [
  {
   "cell_type": "code",
   "execution_count": 1,
   "metadata": {},
   "outputs": [],
   "source": [
    "import pandas as pd\n",
    "import numpy as np\n",
    "from lyricsutils import strip_lyrics, word_count\n",
    "from metallum import Band"
   ]
  },
  {
   "cell_type": "code",
   "execution_count": 2,
   "metadata": {},
   "outputs": [
    {
     "name": "stdout",
     "output_type": "stream",
     "text": [
      "fetching album Starspawn\n",
      "fetching song Vitrification of Blood (Part 1)\n",
      "fetching song Chaoplasm\n",
      "fetching song Hidden Species (Vitrification of Blood Part 2)\n",
      "fetching song Meticulous Soul Devourment\n",
      "fetching song Starspawn\n"
     ]
    }
   ],
   "source": [
    "band_name = 'Blood Incantation'\n",
    "band_id = '3540368063'\n",
    "band = Band.fetch(band_name, band_id)"
   ]
  },
  {
   "cell_type": "code",
   "execution_count": 2,
   "metadata": {},
   "outputs": [
    {
     "name": "stdout",
     "output_type": "stream",
     "text": [
      "fetching album Ultima Thulée\n",
      "fetching song The Son of Hoarfrost\n",
      "fetching song The Plain of Ida\n",
      "fetching song From Hlidskjalf\n",
      "fetching song My Prayer Beyond Ginnungagap\n",
      "fetching song Till' I Perceive Bifrost\n",
      "fetching song On the Way to Vigrid\n",
      "fetching song Rigsthula\n",
      "fetching song The Last Journey of Ringhorn\n"
     ]
    },
    {
     "data": {
      "text/plain": [
       "{'albums': [<metallum.Album at 0x13a429f74a8>],\n",
       " 'formation': 1994,\n",
       " 'genres': ['ambient',\n",
       "  'atmospheric',\n",
       "  'avant-garde',\n",
       "  'black',\n",
       "  'dark',\n",
       "  'industrial'],\n",
       " 'label': 'Debemur Morti Productions',\n",
       " 'location': 'Mondeville, Normandy',\n",
       " 'name': 'Blut aus Nord',\n",
       " 'origin': 'France',\n",
       " 'themes': ['mysticism', 'occultism', 'philosophy', 'individualism'],\n",
       " 'years': [(1993, 1994), (1994, None)]}"
      ]
     },
     "execution_count": 2,
     "metadata": {},
     "output_type": "execute_result"
    }
   ],
   "source": [
    "band = Band.fetch('Blut aus Nord', '2371')\n",
    "band.__dict__"
   ]
  },
  {
   "cell_type": "code",
   "execution_count": 1,
   "metadata": {},
   "outputs": [],
   "source": [
    "from metallum import get_band, Band\n",
    "from urllib.parse import quote_plus, unquote"
   ]
  },
  {
   "cell_type": "code",
   "execution_count": 3,
   "metadata": {},
   "outputs": [
    {
     "name": "stdout",
     "output_type": "stream",
     "text": [
      "fetching album Groza\n",
      "fetching song Groza I\n",
      "fetching song Groza II\n",
      "fetching song Groza III\n",
      "fetching song Groza IV\n"
     ]
    }
   ],
   "source": [
    "band = Band.fetch('Mgła','44722')"
   ]
  },
  {
   "cell_type": "code",
   "execution_count": 3,
   "metadata": {},
   "outputs": [
    {
     "name": "stdout",
     "output_type": "stream",
     "text": [
      "fetching album Groza\n",
      "fetching song Groza I\n",
      "fetching song Groza II\n",
      "fetching song Groza III\n",
      "fetching song Groza IV\n"
     ]
    }
   ],
   "source": [
    "get_band('Mgła', '44722', 'bands')"
   ]
  },
  {
   "cell_type": "code",
   "execution_count": 4,
   "metadata": {},
   "outputs": [],
   "source": [
    "import pickle\n",
    "with open('bands/Blood_Incantation_3540368063.pkl', 'rb') as f:\n",
    "    band = pickle.load(f)"
   ]
  },
  {
   "cell_type": "code",
   "execution_count": 4,
   "metadata": {},
   "outputs": [],
   "source": [
    "import pickle\n",
    "with open('bands/Mg%C5%82a_44722.pkl', 'rb') as f:\n",
    "    band1 = pickle.load(f)"
   ]
  },
  {
   "cell_type": "code",
   "execution_count": 3,
   "metadata": {},
   "outputs": [],
   "source": [
    "df_list = []\n",
    "for album_name in band.album_names:\n",
    "    word_dict = word_count(band[album_name].lyrics)\n",
    "    df = pd.DataFrame.from_dict(word_dict, orient='index')\n",
    "    if len(df) > 0:\n",
    "        df.columns = [album_name]\n",
    "        df = df.transpose()\n",
    "        df_list.append(df)\n",
    "data = pd.concat(df_list, axis=0).fillna(0)"
   ]
  },
  {
   "cell_type": "code",
   "execution_count": 4,
   "metadata": {},
   "outputs": [
    {
     "data": {
      "text/html": [
       "<div>\n",
       "<style scoped>\n",
       "    .dataframe tbody tr th:only-of-type {\n",
       "        vertical-align: middle;\n",
       "    }\n",
       "\n",
       "    .dataframe tbody tr th {\n",
       "        vertical-align: top;\n",
       "    }\n",
       "\n",
       "    .dataframe thead th {\n",
       "        text-align: right;\n",
       "    }\n",
       "</style>\n",
       "<table border=\"1\" class=\"dataframe\">\n",
       "  <thead>\n",
       "    <tr style=\"text-align: right;\">\n",
       "      <th></th>\n",
       "      <th>inside</th>\n",
       "      <th>mind</th>\n",
       "      <th>time</th>\n",
       "      <th>astral</th>\n",
       "      <th>fall</th>\n",
       "      <th>make</th>\n",
       "      <th>opening</th>\n",
       "      <th>fire</th>\n",
       "      <th>planet</th>\n",
       "      <th>dimensions</th>\n",
       "      <th>...</th>\n",
       "      <th>plane</th>\n",
       "      <th>pulp</th>\n",
       "      <th>real</th>\n",
       "      <th>release</th>\n",
       "      <th>replicating</th>\n",
       "      <th>rotten</th>\n",
       "      <th>sand</th>\n",
       "      <th>seas</th>\n",
       "      <th>seeds</th>\n",
       "      <th>ancients</th>\n",
       "    </tr>\n",
       "  </thead>\n",
       "  <tbody>\n",
       "    <tr>\n",
       "      <th>Starspawn</th>\n",
       "      <td>6</td>\n",
       "      <td>4</td>\n",
       "      <td>3</td>\n",
       "      <td>3</td>\n",
       "      <td>3</td>\n",
       "      <td>2</td>\n",
       "      <td>2</td>\n",
       "      <td>2</td>\n",
       "      <td>2</td>\n",
       "      <td>2</td>\n",
       "      <td>...</td>\n",
       "      <td>1</td>\n",
       "      <td>1</td>\n",
       "      <td>1</td>\n",
       "      <td>1</td>\n",
       "      <td>1</td>\n",
       "      <td>1</td>\n",
       "      <td>1</td>\n",
       "      <td>1</td>\n",
       "      <td>1</td>\n",
       "      <td>1</td>\n",
       "    </tr>\n",
       "  </tbody>\n",
       "</table>\n",
       "<p>1 rows × 115 columns</p>\n",
       "</div>"
      ],
      "text/plain": [
       "           inside  mind  time  astral  fall  make  opening  fire  planet  \\\n",
       "Starspawn       6     4     3       3     3     2        2     2       2   \n",
       "\n",
       "           dimensions    ...     plane  pulp  real  release  replicating  \\\n",
       "Starspawn           2    ...         1     1     1        1            1   \n",
       "\n",
       "           rotten  sand  seas  seeds  ancients  \n",
       "Starspawn       1     1     1      1         1  \n",
       "\n",
       "[1 rows x 115 columns]"
      ]
     },
     "execution_count": 4,
     "metadata": {},
     "output_type": "execute_result"
    }
   ],
   "source": [
    "word_sort = data.sum(axis=0).sort_values()[::-1].index\n",
    "data[word_sort]"
   ]
  },
  {
   "cell_type": "code",
   "execution_count": 83,
   "metadata": {},
   "outputs": [],
   "source": [
    "def rating(reviews):\n",
    "    total = sum(reviews)\n",
    "    n = len(reviews)\n",
    "    rtg = (total - 50*n) / 50\n",
    "#     rtg = np.sign(rtg) * np.log1p(abs(rtg))\n",
    "    return rtg"
   ]
  },
  {
   "cell_type": "code",
   "execution_count": 84,
   "metadata": {},
   "outputs": [
    {
     "data": {
      "text/plain": [
       "[1.0, 2.0, 3.0, 20.0, 1.2, 2.0, 0.0, -0.8, -2.0]"
      ]
     },
     "execution_count": 84,
     "metadata": {},
     "output_type": "execute_result"
    }
   ],
   "source": [
    "review_lists = [\n",
    "    [100],\n",
    "    [100, 100],\n",
    "    [100, 100, 100],\n",
    "    [100] * 20,\n",
    "    [100, 100, 10],\n",
    "    [100, 100, 50],\n",
    "    [50],\n",
    "    [10],\n",
    "    [0, 0]\n",
    "]\n",
    "[rating(x) for x in review_lists]"
   ]
  },
  {
   "cell_type": "code",
   "execution_count": 85,
   "metadata": {},
   "outputs": [
    {
     "name": "stdout",
     "output_type": "stream",
     "text": [
      "[100, 98, 95, 97, 93]\n",
      "4.66\n"
     ]
    }
   ],
   "source": [
    "print(band['Starspawn'].reviews)\n",
    "print(rating(band['Starspawn'].reviews))"
   ]
  },
  {
   "cell_type": "code",
   "execution_count": 4,
   "metadata": {},
   "outputs": [
    {
     "name": "stdout",
     "output_type": "stream",
     "text": [
      "fetching album Black Future\n",
      "fetching song Black Future\n"
     ]
    },
    {
     "ename": "KeyboardInterrupt",
     "evalue": "",
     "output_type": "error",
     "traceback": [
      "\u001b[1;31m---------------------------------------------------------------------------\u001b[0m",
      "\u001b[1;31mKeyboardInterrupt\u001b[0m                         Traceback (most recent call last)",
      "\u001b[1;32m<ipython-input-4-7bcfef8cb932>\u001b[0m in \u001b[0;36m<module>\u001b[1;34m()\u001b[0m\n\u001b[1;32m----> 1\u001b[1;33m \u001b[0mband\u001b[0m \u001b[1;33m=\u001b[0m \u001b[0mBand\u001b[0m\u001b[1;33m.\u001b[0m\u001b[0mfetch\u001b[0m\u001b[1;33m(\u001b[0m\u001b[1;34m'Vektor'\u001b[0m\u001b[1;33m,\u001b[0m \u001b[1;34m'87803'\u001b[0m\u001b[1;33m)\u001b[0m\u001b[1;33m\u001b[0m\u001b[0m\n\u001b[0m\u001b[0;32m      2\u001b[0m \u001b[1;32mfor\u001b[0m \u001b[0malbum\u001b[0m \u001b[1;32min\u001b[0m \u001b[0mband\u001b[0m\u001b[1;33m.\u001b[0m\u001b[0malbum_names\u001b[0m\u001b[1;33m:\u001b[0m\u001b[1;33m\u001b[0m\u001b[0m\n\u001b[0;32m      3\u001b[0m     \u001b[0mprint\u001b[0m\u001b[1;33m(\u001b[0m\u001b[0mband\u001b[0m\u001b[1;33m[\u001b[0m\u001b[0malbum\u001b[0m\u001b[1;33m]\u001b[0m\u001b[1;33m.\u001b[0m\u001b[0mreviews\u001b[0m\u001b[1;33m)\u001b[0m\u001b[1;33m\u001b[0m\u001b[0m\n\u001b[0;32m      4\u001b[0m     \u001b[0mprint\u001b[0m\u001b[1;33m(\u001b[0m\u001b[0mband\u001b[0m\u001b[1;33m[\u001b[0m\u001b[0malbum\u001b[0m\u001b[1;33m]\u001b[0m\u001b[1;33m.\u001b[0m\u001b[0mrating\u001b[0m\u001b[1;33m)\u001b[0m\u001b[1;33m\u001b[0m\u001b[0m\n",
      "\u001b[1;32mD:\\Documents\\Projects\\metallyrics\\metallum.py\u001b[0m in \u001b[0;36mfetch\u001b[1;34m(cls, band_name, band_id)\u001b[0m\n\u001b[0;32m    169\u001b[0m         \u001b[0mdisco\u001b[0m \u001b[1;33m=\u001b[0m \u001b[0mdisco\u001b[0m\u001b[1;33m[\u001b[0m\u001b[1;33m~\u001b[0m\u001b[0mpd\u001b[0m\u001b[1;33m.\u001b[0m\u001b[0misnull\u001b[0m\u001b[1;33m(\u001b[0m\u001b[0mdisco\u001b[0m\u001b[1;33m[\u001b[0m\u001b[1;34m'Reviews'\u001b[0m\u001b[1;33m]\u001b[0m\u001b[1;33m)\u001b[0m\u001b[1;33m]\u001b[0m\u001b[1;33m\u001b[0m\u001b[0m\n\u001b[0;32m    170\u001b[0m         \u001b[0mdisco\u001b[0m \u001b[1;33m=\u001b[0m \u001b[0mdisco\u001b[0m\u001b[1;33m[\u001b[0m\u001b[0mdisco\u001b[0m\u001b[1;33m[\u001b[0m\u001b[1;34m'Type'\u001b[0m\u001b[1;33m]\u001b[0m \u001b[1;33m==\u001b[0m \u001b[1;34m'Full-length'\u001b[0m\u001b[1;33m]\u001b[0m\u001b[1;33m\u001b[0m\u001b[0m\n\u001b[1;32m--> 171\u001b[1;33m         \u001b[0malbums\u001b[0m \u001b[1;33m=\u001b[0m \u001b[1;33m[\u001b[0m\u001b[0mAlbum\u001b[0m\u001b[1;33m.\u001b[0m\u001b[0mfetch\u001b[0m\u001b[1;33m(\u001b[0m\u001b[0mband_name\u001b[0m\u001b[1;33m,\u001b[0m \u001b[0malbum_name\u001b[0m\u001b[1;33m)\u001b[0m \u001b[1;32mfor\u001b[0m \u001b[0malbum_name\u001b[0m \u001b[1;32min\u001b[0m \u001b[0mdisco\u001b[0m\u001b[1;33m[\u001b[0m\u001b[1;34m'Name'\u001b[0m\u001b[1;33m]\u001b[0m\u001b[1;33m[\u001b[0m\u001b[1;33m:\u001b[0m\u001b[1;36m1\u001b[0m\u001b[1;33m]\u001b[0m\u001b[1;33m]\u001b[0m\u001b[1;33m\u001b[0m\u001b[0m\n\u001b[0m\u001b[0;32m    172\u001b[0m         \u001b[0mnew\u001b[0m \u001b[1;33m=\u001b[0m \u001b[0mcls\u001b[0m\u001b[1;33m(\u001b[0m\u001b[0mband_name\u001b[0m\u001b[1;33m,\u001b[0m \u001b[0malbums\u001b[0m\u001b[1;33m=\u001b[0m\u001b[0malbums\u001b[0m\u001b[1;33m)\u001b[0m\u001b[1;33m\u001b[0m\u001b[0m\n\u001b[0;32m    173\u001b[0m         \u001b[0mband_url\u001b[0m \u001b[1;33m=\u001b[0m \u001b[0mBASEURL\u001b[0m \u001b[1;33m+\u001b[0m \u001b[1;34m'bands/'\u001b[0m \u001b[1;33m+\u001b[0m \u001b[0mband_name\u001b[0m\u001b[1;33m.\u001b[0m\u001b[0mreplace\u001b[0m\u001b[1;33m(\u001b[0m\u001b[1;34m' '\u001b[0m\u001b[1;33m,\u001b[0m\u001b[1;34m'_'\u001b[0m\u001b[1;33m)\u001b[0m \u001b[1;33m+\u001b[0m \u001b[1;34m'/'\u001b[0m \u001b[1;33m+\u001b[0m \u001b[0mband_id\u001b[0m\u001b[1;33m\u001b[0m\u001b[0m\n",
      "\u001b[1;32mD:\\Documents\\Projects\\metallyrics\\metallum.py\u001b[0m in \u001b[0;36m<listcomp>\u001b[1;34m(.0)\u001b[0m\n\u001b[0;32m    169\u001b[0m         \u001b[0mdisco\u001b[0m \u001b[1;33m=\u001b[0m \u001b[0mdisco\u001b[0m\u001b[1;33m[\u001b[0m\u001b[1;33m~\u001b[0m\u001b[0mpd\u001b[0m\u001b[1;33m.\u001b[0m\u001b[0misnull\u001b[0m\u001b[1;33m(\u001b[0m\u001b[0mdisco\u001b[0m\u001b[1;33m[\u001b[0m\u001b[1;34m'Reviews'\u001b[0m\u001b[1;33m]\u001b[0m\u001b[1;33m)\u001b[0m\u001b[1;33m]\u001b[0m\u001b[1;33m\u001b[0m\u001b[0m\n\u001b[0;32m    170\u001b[0m         \u001b[0mdisco\u001b[0m \u001b[1;33m=\u001b[0m \u001b[0mdisco\u001b[0m\u001b[1;33m[\u001b[0m\u001b[0mdisco\u001b[0m\u001b[1;33m[\u001b[0m\u001b[1;34m'Type'\u001b[0m\u001b[1;33m]\u001b[0m \u001b[1;33m==\u001b[0m \u001b[1;34m'Full-length'\u001b[0m\u001b[1;33m]\u001b[0m\u001b[1;33m\u001b[0m\u001b[0m\n\u001b[1;32m--> 171\u001b[1;33m         \u001b[0malbums\u001b[0m \u001b[1;33m=\u001b[0m \u001b[1;33m[\u001b[0m\u001b[0mAlbum\u001b[0m\u001b[1;33m.\u001b[0m\u001b[0mfetch\u001b[0m\u001b[1;33m(\u001b[0m\u001b[0mband_name\u001b[0m\u001b[1;33m,\u001b[0m \u001b[0malbum_name\u001b[0m\u001b[1;33m)\u001b[0m \u001b[1;32mfor\u001b[0m \u001b[0malbum_name\u001b[0m \u001b[1;32min\u001b[0m \u001b[0mdisco\u001b[0m\u001b[1;33m[\u001b[0m\u001b[1;34m'Name'\u001b[0m\u001b[1;33m]\u001b[0m\u001b[1;33m[\u001b[0m\u001b[1;33m:\u001b[0m\u001b[1;36m1\u001b[0m\u001b[1;33m]\u001b[0m\u001b[1;33m]\u001b[0m\u001b[1;33m\u001b[0m\u001b[0m\n\u001b[0m\u001b[0;32m    172\u001b[0m         \u001b[0mnew\u001b[0m \u001b[1;33m=\u001b[0m \u001b[0mcls\u001b[0m\u001b[1;33m(\u001b[0m\u001b[0mband_name\u001b[0m\u001b[1;33m,\u001b[0m \u001b[0malbums\u001b[0m\u001b[1;33m=\u001b[0m\u001b[0malbums\u001b[0m\u001b[1;33m)\u001b[0m\u001b[1;33m\u001b[0m\u001b[0m\n\u001b[0;32m    173\u001b[0m         \u001b[0mband_url\u001b[0m \u001b[1;33m=\u001b[0m \u001b[0mBASEURL\u001b[0m \u001b[1;33m+\u001b[0m \u001b[1;34m'bands/'\u001b[0m \u001b[1;33m+\u001b[0m \u001b[0mband_name\u001b[0m\u001b[1;33m.\u001b[0m\u001b[0mreplace\u001b[0m\u001b[1;33m(\u001b[0m\u001b[1;34m' '\u001b[0m\u001b[1;33m,\u001b[0m\u001b[1;34m'_'\u001b[0m\u001b[1;33m)\u001b[0m \u001b[1;33m+\u001b[0m \u001b[1;34m'/'\u001b[0m \u001b[1;33m+\u001b[0m \u001b[0mband_id\u001b[0m\u001b[1;33m\u001b[0m\u001b[0m\n",
      "\u001b[1;32mD:\\Documents\\Projects\\metallyrics\\metallum.py\u001b[0m in \u001b[0;36mfetch\u001b[1;34m(cls, band_name, album_name)\u001b[0m\n\u001b[0;32m    129\u001b[0m             \u001b[0mprint\u001b[0m\u001b[1;33m(\u001b[0m\u001b[1;34m'fetching song '\u001b[0m \u001b[1;33m+\u001b[0m \u001b[0mname_\u001b[0m\u001b[1;33m)\u001b[0m\u001b[1;33m\u001b[0m\u001b[0m\n\u001b[0;32m    130\u001b[0m             \u001b[1;32mtry\u001b[0m\u001b[1;33m:\u001b[0m\u001b[1;33m\u001b[0m\u001b[0m\n\u001b[1;32m--> 131\u001b[1;33m                 \u001b[0msong\u001b[0m \u001b[1;33m=\u001b[0m \u001b[0mSong\u001b[0m\u001b[1;33m.\u001b[0m\u001b[0mfetch\u001b[0m\u001b[1;33m(\u001b[0m\u001b[0mname_\u001b[0m\u001b[1;33m,\u001b[0m \u001b[0mid_\u001b[0m\u001b[1;33m)\u001b[0m\u001b[1;33m\u001b[0m\u001b[0m\n\u001b[0m\u001b[0;32m    132\u001b[0m             \u001b[1;32mexcept\u001b[0m \u001b[0mAssertionError\u001b[0m\u001b[1;33m:\u001b[0m\u001b[1;33m\u001b[0m\u001b[0m\n\u001b[0;32m    133\u001b[0m                 \u001b[1;32mcontinue\u001b[0m\u001b[1;33m\u001b[0m\u001b[0m\n",
      "\u001b[1;32mD:\\Documents\\Projects\\metallyrics\\metallum.py\u001b[0m in \u001b[0;36mfetch\u001b[1;34m(cls, name, song_id)\u001b[0m\n\u001b[0;32m     87\u001b[0m         \u001b[1;32mwith\u001b[0m \u001b[0murlopen\u001b[0m\u001b[1;33m(\u001b[0m\u001b[0msong_url\u001b[0m\u001b[1;33m)\u001b[0m \u001b[1;32mas\u001b[0m \u001b[0mconn\u001b[0m\u001b[1;33m:\u001b[0m\u001b[1;33m\u001b[0m\u001b[0m\n\u001b[0;32m     88\u001b[0m             \u001b[0msoup\u001b[0m \u001b[1;33m=\u001b[0m \u001b[0mscrape_html\u001b[0m\u001b[1;33m(\u001b[0m\u001b[0msong_url\u001b[0m\u001b[1;33m)\u001b[0m\u001b[1;33m\u001b[0m\u001b[0m\n\u001b[1;32m---> 89\u001b[1;33m         \u001b[0mtime\u001b[0m\u001b[1;33m.\u001b[0m\u001b[0msleep\u001b[0m\u001b[1;33m(\u001b[0m\u001b[0mCRAWLDELAY\u001b[0m\u001b[1;33m)\u001b[0m\u001b[1;33m\u001b[0m\u001b[0m\n\u001b[0m\u001b[0;32m     90\u001b[0m         \u001b[0mlyrics\u001b[0m \u001b[1;33m=\u001b[0m \u001b[0msoup\u001b[0m\u001b[1;33m.\u001b[0m\u001b[0mtext\u001b[0m\u001b[1;33m.\u001b[0m\u001b[0mlower\u001b[0m\u001b[1;33m(\u001b[0m\u001b[1;33m)\u001b[0m\u001b[1;33m.\u001b[0m\u001b[0msplit\u001b[0m\u001b[1;33m(\u001b[0m\u001b[1;33m)\u001b[0m\u001b[1;33m\u001b[0m\u001b[0m\n\u001b[0;32m     91\u001b[0m         \u001b[1;32massert\u001b[0m \u001b[1;34m' '\u001b[0m\u001b[1;33m.\u001b[0m\u001b[0mjoin\u001b[0m\u001b[1;33m(\u001b[0m\u001b[0mlyrics\u001b[0m\u001b[1;33m)\u001b[0m \u001b[1;33m!=\u001b[0m \u001b[1;34m'(lyrics not available)'\u001b[0m\u001b[1;33m\u001b[0m\u001b[0m\n",
      "\u001b[1;31mKeyboardInterrupt\u001b[0m: "
     ]
    }
   ],
   "source": [
    "band = Band.fetch('Vektor', '87803')\n",
    "for album in band.album_names:\n",
    "    print(band[album].reviews)\n",
    "    print(band[album].rating)"
   ]
  }
 ],
 "metadata": {
  "kernelspec": {
   "display_name": "Python 3",
   "language": "python",
   "name": "python3"
  },
  "language_info": {
   "codemirror_mode": {
    "name": "ipython",
    "version": 3
   },
   "file_extension": ".py",
   "mimetype": "text/x-python",
   "name": "python",
   "nbconvert_exporter": "python",
   "pygments_lexer": "ipython3",
   "version": "3.6.4"
  }
 },
 "nbformat": 4,
 "nbformat_minor": 2
}

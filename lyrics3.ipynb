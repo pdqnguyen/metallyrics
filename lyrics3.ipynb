{
 "cells": [
  {
   "cell_type": "markdown",
   "metadata": {},
   "source": [
    "# Song lyrics - Part 4: Unsupervised learning"
   ]
  },
  {
   "cell_type": "code",
   "execution_count": 1,
   "metadata": {},
   "outputs": [],
   "source": [
    "import numpy as np\n",
    "import pandas as pd\n",
    "import matplotlib.pyplot as plt\n",
    "import seaborn as sns\n",
    "sns.set(font_scale=2)\n",
    "from sklearn.feature_extraction.text import CountVectorizer, TfidfVectorizer\n",
    "from sklearn.decomposition import LatentDirichletAllocation as LDA\n",
    "\n",
    "from nlp import get_stopwords"
   ]
  },
  {
   "cell_type": "code",
   "execution_count": 2,
   "metadata": {},
   "outputs": [],
   "source": [
    "df = pd.read_csv('songs-ml-10pct.csv')\n",
    "genres = df.columns[1:]\n",
    "X = df.lyrics.values\n",
    "y = df[genres].values"
   ]
  },
  {
   "cell_type": "code",
   "execution_count": 3,
   "metadata": {},
   "outputs": [
    {
     "name": "stderr",
     "output_type": "stream",
     "text": [
      "D:\\Anaconda3\\envs\\metallyrics\\lib\\site-packages\\sklearn\\feature_extraction\\text.py:300: UserWarning: Your stop_words may be inconsistent with your preprocessing. Tokenizing the stop words generated tokens ['він', 'із', 'інших'] not in stop_words.\n",
      "  'stop_words.' % sorted(inconsistent))\n"
     ]
    },
    {
     "name": "stdout",
     "output_type": "stream",
     "text": [
      "(60964, 7038)\n"
     ]
    }
   ],
   "source": [
    "vectorizer = TfidfVectorizer(stop_words=get_stopwords(), min_df=50)\n",
    "X_v = vectorizer.fit_transform(X)\n",
    "print(X_v.shape)\n",
    "vocabulary = vectorizer.get_feature_names()"
   ]
  },
  {
   "cell_type": "code",
   "execution_count": 4,
   "metadata": {},
   "outputs": [
    {
     "name": "stdout",
     "output_type": "stream",
     "text": [
      "0\n",
      "['fucking', 'got', 'get', 'like', 'fuck', 'rock', 'gonna', 'll', 'head']\n",
      "1\n",
      "['death', 'god', 'blood', 'hell', 'fire', 'evil', 'fight', 'shall', 'us']\n",
      "2\n",
      "['ll', 'never', 'time', 'know', 'life', 'away', 'way', 'feel', 'take']\n",
      "3\n",
      "['death', 'life', 'blood', 'light', 'eyes', 'night', 'black', 'dead', 'soul']\n",
      "4\n",
      "['nacht', 'leben', 'zeit', 'welt', 'tod', 'mal', 'vida', 'licht', 'hoy']\n"
     ]
    }
   ],
   "source": [
    "lda = LDA(n_components=5)\n",
    "X_lda = lda.fit_transform(X_v)\n",
    "for topic in range(5):\n",
    "    topic_words = lda.components_[topic].argsort()[:-10:-1]\n",
    "    print(topic)\n",
    "    print([vocabulary[word] for word in topic_words])"
   ]
  }
 ],
 "metadata": {
  "kernelspec": {
   "display_name": "Python [conda env:metallyrics]",
   "language": "python",
   "name": "conda-env-metallyrics-py"
  },
  "language_info": {
   "codemirror_mode": {
    "name": "ipython",
    "version": 3
   },
   "file_extension": ".py",
   "mimetype": "text/x-python",
   "name": "python",
   "nbconvert_exporter": "python",
   "pygments_lexer": "ipython3",
   "version": "3.7.4"
  }
 },
 "nbformat": 4,
 "nbformat_minor": 4
}

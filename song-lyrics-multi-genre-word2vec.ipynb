{
 "cells": [
  {
   "cell_type": "code",
   "execution_count": 1,
   "metadata": {},
   "outputs": [
    {
     "name": "stderr",
     "output_type": "stream",
     "text": [
      "Using TensorFlow backend.\n"
     ]
    }
   ],
   "source": [
    "import os\n",
    "import re\n",
    "import h5py\n",
    "import numpy as np\n",
    "import pandas as pd\n",
    "import pickle as pkl\n",
    "import multiprocessing\n",
    "from copy import deepcopy\n",
    "\n",
    "import matplotlib\n",
    "matplotlib.rcParams['figure.facecolor'] = 'white'\n",
    "import matplotlib.pyplot as plt\n",
    "\n",
    "import nltk\n",
    "from nltk.tokenize import word_tokenize\n",
    "from nltk.stem.porter import PorterStemmer\n",
    "from nltk.corpus import stopwords\n",
    "\n",
    "stopwords_dir = 'C:Users/philippe/AppData/Roaming/nltk_data/corpora/stopwords/'\n",
    "# stopwords_dir = '~/nltk_data/corpora/stopwords'\n",
    "files = os.listdir(stopwords_dir)\n",
    "languages = [file for file in files if file != 'README']\n",
    "\n",
    "stop_words = set()\n",
    "for language in languages:\n",
    "    stop_words.update(set(stopwords.words(language)))\n",
    "english_vocab = set(w.lower() for w in nltk.corpus.words.words())\n",
    "\n",
    "from sklearn.feature_extraction.text import CountVectorizer, TfidfVectorizer\n",
    "from sklearn.feature_selection import SelectKBest\n",
    "from sklearn.preprocessing import LabelEncoder\n",
    "from sklearn.model_selection import train_test_split, cross_val_score, StratifiedKFold\n",
    "from sklearn.metrics import accuracy_score, balanced_accuracy_score, log_loss, confusion_matrix, roc_curve, roc_auc_score\n",
    "from sklearn.pipeline import make_pipeline\n",
    "from sklearn.base import BaseEstimator, TransformerMixin, clone\n",
    "from sklearn.model_selection import StratifiedKFold, KFold\n",
    "\n",
    "from imblearn.over_sampling import RandomOverSampler\n",
    "\n",
    "from keras.preprocessing.text import Tokenizer\n",
    "from keras.preprocessing.sequence import pad_sequences\n",
    "from keras.models import Sequential\n",
    "from keras import layers\n",
    "from keras.wrappers.scikit_learn import KerasClassifier\n",
    "from keras.callbacks import EarlyStopping\n",
    "from keras.utils import Sequence"
   ]
  },
  {
   "cell_type": "markdown",
   "metadata": {},
   "source": [
    "# Preprocessing\n",
    "## Combine song lyrics with genres"
   ]
  },
  {
   "cell_type": "code",
   "execution_count": 2,
   "metadata": {
    "jupyter": {
     "source_hidden": true
    }
   },
   "outputs": [],
   "source": [
    "# df = pd.read_hdf('song-lyrics-genres.h5', key='df', mode='r')"
   ]
  },
  {
   "cell_type": "code",
   "execution_count": 21,
   "metadata": {
    "jupyter": {
     "source_hidden": true
    }
   },
   "outputs": [],
   "source": [
    "# (df.lyrics.str.split().apply(len) > 82 + 43).sum() / df.shape[0]\n",
    "\n",
    "# df_short = pd.DataFrame(columns=df.columns)\n",
    "# song_lengths = df.lyrics.str.split().apply(len)\n",
    "# avg_len = song_lengths.mean()\n",
    "# std_len = song_lengths.std()\n",
    "# max_len = int(avg_len + std_len)\n",
    "# for i, row in df.iterrows():\n",
    "#     song_lyrics = row.lyrics.split()\n",
    "#     num_segs = 1 + (song_lengths[i] // max_len)\n",
    "#     seg_len = song_lengths[i] // num_segs\n",
    "#     for j in range(num_segs):\n",
    "#         seg = ' '.join(song_lyrics[j * seg_len : (j + 1) * seg_len])\n",
    "#         new_row = dict(band=row.band, song=row.song, lyrics=seg, genres=row.genres)\n",
    "#         df_short = df_short.append(new_row, ignore_index=True)\n",
    "\n",
    "# df_short.to_hdf('song-lyrics-genres-short.h5', key='df', mode='w')"
   ]
  },
  {
   "cell_type": "code",
   "execution_count": 2,
   "metadata": {},
   "outputs": [],
   "source": [
    "df = pd.read_hdf('combined-data/song-lyrics-genres-short.h5', key='df', mode='r')"
   ]
  },
  {
   "cell_type": "markdown",
   "metadata": {},
   "source": [
    "### Dataframe of top genre tags"
   ]
  },
  {
   "cell_type": "code",
   "execution_count": 3,
   "metadata": {},
   "outputs": [],
   "source": [
    "unique_genres = []\n",
    "for lst in df['genres'].tolist():\n",
    "    for x in lst:\n",
    "        if (x not in stop_words) and (not re.match('\\-.*', x)) and (x not in unique_genres):\n",
    "            unique_genres.append(x)\n",
    "unique_genres.sort()\n",
    "\n",
    "df_genres_full = pd.DataFrame(index=df.index, columns=unique_genres)\n",
    "for genre in unique_genres:\n",
    "    df_genres_full[genre] = df['genres'].apply(lambda x: 1 if genre in x else 0)\n",
    "df_genres_full['band'] = df['band'].copy()\n",
    "df_genres_bands = df_genres_full.groupby('band').max()\n",
    "df_genres_full.drop('band', axis=1, inplace=True)\n",
    "top_genres = df_genres_full.columns[df_genres_full.mean(axis=0) > 0.15]\n",
    "df_genres = df_genres_full[top_genres].copy()"
   ]
  },
  {
   "cell_type": "code",
   "execution_count": 13,
   "metadata": {},
   "outputs": [],
   "source": [
    "pd.concat((df.lyrics, df_genres), 1).to_hdf('combined-data/lyrics-genres.h5', key='df')"
   ]
  },
  {
   "cell_type": "code",
   "execution_count": 4,
   "metadata": {},
   "outputs": [
    {
     "data": {
      "text/plain": [
       "Index(['black', 'death', 'heavy', 'power', 'thrash'], dtype='object')"
      ]
     },
     "execution_count": 4,
     "metadata": {},
     "output_type": "execute_result"
    }
   ],
   "source": [
    "top_genres"
   ]
  },
  {
   "cell_type": "markdown",
   "metadata": {},
   "source": [
    "# Word2Vec model"
   ]
  },
  {
   "cell_type": "markdown",
   "metadata": {},
   "source": [
    "### Create and save Word2Vec model"
   ]
  },
  {
   "cell_type": "code",
   "execution_count": 59,
   "metadata": {
    "jupyter": {
     "source_hidden": true
    }
   },
   "outputs": [],
   "source": [
    "# sentences = df.lyrics.str.split().tolist()\n",
    "# word2vec_model = Word2Vec(sentences, size=400, window=5, min_count=5, workers=multiprocessing.cpu_count())\n",
    "# word2vec_model.save('word2vec.model')"
   ]
  },
  {
   "cell_type": "markdown",
   "metadata": {},
   "source": [
    "### Load untrained model"
   ]
  },
  {
   "cell_type": "code",
   "execution_count": 60,
   "metadata": {
    "jupyter": {
     "source_hidden": true
    }
   },
   "outputs": [],
   "source": [
    "# word2vec_model = Word2Vec.load('word2vec.model')\n",
    "# word_vectors = word2vec_model.wv\n",
    "# del word2vec_model"
   ]
  },
  {
   "cell_type": "markdown",
   "metadata": {},
   "source": [
    "### Train and save trained model"
   ]
  },
  {
   "cell_type": "code",
   "execution_count": 12,
   "metadata": {
    "jupyter": {
     "source_hidden": true
    }
   },
   "outputs": [],
   "source": [
    "# sentences_train = [doc.split() for doc in df.lyrics.values]\n",
    "# word2vec_model = Word2Vec(sentences_train, size=400, window=3, min_count=20, workers=multiprocessing.cpu_count())\n",
    "# word2vec_model.save('word2vec_train.model')"
   ]
  },
  {
   "cell_type": "markdown",
   "metadata": {},
   "source": [
    "# Multi-label classification metrics"
   ]
  },
  {
   "cell_type": "code",
   "execution_count": 5,
   "metadata": {},
   "outputs": [],
   "source": [
    "class MultiLabelClassification:\n",
    "\n",
    "    def __init__(self, y_true, y_pred=None, y_pred_classes=None, labels=None, class_thresh=0.5):\n",
    "        self.true = y_true\n",
    "        if y_pred_classes is None and y_pred is not None:\n",
    "            self.pred = y_pred\n",
    "            y_pred_classes = np.zeros_like(self.pred, dtype=int)\n",
    "            y_pred_classes[self.pred > class_thresh] = 1\n",
    "        else:\n",
    "            self.pred = None\n",
    "        self.pred_classes = y_pred_classes\n",
    "        self.n_samples, self.n_labels = y_true.shape\n",
    "        if labels is not None:\n",
    "            if len(labels) == self.n_labels:\n",
    "                self.labels = np.array(labels)\n",
    "            else:\n",
    "                raise ValueError(\"length of labels and shape of y_true do not match\")\n",
    "        else:\n",
    "            self.labels = np.arange(self.true.shape[1])\n",
    "\n",
    "    @property\n",
    "    def __intersection(self):\n",
    "        return self.true * self.pred_classes\n",
    "\n",
    "    @property\n",
    "    def __union(self):\n",
    "        return np.minimum(1, self.true + self.pred_classes)\n",
    "\n",
    "    @property\n",
    "    def accuracy_score(self):\n",
    "        # Number of labels in common / overall labels (true and predicted)\n",
    "        return np.nanmean(self.__intersection.sum(1) / self.__union.sum(1))\n",
    "\n",
    "    @property\n",
    "    def precision_score(self):\n",
    "        # Proportion of predicted labels that are correct\n",
    "        return np.nanmean(self.__intersection.sum(1) / self.pred_classes.sum(1))\n",
    "\n",
    "    @property\n",
    "    def recall_score(self):\n",
    "        # Proportion of true labels that were predicted\n",
    "        return np.nanmean(self.__intersection.sum(1) / self.true.sum(1))\n",
    "\n",
    "    @property\n",
    "    def f1_score(self):\n",
    "        # Harmonic mean of precision_score and recall_score\n",
    "        p = self.precision_score\n",
    "        r = self.recall_score\n",
    "        return 2 * (p * r) / (p + r)\n",
    "\n",
    "    def confusion_matrix(self, label=None, label_idx=None):\n",
    "        confusion_matrices = multilabel_confusion_matrix(self.true, self.pred_classes)\n",
    "        if label is not None:\n",
    "            return confusion_matrices[np.where(self.labels == label)[0][0]]\n",
    "        elif label_idx is not None:\n",
    "            return confusion_matrices[label_idx]\n",
    "        else:\n",
    "            return confusion_matrices\n",
    "\n",
    "    def print_report(self, verbose=0):\n",
    "        print(\"Multi-label classification report\")\n",
    "        print(\"Accuracy:   {:.2f}\".format(self.accuracy_score))\n",
    "        print(\"Precision:  {:.2f}\".format(self.precision_score))\n",
    "        print(\"Recall:     {:.2f}\".format(self.recall_score))\n",
    "        print(\"F1-score:   {:.2f}\".format(self.f1_score))\n",
    "        if verbose == 1:\n",
    "            for label, matrix in zip(self.labels, self.confusion_matrix()):\n",
    "                print(\"===\\nLabel: {}\".format(label))\n",
    "                print(matrix)"
   ]
  },
  {
   "cell_type": "code",
   "execution_count": 6,
   "metadata": {},
   "outputs": [],
   "source": [
    "def cross_validate_multilabel(X, y, estimator, feature_names=None, evaluation_metric=balanced_accuracy_score, n_splits=5, verbose=False):\n",
    "    kfold = StratifiedKFold(n_splits=n_splits, shuffle=True, random_state=0)\n",
    "    y_prob, y_valid = np.zeros(y.shape), np.zeros(y.shape)\n",
    "    if feature_names is None:\n",
    "        feature_names = [str(x) for x in range(y.shape[1])]\n",
    "    for i, feature in enumerate(feature_names):\n",
    "        if verbose:\n",
    "            print(\"Training on feature '{}'\".format(feature))\n",
    "        scores = np.zeros(n_splits)\n",
    "        confusion_matrices = np.zeros((n_splits, 2, 2))\n",
    "        for j, (train_idx, valid_idx) in enumerate(kfold.split(X, y[:, i])):\n",
    "            if verbose:\n",
    "                print(\"Fold {}/{}\".format(j + 1, n_splits))\n",
    "            X_fold_train, y_fold_train = X[train_idx], y[train_idx, i]\n",
    "            X_fold_valid, y_fold_valid = X[valid_idx], y[valid_idx, i]\n",
    "            estimator_ = deepcopy(estimator)\n",
    "            estimator_.fit(X_fold_train, y_fold_train)\n",
    "            try:\n",
    "                y_fold_prob = estimator_.predict_proba(X_fold_valid)[:, 1]\n",
    "            except AttributeError:\n",
    "                y_fold_prob = estimator_.predict(X_fold_valid).reshape(-1)\n",
    "            y_prob[valid_idx, i] = y_fold_prob\n",
    "            y_valid[valid_idx, i] = y_fold_valid\n",
    "            y_fold_pred = y_fold_prob.round()\n",
    "            scores[j] = evaluation_metric(y_fold_valid, y_fold_pred)\n",
    "            confusion_matrices[j] = confusion_matrix(y_fold_valid, y_fold_pred)\n",
    "        if verbose:\n",
    "            print(\"CV score: {:.2f}% +/- {:.2f}%\".format(scores.mean()* 100, scores.std() * 200))\n",
    "            print(\"Average confusion matrix:\")\n",
    "            print(confusion_matrices.mean(axis=0) / confusion_matrices.sum() * n_splits)\n",
    "    return MultiLabelClassification(y_valid, y_prob)"
   ]
  },
  {
   "cell_type": "code",
   "execution_count": 7,
   "metadata": {},
   "outputs": [],
   "source": [
    "def plot_roc_curve(true, prob, labels):\n",
    "    plt.figure(figsize=(8, 6))\n",
    "    auc = []\n",
    "    for i, label in enumerate(labels):\n",
    "        fpr, tpr, thresholds = roc_curve(true[:, i], prob[:, i])\n",
    "        auc.append(roc_auc_score(true[:, i], prob[:, i]))\n",
    "        plt.step(fpr, tpr, label=label)\n",
    "    plt.plot([0, 1], [0, 1], 'k--')\n",
    "    plt.gca().set_aspect('equal')\n",
    "    plt.xlim([0, 1])\n",
    "    plt.ylim([0, 1])\n",
    "    plt.title(\"ROC curve\", size=20)\n",
    "    plt.xlabel(\"False positive rate\", size=16)\n",
    "    plt.ylabel(\"True positive rate\", size=16)\n",
    "    plt.legend(fontsize=16)\n",
    "    plt.xticks(fontsize=14)\n",
    "    plt.yticks(fontsize=14)\n",
    "    plt.grid(alpha=0.5)\n",
    "    plt.show()\n",
    "    return auc"
   ]
  },
  {
   "cell_type": "markdown",
   "metadata": {},
   "source": [
    "# Convolutional Neural Network"
   ]
  },
  {
   "cell_type": "code",
   "execution_count": 8,
   "metadata": {},
   "outputs": [],
   "source": [
    "def create_keras_model(embedding_matrix, input_length, nb_classes=1, conv_nb_filters=(64,), conv_kernel_size=(5,), fc_size=(64,)):\n",
    "    keras_model = Sequential()\n",
    "    keras_model.add(layers.Embedding(embedding_matrix.shape[0], embedding_matrix.shape[1], weights=[embedding_matrix], input_length=input_length, trainable=False))\n",
    "    if len(conv_nb_filters) != len(conv_kernel_size):\n",
    "        raise ValueError(\"n_conv_filters and conv_size must be same length\")\n",
    "    for nb_filters, kernel_size in zip(conv_nb_filters, conv_kernel_size):\n",
    "        keras_model.add(layers.Conv1D(nb_filters, kernel_size, activation='relu'))\n",
    "        keras_model.add(layers.MaxPooling1D(2))\n",
    "    keras_model.add(layers.Flatten())\n",
    "    for fc_size_ in fc_size:\n",
    "        keras_model.add(layers.Dense(fc_size_, activation='relu'))\n",
    "    keras_model.add(layers.Dense(nb_classes, activation='sigmoid'))\n",
    "    keras_model.compile(optimizer='adam', loss='binary_crossentropy', metrics=['binary_accuracy'])\n",
    "    return keras_model\n",
    "\n",
    "\n",
    "class BatchGenerator(Sequence):\n",
    "\n",
    "    def __init__(self, X, y, batch_size):\n",
    "        self.X = X\n",
    "        self.y = y\n",
    "        self.batch_size = batch_size\n",
    "\n",
    "    def __len__(self):\n",
    "        return int(np.ceil(len(self.X) / float(self.batch_size)))\n",
    "\n",
    "    def __getitem__(self, idx):\n",
    "        batch_X = self.X[idx * self.batch_size:(idx + 1) * self.batch_size]\n",
    "        batch_y = self.y[idx * self.batch_size:(idx + 1) * self.batch_size]\n",
    "        return batch_X, batch_y"
   ]
  },
  {
   "cell_type": "markdown",
   "metadata": {},
   "source": [
    "### Cross-validation training"
   ]
  },
  {
   "cell_type": "code",
   "execution_count": 9,
   "metadata": {},
   "outputs": [],
   "source": [
    "def preprocess_data(corpus_train, corpus_valid, word2vec_model=None, word_vectors=None):\n",
    "    maxlen = max([len(doc.split()) for doc in corpus_train])\n",
    "    word_vectors = get_word_vectors(word2vec_model=word2vec_model, word_vectors=word_vectors)\n",
    "    tokenizer = Tokenizer()\n",
    "    tokenizer.fit_on_texts(corpus_train)\n",
    "    X_train = tokenizer.texts_to_sequences(corpus_train)\n",
    "    X_valid = tokenizer.texts_to_sequences(corpus_valid)\n",
    "    X_train = pad_sequences(X_train, maxlen=maxlen, padding='post')\n",
    "    X_valid = pad_sequences(X_valid, maxlen=maxlen, padding='post')\n",
    "    embedding_matrix = generate_word_embedding(tokenizer, word_vectors)\n",
    "    return X_train, X_valid, embedding_matrix\n",
    "\n",
    "\n",
    "def get_word_vectors(word2vec_model=None, word_vectors=None):\n",
    "    if word2vec_model is not None:\n",
    "        if isinstance(word2vec_model, str):\n",
    "            if os.path.exists(word2vec_model):\n",
    "                w2v = Word2Vec.load(word2vec_model)\n",
    "            else:\n",
    "                w2v = gensim_api.load(word2vec_model)\n",
    "        else:\n",
    "            w2v = word2vec_model\n",
    "        word_vectors = w2v.wv\n",
    "    elif word_vectors is not None:\n",
    "        pass\n",
    "    else:\n",
    "        raise ValueError(\"must provide one of word2vec_model or word_vectors\")\n",
    "    return word_vectors\n",
    "\n",
    "\n",
    "def generate_word_embedding(tokenizer, word_vectors):\n",
    "    vocab_size = len(tokenizer.word_index) + 1\n",
    "    vector_dim = word_vectors.vector_size\n",
    "    embedding_matrix = np.zeros((vocab_size, vector_dim))\n",
    "    for word, word_idx in tokenizer.word_index.items():\n",
    "        try:\n",
    "            embedding_vector = word_vectors[word]\n",
    "        except KeyError:\n",
    "            pass\n",
    "        else:\n",
    "            embedding_matrix[word_idx] = embedding_vector\n",
    "    return embedding_matrix"
   ]
  },
  {
   "cell_type": "code",
   "execution_count": 12,
   "metadata": {},
   "outputs": [
    {
     "name": "stdout",
     "output_type": "stream",
     "text": [
      "Loading Word2Vec model\n",
      "Performing 3-fold cross-validation\n",
      "-----\n",
      "CV fold 1/3\n",
      "Epoch 1/20\n",
      "33/33 [==============================] - 30s 915ms/step - loss: 0.5230 - binary_accuracy: 0.7816 - val_loss: 0.4511 - val_binary_accuracy: 0.7935\n",
      "Epoch 2/20\n",
      "33/33 [==============================] - 29s 884ms/step - loss: 0.4658 - binary_accuracy: 0.7961 - val_loss: 0.4298 - val_binary_accuracy: 0.7976\n",
      "Epoch 3/20\n",
      "33/33 [==============================] - 30s 922ms/step - loss: 0.4530 - binary_accuracy: 0.7949 - val_loss: 0.4262 - val_binary_accuracy: 0.8006\n",
      "Epoch 4/20\n",
      "33/33 [==============================] - 30s 899ms/step - loss: 0.4510 - binary_accuracy: 0.7979 - val_loss: 0.4230 - val_binary_accuracy: 0.7940\n",
      "Epoch 5/20\n",
      "33/33 [==============================] - 33s 991ms/step - loss: 0.4436 - binary_accuracy: 0.8008 - val_loss: 0.4106 - val_binary_accuracy: 0.7987\n",
      "Epoch 6/20\n",
      "33/33 [==============================] - 32s 973ms/step - loss: 0.4314 - binary_accuracy: 0.8031 - val_loss: 0.4284 - val_binary_accuracy: 0.7997\n",
      "Epoch 7/20\n",
      "33/33 [==============================] - 33s 994ms/step - loss: 0.4337 - binary_accuracy: 0.8010 - val_loss: 0.4389 - val_binary_accuracy: 0.8008\n",
      "Epoch 8/20\n",
      "33/33 [==============================] - 34s 1s/step - loss: 0.4225 - binary_accuracy: 0.8077 - val_loss: 0.4244 - val_binary_accuracy: 0.7960\n",
      "-----\n",
      "CV fold 2/3\n",
      "Epoch 1/20\n",
      "33/33 [==============================] - 35s 1s/step - loss: 0.5285 - binary_accuracy: 0.7773 - val_loss: 0.4770 - val_binary_accuracy: 0.7927\n",
      "Epoch 2/20\n",
      "33/33 [==============================] - 33s 1s/step - loss: 0.4770 - binary_accuracy: 0.7911 - val_loss: 0.4574 - val_binary_accuracy: 0.7964\n",
      "Epoch 3/20\n",
      "33/33 [==============================] - 35s 1s/step - loss: 0.4636 - binary_accuracy: 0.7964 - val_loss: 0.4591 - val_binary_accuracy: 0.7969\n",
      "Epoch 4/20\n",
      "33/33 [==============================] - 34s 1s/step - loss: 0.4486 - binary_accuracy: 0.7989 - val_loss: 0.4191 - val_binary_accuracy: 0.8012\n",
      "Epoch 5/20\n",
      "33/33 [==============================] - 35s 1s/step - loss: 0.4451 - binary_accuracy: 0.7988 - val_loss: 0.4188 - val_binary_accuracy: 0.7985\n",
      "Epoch 6/20\n",
      "33/33 [==============================] - 33s 1s/step - loss: 0.4379 - binary_accuracy: 0.8005 - val_loss: 0.4152 - val_binary_accuracy: 0.7996\n",
      "Epoch 7/20\n",
      "33/33 [==============================] - 32s 981ms/step - loss: 0.4268 - binary_accuracy: 0.8036 - val_loss: 0.4294 - val_binary_accuracy: 0.8027\n",
      "Epoch 8/20\n",
      "33/33 [==============================] - 32s 974ms/step - loss: 0.4254 - binary_accuracy: 0.8054 - val_loss: 0.4458 - val_binary_accuracy: 0.7984\n",
      "Epoch 9/20\n",
      "33/33 [==============================] - 32s 985ms/step - loss: 0.4179 - binary_accuracy: 0.8090 - val_loss: 0.4259 - val_binary_accuracy: 0.8007\n",
      "-----\n",
      "CV fold 3/3\n",
      "Epoch 1/20\n",
      "33/33 [==============================] - 35s 1s/step - loss: 0.5343 - binary_accuracy: 0.7677 - val_loss: 0.4498 - val_binary_accuracy: 0.7907\n",
      "Epoch 2/20\n",
      "33/33 [==============================] - 31s 935ms/step - loss: 0.4739 - binary_accuracy: 0.7927 - val_loss: 0.4335 - val_binary_accuracy: 0.7970\n",
      "Epoch 3/20\n",
      "33/33 [==============================] - 32s 973ms/step - loss: 0.4644 - binary_accuracy: 0.7919 - val_loss: 0.4348 - val_binary_accuracy: 0.8012\n",
      "Epoch 4/20\n",
      "33/33 [==============================] - 34s 1s/step - loss: 0.4534 - binary_accuracy: 0.7972 - val_loss: 0.4365 - val_binary_accuracy: 0.8000\n",
      "Epoch 5/20\n",
      "33/33 [==============================] - 33s 998ms/step - loss: 0.4407 - binary_accuracy: 0.7977 - val_loss: 0.4268 - val_binary_accuracy: 0.8028\n",
      "Epoch 6/20\n",
      "33/33 [==============================] - 32s 981ms/step - loss: 0.4433 - binary_accuracy: 0.7969 - val_loss: 0.4198 - val_binary_accuracy: 0.8027\n",
      "Epoch 7/20\n",
      "33/33 [==============================] - 32s 966ms/step - loss: 0.4331 - binary_accuracy: 0.8019 - val_loss: 0.4058 - val_binary_accuracy: 0.8033\n",
      "Epoch 8/20\n",
      "33/33 [==============================] - 32s 957ms/step - loss: 0.4216 - binary_accuracy: 0.8039 - val_loss: 0.4072 - val_binary_accuracy: 0.8006\n",
      "Epoch 9/20\n",
      "33/33 [==============================] - 38s 1s/step - loss: 0.4281 - binary_accuracy: 0.8064 - val_loss: 0.4347 - val_binary_accuracy: 0.8038\n",
      "Epoch 10/20\n",
      "33/33 [==============================] - 35s 1s/step - loss: 0.4257 - binary_accuracy: 0.8017 - val_loss: 0.4062 - val_binary_accuracy: 0.8068\n",
      "-----\n",
      "Cross-validation complete\n",
      "CV score: 54.98% +/- 11.20%\n",
      "Average confusion matrix:\n",
      "[[[1.43890063e-01 1.08555294e-02]\n",
      "  [3.07106048e-02 1.45438032e-02]]\n",
      "\n",
      " [[1.30957411e-01 5.32706774e-03]\n",
      "  [4.79475586e-02 1.57679626e-02]]\n",
      "\n",
      " [[1.67046419e-01 4.65970344e-04]\n",
      "  [3.18320927e-02 6.55517602e-04]]\n",
      "\n",
      " [[1.65411574e-01 3.90941221e-04]\n",
      "  [3.33761131e-02 8.21371453e-04]]\n",
      "\n",
      " [[1.61415286e-01 1.18467037e-05]\n",
      "  [3.85570715e-02 1.57956049e-05]]]\n",
      "Multi-label classification report\n",
      "Accuracy:   0.16\n",
      "Precision:  0.65\n",
      "Recall:     0.17\n",
      "F1-score:   0.27\n"
     ]
    },
    {
     "name": "stderr",
     "output_type": "stream",
     "text": [
      "D:\\Anaconda3\\envs\\metallyrics\\lib\\site-packages\\ipykernel_launcher.py:32: RuntimeWarning: invalid value encountered in true_divide\n",
      "D:\\Anaconda3\\envs\\metallyrics\\lib\\site-packages\\ipykernel_launcher.py:37: RuntimeWarning: invalid value encountered in true_divide\n",
      "D:\\Anaconda3\\envs\\metallyrics\\lib\\site-packages\\ipykernel_launcher.py:42: RuntimeWarning: invalid value encountered in true_divide\n"
     ]
    },
    {
     "data": {
      "image/png": "[encoded data removed]",
      "text/plain": [
       "<Figure size 576x432 with 1 Axes>"
      ]
     },
     "metadata": {},
     "output_type": "display_data"
    },
    {
     "name": "stdout",
     "output_type": "stream",
     "text": [
      "[0.7944531547863912, 0.7606307256776281, 0.7583146250255094, 0.7895089943434047, 0.7022603189966017]\n",
      "AUC ROC score: 0.76 +/- 0.03\n"
     ]
    }
   ],
   "source": [
    "# Dataset\n",
    "X = df.lyrics.values\n",
    "y = df_genres.values\n",
    "nb_classes = y.shape[1]\n",
    "\n",
    "# Word2vec model\n",
    "print(\"Loading Word2Vec model\")\n",
    "# word2vec_model = Word2Vec.load('word2vec_train.model')\n",
    "# word_vectors = word2vec_model.wv\n",
    "# del word2vec_model\n",
    "word_vectors = KeyedVectors.load('glove-wiki-gigaword-300')\n",
    "\n",
    "# Cross-validation\n",
    "n_splits = 3\n",
    "kfold = KFold(n_splits=n_splits, shuffle=True, random_state=0)\n",
    "\n",
    "# CNN model\n",
    "model_params = dict(\n",
    "    nb_classes=nb_classes,\n",
    "    conv_nb_filters=(128, 128),\n",
    "    conv_kernel_size=(4, 4),\n",
    "    fc_size=(256,)\n",
    ")\n",
    "\n",
    "# Training\n",
    "epochs = 20\n",
    "batch_size = 1024\n",
    "\n",
    "scores = np.zeros((n_splits, nb_classes))\n",
    "confusion_matrices = np.zeros((n_splits, nb_classes, 2, 2))\n",
    "results = []\n",
    "print(\"Performing {}-fold cross-validation\".format(n_splits))\n",
    "for i, (train_idx, valid_idx) in enumerate(kfold.split(X, y)):\n",
    "    print(\"-----\\nCV fold {}/{}\".format(i + 1, n_splits))\n",
    "    X_train, y_train = X[train_idx], y[train_idx]\n",
    "    X_valid, y_valid = X[valid_idx], y[valid_idx]\n",
    "    X_train, X_valid, embedding_matrix = preprocess_data(X_train, X_valid, word_vectors=word_vectors)\n",
    "    keras_model = create_keras_model(embedding_matrix, X_train.shape[1], **model_params)\n",
    "    train_generator  = BatchGenerator(X_train, y_train, batch_size)\n",
    "    validation_generator = BatchGenerator(X_valid, y_valid, batch_size)\n",
    "    keras_model.fit_generator(\n",
    "        train_generator,\n",
    "        validation_data=validation_generator,\n",
    "        epochs=epochs,\n",
    "        callbacks=[EarlyStopping(monitor='val_loss', mode='min', patience=3, restore_best_weights=True)],\n",
    "    )\n",
    "    y_pred = keras_model.predict(X_valid)\n",
    "    y_pred_classes = y_pred.round().astype(int)\n",
    "    for j in range(nb_classes):\n",
    "        scores[i, j] = balanced_accuracy_score(y_valid[:, j], y_pred_classes[:, j])\n",
    "        confusion_matrices[i, j] = confusion_matrix(y_valid[:, j], y_pred_classes[:, j])\n",
    "    results.append((y_valid, y_pred))\n",
    "print(\"-----\\nCross-validation complete\")\n",
    "print(\"CV score: {:.2f}% +/- {:.2f}%\".format(scores.mean()* 100, scores.std() * 200))\n",
    "print(\"Average confusion matrix:\")\n",
    "print(confusion_matrices.mean(axis=0) / confusion_matrices.sum() * n_splits)\n",
    "true = np.concatenate([res[0] for res in results])\n",
    "pred = np.concatenate([res[1] for res in results])\n",
    "mlc = MultiLabelClassification(true, pred, labels=top_genres)\n",
    "mlc.print_report()\n",
    "auc_scores = plot_roc_curve(mlc.true, mlc.pred, mlc.labels)\n",
    "print(auc_scores)\n",
    "print(\"AUC ROC score: {:.2f} +/- {:.2f}\".format(np.mean(auc_scores), np.std(auc_scores)))"
   ]
  }
 ],
 "metadata": {
  "kernelspec": {
   "display_name": "Python 3",
   "language": "python",
   "name": "python3"
  },
  "language_info": {
   "codemirror_mode": {
    "name": "ipython",
    "version": 3
   },
   "file_extension": ".py",
   "mimetype": "text/x-python",
   "name": "python",
   "nbconvert_exporter": "python",
   "pygments_lexer": "ipython3",
   "version": "3.7.3"
  }
 },
 "nbformat": 4,
 "nbformat_minor": 4
}

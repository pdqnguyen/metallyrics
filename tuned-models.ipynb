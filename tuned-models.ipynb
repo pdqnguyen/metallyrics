{
 "cells": [
  {
   "cell_type": "code",
   "execution_count": 53,
   "metadata": {},
   "outputs": [],
   "source": [
    "import pandas as pd\n",
    "import numpy as np\n",
    "\n",
    "from sklearn.preprocessing import StandardScaler\n",
    "from sklearn.model_selection import train_test_split, cross_val_score, GridSearchCV, RandomizedSearchCV, StratifiedKFold\n",
    "from sklearn.linear_model import LogisticRegression\n",
    "from sklearn.ensemble import RandomForestClassifier\n",
    "from sklearn.naive_bayes import GaussianNB, BernoulliNB\n",
    "from sklearn.metrics import classification_report, confusion_matrix, accuracy_score\n",
    "from keras.wrappers.scikit_learn import KerasClassifier\n",
    "\n",
    "from imblearn.over_sampling import RandomOverSampler, SMOTE, BorderlineSMOTE, SVMSMOTE, ADASYN\n",
    "\n",
    "import matplotlib.pyplot as plt\n",
    "%matplotlib inline\n",
    "\n",
    "import seaborn as sns\n",
    "\n",
    "from keras.models import Sequential\n",
    "from keras import layers\n",
    "\n",
    "from numpy.random import seed\n",
    "seed(0)\n",
    "from tensorflow import set_random_seed\n",
    "set_random_seed(0)"
   ]
  },
  {
   "cell_type": "code",
   "execution_count": 2,
   "metadata": {},
   "outputs": [
    {
     "name": "stdout",
     "output_type": "stream",
     "text": [
      "genres:  ['black', 'death', 'doom', 'folk', 'heavy', 'power', 'progressive', 'thrash', 'other']\n"
     ]
    }
   ],
   "source": [
    "df_full = pd.read_csv('data.csv', index_col=0)\n",
    "# label_cols = [c for c in df_full.columns if 'genre_' in c]\n",
    "label_cols = ['genre_' + g for g in ['black', 'death', 'doom', 'folk', 'heavy', 'power', 'progressive', 'thrash']]\n",
    "df_full['genre_other'] = (df_full[label_cols].sum(axis=1) == 0).astype(int)\n",
    "label_cols.append('genre_other')\n",
    "feature_cols_all = [c for c in df_full.columns if 'genre_' not in c]\n",
    "genres = [c.replace('genre_', '') for c in label_cols]\n",
    "print('genres: ', genres)"
   ]
  },
  {
   "cell_type": "code",
   "execution_count": 3,
   "metadata": {},
   "outputs": [],
   "source": [
    "words = set()\n",
    "for label_col in label_cols:\n",
    "    corr = df_full[feature_cols_all].apply(lambda x: x.corr(df_full[label_col]))\n",
    "#     corr = corr[corr.abs().argsort()][len(corr) // 2:].sort_values()\n",
    "    corr_words = corr.index[corr.abs() > 3 * corr.abs().mean()]\n",
    "    words.update(set(corr_words))\n",
    "feature_cols_r = sorted(words)"
   ]
  },
  {
   "cell_type": "code",
   "execution_count": 4,
   "metadata": {},
   "outputs": [
    {
     "data": {
      "text/plain": [
       "(11505, 35258)"
      ]
     },
     "execution_count": 4,
     "metadata": {},
     "output_type": "execute_result"
    }
   ],
   "source": [
    "len(feature_cols_r), len(feature_cols_all)"
   ]
  },
  {
   "cell_type": "markdown",
   "metadata": {},
   "source": [
    "## Models"
   ]
  },
  {
   "cell_type": "code",
   "execution_count": 35,
   "metadata": {},
   "outputs": [],
   "source": [
    "def keras_model(input_dim=None, n_nodes=(10,)):\n",
    "    model = Sequential()\n",
    "    model.add(layers.Dense(n_nodes[0], input_dim=input_dim, activation='relu'))\n",
    "    for n in n_nodes[1:]:\n",
    "        model.add(layers.Dense(n, activation='relu'))\n",
    "    model.add(layers.Dense(1, activation='sigmoid'))\n",
    "    model.compile(loss='binary_crossentropy', optimizer='adam', metrics=['accuracy'])\n",
    "    return model\n",
    "\n",
    "rf_model = RandomForestClassifier(n_estimators=100, max_depth=30, min_samples_split=2, min_samples_leaf=2, n_jobs=-1, random_state=0)"
   ]
  },
  {
   "cell_type": "code",
   "execution_count": 63,
   "metadata": {},
   "outputs": [
    {
     "name": "stdout",
     "output_type": "stream",
     "text": [
      "black\n",
      "(44, 32) ... 84.6% +/- 1.8%\n"
     ]
    },
    {
     "name": "stderr",
     "output_type": "stream",
     "text": [
      "/home/philippe/anaconda3/lib/python3.7/site-packages/joblib/externals/loky/process_executor.py:706: UserWarning: A worker stopped while some jobs were given to the executor. This can be caused by a too short worker timeout or by a memory leak.\n",
      "  \"timeout or by a memory leak.\", UserWarning\n"
     ]
    },
    {
     "name": "stdout",
     "output_type": "stream",
     "text": [
      "(56, 32) ... 84.5% +/- 3.5%\n"
     ]
    },
    {
     "name": "stderr",
     "output_type": "stream",
     "text": [
      "/home/philippe/anaconda3/lib/python3.7/site-packages/joblib/externals/loky/process_executor.py:706: UserWarning: A worker stopped while some jobs were given to the executor. This can be caused by a too short worker timeout or by a memory leak.\n",
      "  \"timeout or by a memory leak.\", UserWarning\n"
     ]
    },
    {
     "name": "stdout",
     "output_type": "stream",
     "text": [
      "(56, 44) ... 84.2% +/- 3.9%\n"
     ]
    },
    {
     "name": "stderr",
     "output_type": "stream",
     "text": [
      "/home/philippe/anaconda3/lib/python3.7/site-packages/joblib/externals/loky/process_executor.py:706: UserWarning: A worker stopped while some jobs were given to the executor. This can be caused by a too short worker timeout or by a memory leak.\n",
      "  \"timeout or by a memory leak.\", UserWarning\n"
     ]
    },
    {
     "name": "stdout",
     "output_type": "stream",
     "text": [
      "(68, 32) ... 83.8% +/- 2.4%\n"
     ]
    },
    {
     "name": "stderr",
     "output_type": "stream",
     "text": [
      "/home/philippe/anaconda3/lib/python3.7/site-packages/joblib/externals/loky/process_executor.py:706: UserWarning: A worker stopped while some jobs were given to the executor. This can be caused by a too short worker timeout or by a memory leak.\n",
      "  \"timeout or by a memory leak.\", UserWarning\n"
     ]
    },
    {
     "name": "stdout",
     "output_type": "stream",
     "text": [
      "(68, 44) ... 84.6% +/- 4.5%\n",
      "(68, 56) ... 83.8% +/- 2.8%\n"
     ]
    }
   ],
   "source": [
    "label = 'genre_black'\n",
    "genre = label.replace('genre_', '')\n",
    "print(genre)\n",
    "df_features = df_full[feature_cols_r]\n",
    "df_norm = pd.concat((df_features.div(df_features.sum(axis=1), axis=0), df_full[label_cols]), axis=1)\n",
    "X, y = df_norm[feature_cols_r].values, df_norm[label].values\n",
    "n_nodes_search = [(n, m) for n in [32, 44, 56, 68] for m in [32, 44, 56, 68] if n > m]\n",
    "scores = []\n",
    "for n_nodes in n_nodes_search:\n",
    "    model = KerasClassifier(keras_model, input_dim=len(feature_cols_r), n_nodes=n_nodes, batch_size=2, epochs=8, verbose=False)\n",
    "    score = cross_val_score(model, X, y, cv=5, n_jobs=-1)\n",
    "    scores.append(score)\n",
    "    print(\"{} ... {:.1f}% +/- {:.1f}%\".format(n_nodes, score.mean() * 100, score.std() * 100))"
   ]
  },
  {
   "cell_type": "code",
   "execution_count": 64,
   "metadata": {},
   "outputs": [
    {
     "name": "stdout",
     "output_type": "stream",
     "text": [
      "black\n",
      "(40, 30) ... 85.4% +/- 3.6%\n"
     ]
    }
   ],
   "source": [
    "label = 'genre_black'\n",
    "genre = label.replace('genre_', '')\n",
    "print(genre)\n",
    "df_features = df_full[feature_cols_r]\n",
    "df_norm = pd.concat((df_features.div(df_features.sum(axis=1), axis=0), df_full[label_cols]), axis=1)\n",
    "X, y = df_norm[feature_cols_r].values, df_norm[label].values\n",
    "n_nodes = (40, 30)\n",
    "model = KerasClassifier(keras_model, input_dim=len(feature_cols_r), n_nodes=n_nodes, batch_size=2, epochs=8, verbose=False)\n",
    "score = cross_val_score(model, X, y, cv=5, n_jobs=-1)\n",
    "scores.append(score)\n",
    "print(\"{} ... {:.1f}% +/- {:.1f}%\".format(n_nodes, score.mean() * 100, score.std() * 100))"
   ]
  },
  {
   "cell_type": "code",
   "execution_count": 65,
   "metadata": {},
   "outputs": [
    {
     "name": "stdout",
     "output_type": "stream",
     "text": [
      "(40, 30)\n",
      "black ... 82.8% +/- 4.4%\n",
      "death ... 77.3% +/- 2.7%\n",
      "doom ... 89.7% +/- 2.9%\n",
      "folk ... 93.5% +/- 2.8%\n",
      "heavy ... 89.4% +/- 2.2%\n",
      "power ... 89.8% +/- 2.5%\n",
      "progressive ... 90.0% +/- 3.0%\n",
      "thrash ... 84.5% +/- 2.2%\n",
      "other ... 92.6% +/- 2.2%\n"
     ]
    }
   ],
   "source": [
    "n_nodes = (40, 30)\n",
    "print(n_nodes)\n",
    "for label in label_cols:\n",
    "    genre = label.replace('genre_', '')\n",
    "    df_features = df_full[feature_cols_r]\n",
    "    df_norm = pd.concat((df_features.div(df_features.sum(axis=1), axis=0), df_full[label_cols]), axis=1)\n",
    "    X, y = df_norm[feature_cols_r].values, df_norm[label].values\n",
    "    model = KerasClassifier(keras_model, input_dim=len(feature_cols_r), n_nodes=n_nodes, batch_size=2, epochs=8, verbose=False)\n",
    "    score = cross_val_score(model, X, y, cv=5, n_jobs=-1)\n",
    "    scores.append(score)\n",
    "    print(\"{} ... {:.1f}% +/- {:.1f}%\".format(genre, score.mean() * 100, score.std() * 100))"
   ]
  },
  {
   "cell_type": "markdown",
   "metadata": {},
   "source": [
    "### Cross-validation score for different preprocessing techniques"
   ]
  },
  {
   "cell_type": "code",
   "execution_count": 6,
   "metadata": {},
   "outputs": [
    {
     "name": "stdout",
     "output_type": "stream",
     "text": [
      "Feature reduction:  True\n",
      "Normalize:  True\n",
      "No oversampling: \t\t0.7798 +/- 0.0958\n",
      "RandomOverSampler: \t\t0.9164 +/- 0.0602\n",
      "SMOTE: \t\t0.8782 +/- 0.1095\n",
      "BorderlineSMOTE: \t\t0.8582 +/- 0.1101\n",
      "SVMSMOTE: \t\t0.8945 +/- 0.0705\n",
      "ADASYN: \t\t0.8689 +/- 0.1195\n",
      "\n",
      "Normalize:  False\n",
      "No oversampling: \t\t0.7850 +/- 0.0780\n",
      "RandomOverSampler: \t\t0.9164 +/- 0.0506\n",
      "SMOTE: \t\t0.8855 +/- 0.0924\n",
      "BorderlineSMOTE: \t\t0.8600 +/- 0.1273\n",
      "SVMSMOTE: \t\t0.8964 +/- 0.0469\n",
      "ADASYN: \t\t0.8917 +/- 0.0731\n",
      "\n",
      "---\n",
      "Feature reduction:  False\n",
      "Normalize:  True\n",
      "No oversampling: \t\t0.7875 +/- 0.0783\n",
      "RandomOverSampler: \t\t0.9218 +/- 0.0482\n",
      "SMOTE: \t\t0.8673 +/- 0.1334\n",
      "BorderlineSMOTE: \t\t0.8527 +/- 0.2010\n",
      "SVMSMOTE: \t\t0.8836 +/- 0.0985\n",
      "ADASYN: \t\t0.8674 +/- 0.1208\n",
      "\n",
      "Normalize:  False\n",
      "No oversampling: \t\t0.7876 +/- 0.1165\n",
      "RandomOverSampler: \t\t0.9164 +/- 0.0436\n",
      "SMOTE: \t\t0.8582 +/- 0.1645\n",
      "BorderlineSMOTE: \t\t0.8691 +/- 0.1466\n",
      "SVMSMOTE: \t\t0.8891 +/- 0.0722\n",
      "ADASYN: \t\t0.8708 +/- 0.1405\n",
      "\n",
      "---\n"
     ]
    }
   ],
   "source": [
    "genre = 'black'\n",
    "model = RandomForestClassifier(n_estimators=100, max_depth=30, min_samples_split=2, min_samples_leaf=2, n_jobs=-1)\n",
    "for reduce_features in [True, False]:\n",
    "    print('Feature reduction: ', reduce_features)\n",
    "    for normalize in [True, False]:\n",
    "        print('Normalize: ', normalize)\n",
    "        for sampler in [None, RandomOverSampler, SMOTE, BorderlineSMOTE, SVMSMOTE, ADASYN]:\n",
    "            X, y = df_to_Xy(df_full, genre, reduce_features=reduce_features, normalize=normalize, oversampler=sampler, logX=True, random_state=0)\n",
    "            X_train, X_test, y_train, y_test = Xy_to_split(X, y, scale=True, test_size=0.2, random_state=0)\n",
    "            cvscore = cross_val_score(model, X, y, cv=5)\n",
    "            name = sampler.__name__ if sampler else 'No oversampling'\n",
    "            print('{}: \\t\\t{:.4f} +/- {:.4f}'.format(name, cvscore.mean(), 2 * cvscore.std()))\n",
    "        print()\n",
    "    print('---')"
   ]
  },
  {
   "cell_type": "code",
   "execution_count": 7,
   "metadata": {},
   "outputs": [
    {
     "name": "stdout",
     "output_type": "stream",
     "text": [
      "Feature reduction:  True\n",
      "Normalize:  True\n",
      "No oversampling: \t\t0.8342 +/- 0.0193\n",
      "RandomOverSampler: \t\t0.9922 +/- 0.0171\n",
      "SMOTE: \t\t0.9121 +/- 0.2970\n",
      "BorderlineSMOTE: \t\t0.9091 +/- 0.3091\n",
      "SVMSMOTE: \t\t0.9229 +/- 0.2462\n",
      "ADASYN: \t\t0.8998 +/- 0.3083\n",
      "\n",
      "Normalize:  False\n",
      "No oversampling: \t\t0.8342 +/- 0.0101\n",
      "RandomOverSampler: \t\t0.9906 +/- 0.0117\n",
      "SMOTE: \t\t0.9491 +/- 0.1505\n",
      "BorderlineSMOTE: \t\t0.9492 +/- 0.1878\n",
      "SVMSMOTE: \t\t0.9522 +/- 0.1450\n",
      "ADASYN: \t\t0.9468 +/- 0.1738\n",
      "\n",
      "---\n",
      "Feature reduction:  False\n",
      "Normalize:  True\n",
      "No oversampling: \t\t0.8316 +/- 0.0017\n",
      "RandomOverSampler: \t\t0.9938 +/- 0.0062\n",
      "SMOTE: \t\t0.9106 +/- 0.3036\n",
      "BorderlineSMOTE: \t\t0.9137 +/- 0.2987\n",
      "SVMSMOTE: \t\t0.9199 +/- 0.2817\n",
      "ADASYN: \t\t0.9199 +/- 0.2971\n",
      "\n",
      "Normalize:  False\n",
      "No oversampling: \t\t0.8342 +/- 0.0101\n",
      "RandomOverSampler: \t\t0.9891 +/- 0.0125\n",
      "SMOTE: \t\t0.9446 +/- 0.2139\n",
      "BorderlineSMOTE: \t\t0.9430 +/- 0.2046\n",
      "SVMSMOTE: \t\t0.9476 +/- 0.1789\n",
      "ADASYN: \t\t0.9291 +/- 0.2450\n",
      "\n",
      "---\n"
     ]
    }
   ],
   "source": [
    "genre = 'thrash'\n",
    "model = RandomForestClassifier(n_estimators=100, max_depth=30, min_samples_split=2, min_samples_leaf=2, n_jobs=-1)\n",
    "for reduce_features in [True, False]:\n",
    "    print('Feature reduction: ', reduce_features)\n",
    "    for normalize in [True, False]:\n",
    "        print('Normalize: ', normalize)\n",
    "        for sampler in [None, RandomOverSampler, SMOTE, BorderlineSMOTE, SVMSMOTE, ADASYN]:\n",
    "            X, y = df_to_Xy(df_full, genre, reduce_features=reduce_features, normalize=normalize, oversampler=sampler, logX=True, random_state=0)\n",
    "            X_train, X_test, y_train, y_test = Xy_to_split(X, y, scale=True, test_size=0.2, random_state=0)\n",
    "            cvscore = cross_val_score(model, X, y, cv=5)\n",
    "            name = sampler.__name__ if sampler else 'No oversampling'\n",
    "            print('{}: \\t\\t{:.4f} +/- {:.4f}'.format(name, cvscore.mean(), 2 * cvscore.std()))\n",
    "        print()\n",
    "    print('---')"
   ]
  },
  {
   "cell_type": "markdown",
   "metadata": {},
   "source": [
    "### Cross-validation score for different genres"
   ]
  },
  {
   "cell_type": "code",
   "execution_count": 26,
   "metadata": {},
   "outputs": [
    {
     "name": "stdout",
     "output_type": "stream",
     "text": [
      "black\n",
      "CV score:              0.7857 +/- 0.0994\n",
      "accuracy on test data: 0.8014\n",
      "confusion matrix:\n",
      " [[90 17]\n",
      " [12 27]]\n",
      "---\n",
      "death\n",
      "CV score:              0.7623 +/- 0.0598\n",
      "accuracy on test data: 0.8014\n",
      "confusion matrix:\n",
      " [[90  6]\n",
      " [23 27]]\n",
      "---\n",
      "doom\n",
      "CV score:              0.8970 +/- 0.0007\n",
      "accuracy on test data: 0.8767\n",
      "confusion matrix:\n",
      " [[128   1]\n",
      " [ 17   0]]\n",
      "---\n",
      "folk\n",
      "CV score:              0.9396 +/- 0.0049\n",
      "accuracy on test data: 0.9247\n",
      "confusion matrix:\n",
      " [[135   0]\n",
      " [ 11   0]]\n",
      "---\n",
      "heavy\n",
      "CV score:              0.8984 +/- 0.0152\n",
      "accuracy on test data: 0.9315\n",
      "confusion matrix:\n",
      " [[131   0]\n",
      " [ 10   5]]\n",
      "---\n",
      "power\n",
      "CV score:              0.8723 +/- 0.0059\n",
      "accuracy on test data: 0.8973\n",
      "confusion matrix:\n",
      " [[129   4]\n",
      " [ 11   2]]\n",
      "---\n",
      "progressive\n",
      "CV score:              0.8997 +/- 0.0061\n",
      "accuracy on test data: 0.9384\n",
      "confusion matrix:\n",
      " [[137   0]\n",
      " [  9   0]]\n",
      "---\n",
      "thrash\n",
      "CV score:              0.8324 +/- 0.0173\n",
      "accuracy on test data: 0.8562\n",
      "confusion matrix:\n",
      " [[121   1]\n",
      " [ 20   4]]\n",
      "---\n",
      "other\n",
      "CV score:              0.9244 +/- 0.0005\n",
      "accuracy on test data: 0.9178\n",
      "confusion matrix:\n",
      " [[134   0]\n",
      " [ 12   0]]\n",
      "---\n"
     ]
    }
   ],
   "source": [
    "feature_cols = feature_cols_r\n",
    "for label in label_cols:\n",
    "    df_features = df_full[feature_cols]\n",
    "    df_norm = pd.concat((df_features.div(df_features.sum(axis=1), axis=0), df_full[label_cols]), axis=1)\n",
    "    X, y = df_norm[feature_cols].values, df_norm[label].values\n",
    "    X_train, X_test, y_train, y_test = train_test_split(X, y, test_size=0.2, random_state=0)\n",
    "    X_train, y_train = RandomOverSampler(random_state=0).fit_resample(X_train, y_train)\n",
    "    model = rf_model\n",
    "    model.fit(X_train, y_train)\n",
    "    y_pred = model.predict(X_test)\n",
    "    cvscore = cross_val_score(model, X, y, cv=5)\n",
    "\n",
    "    genre = label.replace('genre_', '')\n",
    "    print(genre)\n",
    "    print('CV score:              {:.4f} +/- {:.4f}'.format(cvscore.mean(), 2 * cvscore.std()))\n",
    "    print('accuracy on test data: {:.4f}'.format(accuracy_score(y_test, y_pred)))\n",
    "    # print('classification report:\\n', classification_report(y_test, y_pred))\n",
    "    print('confusion matrix:\\n', confusion_matrix(y_test, y_pred))\n",
    "    print('---')"
   ]
  },
  {
   "cell_type": "code",
   "execution_count": 40,
   "metadata": {},
   "outputs": [
    {
     "name": "stdout",
     "output_type": "stream",
     "text": [
      "black\n"
     ]
    },
    {
     "ename": "KeyboardInterrupt",
     "evalue": "",
     "output_type": "error",
     "traceback": [
      "\u001b[0;31m---------------------------------------------------------------------------\u001b[0m",
      "\u001b[0;31mKeyboardInterrupt\u001b[0m                         Traceback (most recent call last)",
      "\u001b[0;32m<ipython-input-40-54032da8689f>\u001b[0m in \u001b[0;36m<module>\u001b[0;34m\u001b[0m\n\u001b[1;32m     16\u001b[0m         \u001b[0mX_valid_cv\u001b[0m \u001b[0;34m=\u001b[0m \u001b[0mX_train\u001b[0m\u001b[0;34m[\u001b[0m\u001b[0mvalid_idx\u001b[0m\u001b[0;34m]\u001b[0m\u001b[0;34m\u001b[0m\u001b[0;34m\u001b[0m\u001b[0m\n\u001b[1;32m     17\u001b[0m         \u001b[0my_valid_cv\u001b[0m \u001b[0;34m=\u001b[0m \u001b[0my_train\u001b[0m\u001b[0;34m[\u001b[0m\u001b[0mvalid_idx\u001b[0m\u001b[0;34m]\u001b[0m\u001b[0;34m\u001b[0m\u001b[0;34m\u001b[0m\u001b[0m\n\u001b[0;32m---> 18\u001b[0;31m         \u001b[0mmodel\u001b[0m\u001b[0;34m.\u001b[0m\u001b[0mfit\u001b[0m\u001b[0;34m(\u001b[0m\u001b[0mX_train_cv\u001b[0m\u001b[0;34m,\u001b[0m \u001b[0my_train_cv\u001b[0m\u001b[0;34m,\u001b[0m \u001b[0mepochs\u001b[0m\u001b[0;34m=\u001b[0m\u001b[0;36m30\u001b[0m\u001b[0;34m,\u001b[0m \u001b[0mverbose\u001b[0m\u001b[0;34m=\u001b[0m\u001b[0;32mFalse\u001b[0m\u001b[0;34m)\u001b[0m\u001b[0;34m\u001b[0m\u001b[0;34m\u001b[0m\u001b[0m\n\u001b[0m\u001b[1;32m     19\u001b[0m         \u001b[0mcv_loss\u001b[0m\u001b[0;34m,\u001b[0m \u001b[0mcv_accuracy\u001b[0m \u001b[0;34m=\u001b[0m \u001b[0mmodel\u001b[0m\u001b[0;34m.\u001b[0m\u001b[0mevaluate\u001b[0m\u001b[0;34m(\u001b[0m\u001b[0mX_valid_cv\u001b[0m\u001b[0;34m,\u001b[0m \u001b[0my_valid_cv\u001b[0m\u001b[0;34m)\u001b[0m\u001b[0;34m\u001b[0m\u001b[0;34m\u001b[0m\u001b[0m\n\u001b[1;32m     20\u001b[0m         \u001b[0mcvloss\u001b[0m\u001b[0;34m.\u001b[0m\u001b[0mappend\u001b[0m\u001b[0;34m(\u001b[0m\u001b[0mcv_loss\u001b[0m\u001b[0;34m)\u001b[0m\u001b[0;34m\u001b[0m\u001b[0;34m\u001b[0m\u001b[0m\n",
      "\u001b[0;32m~/anaconda3/lib/python3.7/site-packages/keras/engine/training.py\u001b[0m in \u001b[0;36mfit\u001b[0;34m(self, x, y, batch_size, epochs, verbose, callbacks, validation_split, validation_data, shuffle, class_weight, sample_weight, initial_epoch, steps_per_epoch, validation_steps, **kwargs)\u001b[0m\n\u001b[1;32m   1037\u001b[0m                                         \u001b[0minitial_epoch\u001b[0m\u001b[0;34m=\u001b[0m\u001b[0minitial_epoch\u001b[0m\u001b[0;34m,\u001b[0m\u001b[0;34m\u001b[0m\u001b[0;34m\u001b[0m\u001b[0m\n\u001b[1;32m   1038\u001b[0m                                         \u001b[0msteps_per_epoch\u001b[0m\u001b[0;34m=\u001b[0m\u001b[0msteps_per_epoch\u001b[0m\u001b[0;34m,\u001b[0m\u001b[0;34m\u001b[0m\u001b[0;34m\u001b[0m\u001b[0m\n\u001b[0;32m-> 1039\u001b[0;31m                                         validation_steps=validation_steps)\n\u001b[0m\u001b[1;32m   1040\u001b[0m \u001b[0;34m\u001b[0m\u001b[0m\n\u001b[1;32m   1041\u001b[0m     def evaluate(self, x=None, y=None,\n",
      "\u001b[0;32m~/anaconda3/lib/python3.7/site-packages/keras/engine/training_arrays.py\u001b[0m in \u001b[0;36mfit_loop\u001b[0;34m(model, f, ins, out_labels, batch_size, epochs, verbose, callbacks, val_f, val_ins, shuffle, callback_metrics, initial_epoch, steps_per_epoch, validation_steps)\u001b[0m\n\u001b[1;32m    197\u001b[0m                     \u001b[0mins_batch\u001b[0m\u001b[0;34m[\u001b[0m\u001b[0mi\u001b[0m\u001b[0;34m]\u001b[0m \u001b[0;34m=\u001b[0m \u001b[0mins_batch\u001b[0m\u001b[0;34m[\u001b[0m\u001b[0mi\u001b[0m\u001b[0;34m]\u001b[0m\u001b[0;34m.\u001b[0m\u001b[0mtoarray\u001b[0m\u001b[0;34m(\u001b[0m\u001b[0;34m)\u001b[0m\u001b[0;34m\u001b[0m\u001b[0;34m\u001b[0m\u001b[0m\n\u001b[1;32m    198\u001b[0m \u001b[0;34m\u001b[0m\u001b[0m\n\u001b[0;32m--> 199\u001b[0;31m                 \u001b[0mouts\u001b[0m \u001b[0;34m=\u001b[0m \u001b[0mf\u001b[0m\u001b[0;34m(\u001b[0m\u001b[0mins_batch\u001b[0m\u001b[0;34m)\u001b[0m\u001b[0;34m\u001b[0m\u001b[0;34m\u001b[0m\u001b[0m\n\u001b[0m\u001b[1;32m    200\u001b[0m                 \u001b[0mouts\u001b[0m \u001b[0;34m=\u001b[0m \u001b[0mto_list\u001b[0m\u001b[0;34m(\u001b[0m\u001b[0mouts\u001b[0m\u001b[0;34m)\u001b[0m\u001b[0;34m\u001b[0m\u001b[0;34m\u001b[0m\u001b[0m\n\u001b[1;32m    201\u001b[0m                 \u001b[0;32mfor\u001b[0m \u001b[0ml\u001b[0m\u001b[0;34m,\u001b[0m \u001b[0mo\u001b[0m \u001b[0;32min\u001b[0m \u001b[0mzip\u001b[0m\u001b[0;34m(\u001b[0m\u001b[0mout_labels\u001b[0m\u001b[0;34m,\u001b[0m \u001b[0mouts\u001b[0m\u001b[0;34m)\u001b[0m\u001b[0;34m:\u001b[0m\u001b[0;34m\u001b[0m\u001b[0;34m\u001b[0m\u001b[0m\n",
      "\u001b[0;32m~/anaconda3/lib/python3.7/site-packages/keras/backend/tensorflow_backend.py\u001b[0m in \u001b[0;36m__call__\u001b[0;34m(self, inputs)\u001b[0m\n\u001b[1;32m   2695\u001b[0m \u001b[0;34m\u001b[0m\u001b[0m\n\u001b[1;32m   2696\u001b[0m     \u001b[0;32mdef\u001b[0m \u001b[0m__call__\u001b[0m\u001b[0;34m(\u001b[0m\u001b[0mself\u001b[0m\u001b[0;34m,\u001b[0m \u001b[0minputs\u001b[0m\u001b[0;34m)\u001b[0m\u001b[0;34m:\u001b[0m\u001b[0;34m\u001b[0m\u001b[0;34m\u001b[0m\u001b[0m\n\u001b[0;32m-> 2697\u001b[0;31m         \u001b[0;32mif\u001b[0m \u001b[0mhasattr\u001b[0m\u001b[0;34m(\u001b[0m\u001b[0mget_session\u001b[0m\u001b[0;34m(\u001b[0m\u001b[0;34m)\u001b[0m\u001b[0;34m,\u001b[0m \u001b[0;34m'_make_callable_from_options'\u001b[0m\u001b[0;34m)\u001b[0m\u001b[0;34m:\u001b[0m\u001b[0;34m\u001b[0m\u001b[0;34m\u001b[0m\u001b[0m\n\u001b[0m\u001b[1;32m   2698\u001b[0m             \u001b[0;32mif\u001b[0m \u001b[0mpy_any\u001b[0m\u001b[0;34m(\u001b[0m\u001b[0mis_sparse\u001b[0m\u001b[0;34m(\u001b[0m\u001b[0mx\u001b[0m\u001b[0;34m)\u001b[0m \u001b[0;32mfor\u001b[0m \u001b[0mx\u001b[0m \u001b[0;32min\u001b[0m \u001b[0mself\u001b[0m\u001b[0;34m.\u001b[0m\u001b[0minputs\u001b[0m\u001b[0;34m)\u001b[0m\u001b[0;34m:\u001b[0m\u001b[0;34m\u001b[0m\u001b[0;34m\u001b[0m\u001b[0m\n\u001b[1;32m   2699\u001b[0m                 \u001b[0;32mif\u001b[0m \u001b[0mpy_any\u001b[0m\u001b[0;34m(\u001b[0m\u001b[0mis_tensor\u001b[0m\u001b[0;34m(\u001b[0m\u001b[0mx\u001b[0m\u001b[0;34m)\u001b[0m \u001b[0;32mfor\u001b[0m \u001b[0mx\u001b[0m \u001b[0;32min\u001b[0m \u001b[0minputs\u001b[0m\u001b[0;34m)\u001b[0m\u001b[0;34m:\u001b[0m\u001b[0;34m\u001b[0m\u001b[0;34m\u001b[0m\u001b[0m\n",
      "\u001b[0;32m~/anaconda3/lib/python3.7/site-packages/keras/backend/tensorflow_backend.py\u001b[0m in \u001b[0;36mget_session\u001b[0;34m()\u001b[0m\n\u001b[1;32m    204\u001b[0m                     \u001b[0mv\u001b[0m\u001b[0;34m.\u001b[0m\u001b[0m_keras_initialized\u001b[0m \u001b[0;34m=\u001b[0m \u001b[0;32mTrue\u001b[0m\u001b[0;34m\u001b[0m\u001b[0;34m\u001b[0m\u001b[0m\n\u001b[1;32m    205\u001b[0m                 \u001b[0;32mif\u001b[0m \u001b[0muninitialized_vars\u001b[0m\u001b[0;34m:\u001b[0m\u001b[0;34m\u001b[0m\u001b[0;34m\u001b[0m\u001b[0m\n\u001b[0;32m--> 206\u001b[0;31m                     \u001b[0msession\u001b[0m\u001b[0;34m.\u001b[0m\u001b[0mrun\u001b[0m\u001b[0;34m(\u001b[0m\u001b[0mtf\u001b[0m\u001b[0;34m.\u001b[0m\u001b[0mvariables_initializer\u001b[0m\u001b[0;34m(\u001b[0m\u001b[0muninitialized_vars\u001b[0m\u001b[0;34m)\u001b[0m\u001b[0;34m)\u001b[0m\u001b[0;34m\u001b[0m\u001b[0;34m\u001b[0m\u001b[0m\n\u001b[0m\u001b[1;32m    207\u001b[0m     \u001b[0;31m# hack for list_devices() function.\u001b[0m\u001b[0;34m\u001b[0m\u001b[0;34m\u001b[0m\u001b[0;34m\u001b[0m\u001b[0m\n\u001b[1;32m    208\u001b[0m     \u001b[0;31m# list_devices() function is not available under tensorflow r1.3.\u001b[0m\u001b[0;34m\u001b[0m\u001b[0;34m\u001b[0m\u001b[0;34m\u001b[0m\u001b[0m\n",
      "\u001b[0;32m~/anaconda3/lib/python3.7/site-packages/tensorflow/python/client/session.py\u001b[0m in \u001b[0;36mrun\u001b[0;34m(self, fetches, feed_dict, options, run_metadata)\u001b[0m\n\u001b[1;32m    948\u001b[0m     \u001b[0;32mtry\u001b[0m\u001b[0;34m:\u001b[0m\u001b[0;34m\u001b[0m\u001b[0;34m\u001b[0m\u001b[0m\n\u001b[1;32m    949\u001b[0m       result = self._run(None, fetches, feed_dict, options_ptr,\n\u001b[0;32m--> 950\u001b[0;31m                          run_metadata_ptr)\n\u001b[0m\u001b[1;32m    951\u001b[0m       \u001b[0;32mif\u001b[0m \u001b[0mrun_metadata\u001b[0m\u001b[0;34m:\u001b[0m\u001b[0;34m\u001b[0m\u001b[0;34m\u001b[0m\u001b[0m\n\u001b[1;32m    952\u001b[0m         \u001b[0mproto_data\u001b[0m \u001b[0;34m=\u001b[0m \u001b[0mtf_session\u001b[0m\u001b[0;34m.\u001b[0m\u001b[0mTF_GetBuffer\u001b[0m\u001b[0;34m(\u001b[0m\u001b[0mrun_metadata_ptr\u001b[0m\u001b[0;34m)\u001b[0m\u001b[0;34m\u001b[0m\u001b[0;34m\u001b[0m\u001b[0m\n",
      "\u001b[0;32m~/anaconda3/lib/python3.7/site-packages/tensorflow/python/client/session.py\u001b[0m in \u001b[0;36m_run\u001b[0;34m(self, handle, fetches, feed_dict, options, run_metadata)\u001b[0m\n\u001b[1;32m   1171\u001b[0m     \u001b[0;32mif\u001b[0m \u001b[0mfinal_fetches\u001b[0m \u001b[0;32mor\u001b[0m \u001b[0mfinal_targets\u001b[0m \u001b[0;32mor\u001b[0m \u001b[0;34m(\u001b[0m\u001b[0mhandle\u001b[0m \u001b[0;32mand\u001b[0m \u001b[0mfeed_dict_tensor\u001b[0m\u001b[0;34m)\u001b[0m\u001b[0;34m:\u001b[0m\u001b[0;34m\u001b[0m\u001b[0;34m\u001b[0m\u001b[0m\n\u001b[1;32m   1172\u001b[0m       results = self._do_run(handle, final_targets, final_fetches,\n\u001b[0;32m-> 1173\u001b[0;31m                              feed_dict_tensor, options, run_metadata)\n\u001b[0m\u001b[1;32m   1174\u001b[0m     \u001b[0;32melse\u001b[0m\u001b[0;34m:\u001b[0m\u001b[0;34m\u001b[0m\u001b[0;34m\u001b[0m\u001b[0m\n\u001b[1;32m   1175\u001b[0m       \u001b[0mresults\u001b[0m \u001b[0;34m=\u001b[0m \u001b[0;34m[\u001b[0m\u001b[0;34m]\u001b[0m\u001b[0;34m\u001b[0m\u001b[0;34m\u001b[0m\u001b[0m\n",
      "\u001b[0;32m~/anaconda3/lib/python3.7/site-packages/tensorflow/python/client/session.py\u001b[0m in \u001b[0;36m_do_run\u001b[0;34m(self, handle, target_list, fetch_list, feed_dict, options, run_metadata)\u001b[0m\n\u001b[1;32m   1348\u001b[0m     \u001b[0;32mif\u001b[0m \u001b[0mhandle\u001b[0m \u001b[0;32mis\u001b[0m \u001b[0;32mNone\u001b[0m\u001b[0;34m:\u001b[0m\u001b[0;34m\u001b[0m\u001b[0;34m\u001b[0m\u001b[0m\n\u001b[1;32m   1349\u001b[0m       return self._do_call(_run_fn, feeds, fetches, targets, options,\n\u001b[0;32m-> 1350\u001b[0;31m                            run_metadata)\n\u001b[0m\u001b[1;32m   1351\u001b[0m     \u001b[0;32melse\u001b[0m\u001b[0;34m:\u001b[0m\u001b[0;34m\u001b[0m\u001b[0;34m\u001b[0m\u001b[0m\n\u001b[1;32m   1352\u001b[0m       \u001b[0;32mreturn\u001b[0m \u001b[0mself\u001b[0m\u001b[0;34m.\u001b[0m\u001b[0m_do_call\u001b[0m\u001b[0;34m(\u001b[0m\u001b[0m_prun_fn\u001b[0m\u001b[0;34m,\u001b[0m \u001b[0mhandle\u001b[0m\u001b[0;34m,\u001b[0m \u001b[0mfeeds\u001b[0m\u001b[0;34m,\u001b[0m \u001b[0mfetches\u001b[0m\u001b[0;34m)\u001b[0m\u001b[0;34m\u001b[0m\u001b[0;34m\u001b[0m\u001b[0m\n",
      "\u001b[0;32m~/anaconda3/lib/python3.7/site-packages/tensorflow/python/client/session.py\u001b[0m in \u001b[0;36m_do_call\u001b[0;34m(self, fn, *args)\u001b[0m\n\u001b[1;32m   1354\u001b[0m   \u001b[0;32mdef\u001b[0m \u001b[0m_do_call\u001b[0m\u001b[0;34m(\u001b[0m\u001b[0mself\u001b[0m\u001b[0;34m,\u001b[0m \u001b[0mfn\u001b[0m\u001b[0;34m,\u001b[0m \u001b[0;34m*\u001b[0m\u001b[0margs\u001b[0m\u001b[0;34m)\u001b[0m\u001b[0;34m:\u001b[0m\u001b[0;34m\u001b[0m\u001b[0;34m\u001b[0m\u001b[0m\n\u001b[1;32m   1355\u001b[0m     \u001b[0;32mtry\u001b[0m\u001b[0;34m:\u001b[0m\u001b[0;34m\u001b[0m\u001b[0;34m\u001b[0m\u001b[0m\n\u001b[0;32m-> 1356\u001b[0;31m       \u001b[0;32mreturn\u001b[0m \u001b[0mfn\u001b[0m\u001b[0;34m(\u001b[0m\u001b[0;34m*\u001b[0m\u001b[0margs\u001b[0m\u001b[0;34m)\u001b[0m\u001b[0;34m\u001b[0m\u001b[0;34m\u001b[0m\u001b[0m\n\u001b[0m\u001b[1;32m   1357\u001b[0m     \u001b[0;32mexcept\u001b[0m \u001b[0merrors\u001b[0m\u001b[0;34m.\u001b[0m\u001b[0mOpError\u001b[0m \u001b[0;32mas\u001b[0m \u001b[0me\u001b[0m\u001b[0;34m:\u001b[0m\u001b[0;34m\u001b[0m\u001b[0;34m\u001b[0m\u001b[0m\n\u001b[1;32m   1358\u001b[0m       \u001b[0mmessage\u001b[0m \u001b[0;34m=\u001b[0m \u001b[0mcompat\u001b[0m\u001b[0;34m.\u001b[0m\u001b[0mas_text\u001b[0m\u001b[0;34m(\u001b[0m\u001b[0me\u001b[0m\u001b[0;34m.\u001b[0m\u001b[0mmessage\u001b[0m\u001b[0;34m)\u001b[0m\u001b[0;34m\u001b[0m\u001b[0;34m\u001b[0m\u001b[0m\n",
      "\u001b[0;32m~/anaconda3/lib/python3.7/site-packages/tensorflow/python/client/session.py\u001b[0m in \u001b[0;36m_run_fn\u001b[0;34m(feed_dict, fetch_list, target_list, options, run_metadata)\u001b[0m\n\u001b[1;32m   1339\u001b[0m       \u001b[0mself\u001b[0m\u001b[0;34m.\u001b[0m\u001b[0m_extend_graph\u001b[0m\u001b[0;34m(\u001b[0m\u001b[0;34m)\u001b[0m\u001b[0;34m\u001b[0m\u001b[0;34m\u001b[0m\u001b[0m\n\u001b[1;32m   1340\u001b[0m       return self._call_tf_sessionrun(\n\u001b[0;32m-> 1341\u001b[0;31m           options, feed_dict, fetch_list, target_list, run_metadata)\n\u001b[0m\u001b[1;32m   1342\u001b[0m \u001b[0;34m\u001b[0m\u001b[0m\n\u001b[1;32m   1343\u001b[0m     \u001b[0;32mdef\u001b[0m \u001b[0m_prun_fn\u001b[0m\u001b[0;34m(\u001b[0m\u001b[0mhandle\u001b[0m\u001b[0;34m,\u001b[0m \u001b[0mfeed_dict\u001b[0m\u001b[0;34m,\u001b[0m \u001b[0mfetch_list\u001b[0m\u001b[0;34m)\u001b[0m\u001b[0;34m:\u001b[0m\u001b[0;34m\u001b[0m\u001b[0;34m\u001b[0m\u001b[0m\n",
      "\u001b[0;32m~/anaconda3/lib/python3.7/site-packages/tensorflow/python/client/session.py\u001b[0m in \u001b[0;36m_call_tf_sessionrun\u001b[0;34m(self, options, feed_dict, fetch_list, target_list, run_metadata)\u001b[0m\n\u001b[1;32m   1427\u001b[0m     return tf_session.TF_SessionRun_wrapper(\n\u001b[1;32m   1428\u001b[0m         \u001b[0mself\u001b[0m\u001b[0;34m.\u001b[0m\u001b[0m_session\u001b[0m\u001b[0;34m,\u001b[0m \u001b[0moptions\u001b[0m\u001b[0;34m,\u001b[0m \u001b[0mfeed_dict\u001b[0m\u001b[0;34m,\u001b[0m \u001b[0mfetch_list\u001b[0m\u001b[0;34m,\u001b[0m \u001b[0mtarget_list\u001b[0m\u001b[0;34m,\u001b[0m\u001b[0;34m\u001b[0m\u001b[0;34m\u001b[0m\u001b[0m\n\u001b[0;32m-> 1429\u001b[0;31m         run_metadata)\n\u001b[0m\u001b[1;32m   1430\u001b[0m \u001b[0;34m\u001b[0m\u001b[0m\n\u001b[1;32m   1431\u001b[0m   \u001b[0;32mdef\u001b[0m \u001b[0m_call_tf_sessionprun\u001b[0m\u001b[0;34m(\u001b[0m\u001b[0mself\u001b[0m\u001b[0;34m,\u001b[0m \u001b[0mhandle\u001b[0m\u001b[0;34m,\u001b[0m \u001b[0mfeed_dict\u001b[0m\u001b[0;34m,\u001b[0m \u001b[0mfetch_list\u001b[0m\u001b[0;34m)\u001b[0m\u001b[0;34m:\u001b[0m\u001b[0;34m\u001b[0m\u001b[0;34m\u001b[0m\u001b[0m\n",
      "\u001b[0;31mKeyboardInterrupt\u001b[0m: "
     ]
    }
   ],
   "source": [
    "feature_cols = feature_cols_r\n",
    "folds = StratifiedKFold(n_splits=5, shuffle=True, random_state=0)\n",
    "for label in label_cols:\n",
    "    genre = label.replace('genre_', '')\n",
    "    print(genre)\n",
    "    df_features = df_full[feature_cols]\n",
    "    df_norm = pd.concat((df_features.div(df_features.sum(axis=1), axis=0), df_full[label_cols]), axis=1)\n",
    "    X, y = df_norm[feature_cols].values, df_norm[label].values\n",
    "    X_train, X_test, y_train, y_test = train_test_split(X, y, test_size=0.2, random_state=0)\n",
    "    X_train, y_train = RandomOverSampler(random_state=0).fit_resample(X_train, y_train)\n",
    "    model = keras_model()\n",
    "    cvloss, cvscore = [], []\n",
    "    for train_idx, valid_idx in folds.split(X_train, y_train):\n",
    "        X_train_cv = X_train[train_idx]\n",
    "        y_train_cv = y_train[train_idx]\n",
    "        X_valid_cv = X_train[valid_idx]\n",
    "        y_valid_cv = y_train[valid_idx]\n",
    "        model.fit(X_train_cv, y_train_cv, epochs=30, verbose=False)\n",
    "        cv_loss, cv_accuracy = model.evaluate(X_valid_cv, y_valid_cv)\n",
    "        cvloss.append(cv_loss)\n",
    "        cvscore.append(cv_accuracy)\n",
    "    print('CV loss: {:.1f}% +/- {:.1f}%'.format(100 * np.mean(cvloss), 200 * np.std(cvloss)))\n",
    "    print('CV score: {:.1f}% +/- {:.1f}%'.format(100 * np.mean(cvscore), 200 * np.std(cvscore)))\n",
    "#     y_pred = model.predict(X_test)\n",
    "#     print('accuracy on test data: {:.4f}'.format(accuracy_score(y_test, y_pred)))\n",
    "#     print('confusion matrix:\\n', confusion_matrix(y_test, y_pred))\n",
    "#     print('---')"
   ]
  },
  {
   "cell_type": "markdown",
   "metadata": {},
   "source": [
    "### Random forest grid search"
   ]
  },
  {
   "cell_type": "code",
   "execution_count": 60,
   "metadata": {},
   "outputs": [
    {
     "name": "stderr",
     "output_type": "stream",
     "text": [
      "C:\\Users\\philippe\\Anaconda3\\lib\\site-packages\\sklearn\\model_selection\\_search.py:814: DeprecationWarning: The default of the `iid` parameter will change from True to False in version 0.22 and will be removed in 0.24. This will change numeric results when test-set sizes are unequal.\n",
      "  DeprecationWarning)\n"
     ]
    },
    {
     "name": "stdout",
     "output_type": "stream",
     "text": [
      "Best estimator params: {'bootstrap': True, 'max_depth': 30, 'max_features': 'auto', 'min_samples_leaf': 1, 'min_samples_split': 2, 'n_estimators': 100}\n",
      "CV score:              0.8711 +/- 0.0854\n",
      "accuracy on test data: 0.8776\n",
      "confusion matrix:\n",
      " [[38  8]\n",
      " [ 4 48]]\n"
     ]
    }
   ],
   "source": [
    "X, y, feature_cols = df_to_Xy(df_full, 'death', reduce_features=False, normalize=True, oversampler=RandomOverSampler, logX=True)\n",
    "X_train, X_test, y_train, y_test = Xy_to_split(X, y, scale=False, test_size=0.2)\n",
    "# clf = RandomizedSearchCV(\n",
    "#     estimator=RandomForestClassifier(n_jobs=-1, random_state=0),\n",
    "#     param_distributions={\n",
    "#         'n_estimators': [10, 100, 100],\n",
    "#         'max_features': ['auto', 'sqrt'],\n",
    "#         'max_depth': [2, 5, 10, 20, 40, 80],\n",
    "#         'min_samples_leaf': [1, 2, 4],\n",
    "#         'min_samples_split': [2, 5, 10],\n",
    "#         'bootstrap': [True, False]\n",
    "#     },\n",
    "#     n_iter=100,\n",
    "#     cv=5,\n",
    "#     n_jobs=-1,\n",
    "#     random_state=0\n",
    "# )\n",
    "clf = GridSearchCV(\n",
    "    estimator=RandomForestClassifier(n_jobs=-1, random_state=0),\n",
    "    param_grid={\n",
    "        'n_estimators': [100, 300, 1000],\n",
    "        'max_features': ['auto', 'sqrt'],\n",
    "        'max_depth': [10, 30, 100],\n",
    "        'min_samples_leaf': [1, 2, 4],\n",
    "        'min_samples_split': [2],\n",
    "        'bootstrap': [True]\n",
    "    },\n",
    "    cv=5,\n",
    "    n_jobs=-1\n",
    ")\n",
    "clf.fit(X_train, y_train)\n",
    "\n",
    "bestimator = clf.best_estimator_\n",
    "y_pred = bestimator.predict(X_test)\n",
    "cvscore = cross_val_score(bestimator, X, y, cv=5)\n",
    "\n",
    "print('Best estimator params:', clf.best_params_)\n",
    "print('CV score:              {:.4f} +/- {:.4f}'.format(cvscore.mean(), 2 * cvscore.std()))\n",
    "print('accuracy on test data: {:.4f}'.format(accuracy_score(y_test, y_pred)))\n",
    "print('confusion matrix:\\n', confusion_matrix(y_test, y_pred))"
   ]
  },
  {
   "cell_type": "markdown",
   "metadata": {},
   "source": [
    "### Random forest best estimator"
   ]
  },
  {
   "cell_type": "code",
   "execution_count": 9,
   "metadata": {},
   "outputs": [],
   "source": [
    "best_params = {'bootstrap': True, 'max_depth': 30, 'max_features': 'auto', 'min_samples_leaf': 1, 'min_samples_split': 2, 'n_estimators': 100}"
   ]
  },
  {
   "cell_type": "code",
   "execution_count": 10,
   "metadata": {},
   "outputs": [
    {
     "name": "stdout",
     "output_type": "stream",
     "text": [
      "cross-validation score: 0.9327 +/- 0.0145\n",
      "accuracy on test data:  0.8636\n",
      "confusion matrix:\n",
      " [[39  7]\n",
      " [ 8 56]]\n"
     ]
    }
   ],
   "source": [
    "genre = 'black'\n",
    "X, y, feature_cols = df_to_Xy(df_full, genre, reduce_features=feature_cols_r, normalize=True, oversampler=RandomOverSampler, logX=True)\n",
    "X_train, X_test, y_train, y_test = Xy_to_split(X, y, scale=False, test_size=0.2)\n",
    "model = RandomForestClassifier(n_jobs=-1, random_state=0, **best_params)\n",
    "model.fit(X_train, y_train)\n",
    "y_pred = model.predict(X_test)\n",
    "y_train_pred = model.predict(X_train)\n",
    "kfold = StratifiedKFold(n_splits=5, shuffle=True, random_state=0)\n",
    "cvscore = cross_val_score(model, X, y, cv=kfold)\n",
    "\n",
    "print('cross-validation score: {:.4f} +/- {:.4f}'.format(cvscore.mean(), 2 * cvscore.std()))\n",
    "print('accuracy on test data:  {:.4f}'.format(accuracy_score(y_test, y_pred)))\n",
    "print('confusion matrix:\\n', confusion_matrix(y_test, y_pred))"
   ]
  },
  {
   "cell_type": "code",
   "execution_count": 11,
   "metadata": {},
   "outputs": [
    {
     "data": {
      "image/png": "[encoded data removed]",
      "text/plain": [
       "<Figure size 1152x288 with 1 Axes>"
      ]
     },
     "metadata": {},
     "output_type": "display_data"
    }
   ],
   "source": [
    "feature_importances = pd.Series(model.feature_importances_, index=feature_cols)\n",
    "# std = np.std([tree.feature_importances_ for tree in model.estimators_],axis=0)\n",
    "plt.figure(figsize=(16, 4))\n",
    "feature_importances.sort_values()[:-40:-1].plot(kind='bar')\n",
    "plt.title(\"Top 40 feature importances\", size=20)\n",
    "plt.xticks(rotation=45, ha='right', fontsize=14)\n",
    "plt.yticks(fontsize=14)\n",
    "plt.show()"
   ]
  },
  {
   "cell_type": "code",
   "execution_count": 12,
   "metadata": {},
   "outputs": [
    {
     "data": {
      "image/png": "[encoded data removed]",
      "text/plain": [
       "<Figure size 864x360 with 2 Axes>"
      ]
     },
     "metadata": {},
     "output_type": "display_data"
    }
   ],
   "source": [
    "y_prob = model.predict_proba(X_test)[:, 1]\n",
    "bins = np.linspace(0, 1, 21)\n",
    "xticks = np.linspace(0, 1, 11)\n",
    "\n",
    "plt.figure(figsize=(12, 5))\n",
    "plt.suptitle(\"Label vs predicted probabilities\", fontsize=20)\n",
    "plt.subplot(2, 1, 1)\n",
    "plt.plot(y_prob, y_test, 'o', markersize=5, markerfacecolor='none', markeredgecolor='b', alpha=0.2)\n",
    "plt.xlim(0, 1)\n",
    "plt.ylim(-0.5, 1.5)\n",
    "plt.tick_params(labelsize=14)\n",
    "plt.xticks(xticks)\n",
    "plt.yticks([0, 1], [\"Not \" + genre, genre])\n",
    "plt.grid()\n",
    "# plt.show()\n",
    "\n",
    "# plt.figure(figsize=(12, 3))\n",
    "plt.subplot(2, 1, 2)\n",
    "plt.hist(y_prob[y_test == 1], bins=bins, alpha=0.5, edgecolor='k')\n",
    "plt.hist(y_prob[y_test == 0], bins=bins, alpha=0.5, edgecolor='k')\n",
    "plt.xlim(0, 1)\n",
    "plt.tick_params(labelsize=14)\n",
    "plt.xlabel(\"Probability of genre \" + genre, fontsize=14)\n",
    "plt.xticks(xticks)\n",
    "plt.grid()\n",
    "plt.gca().set_axisbelow(True)\n",
    "plt.show()"
   ]
  },
  {
   "cell_type": "markdown",
   "metadata": {},
   "source": [
    "# Neural network grid search"
   ]
  },
  {
   "cell_type": "code",
   "execution_count": 52,
   "metadata": {},
   "outputs": [
    {
     "name": "stdout",
     "output_type": "stream",
     "text": [
      "black\n"
     ]
    },
    {
     "name": "stderr",
     "output_type": "stream",
     "text": [
      "/home/philippe/anaconda3/lib/python3.7/site-packages/sklearn/model_selection/_search.py:814: DeprecationWarning: The default of the `iid` parameter will change from True to False in version 0.22 and will be removed in 0.24. This will change numeric results when test-set sizes are unequal.\n",
      "  DeprecationWarning)\n"
     ]
    },
    {
     "name": "stdout",
     "output_type": "stream",
     "text": [
      "death\n"
     ]
    },
    {
     "name": "stderr",
     "output_type": "stream",
     "text": [
      "/home/philippe/anaconda3/lib/python3.7/site-packages/joblib/externals/loky/process_executor.py:706: UserWarning: A worker stopped while some jobs were given to the executor. This can be caused by a too short worker timeout or by a memory leak.\n",
      "  \"timeout or by a memory leak.\", UserWarning\n",
      "/home/philippe/anaconda3/lib/python3.7/site-packages/joblib/externals/loky/process_executor.py:706: UserWarning: A worker stopped while some jobs were given to the executor. This can be caused by a too short worker timeout or by a memory leak.\n",
      "  \"timeout or by a memory leak.\", UserWarning\n",
      "/home/philippe/anaconda3/lib/python3.7/site-packages/joblib/externals/loky/process_executor.py:706: UserWarning: A worker stopped while some jobs were given to the executor. This can be caused by a too short worker timeout or by a memory leak.\n",
      "  \"timeout or by a memory leak.\", UserWarning\n",
      "/home/philippe/anaconda3/lib/python3.7/site-packages/joblib/externals/loky/process_executor.py:706: UserWarning: A worker stopped while some jobs were given to the executor. This can be caused by a too short worker timeout or by a memory leak.\n",
      "  \"timeout or by a memory leak.\", UserWarning\n",
      "/home/philippe/anaconda3/lib/python3.7/site-packages/sklearn/model_selection/_search.py:814: DeprecationWarning: The default of the `iid` parameter will change from True to False in version 0.22 and will be removed in 0.24. This will change numeric results when test-set sizes are unequal.\n",
      "  DeprecationWarning)\n"
     ]
    },
    {
     "name": "stdout",
     "output_type": "stream",
     "text": [
      "doom\n"
     ]
    },
    {
     "name": "stderr",
     "output_type": "stream",
     "text": [
      "/home/philippe/anaconda3/lib/python3.7/site-packages/joblib/externals/loky/process_executor.py:706: UserWarning: A worker stopped while some jobs were given to the executor. This can be caused by a too short worker timeout or by a memory leak.\n",
      "  \"timeout or by a memory leak.\", UserWarning\n",
      "/home/philippe/anaconda3/lib/python3.7/site-packages/joblib/externals/loky/process_executor.py:706: UserWarning: A worker stopped while some jobs were given to the executor. This can be caused by a too short worker timeout or by a memory leak.\n",
      "  \"timeout or by a memory leak.\", UserWarning\n",
      "/home/philippe/anaconda3/lib/python3.7/site-packages/joblib/externals/loky/process_executor.py:706: UserWarning: A worker stopped while some jobs were given to the executor. This can be caused by a too short worker timeout or by a memory leak.\n",
      "  \"timeout or by a memory leak.\", UserWarning\n",
      "/home/philippe/anaconda3/lib/python3.7/site-packages/sklearn/model_selection/_search.py:814: DeprecationWarning: The default of the `iid` parameter will change from True to False in version 0.22 and will be removed in 0.24. This will change numeric results when test-set sizes are unequal.\n",
      "  DeprecationWarning)\n"
     ]
    },
    {
     "name": "stdout",
     "output_type": "stream",
     "text": [
      "folk\n"
     ]
    },
    {
     "name": "stderr",
     "output_type": "stream",
     "text": [
      "/home/philippe/anaconda3/lib/python3.7/site-packages/joblib/externals/loky/process_executor.py:706: UserWarning: A worker stopped while some jobs were given to the executor. This can be caused by a too short worker timeout or by a memory leak.\n",
      "  \"timeout or by a memory leak.\", UserWarning\n",
      "/home/philippe/anaconda3/lib/python3.7/site-packages/joblib/externals/loky/process_executor.py:706: UserWarning: A worker stopped while some jobs were given to the executor. This can be caused by a too short worker timeout or by a memory leak.\n",
      "  \"timeout or by a memory leak.\", UserWarning\n"
     ]
    },
    {
     "name": "stdout",
     "output_type": "stream",
     "text": [
      "heavy\n"
     ]
    },
    {
     "name": "stderr",
     "output_type": "stream",
     "text": [
      "/home/philippe/anaconda3/lib/python3.7/site-packages/joblib/externals/loky/process_executor.py:706: UserWarning: A worker stopped while some jobs were given to the executor. This can be caused by a too short worker timeout or by a memory leak.\n",
      "  \"timeout or by a memory leak.\", UserWarning\n",
      "/home/philippe/anaconda3/lib/python3.7/site-packages/joblib/externals/loky/process_executor.py:706: UserWarning: A worker stopped while some jobs were given to the executor. This can be caused by a too short worker timeout or by a memory leak.\n",
      "  \"timeout or by a memory leak.\", UserWarning\n"
     ]
    },
    {
     "name": "stdout",
     "output_type": "stream",
     "text": [
      "power\n"
     ]
    },
    {
     "name": "stderr",
     "output_type": "stream",
     "text": [
      "/home/philippe/anaconda3/lib/python3.7/site-packages/joblib/externals/loky/process_executor.py:706: UserWarning: A worker stopped while some jobs were given to the executor. This can be caused by a too short worker timeout or by a memory leak.\n",
      "  \"timeout or by a memory leak.\", UserWarning\n"
     ]
    },
    {
     "name": "stdout",
     "output_type": "stream",
     "text": [
      "progressive\n"
     ]
    },
    {
     "name": "stderr",
     "output_type": "stream",
     "text": [
      "/home/philippe/anaconda3/lib/python3.7/site-packages/joblib/externals/loky/process_executor.py:706: UserWarning: A worker stopped while some jobs were given to the executor. This can be caused by a too short worker timeout or by a memory leak.\n",
      "  \"timeout or by a memory leak.\", UserWarning\n",
      "/home/philippe/anaconda3/lib/python3.7/site-packages/joblib/externals/loky/process_executor.py:706: UserWarning: A worker stopped while some jobs were given to the executor. This can be caused by a too short worker timeout or by a memory leak.\n",
      "  \"timeout or by a memory leak.\", UserWarning\n",
      "/home/philippe/anaconda3/lib/python3.7/site-packages/sklearn/model_selection/_search.py:814: DeprecationWarning: The default of the `iid` parameter will change from True to False in version 0.22 and will be removed in 0.24. This will change numeric results when test-set sizes are unequal.\n",
      "  DeprecationWarning)\n"
     ]
    },
    {
     "name": "stdout",
     "output_type": "stream",
     "text": [
      "thrash\n"
     ]
    },
    {
     "name": "stderr",
     "output_type": "stream",
     "text": [
      "/home/philippe/anaconda3/lib/python3.7/site-packages/joblib/externals/loky/process_executor.py:706: UserWarning: A worker stopped while some jobs were given to the executor. This can be caused by a too short worker timeout or by a memory leak.\n",
      "  \"timeout or by a memory leak.\", UserWarning\n",
      "/home/philippe/anaconda3/lib/python3.7/site-packages/joblib/externals/loky/process_executor.py:706: UserWarning: A worker stopped while some jobs were given to the executor. This can be caused by a too short worker timeout or by a memory leak.\n",
      "  \"timeout or by a memory leak.\", UserWarning\n",
      "/home/philippe/anaconda3/lib/python3.7/site-packages/joblib/externals/loky/process_executor.py:706: UserWarning: A worker stopped while some jobs were given to the executor. This can be caused by a too short worker timeout or by a memory leak.\n",
      "  \"timeout or by a memory leak.\", UserWarning\n",
      "/home/philippe/anaconda3/lib/python3.7/site-packages/joblib/externals/loky/process_executor.py:706: UserWarning: A worker stopped while some jobs were given to the executor. This can be caused by a too short worker timeout or by a memory leak.\n",
      "  \"timeout or by a memory leak.\", UserWarning\n"
     ]
    },
    {
     "name": "stdout",
     "output_type": "stream",
     "text": [
      "other\n"
     ]
    },
    {
     "name": "stderr",
     "output_type": "stream",
     "text": [
      "/home/philippe/anaconda3/lib/python3.7/site-packages/joblib/externals/loky/process_executor.py:706: UserWarning: A worker stopped while some jobs were given to the executor. This can be caused by a too short worker timeout or by a memory leak.\n",
      "  \"timeout or by a memory leak.\", UserWarning\n",
      "/home/philippe/anaconda3/lib/python3.7/site-packages/joblib/externals/loky/process_executor.py:706: UserWarning: A worker stopped while some jobs were given to the executor. This can be caused by a too short worker timeout or by a memory leak.\n",
      "  \"timeout or by a memory leak.\", UserWarning\n",
      "/home/philippe/anaconda3/lib/python3.7/site-packages/joblib/externals/loky/process_executor.py:706: UserWarning: A worker stopped while some jobs were given to the executor. This can be caused by a too short worker timeout or by a memory leak.\n",
      "  \"timeout or by a memory leak.\", UserWarning\n"
     ]
    }
   ],
   "source": [
    "grid_results = {}\n",
    "for label in label_cols:\n",
    "    genre = label.replace('genre_', '')\n",
    "    print(genre)\n",
    "    df_features = df_full[feature_cols_r]\n",
    "    df_norm = pd.concat((df_features.div(df_features.sum(axis=1), axis=0), df_full[label_cols]), axis=1)\n",
    "    X, y = df_norm[feature_cols_r].values, df_norm[label].values\n",
    "    X_train, X_test, y_train, y_test = train_test_split(X, y, test_size=0.2, random_state=0)\n",
    "    X_train, y_train = RandomOverSampler(random_state=0).fit_resample(X_train, y_train)\n",
    "    model = KerasClassifier(keras_model, epochs=32, verbose=False)\n",
    "    param_grid = dict(batch_size=[2, 4, 8, 16, 32])\n",
    "    grid = GridSearchCV(estimator=model, param_grid=param_grid, cv=5, n_jobs=-1)\n",
    "    grid_results[label] = grid.fit(X_train, y_train)"
   ]
  },
  {
   "cell_type": "code",
   "execution_count": 57,
   "metadata": {},
   "outputs": [
    {
     "name": "stdout",
     "output_type": "stream",
     "text": [
      "genre_black {'batch_size': 2} 0.8790\n",
      "genre_death {'batch_size': 2} 0.7718\n",
      "genre_doom {'batch_size': 2} 0.9771\n",
      "genre_folk {'batch_size': 4} 0.9763\n",
      "genre_heavy {'batch_size': 2} 0.9260\n",
      "genre_power {'batch_size': 2} 0.9323\n",
      "genre_progressive {'batch_size': 2} 0.9411\n",
      "genre_thrash {'batch_size': 2} 0.8853\n",
      "genre_other {'batch_size': 2} 0.9852\n"
     ]
    }
   ],
   "source": [
    "for label in label_cols:\n",
    "    print(label, grid_results[label].best_params_, \"{:.4f}\".format(grid_results[label].best_score_))"
   ]
  },
  {
   "cell_type": "code",
   "execution_count": 68,
   "metadata": {},
   "outputs": [
    {
     "name": "stdout",
     "output_type": "stream",
     "text": [
      "black\n"
     ]
    },
    {
     "name": "stderr",
     "output_type": "stream",
     "text": [
      "/home/philippe/anaconda3/lib/python3.7/site-packages/joblib/externals/loky/process_executor.py:706: UserWarning: A worker stopped while some jobs were given to the executor. This can be caused by a too short worker timeout or by a memory leak.\n",
      "  \"timeout or by a memory leak.\", UserWarning\n",
      "/home/philippe/anaconda3/lib/python3.7/site-packages/joblib/externals/loky/process_executor.py:706: UserWarning: A worker stopped while some jobs were given to the executor. This can be caused by a too short worker timeout or by a memory leak.\n",
      "  \"timeout or by a memory leak.\", UserWarning\n",
      "/home/philippe/anaconda3/lib/python3.7/site-packages/joblib/externals/loky/process_executor.py:706: UserWarning: A worker stopped while some jobs were given to the executor. This can be caused by a too short worker timeout or by a memory leak.\n",
      "  \"timeout or by a memory leak.\", UserWarning\n",
      "/home/philippe/anaconda3/lib/python3.7/site-packages/joblib/externals/loky/process_executor.py:706: UserWarning: A worker stopped while some jobs were given to the executor. This can be caused by a too short worker timeout or by a memory leak.\n",
      "  \"timeout or by a memory leak.\", UserWarning\n",
      "/home/philippe/anaconda3/lib/python3.7/site-packages/joblib/externals/loky/process_executor.py:706: UserWarning: A worker stopped while some jobs were given to the executor. This can be caused by a too short worker timeout or by a memory leak.\n",
      "  \"timeout or by a memory leak.\", UserWarning\n",
      "/home/philippe/anaconda3/lib/python3.7/site-packages/joblib/externals/loky/process_executor.py:706: UserWarning: A worker stopped while some jobs were given to the executor. This can be caused by a too short worker timeout or by a memory leak.\n",
      "  \"timeout or by a memory leak.\", UserWarning\n",
      "/home/philippe/anaconda3/lib/python3.7/site-packages/joblib/externals/loky/process_executor.py:706: UserWarning: A worker stopped while some jobs were given to the executor. This can be caused by a too short worker timeout or by a memory leak.\n",
      "  \"timeout or by a memory leak.\", UserWarning\n",
      "/home/philippe/anaconda3/lib/python3.7/site-packages/joblib/externals/loky/process_executor.py:706: UserWarning: A worker stopped while some jobs were given to the executor. This can be caused by a too short worker timeout or by a memory leak.\n",
      "  \"timeout or by a memory leak.\", UserWarning\n",
      "/home/philippe/anaconda3/lib/python3.7/site-packages/joblib/externals/loky/process_executor.py:706: UserWarning: A worker stopped while some jobs were given to the executor. This can be caused by a too short worker timeout or by a memory leak.\n",
      "  \"timeout or by a memory leak.\", UserWarning\n",
      "/home/philippe/anaconda3/lib/python3.7/site-packages/joblib/externals/loky/process_executor.py:706: UserWarning: A worker stopped while some jobs were given to the executor. This can be caused by a too short worker timeout or by a memory leak.\n",
      "  \"timeout or by a memory leak.\", UserWarning\n",
      "/home/philippe/anaconda3/lib/python3.7/site-packages/joblib/externals/loky/process_executor.py:706: UserWarning: A worker stopped while some jobs were given to the executor. This can be caused by a too short worker timeout or by a memory leak.\n",
      "  \"timeout or by a memory leak.\", UserWarning\n",
      "/home/philippe/anaconda3/lib/python3.7/site-packages/joblib/externals/loky/process_executor.py:706: UserWarning: A worker stopped while some jobs were given to the executor. This can be caused by a too short worker timeout or by a memory leak.\n",
      "  \"timeout or by a memory leak.\", UserWarning\n",
      "/home/philippe/anaconda3/lib/python3.7/site-packages/joblib/externals/loky/process_executor.py:706: UserWarning: A worker stopped while some jobs were given to the executor. This can be caused by a too short worker timeout or by a memory leak.\n",
      "  \"timeout or by a memory leak.\", UserWarning\n",
      "WARNING: Logging before flag parsing goes to stderr.\n",
      "W0814 14:38:07.932821 139761537455488 deprecation_wrapper.py:119] From /home/philippe/anaconda3/lib/python3.7/site-packages/keras/backend/tensorflow_backend.py:74: The name tf.get_default_graph is deprecated. Please use tf.compat.v1.get_default_graph instead.\n",
      "\n",
      "W0814 14:38:07.936206 139761537455488 deprecation_wrapper.py:119] From /home/philippe/anaconda3/lib/python3.7/site-packages/keras/backend/tensorflow_backend.py:517: The name tf.placeholder is deprecated. Please use tf.compat.v1.placeholder instead.\n",
      "\n",
      "W0814 14:38:07.942398 139761537455488 deprecation_wrapper.py:119] From /home/philippe/anaconda3/lib/python3.7/site-packages/keras/backend/tensorflow_backend.py:4138: The name tf.random_uniform is deprecated. Please use tf.random.uniform instead.\n",
      "\n",
      "W0814 14:38:07.996486 139761537455488 deprecation_wrapper.py:119] From /home/philippe/anaconda3/lib/python3.7/site-packages/keras/optimizers.py:790: The name tf.train.Optimizer is deprecated. Please use tf.compat.v1.train.Optimizer instead.\n",
      "\n",
      "W0814 14:38:08.017988 139761537455488 deprecation_wrapper.py:119] From /home/philippe/anaconda3/lib/python3.7/site-packages/keras/backend/tensorflow_backend.py:3376: The name tf.log is deprecated. Please use tf.math.log instead.\n",
      "\n",
      "W0814 14:38:08.024564 139761537455488 deprecation.py:323] From /home/philippe/anaconda3/lib/python3.7/site-packages/tensorflow/python/ops/nn_impl.py:180: add_dispatch_support.<locals>.wrapper (from tensorflow.python.ops.array_ops) is deprecated and will be removed in a future version.\n",
      "Instructions for updating:\n",
      "Use tf.where in 2.0, which has the same broadcast rule as np.where\n",
      "W0814 14:38:08.179504 139761537455488 deprecation_wrapper.py:119] From /home/philippe/anaconda3/lib/python3.7/site-packages/keras/backend/tensorflow_backend.py:986: The name tf.assign_add is deprecated. Please use tf.compat.v1.assign_add instead.\n",
      "\n"
     ]
    },
    {
     "name": "stdout",
     "output_type": "stream",
     "text": [
      "Best params:  {'batch_size': 8, 'epochs': 64}\n",
      "Best score: 0.8677\n"
     ]
    }
   ],
   "source": [
    "label = 'genre_black'\n",
    "genre = label.replace('genre_', '')\n",
    "print(genre)\n",
    "df_features = df_full[feature_cols_r]\n",
    "df_norm = pd.concat((df_features.div(df_features.sum(axis=1), axis=0), df_full[label_cols]), axis=1)\n",
    "X, y = df_norm[feature_cols_r].values, df_norm[label].values\n",
    "X_train, X_test, y_train, y_test = train_test_split(X, y, test_size=0.2, random_state=0)\n",
    "# X_train, y_train = RandomOverSampler(random_state=0).fit_resample(X_train, y_train)\n",
    "model = KerasClassifier(keras_model, input_dim=X.shape[1], n_nodes=n_nodes, verbose=False)\n",
    "param_grid = dict(batch_size=[2, 4, 8, 16, 32], epochs=[16, 32, 64])\n",
    "grid = GridSearchCV(estimator=model, param_grid=param_grid, cv=5, n_jobs=-1)\n",
    "grid.fit(X_train, y_train)\n",
    "print(\"Best params: \", grid.best_params_)\n",
    "print(\"Best score: {:.4f}\".format(grid.best_score_))"
   ]
  },
  {
   "cell_type": "code",
   "execution_count": 70,
   "metadata": {},
   "outputs": [
    {
     "name": "stdout",
     "output_type": "stream",
     "text": [
      "folk\n"
     ]
    },
    {
     "name": "stderr",
     "output_type": "stream",
     "text": [
      "/home/philippe/anaconda3/lib/python3.7/site-packages/joblib/externals/loky/process_executor.py:706: UserWarning: A worker stopped while some jobs were given to the executor. This can be caused by a too short worker timeout or by a memory leak.\n",
      "  \"timeout or by a memory leak.\", UserWarning\n",
      "/home/philippe/anaconda3/lib/python3.7/site-packages/joblib/externals/loky/process_executor.py:706: UserWarning: A worker stopped while some jobs were given to the executor. This can be caused by a too short worker timeout or by a memory leak.\n",
      "  \"timeout or by a memory leak.\", UserWarning\n",
      "/home/philippe/anaconda3/lib/python3.7/site-packages/joblib/externals/loky/process_executor.py:706: UserWarning: A worker stopped while some jobs were given to the executor. This can be caused by a too short worker timeout or by a memory leak.\n",
      "  \"timeout or by a memory leak.\", UserWarning\n",
      "/home/philippe/anaconda3/lib/python3.7/site-packages/joblib/externals/loky/process_executor.py:706: UserWarning: A worker stopped while some jobs were given to the executor. This can be caused by a too short worker timeout or by a memory leak.\n",
      "  \"timeout or by a memory leak.\", UserWarning\n"
     ]
    },
    {
     "name": "stdout",
     "output_type": "stream",
     "text": [
      "Best params:  {'batch_size': 4, 'epochs': 64}\n",
      "Best score: 0.9502\n"
     ]
    }
   ],
   "source": [
    "label = 'genre_folk'\n",
    "genre = label.replace('genre_', '')\n",
    "print(genre)\n",
    "df_features = df_full[feature_cols_r]\n",
    "df_norm = pd.concat((df_features.div(df_features.sum(axis=1), axis=0), df_full[label_cols]), axis=1)\n",
    "X, y = df_norm[feature_cols_r].values, df_norm[label].values\n",
    "X_train, X_test, y_train, y_test = train_test_split(X, y, test_size=0.2, random_state=0)\n",
    "# X_train, y_train = RandomOverSampler(random_state=0).fit_resample(X_train, y_train)\n",
    "model = KerasClassifier(keras_model, input_dim=X.shape[1], n_nodes=n_nodes, verbose=False)\n",
    "param_grid = dict(batch_size=[2, 4, 8, 16, 32], epochs=[64])\n",
    "grid = GridSearchCV(estimator=model, param_grid=param_grid, cv=5, n_jobs=-1)\n",
    "grid.fit(X_train, y_train)\n",
    "print(\"Best params: \", grid.best_params_)\n",
    "print(\"Best score: {:.4f}\".format(grid.best_score_))"
   ]
  }
 ],
 "metadata": {
  "kernelspec": {
   "display_name": "Python 3",
   "language": "python",
   "name": "python3"
  },
  "language_info": {
   "codemirror_mode": {
    "name": "ipython",
    "version": 3
   },
   "file_extension": ".py",
   "mimetype": "text/x-python",
   "name": "python",
   "nbconvert_exporter": "python",
   "pygments_lexer": "ipython3",
   "version": "3.7.3"
  }
 },
 "nbformat": 4,
 "nbformat_minor": 4
}

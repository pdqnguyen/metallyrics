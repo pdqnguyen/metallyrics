{
 "cells": [
  {
   "cell_type": "code",
   "execution_count": 1,
   "metadata": {},
   "outputs": [
    {
     "name": "stderr",
     "output_type": "stream",
     "text": [
      "Using TensorFlow backend.\n"
     ]
    }
   ],
   "source": [
    "import os\n",
    "import re\n",
    "import numpy as np\n",
    "import pandas as pd\n",
    "import pickle as pkl\n",
    "from metallum import Band, Album, Song\n",
    "\n",
    "import nltk\n",
    "from nltk.corpus import stopwords\n",
    "languages = ['english', 'german', 'french', 'finnish', 'swedish', 'norwegian', 'danish', 'russian']\n",
    "stop_words = set()\n",
    "for language in languages:\n",
    "    stop_words.update(set(stopwords.words(language)))\n",
    "english_vocab = set(w.lower() for w in nltk.corpus.words.words())\n",
    "\n",
    "import matplotlib\n",
    "matplotlib.rcParams['figure.facecolor'] = 'white'\n",
    "import matplotlib.pyplot as plt\n",
    "%matplotlib inline\n",
    "\n",
    "from sklearn.feature_extraction.text import CountVectorizer, TfidfVectorizer, HashingVectorizer\n",
    "from sklearn.preprocessing import LabelEncoder\n",
    "from sklearn.model_selection import train_test_split, cross_val_score, StratifiedKFold\n",
    "from sklearn.metrics import accuracy_score, balanced_accuracy_score, log_loss, confusion_matrix\n",
    "from sklearn.pipeline import make_pipeline\n",
    "\n",
    "from keras.preprocessing.text import Tokenizer\n",
    "from keras.preprocessing.sequence import pad_sequences\n",
    "from keras.models import Sequential\n",
    "from keras import layers\n",
    "from keras.wrappers.scikit_learn import KerasClassifier\n",
    "from keras.callbacks import EarlyStopping\n",
    "\n",
    "from imblearn.over_sampling import RandomOverSampler, SMOTE"
   ]
  },
  {
   "cell_type": "markdown",
   "metadata": {},
   "source": [
    "# Preprocessing\n",
    "## Combine song lyrics with genres"
   ]
  },
  {
   "cell_type": "code",
   "execution_count": 2,
   "metadata": {},
   "outputs": [],
   "source": [
    "LYRICS_DIR = 'lyrics/'\n",
    "BANDS_DIR = 'bands/'"
   ]
  },
  {
   "cell_type": "code",
   "execution_count": 3,
   "metadata": {},
   "outputs": [],
   "source": [
    "band_filenames = [f for f in os.listdir(BANDS_DIR) if '.pkl' in f]\n",
    "bands = [pkl.load(open(os.path.join(BANDS_DIR, f), 'rb')) for f in band_filenames]\n",
    "band_genres = {b.name.lower(): b.genres for b in bands}"
   ]
  },
  {
   "cell_type": "code",
   "execution_count": 4,
   "metadata": {},
   "outputs": [
    {
     "name": "stdout",
     "output_type": "stream",
     "text": [
      "vocabulary size: 170516\n"
     ]
    }
   ],
   "source": [
    "lyrics_filenames = [f for f in os.listdir(LYRICS_DIR) if '.pkl' in f]\n",
    "lyrics = {filename.replace('.pkl', ''): pkl.load(open(os.path.join(LYRICS_DIR, filename), 'rb')) for filename in lyrics_filenames}\n",
    "corpus = []\n",
    "band_names = []\n",
    "song_names = []\n",
    "vocabulary = set()\n",
    "genres = []\n",
    "for band, band_lyrics in lyrics.items():\n",
    "    if band in band_genres.keys():\n",
    "        for album, album_lyrics in band_lyrics.items():\n",
    "            for song, song_lyrics in album_lyrics.items():\n",
    "                words = []\n",
    "                for line in song_lyrics:\n",
    "                    for w in line.split():\n",
    "                        s = re.search(\"(\\w+)|(\\w+([-'])(\\w+)?[']?(\\w+))\", w.lower())\n",
    "                        if s:\n",
    "                            w = s.group()\n",
    "                            if w not in stop_words:\n",
    "                                words.append(w)\n",
    "                song_name = []\n",
    "                for w in song.split():\n",
    "                    s = re.search(\"(\\w+)|(\\w+([-'])(\\w+)?[']?(\\w+))\", re.sub('\\d+\\.', '', w).lower())\n",
    "                    if s:\n",
    "                        song_name.append(s.group())\n",
    "                song_name = ' '.join(song_name)\n",
    "                document = ' '.join(words)\n",
    "                if len(document) > 0:\n",
    "                    corpus.append(document)\n",
    "                    band_names.append(band)\n",
    "                    song_names.append(song_name)\n",
    "                    vocabulary.update(set(words))\n",
    "                    genres.append(band_genres[band])\n",
    "print(\"vocabulary size: {}\".format(len(vocabulary)))"
   ]
  },
  {
   "cell_type": "markdown",
   "metadata": {},
   "source": [
    "### Full lyrics + genres dataframe"
   ]
  },
  {
   "cell_type": "code",
   "execution_count": 5,
   "metadata": {},
   "outputs": [
    {
     "name": "stdout",
     "output_type": "stream",
     "text": [
      "(42460, 4)\n"
     ]
    },
    {
     "data": {
      "text/html": [
       "<div>\n",
       "<style scoped>\n",
       "    .dataframe tbody tr th:only-of-type {\n",
       "        vertical-align: middle;\n",
       "    }\n",
       "\n",
       "    .dataframe tbody tr th {\n",
       "        vertical-align: top;\n",
       "    }\n",
       "\n",
       "    .dataframe thead th {\n",
       "        text-align: right;\n",
       "    }\n",
       "</style>\n",
       "<table border=\"1\" class=\"dataframe\">\n",
       "  <thead>\n",
       "    <tr style=\"text-align: right;\">\n",
       "      <th></th>\n",
       "      <th>band</th>\n",
       "      <th>song</th>\n",
       "      <th>lyrics</th>\n",
       "      <th>genres</th>\n",
       "    </tr>\n",
       "  </thead>\n",
       "  <tbody>\n",
       "    <tr>\n",
       "      <th>0</th>\n",
       "      <td>defiance</td>\n",
       "      <td>the fault</td>\n",
       "      <td>danger lingers air tonight feel right somethin...</td>\n",
       "      <td>[thrash]</td>\n",
       "    </tr>\n",
       "    <tr>\n",
       "      <th>1</th>\n",
       "      <td>defiance</td>\n",
       "      <td>death machine</td>\n",
       "      <td>take look future see time exist seem find real...</td>\n",
       "      <td>[thrash]</td>\n",
       "    </tr>\n",
       "    <tr>\n",
       "      <th>2</th>\n",
       "      <td>defiance</td>\n",
       "      <td>product of society</td>\n",
       "      <td>lost mind looking something fill empty space g...</td>\n",
       "      <td>[thrash]</td>\n",
       "    </tr>\n",
       "    <tr>\n",
       "      <th>3</th>\n",
       "      <td>defiance</td>\n",
       "      <td>forgotten</td>\n",
       "      <td>forgotten fought shit went hell lived pain lea...</td>\n",
       "      <td>[thrash]</td>\n",
       "    </tr>\n",
       "    <tr>\n",
       "      <th>4</th>\n",
       "      <td>defiance</td>\n",
       "      <td>lock jaw</td>\n",
       "      <td>ever felt puncture thru skin piece metal rusty...</td>\n",
       "      <td>[thrash]</td>\n",
       "    </tr>\n",
       "  </tbody>\n",
       "</table>\n",
       "</div>"
      ],
      "text/plain": [
       "       band                song  \\\n",
       "0  defiance           the fault   \n",
       "1  defiance       death machine   \n",
       "2  defiance  product of society   \n",
       "3  defiance           forgotten   \n",
       "4  defiance            lock jaw   \n",
       "\n",
       "                                              lyrics    genres  \n",
       "0  danger lingers air tonight feel right somethin...  [thrash]  \n",
       "1  take look future see time exist seem find real...  [thrash]  \n",
       "2  lost mind looking something fill empty space g...  [thrash]  \n",
       "3  forgotten fought shit went hell lived pain lea...  [thrash]  \n",
       "4  ever felt puncture thru skin piece metal rusty...  [thrash]  "
      ]
     },
     "execution_count": 5,
     "metadata": {},
     "output_type": "execute_result"
    }
   ],
   "source": [
    "df_rows = [\n",
    "    {'band': band_names[i], 'song': song_names[i], 'lyrics': corpus[i], 'genres': genres[i]} for i in range(len(corpus))\n",
    "]\n",
    "df = pd.DataFrame(df_rows, columns=['band', 'song', 'lyrics', 'genres'])\n",
    "df = df.drop_duplicates(subset=['band', 'song'])\n",
    "print(df.shape)\n",
    "df.head()"
   ]
  },
  {
   "cell_type": "markdown",
   "metadata": {},
   "source": [
    "### Statistics of song word counts"
   ]
  },
  {
   "cell_type": "code",
   "execution_count": 6,
   "metadata": {},
   "outputs": [
    {
     "name": "stdout",
     "output_type": "stream",
     "text": [
      "84 44 1 966\n"
     ]
    }
   ],
   "source": [
    "song_lengths = df['lyrics'].apply(lambda x: len(x.split()))\n",
    "print(round(song_lengths.mean()), round(song_lengths.std()), song_lengths.min(), song_lengths.max())"
   ]
  },
  {
   "cell_type": "code",
   "execution_count": 7,
   "metadata": {},
   "outputs": [
    {
     "data": {
      "image/png": "[encoded data removed]",
      "text/plain": [
       "<Figure size 432x288 with 1 Axes>"
      ]
     },
     "metadata": {
      "needs_background": "light"
     },
     "output_type": "display_data"
    }
   ],
   "source": [
    "plt.fill_between(range(1, df.shape[0] + 1), 0, song_lengths.sort_values()[::-1].reset_index(drop=True))\n",
    "plt.title(\"song lengths\")\n",
    "plt.xlabel('song ranking by length')\n",
    "plt.ylabel('word count')\n",
    "plt.xscale('log')\n",
    "plt.grid(axis='both')\n",
    "plt.show()"
   ]
  },
  {
   "cell_type": "code",
   "execution_count": 8,
   "metadata": {},
   "outputs": [
    {
     "data": {
      "image/png": "[encoded data removed]",
      "text/plain": [
       "<Figure size 432x288 with 1 Axes>"
      ]
     },
     "metadata": {
      "needs_background": "light"
     },
     "output_type": "display_data"
    }
   ],
   "source": [
    "song_lengths.hist(bins=100)\n",
    "plt.title(\"song lengths\")\n",
    "plt.xlabel('word count')\n",
    "plt.ylabel('songs')\n",
    "plt.show()"
   ]
  },
  {
   "cell_type": "markdown",
   "metadata": {},
   "source": [
    "### Genres dataframe"
   ]
  },
  {
   "cell_type": "code",
   "execution_count": 23,
   "metadata": {},
   "outputs": [
    {
     "name": "stdout",
     "output_type": "stream",
     "text": [
      "ambient black 9 13\n",
      "atmospheric black 8 11\n",
      "brutal death 26 27\n",
      "depressive black 6 7\n",
      "experimental black 9 14\n",
      "grindcore death 12 17\n",
      "hard heavy 8 11\n",
      "nwobhm heavy 6 10\n",
      "pagan black 11 12\n",
      "speed thrash 19 36\n",
      "technical death 31 40\n",
      "viking black 12 16\n"
     ]
    },
    {
     "data": {
      "text/html": [
       "<div>\n",
       "<style scoped>\n",
       "    .dataframe tbody tr th:only-of-type {\n",
       "        vertical-align: middle;\n",
       "    }\n",
       "\n",
       "    .dataframe tbody tr th {\n",
       "        vertical-align: top;\n",
       "    }\n",
       "\n",
       "    .dataframe thead th {\n",
       "        text-align: right;\n",
       "    }\n",
       "</style>\n",
       "<table border=\"1\" class=\"dataframe\">\n",
       "  <thead>\n",
       "    <tr style=\"text-align: right;\">\n",
       "      <th></th>\n",
       "      <th>black</th>\n",
       "      <th>death</th>\n",
       "      <th>heavy</th>\n",
       "      <th>melodic</th>\n",
       "      <th>power</th>\n",
       "      <th>progressive</th>\n",
       "      <th>thrash</th>\n",
       "      <th>other</th>\n",
       "    </tr>\n",
       "  </thead>\n",
       "  <tbody>\n",
       "    <tr>\n",
       "      <th>0</th>\n",
       "      <td>0</td>\n",
       "      <td>0</td>\n",
       "      <td>0</td>\n",
       "      <td>0</td>\n",
       "      <td>0</td>\n",
       "      <td>0</td>\n",
       "      <td>1</td>\n",
       "      <td>0</td>\n",
       "    </tr>\n",
       "    <tr>\n",
       "      <th>1</th>\n",
       "      <td>0</td>\n",
       "      <td>0</td>\n",
       "      <td>0</td>\n",
       "      <td>0</td>\n",
       "      <td>0</td>\n",
       "      <td>0</td>\n",
       "      <td>1</td>\n",
       "      <td>0</td>\n",
       "    </tr>\n",
       "    <tr>\n",
       "      <th>2</th>\n",
       "      <td>0</td>\n",
       "      <td>0</td>\n",
       "      <td>0</td>\n",
       "      <td>0</td>\n",
       "      <td>0</td>\n",
       "      <td>0</td>\n",
       "      <td>1</td>\n",
       "      <td>0</td>\n",
       "    </tr>\n",
       "    <tr>\n",
       "      <th>3</th>\n",
       "      <td>0</td>\n",
       "      <td>0</td>\n",
       "      <td>0</td>\n",
       "      <td>0</td>\n",
       "      <td>0</td>\n",
       "      <td>0</td>\n",
       "      <td>1</td>\n",
       "      <td>0</td>\n",
       "    </tr>\n",
       "    <tr>\n",
       "      <th>4</th>\n",
       "      <td>0</td>\n",
       "      <td>0</td>\n",
       "      <td>0</td>\n",
       "      <td>0</td>\n",
       "      <td>0</td>\n",
       "      <td>0</td>\n",
       "      <td>1</td>\n",
       "      <td>0</td>\n",
       "    </tr>\n",
       "  </tbody>\n",
       "</table>\n",
       "</div>"
      ],
      "text/plain": [
       "   black  death  heavy  melodic  power  progressive  thrash  other\n",
       "0      0      0      0        0      0            0       1      0\n",
       "1      0      0      0        0      0            0       1      0\n",
       "2      0      0      0        0      0            0       1      0\n",
       "3      0      0      0        0      0            0       1      0\n",
       "4      0      0      0        0      0            0       1      0"
      ]
     },
     "execution_count": 23,
     "metadata": {},
     "output_type": "execute_result"
    }
   ],
   "source": [
    "unique_genres = []\n",
    "for lst in df['genres'].tolist():\n",
    "    for x in lst:\n",
    "        if (x not in stop_words) and (not re.match('\\-.*', x)) and (x not in unique_genres):\n",
    "            unique_genres.append(x)\n",
    "unique_genres.sort()\n",
    "\n",
    "df_genres_full = pd.DataFrame(index=df.index, columns=unique_genres)\n",
    "for genre in unique_genres:\n",
    "    df_genres_full[genre] = df['genres'].apply(lambda x: 1 if genre in x else 0)\n",
    "df_genres_full['band'] = df['band'].copy()\n",
    "df_genres_bands = df_genres_full.groupby('band').max()\n",
    "df_genres_full.drop('band', axis=1, inplace=True)\n",
    "top_genres = df_genres_full.columns[df_genres_full.mean(axis=0) > 0.1]\n",
    "\n",
    "genre_associations = {}\n",
    "for genre in unique_genres:\n",
    "    if genre not in top_genres:\n",
    "        series = df_genres_bands[df_genres_bands[genre] == 1].sum(axis=0).sort_values(ascending=False)\n",
    "        nearest_top_genre = series[series.index.isin(top_genres)]\n",
    "        if nearest_top_genre.iloc[0] > 5 and nearest_top_genre.iloc[0] > 0.5 * series.iloc[0]:\n",
    "            print(genre, nearest_top_genre.index[0], nearest_top_genre.iloc[0], series.iloc[0])\n",
    "            genre_associations[genre] = nearest_top_genre.index[0]\n",
    "            col = df_genres_full[nearest_top_genre.index[0]].copy()\n",
    "            col[df_genres_full[genre] == 1] = 1\n",
    "            df_genres_full[nearest_top_genre.index[0]] = col\n",
    "\n",
    "top_genres = df_genres_full.columns[df_genres_full.mean(axis=0) > 0.1]\n",
    "df_genres = df_genres_full[top_genres].copy()\n",
    "df_genres['other'] = (df_genres.sum(axis=1) == 0).astype(int)\n",
    "# df_genres.head()"
   ]
  },
  {
   "cell_type": "code",
   "execution_count": 25,
   "metadata": {},
   "outputs": [
    {
     "data": {
      "text/plain": [
       "death          0.351578\n",
       "black          0.254451\n",
       "thrash         0.232407\n",
       "heavy          0.171244\n",
       "power          0.164225\n",
       "progressive    0.110551\n",
       "melodic        0.106877\n",
       "other          0.100141\n",
       "dtype: float64"
      ]
     },
     "execution_count": 25,
     "metadata": {},
     "output_type": "execute_result"
    }
   ],
   "source": [
    "df_genres.mean(axis=0).sort_values(ascending=False)"
   ]
  },
  {
   "cell_type": "markdown",
   "metadata": {},
   "source": [
    "## Tokenization & oversampling"
   ]
  },
  {
   "cell_type": "markdown",
   "metadata": {},
   "source": [
    "### Train-test split lyrics and single genre label"
   ]
  },
  {
   "cell_type": "code",
   "execution_count": 26,
   "metadata": {},
   "outputs": [],
   "source": [
    "corpus_train, corpus_test, y_train, y_test = train_test_split(df['lyrics'].values, df_genres['power'].values, test_size=0.2)"
   ]
  },
  {
   "cell_type": "markdown",
   "metadata": {},
   "source": [
    "### Transform corpuses with vectorizer fit to training corpus"
   ]
  },
  {
   "cell_type": "code",
   "execution_count": 27,
   "metadata": {},
   "outputs": [
    {
     "name": "stdout",
     "output_type": "stream",
     "text": [
      "(33968, 146416) (8492, 146416) (33968,) (8492,)\n"
     ]
    }
   ],
   "source": [
    "vectorizer = CountVectorizer()\n",
    "vectorizer.fit(corpus_train)\n",
    "X_train = vectorizer.transform(corpus_train)\n",
    "X_test = vectorizer.transform(corpus_test)\n",
    "print(X_train.shape, X_test.shape, y_train.shape, y_test.shape)"
   ]
  },
  {
   "cell_type": "markdown",
   "metadata": {},
   "source": [
    "### Feature reduction"
   ]
  },
  {
   "cell_type": "code",
   "execution_count": 28,
   "metadata": {},
   "outputs": [],
   "source": [
    "class FeatureReducer:\n",
    "    def __init__(self, thresh=0):\n",
    "        self.thresh = thresh\n",
    "\n",
    "    def fit(self, X):\n",
    "        self.features = np.arange(X.shape[1])\n",
    "        self.features_reduced = self.features[np.array(X.mean(axis=0) > self.thresh * X.mean()).flatten()]\n",
    "\n",
    "    def reduce(self, *args):\n",
    "        out = ()\n",
    "        for X in args:\n",
    "            out += (X[:, self.features_reduced],)\n",
    "        return out\n",
    "\n",
    "feature_reducer = FeatureReducer(0)"
   ]
  },
  {
   "cell_type": "markdown",
   "metadata": {},
   "source": [
    "### Oversample training data"
   ]
  },
  {
   "cell_type": "code",
   "execution_count": 29,
   "metadata": {},
   "outputs": [],
   "source": [
    "oversampler = RandomOverSampler(random_state=0)"
   ]
  },
  {
   "cell_type": "markdown",
   "metadata": {},
   "source": [
    "# Prototyping"
   ]
  },
  {
   "cell_type": "code",
   "execution_count": 30,
   "metadata": {},
   "outputs": [],
   "source": [
    "from sklearn.model_selection import StratifiedKFold"
   ]
  },
  {
   "cell_type": "markdown",
   "metadata": {},
   "source": [
    "## Random forest classifier"
   ]
  },
  {
   "cell_type": "code",
   "execution_count": 31,
   "metadata": {},
   "outputs": [],
   "source": [
    "from sklearn.ensemble import RandomForestClassifier"
   ]
  },
  {
   "cell_type": "code",
   "execution_count": 32,
   "metadata": {},
   "outputs": [
    {
     "name": "stdout",
     "output_type": "stream",
     "text": [
      "CV score: 70.61% +/- 0.76%\n",
      "Average confusion matrix:\n",
      "[[0.71499647 0.12096679]\n",
      " [0.07268606 0.09135068]]\n"
     ]
    }
   ],
   "source": [
    "rf_params = {'bootstrap': True, 'max_depth': 30, 'max_features': 'auto', 'min_samples_leaf': 1, 'min_samples_split': 2, 'n_estimators': 100}\n",
    "n_splits = 5\n",
    "kfold = StratifiedKFold(n_splits=n_splits, shuffle=True, random_state=0)\n",
    "scores = np.zeros(n_splits)\n",
    "confusion_matrices = np.zeros((n_splits, 2, 2))\n",
    "for i, (train_idx, valid_idx) in enumerate(kfold.split(X_train, y_train)):\n",
    "    X_fold_train, y_fold_train = X_train[train_idx], y_train[train_idx]\n",
    "    X_fold_valid, y_fold_valid = X_train[valid_idx], y_train[valid_idx]\n",
    "    feature_reducer.fit(X_fold_train)\n",
    "    X_fold_train, X_fold_valid = feature_reducer.reduce(X_fold_train, X_fold_valid)\n",
    "    X_fold_train, y_fold_train = oversampler.fit_resample(X_fold_train, y_fold_train)\n",
    "    model = RandomForestClassifier(n_jobs=-1, random_state=0, **rf_params)\n",
    "    model.fit(X_fold_train, y_fold_train)\n",
    "    y_fold_pred = model.predict(X_fold_valid)\n",
    "    scores[i] = balanced_accuracy_score(y_fold_valid, y_fold_pred)\n",
    "    confusion_matrices[i] = confusion_matrix(y_fold_valid, y_fold_pred)\n",
    "print(\"CV score: {:.2f}% +/- {:.2f}%\".format(scores.mean()* 100, scores.std() * 200))\n",
    "print(\"Average confusion matrix:\")\n",
    "print(confusion_matrices.mean(axis=0) / confusion_matrices.sum() * n_splits)"
   ]
  },
  {
   "cell_type": "code",
   "execution_count": 33,
   "metadata": {},
   "outputs": [],
   "source": [
    "# feature_reducer.fit(X_train)\n",
    "# X_train_reduced, X_test_reduced = feature_reducer.reduce(X_train, X_test)\n",
    "\n",
    "# rf_model = RandomForestClassifier(n_jobs=-1, random_state=0, **rf_params)\n",
    "# rf_model.fit(*oversampler.fit_resample(X_train_reduced, y_train))\n",
    "\n",
    "# y_pred = rf_model.predict(X_test_reduced)\n",
    "# y_prob = rf_model.predict_proba(X_test_reduced)[:, 1]\n",
    "# print(\"Score: {:.2f}%\".format(100 * balanced_accuracy_score(y_test, y_pred)))\n",
    "# print(confusion_matrix(y_test, y_pred))\n",
    "\n",
    "# plt.figure(figsize=(16, 4))\n",
    "# bins = np.linspace(0, 1, 21)\n",
    "# xticks = np.linspace(0, 1, 11)\n",
    "# plt.hist(y_prob[y_test == 1], bins=bins, edgecolor='k', alpha=0.5, label='y_true = 1')\n",
    "# plt.hist(y_prob[y_test == 0], bins=bins, edgecolor='k', alpha=0.5, label='y_true = 0')\n",
    "# plt.xlim(0, 1)\n",
    "# plt.xticks(xticks)\n",
    "# plt.grid(alpha=0.5)\n",
    "# plt.legend()\n",
    "# plt.show()"
   ]
  },
  {
   "cell_type": "markdown",
   "metadata": {},
   "source": [
    "## Logistic regression"
   ]
  },
  {
   "cell_type": "code",
   "execution_count": 34,
   "metadata": {},
   "outputs": [],
   "source": [
    "from sklearn.linear_model import LogisticRegression"
   ]
  },
  {
   "cell_type": "code",
   "execution_count": 35,
   "metadata": {},
   "outputs": [
    {
     "name": "stderr",
     "output_type": "stream",
     "text": [
      "/home/philippe/anaconda3/lib/python3.7/site-packages/sklearn/linear_model/logistic.py:432: FutureWarning: Default solver will be changed to 'lbfgs' in 0.22. Specify a solver to silence this warning.\n",
      "  FutureWarning)\n",
      "/home/philippe/anaconda3/lib/python3.7/site-packages/sklearn/svm/base.py:929: ConvergenceWarning: Liblinear failed to converge, increase the number of iterations.\n",
      "  \"the number of iterations.\", ConvergenceWarning)\n"
     ]
    },
    {
     "name": "stdout",
     "output_type": "stream",
     "text": [
      "CV score: 69.25% +/- 1.95%\n",
      "Average confusion matrix:\n",
      "[[0.72270961 0.11325365]\n",
      " [0.07866227 0.08537447]]\n"
     ]
    }
   ],
   "source": [
    "n_splits = 5\n",
    "kfold = StratifiedKFold(n_splits=n_splits, shuffle=True, random_state=0)\n",
    "scores = np.zeros(n_splits)\n",
    "confusion_matrices = np.zeros((n_splits, 2, 2))\n",
    "for i, (train_idx, valid_idx) in enumerate(kfold.split(X_train, y_train)):\n",
    "    X_fold_train, y_fold_train = X_train[train_idx], y_train[train_idx]\n",
    "    X_fold_valid, y_fold_valid = X_train[valid_idx], y_train[valid_idx]\n",
    "    feature_reducer.fit(X_fold_train)\n",
    "    X_fold_train, X_fold_valid = feature_reducer.reduce(X_fold_train, X_fold_valid)\n",
    "    X_fold_train, y_fold_train = oversampler.fit_resample(X_fold_train, y_fold_train)\n",
    "    model = LogisticRegression(random_state=0)\n",
    "    model.fit(X_fold_train, y_fold_train)\n",
    "    y_fold_pred = model.predict(X_fold_valid)\n",
    "    scores[i] = balanced_accuracy_score(y_fold_valid, y_fold_pred)\n",
    "    confusion_matrices[i] = confusion_matrix(y_fold_valid, y_fold_pred)\n",
    "print(\"CV score: {:.2f}% +/- {:.2f}%\".format(scores.mean()* 100, scores.std() * 200))\n",
    "print(\"Average confusion matrix:\")\n",
    "print(confusion_matrices.mean(axis=0) / confusion_matrices.sum() * n_splits)"
   ]
  },
  {
   "cell_type": "code",
   "execution_count": 36,
   "metadata": {},
   "outputs": [],
   "source": [
    "# feature_reducer.fit(X_train)\n",
    "# X_train_reduced, X_test_reduced = feature_reducer.reduce(X_train, X_test)\n",
    "\n",
    "# lr_model = LogisticRegression(random_state=0)\n",
    "# lr_model.fit(*oversampler.fit_resample(X_train_reduced, y_train))\n",
    "\n",
    "# y_pred = lr_model.predict(X_test_reduced)\n",
    "# y_prob = lr_model.predict_proba(X_test_reduced)[:, 1]\n",
    "# print(\"Score: {:.2f}%\".format(100 * balanced_accuracy_score(y_test, y_pred)))\n",
    "# print(confusion_matrix(y_test, y_pred))\n",
    "\n",
    "# plt.figure(figsize=(16, 4))\n",
    "# bins = np.linspace(0, 1, 21)\n",
    "# xticks = np.linspace(0, 1, 11)\n",
    "# plt.hist(y_prob[y_test == 1], bins=bins, edgecolor='k', alpha=0.5, label='y_true = 1')\n",
    "# plt.hist(y_prob[y_test == 0], bins=bins, edgecolor='k', alpha=0.5, label='y_true = 0')\n",
    "# plt.xlim(0, 1)\n",
    "# plt.xticks(xticks)\n",
    "# plt.grid(alpha=0.5)\n",
    "# plt.legend()\n",
    "# plt.show()"
   ]
  },
  {
   "cell_type": "markdown",
   "metadata": {},
   "source": [
    "## Stacked model"
   ]
  },
  {
   "cell_type": "code",
   "execution_count": 37,
   "metadata": {},
   "outputs": [],
   "source": [
    "from mlxtend.classifier import StackingClassifier"
   ]
  },
  {
   "cell_type": "code",
   "execution_count": 38,
   "metadata": {},
   "outputs": [
    {
     "name": "stderr",
     "output_type": "stream",
     "text": [
      "/home/philippe/anaconda3/lib/python3.7/site-packages/sklearn/linear_model/logistic.py:432: FutureWarning: Default solver will be changed to 'lbfgs' in 0.22. Specify a solver to silence this warning.\n",
      "  FutureWarning)\n",
      "/home/philippe/anaconda3/lib/python3.7/site-packages/sklearn/linear_model/logistic.py:432: FutureWarning: Default solver will be changed to 'lbfgs' in 0.22. Specify a solver to silence this warning.\n",
      "  FutureWarning)\n",
      "/home/philippe/anaconda3/lib/python3.7/site-packages/sklearn/linear_model/logistic.py:432: FutureWarning: Default solver will be changed to 'lbfgs' in 0.22. Specify a solver to silence this warning.\n",
      "  FutureWarning)\n",
      "/home/philippe/anaconda3/lib/python3.7/site-packages/sklearn/linear_model/logistic.py:432: FutureWarning: Default solver will be changed to 'lbfgs' in 0.22. Specify a solver to silence this warning.\n",
      "  FutureWarning)\n",
      "/home/philippe/anaconda3/lib/python3.7/site-packages/sklearn/linear_model/logistic.py:432: FutureWarning: Default solver will be changed to 'lbfgs' in 0.22. Specify a solver to silence this warning.\n",
      "  FutureWarning)\n"
     ]
    },
    {
     "name": "stdout",
     "output_type": "stream",
     "text": [
      "CV score: 71.48% +/- 1.23%\n",
      "Average confusion matrix:\n",
      "[[0.68773552 0.14822774]\n",
      " [0.06447244 0.0995643 ]]\n"
     ]
    }
   ],
   "source": [
    "n_splits = 5\n",
    "kfold = StratifiedKFold(n_splits=n_splits, shuffle=True, random_state=0)\n",
    "scores = np.zeros(n_splits)\n",
    "confusion_matrices = np.zeros((n_splits, 2, 2))\n",
    "for i, (train_idx, valid_idx) in enumerate(kfold.split(X_train, y_train)):\n",
    "    X_fold_train, y_fold_train = X_train[train_idx], y_train[train_idx]\n",
    "    X_fold_valid, y_fold_valid = X_train[valid_idx], y_train[valid_idx]\n",
    "    feature_reducer.fit(X_fold_train)\n",
    "    X_fold_train, X_fold_valid = feature_reducer.reduce(X_fold_train, X_fold_valid)\n",
    "    X_fold_train, y_fold_train = oversampler.fit_resample(X_fold_train, y_fold_train)\n",
    "    rf_params = {'bootstrap': True, 'max_depth': 30, 'max_features': 'auto', 'min_samples_leaf': 1, 'min_samples_split': 2, 'n_estimators': 100}\n",
    "    rf_model = RandomForestClassifier(n_jobs=-1, random_state=0, **rf_params)\n",
    "    lr_model = LogisticRegression(random_state=0)\n",
    "    model = StackingClassifier([rf_model], lr_model, use_probas=True)\n",
    "    model.fit(X_fold_train, y_fold_train)\n",
    "    y_fold_pred = model.predict(X_fold_valid)\n",
    "    scores[i] = balanced_accuracy_score(y_fold_valid, y_fold_pred)\n",
    "    confusion_matrices[i] = confusion_matrix(y_fold_valid, y_fold_pred)\n",
    "print(\"CV score: {:.2f}% +/- {:.2f}%\".format(scores.mean()* 100, scores.std() * 200))\n",
    "print(\"Average confusion matrix:\")\n",
    "print(confusion_matrices.mean(axis=0) / confusion_matrices.sum() * n_splits)"
   ]
  },
  {
   "cell_type": "code",
   "execution_count": 39,
   "metadata": {},
   "outputs": [],
   "source": [
    "# feature_reducer.fit(X_train)\n",
    "# X_train_reduced, X_test_reduced = feature_reducer.reduce(X_train, X_test)\n",
    "\n",
    "# rf_params = {'bootstrap': True, 'max_depth': 30, 'max_features': 'auto', 'min_samples_leaf': 1, 'min_samples_split': 2, 'n_estimators': 100}\n",
    "# rf_model = RandomForestClassifier(n_jobs=-1, random_state=0, **rf_params)\n",
    "# lr_model = LogisticRegression(random_state=0)\n",
    "# stacked_model = StackingClassifier([rf_model], lr_model, use_probas=True)\n",
    "# stacked_model.fit(*oversampler.fit_resample(X_train_reduced, y_train))\n",
    "\n",
    "# y_pred = stacked_model.predict(X_test_reduced)\n",
    "# y_prob = stacked_model.predict_proba(X_test_reduced)[:, 1]\n",
    "# print(\"Score: {:.2f}%\".format(100 * balanced_accuracy_score(y_test, y_pred)))\n",
    "# print(confusion_matrix(y_test, y_pred))\n",
    "\n",
    "# plt.figure(figsize=(16, 4))\n",
    "# bins = np.linspace(0, 1, 21)\n",
    "# xticks = np.linspace(0, 1, 11)\n",
    "# plt.hist(y_prob[y_test == 1], bins=bins, edgecolor='k', alpha=0.5, label='y_true = 1')\n",
    "# plt.hist(y_prob[y_test == 0], bins=bins, edgecolor='k', alpha=0.5, label='y_true = 0')\n",
    "# plt.xlim(0, 1)\n",
    "# plt.xticks(xticks)\n",
    "# plt.grid(alpha=0.5)\n",
    "# plt.legend()\n",
    "# plt.show()"
   ]
  },
  {
   "cell_type": "markdown",
   "metadata": {},
   "source": [
    "# Test with Keras model"
   ]
  },
  {
   "cell_type": "code",
   "execution_count": 40,
   "metadata": {},
   "outputs": [],
   "source": [
    "def nn_model(input_dim):\n",
    "    model = Sequential()\n",
    "    model.add(layers.Dense(40, input_dim=input_dim, activation='relu'))\n",
    "    model.add(layers.Dense(1, activation='sigmoid'))\n",
    "    model.compile(\n",
    "        optimizer='adam',\n",
    "        loss='binary_crossentropy',\n",
    "        metrics=['binary_accuracy']\n",
    "    )\n",
    "    return model\n",
    "\n",
    "def nn_batch_generator(X_data, y_data, batch_size):\n",
    "    number_of_batches = X_data.shape[0] // batch_size\n",
    "    counter = 0\n",
    "    index = np.arange(np.shape(y_data)[0])\n",
    "    while 1:\n",
    "        index_batch = index[batch_size * counter:batch_size * (counter + 1)]\n",
    "        X_batch = X_data[index_batch, :].todense()\n",
    "        y_batch = y_data[index_batch]\n",
    "        counter += 1\n",
    "        yield np.array(X_batch), y_batch\n",
    "        if (counter > number_of_batches):\n",
    "            counter = 0"
   ]
  },
  {
   "cell_type": "code",
   "execution_count": 79,
   "metadata": {},
   "outputs": [
    {
     "name": "stdout",
     "output_type": "stream",
     "text": [
      "Train on 45432 samples, validate on 6795 samples\n",
      "Epoch 1/5\n",
      "45432/45432 [==============================] - 79s 2ms/step - loss: 0.3988 - binary_accuracy: 0.8517 - val_loss: 0.4788 - val_binary_accuracy: 0.7860\n",
      "Epoch 2/5\n",
      "45432/45432 [==============================] - 77s 2ms/step - loss: 0.2009 - binary_accuracy: 0.9236 - val_loss: 0.5394 - val_binary_accuracy: 0.7957\n",
      "Train on 45434 samples, validate on 6794 samples\n",
      "Epoch 1/5\n",
      "45434/45434 [==============================] - 83s 2ms/step - loss: 0.3947 - binary_accuracy: 0.8519 - val_loss: 0.4957 - val_binary_accuracy: 0.7960\n",
      "Epoch 2/5\n",
      "45434/45434 [==============================] - 79s 2ms/step - loss: 0.2017 - binary_accuracy: 0.9233 - val_loss: 0.5488 - val_binary_accuracy: 0.7933\n",
      "Train on 45434 samples, validate on 6793 samples\n",
      "Epoch 1/5\n",
      "45434/45434 [==============================] - 80s 2ms/step - loss: 0.3930 - binary_accuracy: 0.8537 - val_loss: 0.4777 - val_binary_accuracy: 0.7992\n",
      "Epoch 2/5\n",
      "45434/45434 [==============================] - 77s 2ms/step - loss: 0.2006 - binary_accuracy: 0.9236 - val_loss: 0.5170 - val_binary_accuracy: 0.8007\n",
      "Train on 45434 samples, validate on 6793 samples\n",
      "Epoch 1/5\n",
      "45434/45434 [==============================] - 81s 2ms/step - loss: 0.3927 - binary_accuracy: 0.8526 - val_loss: 0.4664 - val_binary_accuracy: 0.7958\n",
      "Epoch 2/5\n",
      "45434/45434 [==============================] - 80s 2ms/step - loss: 0.1968 - binary_accuracy: 0.9258 - val_loss: 0.5209 - val_binary_accuracy: 0.7958\n",
      "Train on 45434 samples, validate on 6793 samples\n",
      "Epoch 1/5\n",
      "45434/45434 [==============================] - 78s 2ms/step - loss: 0.4209 - binary_accuracy: 0.8489 - val_loss: 0.5113 - val_binary_accuracy: 0.7930\n",
      "Epoch 2/5\n",
      "45434/45434 [==============================] - 75s 2ms/step - loss: 0.2395 - binary_accuracy: 0.9142 - val_loss: 0.5858 - val_binary_accuracy: 0.7861\n",
      "CV score: 64.79% +/- 2.16%\n",
      "Average confusion matrix:\n",
      "[[0.72379887 0.11216439]\n",
      " [0.09349976 0.07053698]]\n"
     ]
    }
   ],
   "source": [
    "epochs = 5\n",
    "batch_size = 128\n",
    "feature_reducer = FeatureReducer(0)\n",
    "oversampler = SMOTE(random_state=0)\n",
    "\n",
    "n_splits = 5\n",
    "kfold = StratifiedKFold(n_splits=n_splits, shuffle=True, random_state=0)\n",
    "scores = np.zeros(n_splits)\n",
    "confusion_matrices = np.zeros((n_splits, 2, 2))\n",
    "for i, (train_idx, valid_idx) in enumerate(kfold.split(X_train, y_train)):\n",
    "    X_fold_train, y_fold_train = X_train[train_idx], y_train[train_idx]\n",
    "    X_fold_valid, y_fold_valid = X_train[valid_idx], y_train[valid_idx]\n",
    "    feature_reducer.fit(X_fold_train)\n",
    "    X_fold_train, X_fold_valid = feature_reducer.reduce(X_fold_train, X_fold_valid)\n",
    "    X_fold_train, y_fold_train = oversampler.fit_resample(X_fold_train, y_fold_train)\n",
    "    keras_model = KerasClassifier(\n",
    "        nn_model,\n",
    "        input_dim=X_fold_train.shape[1],\n",
    "        epochs=epochs,\n",
    "        batch_size=batch_size,\n",
    "        callbacks=[EarlyStopping(monitor='val_loss', min_delta=0.01, patience=0)],\n",
    "        validation_data=(X_fold_valid, y_fold_valid)\n",
    "    )\n",
    "    keras_model.fit(X_fold_train, y_fold_train)\n",
    "    y_fold_pred = keras_model.predict(X_fold_valid)\n",
    "    scores[i] = balanced_accuracy_score(y_fold_valid, y_fold_pred)\n",
    "    confusion_matrices[i] = confusion_matrix(y_fold_valid, y_fold_pred)\n",
    "print(\"CV score: {:.2f}% +/- {:.2f}%\".format(scores.mean()* 100, scores.std() * 200))\n",
    "print(\"Average confusion matrix:\")\n",
    "print(confusion_matrices.mean(axis=0) / confusion_matrices.sum() * n_splits)"
   ]
  },
  {
   "cell_type": "markdown",
   "metadata": {},
   "source": [
    "## Stacking RF with NN"
   ]
  },
  {
   "cell_type": "code",
   "execution_count": 100,
   "metadata": {},
   "outputs": [],
   "source": [
    "class StackedModel:\n",
    "    def __init__(self, clfs=[], meta_clf=None):\n",
    "        self.clfs = clfs\n",
    "        self.meta_clf = meta_clf\n",
    "\n",
    "    def fit(self, X, y, split_test_size=0.2):\n",
    "        X_train, X_test, y_train, y_test = train_test_split(X, y, test_size=split_test_size)\n",
    "        y_prob = np.zeros((X_test.shape[0], len(self.clfs)))\n",
    "        for j, clf in enumerate(self.clfs):\n",
    "            clf.fit(X_train, y_train)\n",
    "            y_prob[:, j] = clf.predict_proba(X_test)[:, 1]\n",
    "        self.meta_clf.fit(y_prob, y_test)\n",
    "\n",
    "    def predict(self, X):\n",
    "        y_prob = np.zeros((X.shape[0], len(self.clfs)))\n",
    "        for j, clf in enumerate(self.clfs):\n",
    "            y_prob[:, j] = clf.predict_proba(X)[:, 1]\n",
    "        y_pred = self.meta_clf.predict(y_prob)\n",
    "        return y_pred"
   ]
  },
  {
   "cell_type": "code",
   "execution_count": 104,
   "metadata": {},
   "outputs": [
    {
     "name": "stdout",
     "output_type": "stream",
     "text": [
      "Epoch 1/1\n",
      "30288/30288 [==============================] - 6s 186us/step - loss: 0.4442 - binary_accuracy: 0.8018\n"
     ]
    },
    {
     "name": "stderr",
     "output_type": "stream",
     "text": [
      "/home/philippe/anaconda3/lib/python3.7/site-packages/sklearn/linear_model/logistic.py:432: FutureWarning: Default solver will be changed to 'lbfgs' in 0.22. Specify a solver to silence this warning.\n",
      "  FutureWarning)\n"
     ]
    },
    {
     "name": "stdout",
     "output_type": "stream",
     "text": [
      "Epoch 1/1\n",
      "30289/30289 [==============================] - 6s 188us/step - loss: 0.4420 - binary_accuracy: 0.8037\n"
     ]
    },
    {
     "name": "stderr",
     "output_type": "stream",
     "text": [
      "/home/philippe/anaconda3/lib/python3.7/site-packages/sklearn/linear_model/logistic.py:432: FutureWarning: Default solver will be changed to 'lbfgs' in 0.22. Specify a solver to silence this warning.\n",
      "  FutureWarning)\n"
     ]
    },
    {
     "name": "stdout",
     "output_type": "stream",
     "text": [
      "Epoch 1/1\n",
      "30289/30289 [==============================] - 6s 186us/step - loss: 0.4341 - binary_accuracy: 0.8067\n"
     ]
    },
    {
     "name": "stderr",
     "output_type": "stream",
     "text": [
      "/home/philippe/anaconda3/lib/python3.7/site-packages/sklearn/linear_model/logistic.py:432: FutureWarning: Default solver will be changed to 'lbfgs' in 0.22. Specify a solver to silence this warning.\n",
      "  FutureWarning)\n"
     ]
    },
    {
     "name": "stdout",
     "output_type": "stream",
     "text": [
      "CV score: 71.21% +/- 1.54%\n",
      "Average confusion matrix:\n",
      "[[0.75485751 0.08110575]\n",
      " [0.07854451 0.08549223]]\n"
     ]
    }
   ],
   "source": [
    "feature_reducer = FeatureReducer(1)\n",
    "oversampler = RandomOverSampler(random_state=0)\n",
    "nn_params = {'epochs': 1, 'batch_size': 128}\n",
    "rf_params = {'bootstrap': True, 'max_depth': 30, 'max_features': 'auto', 'min_samples_leaf': 1, 'min_samples_split': 2, 'n_estimators': 100}\n",
    "\n",
    "n_splits = 3\n",
    "kfold = StratifiedKFold(n_splits=n_splits, shuffle=True, random_state=0)\n",
    "scores = np.zeros(n_splits)\n",
    "confusion_matrices = np.zeros((n_splits, 2, 2))\n",
    "\n",
    "for i, (train_idx, valid_idx) in enumerate(kfold.split(X_train, y_train)):\n",
    "    X_fold_train, y_fold_train = X_train[train_idx], y_train[train_idx]\n",
    "    X_fold_valid, y_fold_valid = X_train[valid_idx], y_train[valid_idx]\n",
    "    feature_reducer.fit(X_fold_train)\n",
    "    X_fold_train, X_fold_valid = feature_reducer.reduce(X_fold_train, X_fold_valid)\n",
    "    X_fold_train, y_fold_train = oversampler.fit_resample(X_fold_train, y_fold_train)\n",
    "\n",
    "    rf_model = RandomForestClassifier(n_jobs=-1, random_state=0, **rf_params)\n",
    "    keras_model = KerasClassifier(nn_model, input_dim=X_fold_train.shape[1], **nn_params)\n",
    "    lr_model = LogisticRegression(random_state=0)\n",
    "    clfs = [rf_model, keras_model]\n",
    "    meta_clf = lr_model\n",
    "\n",
    "    stacked_model = StackedModel([rf_model, keras_model], lr_model)\n",
    "    stacked_model.fit(X_fold_train, y_fold_train)\n",
    "    y_fold_pred = stacked_model.predict(X_fold_valid)\n",
    "\n",
    "    scores[i] = balanced_accuracy_score(y_fold_valid, y_fold_pred)\n",
    "    confusion_matrices[i] = confusion_matrix(y_fold_valid, y_fold_pred)\n",
    "\n",
    "print(\"CV score: {:.2f}% +/- {:.2f}%\".format(scores.mean()* 100, scores.std() * 200))\n",
    "print(\"Average confusion matrix:\")\n",
    "print(confusion_matrices.mean(axis=0) / confusion_matrices.sum() * n_splits)"
   ]
  },
  {
   "cell_type": "code",
   "execution_count": 80,
   "metadata": {},
   "outputs": [
    {
     "name": "stdout",
     "output_type": "stream",
     "text": [
      "Epoch 1/5\n",
      " 3712/56792 [>.............................] - ETA: 1:44 - loss: 0.6103 - binary_accuracy: 0.6926"
     ]
    },
    {
     "ename": "KeyboardInterrupt",
     "evalue": "",
     "output_type": "error",
     "traceback": [
      "\u001b[0;31m---------------------------------------------------------------------------\u001b[0m",
      "\u001b[0;31mKeyboardInterrupt\u001b[0m                         Traceback (most recent call last)",
      "\u001b[0;32m<ipython-input-80-f522ba8e79d3>\u001b[0m in \u001b[0;36m<module>\u001b[0;34m\u001b[0m\n\u001b[1;32m      4\u001b[0m \u001b[0;34m\u001b[0m\u001b[0m\n\u001b[1;32m      5\u001b[0m \u001b[0mkeras_model\u001b[0m \u001b[0;34m=\u001b[0m \u001b[0mKerasClassifier\u001b[0m\u001b[0;34m(\u001b[0m\u001b[0mnn_model\u001b[0m\u001b[0;34m,\u001b[0m \u001b[0minput_dim\u001b[0m\u001b[0;34m=\u001b[0m\u001b[0mX_train_resampled\u001b[0m\u001b[0;34m.\u001b[0m\u001b[0mshape\u001b[0m\u001b[0;34m[\u001b[0m\u001b[0;36m1\u001b[0m\u001b[0;34m]\u001b[0m\u001b[0;34m,\u001b[0m \u001b[0mepochs\u001b[0m\u001b[0;34m=\u001b[0m\u001b[0mepochs\u001b[0m\u001b[0;34m,\u001b[0m \u001b[0mbatch_size\u001b[0m\u001b[0;34m=\u001b[0m\u001b[0mbatch_size\u001b[0m\u001b[0;34m)\u001b[0m\u001b[0;34m\u001b[0m\u001b[0;34m\u001b[0m\u001b[0m\n\u001b[0;32m----> 6\u001b[0;31m \u001b[0mkeras_model\u001b[0m\u001b[0;34m.\u001b[0m\u001b[0mfit\u001b[0m\u001b[0;34m(\u001b[0m\u001b[0mX_train_resampled\u001b[0m\u001b[0;34m,\u001b[0m \u001b[0my_train_resampled\u001b[0m\u001b[0;34m)\u001b[0m\u001b[0;34m\u001b[0m\u001b[0;34m\u001b[0m\u001b[0m\n\u001b[0m\u001b[1;32m      7\u001b[0m \u001b[0;34m\u001b[0m\u001b[0m\n\u001b[1;32m      8\u001b[0m \u001b[0my_prob\u001b[0m \u001b[0;34m=\u001b[0m \u001b[0mkeras_model\u001b[0m\u001b[0;34m.\u001b[0m\u001b[0mpredict\u001b[0m\u001b[0;34m(\u001b[0m\u001b[0mX_test_reduced\u001b[0m\u001b[0;34m)\u001b[0m\u001b[0;34m\u001b[0m\u001b[0;34m\u001b[0m\u001b[0m\n",
      "\u001b[0;32m~/anaconda3/lib/python3.7/site-packages/keras/wrappers/scikit_learn.py\u001b[0m in \u001b[0;36mfit\u001b[0;34m(self, x, y, sample_weight, **kwargs)\u001b[0m\n\u001b[1;32m    208\u001b[0m         \u001b[0;32mif\u001b[0m \u001b[0msample_weight\u001b[0m \u001b[0;32mis\u001b[0m \u001b[0;32mnot\u001b[0m \u001b[0;32mNone\u001b[0m\u001b[0;34m:\u001b[0m\u001b[0;34m\u001b[0m\u001b[0;34m\u001b[0m\u001b[0m\n\u001b[1;32m    209\u001b[0m             \u001b[0mkwargs\u001b[0m\u001b[0;34m[\u001b[0m\u001b[0;34m'sample_weight'\u001b[0m\u001b[0;34m]\u001b[0m \u001b[0;34m=\u001b[0m \u001b[0msample_weight\u001b[0m\u001b[0;34m\u001b[0m\u001b[0;34m\u001b[0m\u001b[0m\n\u001b[0;32m--> 210\u001b[0;31m         \u001b[0;32mreturn\u001b[0m \u001b[0msuper\u001b[0m\u001b[0;34m(\u001b[0m\u001b[0mKerasClassifier\u001b[0m\u001b[0;34m,\u001b[0m \u001b[0mself\u001b[0m\u001b[0;34m)\u001b[0m\u001b[0;34m.\u001b[0m\u001b[0mfit\u001b[0m\u001b[0;34m(\u001b[0m\u001b[0mx\u001b[0m\u001b[0;34m,\u001b[0m \u001b[0my\u001b[0m\u001b[0;34m,\u001b[0m \u001b[0;34m**\u001b[0m\u001b[0mkwargs\u001b[0m\u001b[0;34m)\u001b[0m\u001b[0;34m\u001b[0m\u001b[0;34m\u001b[0m\u001b[0m\n\u001b[0m\u001b[1;32m    211\u001b[0m \u001b[0;34m\u001b[0m\u001b[0m\n\u001b[1;32m    212\u001b[0m     \u001b[0;32mdef\u001b[0m \u001b[0mpredict\u001b[0m\u001b[0;34m(\u001b[0m\u001b[0mself\u001b[0m\u001b[0;34m,\u001b[0m \u001b[0mx\u001b[0m\u001b[0;34m,\u001b[0m \u001b[0;34m**\u001b[0m\u001b[0mkwargs\u001b[0m\u001b[0;34m)\u001b[0m\u001b[0;34m:\u001b[0m\u001b[0;34m\u001b[0m\u001b[0;34m\u001b[0m\u001b[0m\n",
      "\u001b[0;32m~/anaconda3/lib/python3.7/site-packages/keras/wrappers/scikit_learn.py\u001b[0m in \u001b[0;36mfit\u001b[0;34m(self, x, y, **kwargs)\u001b[0m\n\u001b[1;32m    150\u001b[0m         \u001b[0mfit_args\u001b[0m\u001b[0;34m.\u001b[0m\u001b[0mupdate\u001b[0m\u001b[0;34m(\u001b[0m\u001b[0mkwargs\u001b[0m\u001b[0;34m)\u001b[0m\u001b[0;34m\u001b[0m\u001b[0;34m\u001b[0m\u001b[0m\n\u001b[1;32m    151\u001b[0m \u001b[0;34m\u001b[0m\u001b[0m\n\u001b[0;32m--> 152\u001b[0;31m         \u001b[0mhistory\u001b[0m \u001b[0;34m=\u001b[0m \u001b[0mself\u001b[0m\u001b[0;34m.\u001b[0m\u001b[0mmodel\u001b[0m\u001b[0;34m.\u001b[0m\u001b[0mfit\u001b[0m\u001b[0;34m(\u001b[0m\u001b[0mx\u001b[0m\u001b[0;34m,\u001b[0m \u001b[0my\u001b[0m\u001b[0;34m,\u001b[0m \u001b[0;34m**\u001b[0m\u001b[0mfit_args\u001b[0m\u001b[0;34m)\u001b[0m\u001b[0;34m\u001b[0m\u001b[0;34m\u001b[0m\u001b[0m\n\u001b[0m\u001b[1;32m    153\u001b[0m \u001b[0;34m\u001b[0m\u001b[0m\n\u001b[1;32m    154\u001b[0m         \u001b[0;32mreturn\u001b[0m \u001b[0mhistory\u001b[0m\u001b[0;34m\u001b[0m\u001b[0;34m\u001b[0m\u001b[0m\n",
      "\u001b[0;32m~/anaconda3/lib/python3.7/site-packages/keras/engine/training.py\u001b[0m in \u001b[0;36mfit\u001b[0;34m(self, x, y, batch_size, epochs, verbose, callbacks, validation_split, validation_data, shuffle, class_weight, sample_weight, initial_epoch, steps_per_epoch, validation_steps, **kwargs)\u001b[0m\n\u001b[1;32m   1037\u001b[0m                                         \u001b[0minitial_epoch\u001b[0m\u001b[0;34m=\u001b[0m\u001b[0minitial_epoch\u001b[0m\u001b[0;34m,\u001b[0m\u001b[0;34m\u001b[0m\u001b[0;34m\u001b[0m\u001b[0m\n\u001b[1;32m   1038\u001b[0m                                         \u001b[0msteps_per_epoch\u001b[0m\u001b[0;34m=\u001b[0m\u001b[0msteps_per_epoch\u001b[0m\u001b[0;34m,\u001b[0m\u001b[0;34m\u001b[0m\u001b[0;34m\u001b[0m\u001b[0m\n\u001b[0;32m-> 1039\u001b[0;31m                                         validation_steps=validation_steps)\n\u001b[0m\u001b[1;32m   1040\u001b[0m \u001b[0;34m\u001b[0m\u001b[0m\n\u001b[1;32m   1041\u001b[0m     def evaluate(self, x=None, y=None,\n",
      "\u001b[0;32m~/anaconda3/lib/python3.7/site-packages/keras/engine/training_arrays.py\u001b[0m in \u001b[0;36mfit_loop\u001b[0;34m(model, f, ins, out_labels, batch_size, epochs, verbose, callbacks, val_f, val_ins, shuffle, callback_metrics, initial_epoch, steps_per_epoch, validation_steps)\u001b[0m\n\u001b[1;32m    197\u001b[0m                     \u001b[0mins_batch\u001b[0m\u001b[0;34m[\u001b[0m\u001b[0mi\u001b[0m\u001b[0;34m]\u001b[0m \u001b[0;34m=\u001b[0m \u001b[0mins_batch\u001b[0m\u001b[0;34m[\u001b[0m\u001b[0mi\u001b[0m\u001b[0;34m]\u001b[0m\u001b[0;34m.\u001b[0m\u001b[0mtoarray\u001b[0m\u001b[0;34m(\u001b[0m\u001b[0;34m)\u001b[0m\u001b[0;34m\u001b[0m\u001b[0;34m\u001b[0m\u001b[0m\n\u001b[1;32m    198\u001b[0m \u001b[0;34m\u001b[0m\u001b[0m\n\u001b[0;32m--> 199\u001b[0;31m                 \u001b[0mouts\u001b[0m \u001b[0;34m=\u001b[0m \u001b[0mf\u001b[0m\u001b[0;34m(\u001b[0m\u001b[0mins_batch\u001b[0m\u001b[0;34m)\u001b[0m\u001b[0;34m\u001b[0m\u001b[0;34m\u001b[0m\u001b[0m\n\u001b[0m\u001b[1;32m    200\u001b[0m                 \u001b[0mouts\u001b[0m \u001b[0;34m=\u001b[0m \u001b[0mto_list\u001b[0m\u001b[0;34m(\u001b[0m\u001b[0mouts\u001b[0m\u001b[0;34m)\u001b[0m\u001b[0;34m\u001b[0m\u001b[0;34m\u001b[0m\u001b[0m\n\u001b[1;32m    201\u001b[0m                 \u001b[0;32mfor\u001b[0m \u001b[0ml\u001b[0m\u001b[0;34m,\u001b[0m \u001b[0mo\u001b[0m \u001b[0;32min\u001b[0m \u001b[0mzip\u001b[0m\u001b[0;34m(\u001b[0m\u001b[0mout_labels\u001b[0m\u001b[0;34m,\u001b[0m \u001b[0mouts\u001b[0m\u001b[0;34m)\u001b[0m\u001b[0;34m:\u001b[0m\u001b[0;34m\u001b[0m\u001b[0;34m\u001b[0m\u001b[0m\n",
      "\u001b[0;32m~/anaconda3/lib/python3.7/site-packages/keras/backend/tensorflow_backend.py\u001b[0m in \u001b[0;36m__call__\u001b[0;34m(self, inputs)\u001b[0m\n\u001b[1;32m   2713\u001b[0m                 \u001b[0;32mreturn\u001b[0m \u001b[0mself\u001b[0m\u001b[0;34m.\u001b[0m\u001b[0m_legacy_call\u001b[0m\u001b[0;34m(\u001b[0m\u001b[0minputs\u001b[0m\u001b[0;34m)\u001b[0m\u001b[0;34m\u001b[0m\u001b[0;34m\u001b[0m\u001b[0m\n\u001b[1;32m   2714\u001b[0m \u001b[0;34m\u001b[0m\u001b[0m\n\u001b[0;32m-> 2715\u001b[0;31m             \u001b[0;32mreturn\u001b[0m \u001b[0mself\u001b[0m\u001b[0;34m.\u001b[0m\u001b[0m_call\u001b[0m\u001b[0;34m(\u001b[0m\u001b[0minputs\u001b[0m\u001b[0;34m)\u001b[0m\u001b[0;34m\u001b[0m\u001b[0;34m\u001b[0m\u001b[0m\n\u001b[0m\u001b[1;32m   2716\u001b[0m         \u001b[0;32melse\u001b[0m\u001b[0;34m:\u001b[0m\u001b[0;34m\u001b[0m\u001b[0;34m\u001b[0m\u001b[0m\n\u001b[1;32m   2717\u001b[0m             \u001b[0;32mif\u001b[0m \u001b[0mpy_any\u001b[0m\u001b[0;34m(\u001b[0m\u001b[0mis_tensor\u001b[0m\u001b[0;34m(\u001b[0m\u001b[0mx\u001b[0m\u001b[0;34m)\u001b[0m \u001b[0;32mfor\u001b[0m \u001b[0mx\u001b[0m \u001b[0;32min\u001b[0m \u001b[0minputs\u001b[0m\u001b[0;34m)\u001b[0m\u001b[0;34m:\u001b[0m\u001b[0;34m\u001b[0m\u001b[0;34m\u001b[0m\u001b[0m\n",
      "\u001b[0;32m~/anaconda3/lib/python3.7/site-packages/keras/backend/tensorflow_backend.py\u001b[0m in \u001b[0;36m_call\u001b[0;34m(self, inputs)\u001b[0m\n\u001b[1;32m   2673\u001b[0m             \u001b[0mfetched\u001b[0m \u001b[0;34m=\u001b[0m \u001b[0mself\u001b[0m\u001b[0;34m.\u001b[0m\u001b[0m_callable_fn\u001b[0m\u001b[0;34m(\u001b[0m\u001b[0;34m*\u001b[0m\u001b[0marray_vals\u001b[0m\u001b[0;34m,\u001b[0m \u001b[0mrun_metadata\u001b[0m\u001b[0;34m=\u001b[0m\u001b[0mself\u001b[0m\u001b[0;34m.\u001b[0m\u001b[0mrun_metadata\u001b[0m\u001b[0;34m)\u001b[0m\u001b[0;34m\u001b[0m\u001b[0;34m\u001b[0m\u001b[0m\n\u001b[1;32m   2674\u001b[0m         \u001b[0;32melse\u001b[0m\u001b[0;34m:\u001b[0m\u001b[0;34m\u001b[0m\u001b[0;34m\u001b[0m\u001b[0m\n\u001b[0;32m-> 2675\u001b[0;31m             \u001b[0mfetched\u001b[0m \u001b[0;34m=\u001b[0m \u001b[0mself\u001b[0m\u001b[0;34m.\u001b[0m\u001b[0m_callable_fn\u001b[0m\u001b[0;34m(\u001b[0m\u001b[0;34m*\u001b[0m\u001b[0marray_vals\u001b[0m\u001b[0;34m)\u001b[0m\u001b[0;34m\u001b[0m\u001b[0;34m\u001b[0m\u001b[0m\n\u001b[0m\u001b[1;32m   2676\u001b[0m         \u001b[0;32mreturn\u001b[0m \u001b[0mfetched\u001b[0m\u001b[0;34m[\u001b[0m\u001b[0;34m:\u001b[0m\u001b[0mlen\u001b[0m\u001b[0;34m(\u001b[0m\u001b[0mself\u001b[0m\u001b[0;34m.\u001b[0m\u001b[0moutputs\u001b[0m\u001b[0;34m)\u001b[0m\u001b[0;34m]\u001b[0m\u001b[0;34m\u001b[0m\u001b[0;34m\u001b[0m\u001b[0m\n\u001b[1;32m   2677\u001b[0m \u001b[0;34m\u001b[0m\u001b[0m\n",
      "\u001b[0;32m~/anaconda3/lib/python3.7/site-packages/tensorflow/python/client/session.py\u001b[0m in \u001b[0;36m__call__\u001b[0;34m(self, *args, **kwargs)\u001b[0m\n\u001b[1;32m   1456\u001b[0m         ret = tf_session.TF_SessionRunCallable(self._session._session,\n\u001b[1;32m   1457\u001b[0m                                                \u001b[0mself\u001b[0m\u001b[0;34m.\u001b[0m\u001b[0m_handle\u001b[0m\u001b[0;34m,\u001b[0m \u001b[0margs\u001b[0m\u001b[0;34m,\u001b[0m\u001b[0;34m\u001b[0m\u001b[0;34m\u001b[0m\u001b[0m\n\u001b[0;32m-> 1458\u001b[0;31m                                                run_metadata_ptr)\n\u001b[0m\u001b[1;32m   1459\u001b[0m         \u001b[0;32mif\u001b[0m \u001b[0mrun_metadata\u001b[0m\u001b[0;34m:\u001b[0m\u001b[0;34m\u001b[0m\u001b[0;34m\u001b[0m\u001b[0m\n\u001b[1;32m   1460\u001b[0m           \u001b[0mproto_data\u001b[0m \u001b[0;34m=\u001b[0m \u001b[0mtf_session\u001b[0m\u001b[0;34m.\u001b[0m\u001b[0mTF_GetBuffer\u001b[0m\u001b[0;34m(\u001b[0m\u001b[0mrun_metadata_ptr\u001b[0m\u001b[0;34m)\u001b[0m\u001b[0;34m\u001b[0m\u001b[0;34m\u001b[0m\u001b[0m\n",
      "\u001b[0;31mKeyboardInterrupt\u001b[0m: "
     ]
    }
   ],
   "source": [
    "feature_reducer.fit(X_train)\n",
    "X_train_reduced, X_test_reduced = feature_reducer.reduce(X_train, X_test)\n",
    "X_train_resampled, y_train_resampled = oversampler.fit_resample(X_train_reduced, y_train)\n",
    "\n",
    "rf_model = RandomForestClassifier(n_jobs=-1, random_state=0, **rf_params)\n",
    "keras_model = KerasClassifier(nn_model, input_dim=X_train_resampled.shape[1], validation_data=(X_fold_valid, y_fold_valid), **nn_params)\n",
    "lr_model = LogisticRegression(random_state=0)\n",
    "clfs = [rf_model, keras_model]\n",
    "meta_clf = lr_model\n",
    "\n",
    "stacked_model = StackedModel([rf_model, keras_model], lr_model)\n",
    "stacked_model.fit(X_fold_train, y_fold_train)\n",
    "y_fold_pred = stacked_model.predict(X_fold_valid)\n",
    "\n",
    "y_prob = keras_model.predict(X_test_reduced)\n",
    "y_pred = y_prob.round()\n",
    "print(\"Score: {:.2f}%\".format(100 * balanced_accuracy_score(y_test, y_pred)))\n",
    "print(confusion_matrix(y_test, y_pred))\n",
    "\n",
    "plt.figure(figsize=(16, 4))\n",
    "bins = np.linspace(0, 1, 21)\n",
    "xticks = np.linspace(0, 1, 11)\n",
    "plt.hist(y_prob[y_test == 1], bins=bins, edgecolor='k', alpha=0.5, label='y_true = 1')\n",
    "plt.hist(y_prob[y_test == 0], bins=bins, edgecolor='k', alpha=0.5, label='y_true = 0')\n",
    "plt.xlim(0, 1)\n",
    "plt.xticks(xticks)\n",
    "plt.grid(alpha=0.5)\n",
    "plt.legend()\n",
    "plt.show()"
   ]
  }
 ],
 "metadata": {
  "kernelspec": {
   "display_name": "Python 3",
   "language": "python",
   "name": "python3"
  },
  "language_info": {
   "codemirror_mode": {
    "name": "ipython",
    "version": 3
   },
   "file_extension": ".py",
   "mimetype": "text/x-python",
   "name": "python",
   "nbconvert_exporter": "python",
   "pygments_lexer": "ipython3",
   "version": "3.7.3"
  }
 },
 "nbformat": 4,
 "nbformat_minor": 2
}

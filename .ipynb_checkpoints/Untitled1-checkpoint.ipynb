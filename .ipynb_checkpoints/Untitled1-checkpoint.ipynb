{
 "cells": [
  {
   "cell_type": "code",
   "execution_count": 1,
   "metadata": {},
   "outputs": [],
   "source": [
    "from urllib.request import urlopen\n",
    "from bs4 import BeautifulSoup"
   ]
  },
  {
   "cell_type": "code",
   "execution_count": 2,
   "metadata": {},
   "outputs": [],
   "source": [
    "BASEURL = 'http://www.darklyrics.com'\n",
    "band = 'cynic'\n",
    "url = BASEURL + '/' + band[0] + '/' + band + '.html'\n",
    "with urlopen(url) as page:\n",
    "    soup = BeautifulSoup(page, 'html.parser')"
   ]
  },
  {
   "cell_type": "code",
   "execution_count": 20,
   "metadata": {},
   "outputs": [],
   "source": [
    "albums_html = soup.find_all('div', attrs={'class': 'album'})\n",
    "album_names = []\n",
    "album_links = []\n",
    "for x in albums_html:\n",
    "    name = x.find('strong').text.replace('\"', '')\n",
    "    link = x.find('a', href=True)['href'][2:-2]\n",
    "    album_names.append(name)\n",
    "    album_links.append(link)"
   ]
  },
  {
   "cell_type": "code",
   "execution_count": 21,
   "metadata": {},
   "outputs": [],
   "source": [
    "url = BASEURL + album_links[0]\n",
    "with urlopen(url) as page:\n",
    "    soup = BeautifulSoup(page, 'html.parser')"
   ]
  },
  {
   "cell_type": "code",
   "execution_count": 23,
   "metadata": {},
   "outputs": [],
   "source": [
    "x = soup.find('h3')"
   ]
  },
  {
   "cell_type": "code",
   "execution_count": 117,
   "metadata": {},
   "outputs": [
    {
     "name": "stdout",
     "output_type": "stream",
     "text": [
      "What happened to honesty\n",
      "What the hell's happened to truth?\n",
      "An adverse turn in leadership's ways\n",
      "A negative procession delaying our truce\n",
      "What's happening to the people\n",
      "Or the body of politics?\n",
      "All for the crown, just for an addiction\n",
      "Money, power, they need a fix\n",
      "Life's drastically changing with time\n",
      "There were times when our worlds looked brighter\n",
      "When we had thrived on the quotes\n",
      "\"No false propositions, no need for liars\"\n"
     ]
    }
   ],
   "source": [
    "for y in x.next_siblings:\n",
    "    if y.name is None:\n",
    "        s = y.replace('\\n', '')\n",
    "        if s != '':\n",
    "            print(s)\n",
    "    elif y.name != 'br':\n",
    "        break"
   ]
  },
  {
   "cell_type": "code",
   "execution_count": 143,
   "metadata": {},
   "outputs": [],
   "source": [
    "lyrics = []\n",
    "for line in x.next_siblings:\n",
    "    if line.name is None:\n",
    "        s = str(line).replace('\\n', '').replace('\"', '')\n",
    "        if s != '':\n",
    "            lyrics.append(s)\n",
    "    elif line.name != 'br':\n",
    "        break"
   ]
  },
  {
   "cell_type": "code",
   "execution_count": 147,
   "metadata": {},
   "outputs": [
    {
     "data": {
      "text/plain": [
       "['What happened to honesty',\n",
       " \"What the hell's happened to truth?\",\n",
       " \"An adverse turn in leadership's ways\",\n",
       " 'A negative procession delaying our truce',\n",
       " \"What's happening to the people\",\n",
       " 'Or the body of politics?',\n",
       " 'All for the crown, just for an addiction',\n",
       " 'Money, power, they need a fix',\n",
       " \"Life's drastically changing with time\",\n",
       " 'There were times when our worlds looked brighter',\n",
       " 'When we had thrived on the quotes',\n",
       " 'No false propositions, no need for liars']"
      ]
     },
     "execution_count": 147,
     "metadata": {},
     "output_type": "execute_result"
    }
   ],
   "source": [
    "lyrics"
   ]
  }
 ],
 "metadata": {
  "kernelspec": {
   "display_name": "Python 3",
   "language": "python",
   "name": "python3"
  },
  "language_info": {
   "codemirror_mode": {
    "name": "ipython",
    "version": 3
   },
   "file_extension": ".py",
   "mimetype": "text/x-python",
   "name": "python",
   "nbconvert_exporter": "python",
   "pygments_lexer": "ipython3",
   "version": "3.6.5"
  }
 },
 "nbformat": 4,
 "nbformat_minor": 2
}

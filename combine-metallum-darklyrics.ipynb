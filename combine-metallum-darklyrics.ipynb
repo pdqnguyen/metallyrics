{
 "cells": [
  {
   "cell_type": "code",
   "execution_count": 1,
   "metadata": {},
   "outputs": [],
   "source": [
    "import os\n",
    "import re\n",
    "import h5py\n",
    "import numpy as np\n",
    "import pandas as pd\n",
    "import pickle as pkl\n",
    "import multiprocessing\n",
    "from scraper.metallum import Band, Album, Song\n",
    "\n",
    "import nltk\n",
    "from nltk.corpus import stopwords\n",
    "stopdir = 'C:/Users/philippe/AppData/Roaming/nltk_data/corpora/stopwords'\n",
    "languages = [x for x in os.listdir(stopdir) if x != 'README']\n",
    "stop_words = set()\n",
    "for language in languages:\n",
    "    stop_words.update(set(stopwords.words(language)))\n",
    "english_vocab = set(w.lower() for w in nltk.corpus.words.words())"
   ]
  },
  {
   "cell_type": "markdown",
   "metadata": {},
   "source": [
    "# All bands in common"
   ]
  },
  {
   "cell_type": "code",
   "execution_count": 12,
   "metadata": {
    "collapsed": true,
    "jupyter": {
     "outputs_hidden": true
    }
   },
   "outputs": [
    {
     "ename": "ModuleNotFoundError",
     "evalue": "No module named 'metallum2'",
     "output_type": "error",
     "traceback": [
      "\u001b[1;31m---------------------------------------------------------------------------\u001b[0m",
      "\u001b[1;31mModuleNotFoundError\u001b[0m                       Traceback (most recent call last)",
      "\u001b[1;32m<ipython-input-12-c5bf1da03156>\u001b[0m in \u001b[0;36m<module>\u001b[1;34m\u001b[0m\n\u001b[0;32m      3\u001b[0m \u001b[1;33m\u001b[0m\u001b[0m\n\u001b[0;32m      4\u001b[0m \u001b[0mband_filenames\u001b[0m \u001b[1;33m=\u001b[0m \u001b[1;33m[\u001b[0m\u001b[0mf\u001b[0m \u001b[1;32mfor\u001b[0m \u001b[0mf\u001b[0m \u001b[1;32min\u001b[0m \u001b[0mos\u001b[0m\u001b[1;33m.\u001b[0m\u001b[0mlistdir\u001b[0m\u001b[1;33m(\u001b[0m\u001b[0mBANDS_DIR\u001b[0m\u001b[1;33m)\u001b[0m \u001b[1;32mif\u001b[0m \u001b[1;34m'.pkl'\u001b[0m \u001b[1;32min\u001b[0m \u001b[0mf\u001b[0m\u001b[1;33m]\u001b[0m\u001b[1;33m\u001b[0m\u001b[1;33m\u001b[0m\u001b[0m\n\u001b[1;32m----> 5\u001b[1;33m \u001b[0mbands\u001b[0m \u001b[1;33m=\u001b[0m \u001b[1;33m[\u001b[0m\u001b[0mpkl\u001b[0m\u001b[1;33m.\u001b[0m\u001b[0mload\u001b[0m\u001b[1;33m(\u001b[0m\u001b[0mopen\u001b[0m\u001b[1;33m(\u001b[0m\u001b[0mos\u001b[0m\u001b[1;33m.\u001b[0m\u001b[0mpath\u001b[0m\u001b[1;33m.\u001b[0m\u001b[0mjoin\u001b[0m\u001b[1;33m(\u001b[0m\u001b[0mBANDS_DIR\u001b[0m\u001b[1;33m,\u001b[0m \u001b[0mf\u001b[0m\u001b[1;33m)\u001b[0m\u001b[1;33m,\u001b[0m \u001b[1;34m'rb'\u001b[0m\u001b[1;33m)\u001b[0m\u001b[1;33m)\u001b[0m \u001b[1;32mfor\u001b[0m \u001b[0mf\u001b[0m \u001b[1;32min\u001b[0m \u001b[0mband_filenames\u001b[0m\u001b[1;33m]\u001b[0m\u001b[1;33m\u001b[0m\u001b[1;33m\u001b[0m\u001b[0m\n\u001b[0m\u001b[0;32m      6\u001b[0m \u001b[0mgenres\u001b[0m \u001b[1;33m=\u001b[0m \u001b[1;33m{\u001b[0m\u001b[0mb\u001b[0m\u001b[1;33m.\u001b[0m\u001b[0mname\u001b[0m\u001b[1;33m:\u001b[0m \u001b[0mb\u001b[0m\u001b[1;33m.\u001b[0m\u001b[0mgenres\u001b[0m \u001b[1;32mfor\u001b[0m \u001b[0mb\u001b[0m \u001b[1;32min\u001b[0m \u001b[0mbands\u001b[0m\u001b[1;33m}\u001b[0m\u001b[1;33m\u001b[0m\u001b[1;33m\u001b[0m\u001b[0m\n\u001b[0;32m      7\u001b[0m \u001b[1;33m\u001b[0m\u001b[0m\n",
      "\u001b[1;32m<ipython-input-12-c5bf1da03156>\u001b[0m in \u001b[0;36m<listcomp>\u001b[1;34m(.0)\u001b[0m\n\u001b[0;32m      3\u001b[0m \u001b[1;33m\u001b[0m\u001b[0m\n\u001b[0;32m      4\u001b[0m \u001b[0mband_filenames\u001b[0m \u001b[1;33m=\u001b[0m \u001b[1;33m[\u001b[0m\u001b[0mf\u001b[0m \u001b[1;32mfor\u001b[0m \u001b[0mf\u001b[0m \u001b[1;32min\u001b[0m \u001b[0mos\u001b[0m\u001b[1;33m.\u001b[0m\u001b[0mlistdir\u001b[0m\u001b[1;33m(\u001b[0m\u001b[0mBANDS_DIR\u001b[0m\u001b[1;33m)\u001b[0m \u001b[1;32mif\u001b[0m \u001b[1;34m'.pkl'\u001b[0m \u001b[1;32min\u001b[0m \u001b[0mf\u001b[0m\u001b[1;33m]\u001b[0m\u001b[1;33m\u001b[0m\u001b[1;33m\u001b[0m\u001b[0m\n\u001b[1;32m----> 5\u001b[1;33m \u001b[0mbands\u001b[0m \u001b[1;33m=\u001b[0m \u001b[1;33m[\u001b[0m\u001b[0mpkl\u001b[0m\u001b[1;33m.\u001b[0m\u001b[0mload\u001b[0m\u001b[1;33m(\u001b[0m\u001b[0mopen\u001b[0m\u001b[1;33m(\u001b[0m\u001b[0mos\u001b[0m\u001b[1;33m.\u001b[0m\u001b[0mpath\u001b[0m\u001b[1;33m.\u001b[0m\u001b[0mjoin\u001b[0m\u001b[1;33m(\u001b[0m\u001b[0mBANDS_DIR\u001b[0m\u001b[1;33m,\u001b[0m \u001b[0mf\u001b[0m\u001b[1;33m)\u001b[0m\u001b[1;33m,\u001b[0m \u001b[1;34m'rb'\u001b[0m\u001b[1;33m)\u001b[0m\u001b[1;33m)\u001b[0m \u001b[1;32mfor\u001b[0m \u001b[0mf\u001b[0m \u001b[1;32min\u001b[0m \u001b[0mband_filenames\u001b[0m\u001b[1;33m]\u001b[0m\u001b[1;33m\u001b[0m\u001b[1;33m\u001b[0m\u001b[0m\n\u001b[0m\u001b[0;32m      6\u001b[0m \u001b[0mgenres\u001b[0m \u001b[1;33m=\u001b[0m \u001b[1;33m{\u001b[0m\u001b[0mb\u001b[0m\u001b[1;33m.\u001b[0m\u001b[0mname\u001b[0m\u001b[1;33m:\u001b[0m \u001b[0mb\u001b[0m\u001b[1;33m.\u001b[0m\u001b[0mgenres\u001b[0m \u001b[1;32mfor\u001b[0m \u001b[0mb\u001b[0m \u001b[1;32min\u001b[0m \u001b[0mbands\u001b[0m\u001b[1;33m}\u001b[0m\u001b[1;33m\u001b[0m\u001b[1;33m\u001b[0m\u001b[0m\n\u001b[0;32m      7\u001b[0m \u001b[1;33m\u001b[0m\u001b[0m\n",
      "\u001b[1;31mModuleNotFoundError\u001b[0m: No module named 'metallum2'"
     ]
    }
   ],
   "source": [
    "LYRICS_DIR = 'darklyrics-data/'\n",
    "BANDS_DIR = 'bands/'\n",
    "\n",
    "band_filenames = [f for f in os.listdir(BANDS_DIR) if '.pkl' in f]\n",
    "bands = [pkl.load(open(os.path.join(BANDS_DIR, f), 'rb')) for f in band_filenames]\n",
    "genres = {b.name: b.genres for b in bands}\n",
    "\n",
    "lyrics_filenames = [f for f in os.listdir(LYRICS_DIR) if '.pkl' in f]\n",
    "lyrics = {filename.replace('.pkl', ''): pkl.load(open(os.path.join(LYRICS_DIR, filename), 'rb')) for filename in lyrics_filenames}\n",
    "\n",
    "band_names_metallum = [b.name for b in bands]\n",
    "band_names_darklyrics = [b for b, _ in lyrics.items()]\n",
    "\n",
    "band_names = [x for x in band_names_metallum if (x.lower() in band_names_darklyrics)]\n",
    "\n",
    "rows = []\n",
    "vocabulary = set()\n",
    "for band_name in band_names:\n",
    "    band_lyrics = lyrics[band_name.lower()]\n",
    "    band_genre = genres[band_name]\n",
    "    for album, album_lyrics in band_lyrics.items():\n",
    "        for song, song_lyrics in album_lyrics.items():\n",
    "            row = [band_name, album, song, song_lyrics, band_genre]\n",
    "            rows.append(row)\n",
    "df = pd.DataFrame(rows, columns=['band', 'album', 'song', 'lyrics', 'genres'])\n",
    "df = df.drop_duplicates(subset=['band', 'song'])\n",
    "print(df.shape)\n",
    "df.head()"
   ]
  },
  {
   "cell_type": "code",
   "execution_count": 114,
   "metadata": {},
   "outputs": [],
   "source": [
    "df.to_hdf('combined-data/song-lyrics-genres-raw.h5', key='df', mode='w')"
   ]
  },
  {
   "cell_type": "markdown",
   "metadata": {},
   "source": [
    "# Bands with MA reviews"
   ]
  },
  {
   "cell_type": "code",
   "execution_count": 169,
   "metadata": {},
   "outputs": [
    {
     "name": "stdout",
     "output_type": "stream",
     "text": [
      "(49864, 6)\n"
     ]
    },
    {
     "data": {
      "text/html": [
       "<div>\n",
       "<style scoped>\n",
       "    .dataframe tbody tr th:only-of-type {\n",
       "        vertical-align: middle;\n",
       "    }\n",
       "\n",
       "    .dataframe tbody tr th {\n",
       "        vertical-align: top;\n",
       "    }\n",
       "\n",
       "    .dataframe thead th {\n",
       "        text-align: right;\n",
       "    }\n",
       "</style>\n",
       "<table border=\"1\" class=\"dataframe\">\n",
       "  <thead>\n",
       "    <tr style=\"text-align: right;\">\n",
       "      <th></th>\n",
       "      <th>band</th>\n",
       "      <th>album</th>\n",
       "      <th>song</th>\n",
       "      <th>lyrics</th>\n",
       "      <th>genres</th>\n",
       "      <th>reviews</th>\n",
       "    </tr>\n",
       "  </thead>\n",
       "  <tbody>\n",
       "    <tr>\n",
       "      <td>0</td>\n",
       "      <td>Aarni</td>\n",
       "      <td>Aarni</td>\n",
       "      <td>1. Myrrys</td>\n",
       "      <td>[Ääni tuulen, varjot puiden, Yksinäni uneksin,...</td>\n",
       "      <td>[avant-garde, doom]</td>\n",
       "      <td>8</td>\n",
       "    </tr>\n",
       "    <tr>\n",
       "      <td>1</td>\n",
       "      <td>Aarni</td>\n",
       "      <td>Aarni</td>\n",
       "      <td>2. The Black Keyes (Of R'lyeh)</td>\n",
       "      <td>[Five hundred years has gone since I summoned ...</td>\n",
       "      <td>[avant-garde, doom]</td>\n",
       "      <td>8</td>\n",
       "    </tr>\n",
       "    <tr>\n",
       "      <td>2</td>\n",
       "      <td>Aarni</td>\n",
       "      <td>Aarni</td>\n",
       "      <td>3. Metsänpeitto Sample 1 - 2</td>\n",
       "      <td>[Metsäpolulta Metsän polulle., Metsänpeitossa....</td>\n",
       "      <td>[avant-garde, doom]</td>\n",
       "      <td>8</td>\n",
       "    </tr>\n",
       "    <tr>\n",
       "      <td>3</td>\n",
       "      <td>Aarni</td>\n",
       "      <td>Aarni</td>\n",
       "      <td>4. Persona Mortuae Cutis</td>\n",
       "      <td>['Yog-Sothoth est clavis portaque', Cum primis...</td>\n",
       "      <td>[avant-garde, doom]</td>\n",
       "      <td>8</td>\n",
       "    </tr>\n",
       "    <tr>\n",
       "      <td>4</td>\n",
       "      <td>Aarni</td>\n",
       "      <td>AARNI / UMBRA NIHIL</td>\n",
       "      <td>1. Ubbo-Sathla</td>\n",
       "      <td>[...For Ubbo-Sathla is the source and the end....</td>\n",
       "      <td>[avant-garde, doom]</td>\n",
       "      <td>8</td>\n",
       "    </tr>\n",
       "  </tbody>\n",
       "</table>\n",
       "</div>"
      ],
      "text/plain": [
       "    band                album                            song  \\\n",
       "0  Aarni                Aarni                       1. Myrrys   \n",
       "1  Aarni                Aarni  2. The Black Keyes (Of R'lyeh)   \n",
       "2  Aarni                Aarni    3. Metsänpeitto Sample 1 - 2   \n",
       "3  Aarni                Aarni        4. Persona Mortuae Cutis   \n",
       "4  Aarni  AARNI / UMBRA NIHIL                  1. Ubbo-Sathla   \n",
       "\n",
       "                                              lyrics               genres  \\\n",
       "0  [Ääni tuulen, varjot puiden, Yksinäni uneksin,...  [avant-garde, doom]   \n",
       "1  [Five hundred years has gone since I summoned ...  [avant-garde, doom]   \n",
       "2  [Metsäpolulta Metsän polulle., Metsänpeitossa....  [avant-garde, doom]   \n",
       "3  ['Yog-Sothoth est clavis portaque', Cum primis...  [avant-garde, doom]   \n",
       "4  [...For Ubbo-Sathla is the source and the end....  [avant-garde, doom]   \n",
       "\n",
       "   reviews  \n",
       "0        8  \n",
       "1        8  \n",
       "2        8  \n",
       "3        8  \n",
       "4        8  "
      ]
     },
     "execution_count": 169,
     "metadata": {},
     "output_type": "execute_result"
    }
   ],
   "source": [
    "LYRICS_DIR = 'darklyrics-data/'\n",
    "BANDS_DIR = 'bands/'\n",
    "\n",
    "band_filenames = [f for f in os.listdir(BANDS_DIR) if '.pkl' in f]\n",
    "bands = [pkl.load(open(os.path.join(BANDS_DIR, f), 'rb')) for f in band_filenames]\n",
    "genres = {b.name: b.genres for b in bands}\n",
    "\n",
    "lyrics_filenames = [f for f in os.listdir(LYRICS_DIR) if '.pkl' in f]\n",
    "lyrics = {filename.replace('.pkl', ''): pkl.load(open(os.path.join(LYRICS_DIR, filename), 'rb')) for filename in lyrics_filenames}\n",
    "\n",
    "band_names_metallum = [b.name for b in bands]\n",
    "band_names_darklyrics = [b for b, _ in lyrics.items()]\n",
    "\n",
    "band_names = [x for x in band_names_metallum if x.lower() in band_names_darklyrics]\n",
    "\n",
    "reviews = {b.name: b.albums.numrev.sum() for b in bands if (b.albums is not None) and (b.name in band_names)}\n",
    "\n",
    "rows = []\n",
    "vocabulary = set()\n",
    "for band_name in band_names:\n",
    "    band_lyrics = lyrics[band_name.lower()]\n",
    "    band_genre = genres[band_name]\n",
    "    band_reviews = reviews.get(band_name)\n",
    "    if band_reviews is not None:\n",
    "        for album, album_lyrics in band_lyrics.items():\n",
    "            for song, song_lyrics in album_lyrics.items():\n",
    "                row = [band_name, album, song, song_lyrics, band_genre, band_reviews]\n",
    "                rows.append(row)\n",
    "df = pd.DataFrame(rows, columns=['band', 'album', 'song', 'lyrics', 'genres', 'reviews'])\n",
    "df = df.drop_duplicates(subset=['band', 'song'])\n",
    "print(df.shape)\n",
    "df.head()"
   ]
  },
  {
   "cell_type": "code",
   "execution_count": 170,
   "metadata": {},
   "outputs": [],
   "source": [
    "df.to_hdf('combined-data/song-lyrics-genres-reviews-raw.h5', key='df', mode='w')"
   ]
  },
  {
   "cell_type": "markdown",
   "metadata": {},
   "source": [
    "# String parsing"
   ]
  },
  {
   "cell_type": "code",
   "execution_count": 20,
   "metadata": {},
   "outputs": [],
   "source": [
    "def process_song_name(name):\n",
    "    words = []\n",
    "    for w in name.split():\n",
    "        s = re.search(\"(\\w+)|(\\w+([-'])(\\w+)?[']?(\\w+))\", re.sub('\\d+\\.', '', w).lower())\n",
    "        if s:\n",
    "            words.append(s.group())\n",
    "    return ' '.join(words)\n",
    "\n",
    "def process_song_lyrics(lyrics):\n",
    "    words = []\n",
    "    for line in lyrics:\n",
    "        for w in line.split():\n",
    "            s = re.search(\"(\\w+)|(\\w+([-'])(\\w+)?[']?(\\w+))\", w.lower())\n",
    "            if s:\n",
    "                w = s.group()\n",
    "                if w not in stop_words and len(w) > 2:\n",
    "                    words.append(w)\n",
    "    return ' '.join(words)"
   ]
  },
  {
   "cell_type": "markdown",
   "metadata": {},
   "source": [
    "### All bands"
   ]
  },
  {
   "cell_type": "code",
   "execution_count": 35,
   "metadata": {},
   "outputs": [],
   "source": [
    "df = pd.read_hdf('combined-data/song-lyrics-genres-raw.h5', key='df')\n",
    "df['lyrics'] = df['lyrics'].apply(lambda x: '\\n'.join(x))\n",
    "\n",
    "# List of all genre labels\n",
    "unique_genres = []\n",
    "for lst in df['genres'].tolist():\n",
    "    for x in lst:\n",
    "        if (x not in stop_words) and (not re.match('\\-.*', x)) and (x not in unique_genres):\n",
    "            unique_genres.append(x)\n",
    "unique_genres.sort()\n",
    "\n",
    "# One-hot encoding of genres\n",
    "df_genres_full = pd.DataFrame(index=df.index, columns=unique_genres)\n",
    "for genre in unique_genres:\n",
    "    df_genres_full[genre] = df['genres'].apply(lambda x: 1 if genre in x else 0)\n",
    "df_genres_full['band'] = df['band'].copy()\n",
    "df_genres_bands = df_genres_full.groupby('band').max()\n",
    "df_genres_full.drop('band', axis=1, inplace=True)\n",
    "top_genres = df_genres_full.columns[df_genres_full.mean(axis=0) > 0.15]\n",
    "df_genres = df_genres_full[top_genres].copy()\n",
    "\n",
    "# Combine into a dataframe with just lyrics and genres\n",
    "df = pd.concat((df.lyrics, df_genres), 1)\n",
    "df.to_hdf('combined-data/lyrics-genres.h5', key='df', mode='w')"
   ]
  },
  {
   "cell_type": "markdown",
   "metadata": {},
   "source": [
    "### Bands with MA reviews"
   ]
  },
  {
   "cell_type": "code",
   "execution_count": 178,
   "metadata": {},
   "outputs": [
    {
     "data": {
      "text/html": [
       "<div>\n",
       "<style scoped>\n",
       "    .dataframe tbody tr th:only-of-type {\n",
       "        vertical-align: middle;\n",
       "    }\n",
       "\n",
       "    .dataframe tbody tr th {\n",
       "        vertical-align: top;\n",
       "    }\n",
       "\n",
       "    .dataframe thead th {\n",
       "        text-align: right;\n",
       "    }\n",
       "</style>\n",
       "<table border=\"1\" class=\"dataframe\">\n",
       "  <thead>\n",
       "    <tr style=\"text-align: right;\">\n",
       "      <th></th>\n",
       "      <th>band</th>\n",
       "      <th>album</th>\n",
       "      <th>song</th>\n",
       "      <th>lyrics</th>\n",
       "      <th>genres</th>\n",
       "      <th>reviews</th>\n",
       "    </tr>\n",
       "  </thead>\n",
       "  <tbody>\n",
       "    <tr>\n",
       "      <td>0</td>\n",
       "      <td>aarni</td>\n",
       "      <td>aarni</td>\n",
       "      <td>myrrys</td>\n",
       "      <td>[Ääni tuulen, varjot puiden, Yksinäni uneksin,...</td>\n",
       "      <td>[avant-garde, doom]</td>\n",
       "      <td>8</td>\n",
       "    </tr>\n",
       "    <tr>\n",
       "      <td>1</td>\n",
       "      <td>aarni</td>\n",
       "      <td>aarni</td>\n",
       "      <td>the black keyes of r</td>\n",
       "      <td>[Five hundred years has gone since I summoned ...</td>\n",
       "      <td>[avant-garde, doom]</td>\n",
       "      <td>8</td>\n",
       "    </tr>\n",
       "    <tr>\n",
       "      <td>2</td>\n",
       "      <td>aarni</td>\n",
       "      <td>aarni</td>\n",
       "      <td>metsänpeitto sample 1 2</td>\n",
       "      <td>[Metsäpolulta Metsän polulle., Metsänpeitossa....</td>\n",
       "      <td>[avant-garde, doom]</td>\n",
       "      <td>8</td>\n",
       "    </tr>\n",
       "    <tr>\n",
       "      <td>3</td>\n",
       "      <td>aarni</td>\n",
       "      <td>aarni</td>\n",
       "      <td>persona mortuae cutis</td>\n",
       "      <td>['Yog-Sothoth est clavis portaque', Cum primis...</td>\n",
       "      <td>[avant-garde, doom]</td>\n",
       "      <td>8</td>\n",
       "    </tr>\n",
       "    <tr>\n",
       "      <td>4</td>\n",
       "      <td>aarni</td>\n",
       "      <td>aarni / umbra nihil</td>\n",
       "      <td>ubbo</td>\n",
       "      <td>[...For Ubbo-Sathla is the source and the end....</td>\n",
       "      <td>[avant-garde, doom]</td>\n",
       "      <td>8</td>\n",
       "    </tr>\n",
       "  </tbody>\n",
       "</table>\n",
       "</div>"
      ],
      "text/plain": [
       "    band                album                     song  \\\n",
       "0  aarni                aarni                   myrrys   \n",
       "1  aarni                aarni     the black keyes of r   \n",
       "2  aarni                aarni  metsänpeitto sample 1 2   \n",
       "3  aarni                aarni    persona mortuae cutis   \n",
       "4  aarni  aarni / umbra nihil                     ubbo   \n",
       "\n",
       "                                              lyrics               genres  \\\n",
       "0  [Ääni tuulen, varjot puiden, Yksinäni uneksin,...  [avant-garde, doom]   \n",
       "1  [Five hundred years has gone since I summoned ...  [avant-garde, doom]   \n",
       "2  [Metsäpolulta Metsän polulle., Metsänpeitossa....  [avant-garde, doom]   \n",
       "3  ['Yog-Sothoth est clavis portaque', Cum primis...  [avant-garde, doom]   \n",
       "4  [...For Ubbo-Sathla is the source and the end....  [avant-garde, doom]   \n",
       "\n",
       "   reviews  \n",
       "0        8  \n",
       "1        8  \n",
       "2        8  \n",
       "3        8  \n",
       "4        8  "
      ]
     },
     "execution_count": 178,
     "metadata": {},
     "output_type": "execute_result"
    }
   ],
   "source": [
    "df_raw = pd.read_hdf('combined-data/song-lyrics-genres-reviews-raw.h5', key='df', mode='r')\n",
    "df = df_raw.copy()\n",
    "df.band = df.band.str.lower()\n",
    "df.album = df.album.str.lower()\n",
    "df.song = df.song.apply(process_song_name)\n",
    "# df.lyrics = df.lyrics.apply(process_song_lyrics)\n",
    "df.head()"
   ]
  },
  {
   "cell_type": "code",
   "execution_count": 180,
   "metadata": {},
   "outputs": [],
   "source": [
    "df.to_hdf('combined-data/song-lyrics-genres-reviews.h5', key='df', mode='w')"
   ]
  }
 ],
 "metadata": {
  "kernelspec": {
   "display_name": "Python [conda env:metallyrics]",
   "language": "python",
   "name": "conda-env-metallyrics-py"
  },
  "language_info": {
   "codemirror_mode": {
    "name": "ipython",
    "version": 3
   },
   "file_extension": ".py",
   "mimetype": "text/x-python",
   "name": "python",
   "nbconvert_exporter": "python",
   "pygments_lexer": "ipython3",
   "version": "3.7.4"
  }
 },
 "nbformat": 4,
 "nbformat_minor": 4
}

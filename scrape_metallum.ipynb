{
 "cells": [
  {
   "cell_type": "code",
   "execution_count": 98,
   "metadata": {},
   "outputs": [],
   "source": [
    "from urllib.request import urlopen\n",
    "import requests\n",
    "from bs4 import BeautifulSoup\n",
    "import re\n",
    "import pandas as pd"
   ]
  },
  {
   "cell_type": "code",
   "execution_count": 146,
   "metadata": {},
   "outputs": [],
   "source": [
    "letters = 'NBR,A,B,C,D,E,F,G,H,I,J,K,L,M,N,O,P,Q,R,S,T,U,V,W,X,Y,Z'.split(',')\n",
    "alphabet_url = 'https://www.metal-archives.com/browse/ajax-letter/json/1/l/'\n",
    "response_len = 500\n",
    "payload = {'sEcho': 0, 'iDisplayStart': 0, 'iDisplayLength': response_len}\n",
    "df_list = []\n",
    "for letter in letters[:3]:\n",
    "    r = requests.get(alphabet_url + letter, params=payload)\n",
    "    js = r.json()\n",
    "    data = js['aaData']\n",
    "    df_list.append(pd.DataFrame(data))\n",
    "df = pd.concat(df_list, axis=0, ignore_index=True)\n",
    "band_names = df[0].str.split('/').apply(lambda x: x[-3])\n",
    "df = pd.concat([df, band_names], axis=1, ignore_index=True)\n",
    "df = df[[4, 1, 2, 0]]\n",
    "df.columns = ['name', 'country', 'genre', 'link']"
   ]
  },
  {
   "cell_type": "code",
   "execution_count": 148,
   "metadata": {},
   "outputs": [],
   "source": [
    "df.to_csv('test.csv', index_label=False)"
   ]
  },
  {
   "cell_type": "code",
   "execution_count": 18,
   "metadata": {},
   "outputs": [],
   "source": [
    "with urlopen('https://www.metal-archives.com/bands/Cynic/91') as page:\n",
    "    soup = BeautifulSoup(page, 'html.parser')"
   ]
  },
  {
   "cell_type": "code",
   "execution_count": 72,
   "metadata": {},
   "outputs": [],
   "source": [
    "name = soup.find('h1', attrs={'class': 'band_name'}).text\n",
    "band_stats_raw = soup.find('div', attrs={'id': 'band_stats'})\n",
    "keys = band_stats_raw.find_all('dt')\n",
    "vals = band_stats_raw.find_all('dd')\n",
    "band_stats = {key.text.replace(':', ''): val.text for key, val in zip(*(keys, vals))}"
   ]
  },
  {
   "cell_type": "code",
   "execution_count": 73,
   "metadata": {},
   "outputs": [
    {
     "data": {
      "text/plain": [
       "['death', 'early', 'fusion', 'later', 'mid', 'progressive', 'rock', 'thrash']"
      ]
     },
     "execution_count": 73,
     "metadata": {},
     "output_type": "execute_result"
    }
   ],
   "source": [
    "genre_string = band_stats['Genre']\n",
    "pattern = '[a-zA-Z]+'\n",
    "genres = [match.lower() for match in re.findall(pattern, genre_string)]\n",
    "genres = sorted(set(genres))\n",
    "if 'metal' in genres:\n",
    "    genres.remove('metal')\n",
    "genres"
   ]
  },
  {
   "cell_type": "code",
   "execution_count": 74,
   "metadata": {},
   "outputs": [],
   "source": [
    "country = band_stats['Country of origin']\n",
    "year = band_stats['Formed in']\n"
   ]
  }
 ],
 "metadata": {
  "kernelspec": {
   "display_name": "Python 3",
   "language": "python",
   "name": "python3"
  },
  "language_info": {
   "codemirror_mode": {
    "name": "ipython",
    "version": 3
   },
   "file_extension": ".py",
   "mimetype": "text/x-python",
   "name": "python",
   "nbconvert_exporter": "python",
   "pygments_lexer": "ipython3",
   "version": "3.6.5"
  }
 },
 "nbformat": 4,
 "nbformat_minor": 2
}

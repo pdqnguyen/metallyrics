{
 "cells": [
  {
   "cell_type": "code",
   "execution_count": 1,
   "metadata": {},
   "outputs": [
    {
     "name": "stderr",
     "output_type": "stream",
     "text": [
      "Using TensorFlow backend.\n"
     ]
    }
   ],
   "source": [
    "import os\n",
    "import re\n",
    "import h5py\n",
    "import numpy as np\n",
    "import pandas as pd\n",
    "import pickle as pkl\n",
    "from metallum import Band, Album, Song\n",
    "\n",
    "import nltk\n",
    "from nltk.corpus import stopwords\n",
    "languages = ['english', 'german', 'french', 'finnish', 'swedish', 'norwegian', 'danish', 'russian']\n",
    "stop_words = set()\n",
    "for language in languages:\n",
    "    stop_words.update(set(stopwords.words(language)))\n",
    "english_vocab = set(w.lower() for w in nltk.corpus.words.words())\n",
    "\n",
    "import matplotlib\n",
    "matplotlib.rcParams['figure.facecolor'] = 'white'\n",
    "import matplotlib.pyplot as plt\n",
    "%matplotlib inline\n",
    "\n",
    "from sklearn.feature_extraction.text import CountVectorizer, TfidfVectorizer, HashingVectorizer\n",
    "from sklearn.preprocessing import LabelEncoder\n",
    "from sklearn.model_selection import train_test_split, cross_val_score, StratifiedKFold\n",
    "from sklearn.metrics import accuracy_score, balanced_accuracy_score, log_loss, confusion_matrix\n",
    "from sklearn.pipeline import make_pipeline\n",
    "from sklearn.base import BaseEstimator, TransformerMixin, clone\n",
    "\n",
    "from sklearn.model_selection import StratifiedKFold\n",
    "from sklearn.ensemble import RandomForestClassifier\n",
    "from sklearn.linear_model import LogisticRegression\n",
    "\n",
    "from mlxtend.classifier import StackingClassifier\n",
    "from imblearn.pipeline import Pipeline\n",
    "\n",
    "from imblearn.over_sampling import RandomOverSampler, SMOTE\n",
    "\n",
    "from keras.preprocessing.text import Tokenizer\n",
    "from keras.preprocessing.sequence import pad_sequences\n",
    "from keras.models import Sequential\n",
    "from keras import layers\n",
    "from keras.wrappers.scikit_learn import KerasClassifier\n",
    "from keras.callbacks import EarlyStopping"
   ]
  },
  {
   "cell_type": "markdown",
   "metadata": {},
   "source": [
    "# Preprocessing\n",
    "## Combine song lyrics with genres"
   ]
  },
  {
   "cell_type": "code",
   "execution_count": 7,
   "metadata": {},
   "outputs": [],
   "source": [
    "# LYRICS_DIR = 'lyrics/'\n",
    "# BANDS_DIR = 'bands/'"
   ]
  },
  {
   "cell_type": "code",
   "execution_count": 8,
   "metadata": {},
   "outputs": [],
   "source": [
    "# band_filenames = [f for f in os.listdir(BANDS_DIR) if '.pkl' in f]\n",
    "# bands = [pkl.load(open(os.path.join(BANDS_DIR, f), 'rb')) for f in band_filenames]\n",
    "# band_genres = {b.name.lower(): b.genres for b in bands}"
   ]
  },
  {
   "cell_type": "code",
   "execution_count": 9,
   "metadata": {},
   "outputs": [
    {
     "name": "stdout",
     "output_type": "stream",
     "text": [
      "vocabulary size: 170519\n"
     ]
    }
   ],
   "source": [
    "# lyrics_filenames = [f for f in os.listdir(LYRICS_DIR) if '.pkl' in f]\n",
    "# lyrics = {filename.replace('.pkl', ''): pkl.load(open(os.path.join(LYRICS_DIR, filename), 'rb')) for filename in lyrics_filenames}\n",
    "# corpus = []\n",
    "# band_names = []\n",
    "# song_names = []\n",
    "# vocabulary = set()\n",
    "# genres = []\n",
    "# for band, band_lyrics in lyrics.items():\n",
    "#     if band in band_genres.keys():\n",
    "#         for album, album_lyrics in band_lyrics.items():\n",
    "#             for song, song_lyrics in album_lyrics.items():\n",
    "#                 words = []\n",
    "#                 for line in song_lyrics:\n",
    "#                     for w in line.split():\n",
    "#                         s = re.search(\"(\\w+)|(\\w+([-'])(\\w+)?[']?(\\w+))\", w.lower())\n",
    "#                         if s:\n",
    "#                             w = s.group()\n",
    "#                             if w not in stop_words:\n",
    "#                                 words.append(w)\n",
    "#                 song_name = []\n",
    "#                 for w in song.split():\n",
    "#                     s = re.search(\"(\\w+)|(\\w+([-'])(\\w+)?[']?(\\w+))\", re.sub('\\d+\\.', '', w).lower())\n",
    "#                     if s:\n",
    "#                         song_name.append(s.group())\n",
    "#                 song_name = ' '.join(song_name)\n",
    "#                 document = ' '.join(words)\n",
    "#                 if len(document) > 0:\n",
    "#                     corpus.append(document)\n",
    "#                     band_names.append(band)\n",
    "#                     song_names.append(song_name)\n",
    "#                     vocabulary.update(set(words))\n",
    "#                     genres.append(band_genres[band])\n",
    "# print(\"vocabulary size: {}\".format(len(vocabulary)))"
   ]
  },
  {
   "cell_type": "markdown",
   "metadata": {},
   "source": [
    "### Full lyrics + genres dataframe"
   ]
  },
  {
   "cell_type": "code",
   "execution_count": 10,
   "metadata": {},
   "outputs": [
    {
     "name": "stdout",
     "output_type": "stream",
     "text": [
      "(42460, 4)\n"
     ]
    },
    {
     "data": {
      "text/html": [
       "<div>\n",
       "<style scoped>\n",
       "    .dataframe tbody tr th:only-of-type {\n",
       "        vertical-align: middle;\n",
       "    }\n",
       "\n",
       "    .dataframe tbody tr th {\n",
       "        vertical-align: top;\n",
       "    }\n",
       "\n",
       "    .dataframe thead th {\n",
       "        text-align: right;\n",
       "    }\n",
       "</style>\n",
       "<table border=\"1\" class=\"dataframe\">\n",
       "  <thead>\n",
       "    <tr style=\"text-align: right;\">\n",
       "      <th></th>\n",
       "      <th>band</th>\n",
       "      <th>song</th>\n",
       "      <th>lyrics</th>\n",
       "      <th>genres</th>\n",
       "    </tr>\n",
       "  </thead>\n",
       "  <tbody>\n",
       "    <tr>\n",
       "      <td>0</td>\n",
       "      <td>aarni</td>\n",
       "      <td>myrrys</td>\n",
       "      <td>ääni tuulen varjot puiden yksinäni uneksin hal...</td>\n",
       "      <td>[avant-garde, doom]</td>\n",
       "    </tr>\n",
       "    <tr>\n",
       "      <td>1</td>\n",
       "      <td>aarni</td>\n",
       "      <td>the black keyes of r</td>\n",
       "      <td>five hundred years gone since summoned thee le...</td>\n",
       "      <td>[avant-garde, doom]</td>\n",
       "    </tr>\n",
       "    <tr>\n",
       "      <td>2</td>\n",
       "      <td>aarni</td>\n",
       "      <td>metsänpeitto sample 1 2</td>\n",
       "      <td>metsäpolulta metsän polulle metsänpeitossa for...</td>\n",
       "      <td>[avant-garde, doom]</td>\n",
       "    </tr>\n",
       "    <tr>\n",
       "      <td>3</td>\n",
       "      <td>aarni</td>\n",
       "      <td>persona mortuae cutis</td>\n",
       "      <td>yog clavis portaque cum primis digitis cutem m...</td>\n",
       "      <td>[avant-garde, doom]</td>\n",
       "    </tr>\n",
       "    <tr>\n",
       "      <td>4</td>\n",
       "      <td>aarni</td>\n",
       "      <td>ubbo</td>\n",
       "      <td>ubbo source coming zhothaqquah yok kthulhut st...</td>\n",
       "      <td>[avant-garde, doom]</td>\n",
       "    </tr>\n",
       "  </tbody>\n",
       "</table>\n",
       "</div>"
      ],
      "text/plain": [
       "    band                     song  \\\n",
       "0  aarni                   myrrys   \n",
       "1  aarni     the black keyes of r   \n",
       "2  aarni  metsänpeitto sample 1 2   \n",
       "3  aarni    persona mortuae cutis   \n",
       "4  aarni                     ubbo   \n",
       "\n",
       "                                              lyrics               genres  \n",
       "0  ääni tuulen varjot puiden yksinäni uneksin hal...  [avant-garde, doom]  \n",
       "1  five hundred years gone since summoned thee le...  [avant-garde, doom]  \n",
       "2  metsäpolulta metsän polulle metsänpeitossa for...  [avant-garde, doom]  \n",
       "3  yog clavis portaque cum primis digitis cutem m...  [avant-garde, doom]  \n",
       "4  ubbo source coming zhothaqquah yok kthulhut st...  [avant-garde, doom]  "
      ]
     },
     "execution_count": 10,
     "metadata": {},
     "output_type": "execute_result"
    }
   ],
   "source": [
    "# df_rows = [\n",
    "#     {'band': band_names[i], 'song': song_names[i], 'lyrics': corpus[i], 'genres': genres[i]} for i in range(len(corpus))\n",
    "# ]\n",
    "# df = pd.DataFrame(df_rows, columns=['band', 'song', 'lyrics', 'genres'])\n",
    "# df = df.drop_duplicates(subset=['band', 'song'])\n",
    "# print(df.shape)\n",
    "# df.head()"
   ]
  },
  {
   "cell_type": "code",
   "execution_count": 2,
   "metadata": {},
   "outputs": [],
   "source": [
    "df = pd.read_hdf('song-lyrics-genres.h5', key='df', mode='r')"
   ]
  },
  {
   "cell_type": "markdown",
   "metadata": {},
   "source": [
    "### Statistics of song word counts"
   ]
  },
  {
   "cell_type": "code",
   "execution_count": 5,
   "metadata": {},
   "outputs": [
    {
     "name": "stdout",
     "output_type": "stream",
     "text": [
      "82.0 43.0 0 710\n"
     ]
    }
   ],
   "source": [
    "song_lengths = df['lyrics'].apply(lambda x: len(x.split()))\n",
    "print(round(song_lengths.mean()), round(song_lengths.std()), song_lengths.min(), song_lengths.max())"
   ]
  },
  {
   "cell_type": "code",
   "execution_count": 6,
   "metadata": {},
   "outputs": [
    {
     "data": {
      "image/png": "[encoded data removed]",
      "text/plain": [
       "<Figure size 432x288 with 1 Axes>"
      ]
     },
     "metadata": {
      "needs_background": "light"
     },
     "output_type": "display_data"
    }
   ],
   "source": [
    "plt.fill_between(range(1, df.shape[0] + 1), 0, song_lengths.sort_values()[::-1].reset_index(drop=True))\n",
    "plt.title(\"song lengths\")\n",
    "plt.xlabel('song ranking by length')\n",
    "plt.ylabel('word count')\n",
    "plt.xscale('log')\n",
    "plt.grid(axis='both')\n",
    "plt.show()"
   ]
  },
  {
   "cell_type": "code",
   "execution_count": 7,
   "metadata": {},
   "outputs": [
    {
     "data": {
      "image/png": "[encoded data removed]",
      "text/plain": [
       "<Figure size 432x288 with 1 Axes>"
      ]
     },
     "metadata": {
      "needs_background": "light"
     },
     "output_type": "display_data"
    }
   ],
   "source": [
    "song_lengths.hist(bins=100)\n",
    "plt.title(\"song lengths\")\n",
    "plt.xlabel('word count')\n",
    "plt.ylabel('songs')\n",
    "plt.show()"
   ]
  },
  {
   "cell_type": "markdown",
   "metadata": {},
   "source": [
    "### Genres dataframe"
   ]
  },
  {
   "cell_type": "code",
   "execution_count": 3,
   "metadata": {},
   "outputs": [],
   "source": [
    "unique_genres = []\n",
    "for lst in df['genres'].tolist():\n",
    "    for x in lst:\n",
    "        if (x not in stop_words) and (not re.match('\\-.*', x)) and (x not in unique_genres):\n",
    "            unique_genres.append(x)\n",
    "unique_genres.sort()\n",
    "\n",
    "df_genres_full = pd.DataFrame(index=df.index, columns=unique_genres)\n",
    "for genre in unique_genres:\n",
    "    df_genres_full[genre] = df['genres'].apply(lambda x: 1 if genre in x else 0)\n",
    "df_genres_full['band'] = df['band'].copy()\n",
    "df_genres_bands = df_genres_full.groupby('band').max()\n",
    "df_genres_full.drop('band', axis=1, inplace=True)\n",
    "top_genres = df_genres_full.columns[df_genres_full.mean(axis=0) > 0.05]\n",
    "df_genres = df_genres_full[top_genres].copy()\n",
    "\n",
    "# genre_associations = {}\n",
    "# for genre in unique_genres:\n",
    "#     if genre not in top_genres:\n",
    "#         series = df_genres_bands[df_genres_bands[genre] == 1].sum(axis=0).sort_values(ascending=False)\n",
    "#         nearest_top_genre = series[series.index.isin(top_genres)]\n",
    "#         if nearest_top_genre.iloc[0] > 5 and nearest_top_genre.iloc[0] > 0.5 * series.iloc[0]:\n",
    "#             print(genre, nearest_top_genre.index[0], nearest_top_genre.iloc[0], series.iloc[0])\n",
    "#             genre_associations[genre] = nearest_top_genre.index[0]\n",
    "#             col = df_genres_full[nearest_top_genre.index[0]].copy()\n",
    "#             col[df_genres_full[genre] == 1] = 1\n",
    "#             df_genres_full[nearest_top_genre.index[0]] = col\n",
    "\n",
    "# top_genres = df_genres_full.columns[df_genres_full.mean(axis=0) > 0.1]\n",
    "# df_genres = df_genres_full[top_genres].copy()\n",
    "# df_genres['other'] = (df_genres.sum(axis=1) == 0).astype(int)\n",
    "# # df_genres.head()"
   ]
  },
  {
   "cell_type": "code",
   "execution_count": 4,
   "metadata": {},
   "outputs": [
    {
     "data": {
      "text/plain": [
       "death          0.324458\n",
       "black          0.228039\n",
       "thrash         0.192096\n",
       "power          0.164412\n",
       "heavy          0.163805\n",
       "progressive    0.110666\n",
       "melodic        0.105962\n",
       "rock           0.095136\n",
       "doom           0.074430\n",
       "speed          0.074115\n",
       "folk           0.057392\n",
       "groove         0.055209\n",
       "symphonic      0.051203\n",
       "dtype: float64"
      ]
     },
     "execution_count": 4,
     "metadata": {},
     "output_type": "execute_result"
    }
   ],
   "source": [
    "df_genres.mean(axis=0).sort_values(ascending=False)"
   ]
  },
  {
   "cell_type": "markdown",
   "metadata": {},
   "source": [
    "## Tokenization & oversampling"
   ]
  },
  {
   "cell_type": "markdown",
   "metadata": {},
   "source": [
    "### Train-test split lyrics and single genre label"
   ]
  },
  {
   "cell_type": "code",
   "execution_count": 5,
   "metadata": {},
   "outputs": [],
   "source": [
    "corpus_train, corpus_test, y_train, y_test = train_test_split(df['lyrics'].values, df_genres['power'].values, test_size=0.2)"
   ]
  },
  {
   "cell_type": "markdown",
   "metadata": {},
   "source": [
    "### Transform corpuses with vectorizer fit to training corpus"
   ]
  },
  {
   "cell_type": "code",
   "execution_count": 6,
   "metadata": {},
   "outputs": [
    {
     "name": "stdout",
     "output_type": "stream",
     "text": [
      "(35544, 147204) (8887, 147204) (35544,) (8887,)\n"
     ]
    }
   ],
   "source": [
    "vectorizer = CountVectorizer()\n",
    "vectorizer.fit(corpus_train)\n",
    "X_train = vectorizer.transform(corpus_train)\n",
    "X_test = vectorizer.transform(corpus_test)\n",
    "print(X_train.shape, X_test.shape, y_train.shape, y_test.shape)"
   ]
  },
  {
   "cell_type": "markdown",
   "metadata": {},
   "source": [
    "### Feature reduction"
   ]
  },
  {
   "cell_type": "code",
   "execution_count": 7,
   "metadata": {},
   "outputs": [],
   "source": [
    "class FeatureReducer(BaseEstimator, TransformerMixin):\n",
    "    def __init__(self, thresh=0):\n",
    "        self.thresh = thresh\n",
    "\n",
    "    def fit(self, X, y=None):\n",
    "        self.features = np.arange(X.shape[1])\n",
    "        self.features_reduced = self.features[np.array(X.mean(axis=0) > self.thresh * X.mean()).flatten()]\n",
    "        return self\n",
    "\n",
    "    def transform(self, X):\n",
    "        return X[:, self.features_reduced]\n",
    "\n",
    "#     def transform(self, *args):\n",
    "#         out = ()\n",
    "#         for X in args:\n",
    "#             out += (X[:, self.features_reduced],)\n",
    "#         return out\n",
    "\n",
    "feature_reducer = FeatureReducer(0)"
   ]
  },
  {
   "cell_type": "markdown",
   "metadata": {},
   "source": [
    "### Cross-validation"
   ]
  },
  {
   "cell_type": "code",
   "execution_count": 21,
   "metadata": {},
   "outputs": [],
   "source": [
    "def cross_validation(model, X, y, n_splits=3):\n",
    "    out = {}\n",
    "    kfold = StratifiedKFold(n_splits=n_splits, shuffle=True, random_state=0)\n",
    "    scores = np.zeros(n_splits)\n",
    "    confusion_matrices = np.zeros((n_splits, 2, 2))\n",
    "    for i, (train_idx, valid_idx) in enumerate(kfold.split(X, y)):\n",
    "        X_fold_train, y_fold_train = X_train[train_idx], y_train[train_idx]\n",
    "        X_fold_valid, y_fold_valid = X_train[valid_idx], y_train[valid_idx]\n",
    "        model_ = clone(model)\n",
    "        model_.fit(X_fold_train, y_fold_train)\n",
    "        y_fold_pred = model_.predict(X_fold_valid)\n",
    "        out[i] = [y_fold_valid, y_fold_pred]\n",
    "    return out"
   ]
  },
  {
   "cell_type": "markdown",
   "metadata": {},
   "source": [
    "## Random forest classifier"
   ]
  },
  {
   "cell_type": "code",
   "execution_count": 22,
   "metadata": {},
   "outputs": [],
   "source": [
    "feature_reducer = FeatureReducer(0)\n",
    "oversampler = RandomOverSampler(random_state=0)\n",
    "rf_params = dict(\n",
    "    n_estimators=100,\n",
    "    max_depth=30,\n",
    "    max_features='auto',\n",
    "    min_samples_leaf=1,\n",
    "    min_samples_split=2,\n",
    "    bootstrap=True,\n",
    "    n_jobs=-1,\n",
    "    random_state=0\n",
    ")\n",
    "random_forest = RandomForestClassifier(**rf_params)\n",
    "n_splits = 5\n",
    "\n",
    "pipeline = Pipeline(\n",
    "    [\n",
    "        ('featurereducer', feature_reducer),\n",
    "        ('oversampler', oversampler),\n",
    "        ('randomforest', random_forest)\n",
    "    ]\n",
    ")\n",
    "results = cross_validation(pipeline, X_train, y_train, n_splits)"
   ]
  },
  {
   "cell_type": "code",
   "execution_count": 23,
   "metadata": {},
   "outputs": [
    {
     "name": "stdout",
     "output_type": "stream",
     "text": [
      "CV score: 71.38% +/- 1.30%\n",
      "Average confusion matrix:\n",
      "[[0.71615463 0.12007652]\n",
      " [0.07022282 0.09354603]]\n"
     ]
    }
   ],
   "source": [
    "scores = np.zeros(n_splits)\n",
    "confusion_matrices = np.zeros((n_splits, 2, 2))\n",
    "for k, v in results.items():\n",
    "    y_fold_valid, y_fold_pred = v\n",
    "    scores[k] = balanced_accuracy_score(y_fold_valid, y_fold_pred)\n",
    "    confusion_matrices[k] = confusion_matrix(y_fold_valid, y_fold_pred)\n",
    "print(\"CV score: {:.2f}% +/- {:.2f}%\".format(scores.mean()* 100, scores.std() * 200))\n",
    "print(\"Average confusion matrix:\")\n",
    "print(confusion_matrices.mean(axis=0) / confusion_matrices.sum() * n_splits)"
   ]
  },
  {
   "cell_type": "markdown",
   "metadata": {},
   "source": [
    "## Logistic regression"
   ]
  },
  {
   "cell_type": "code",
   "execution_count": 94,
   "metadata": {},
   "outputs": [
    {
     "name": "stderr",
     "output_type": "stream",
     "text": [
      "C:\\Users\\philippe\\Anaconda3\\envs\\ml\\lib\\site-packages\\sklearn\\linear_model\\logistic.py:432: FutureWarning: Default solver will be changed to 'lbfgs' in 0.22. Specify a solver to silence this warning.\n",
      "  FutureWarning)\n",
      "C:\\Users\\philippe\\Anaconda3\\envs\\ml\\lib\\site-packages\\sklearn\\linear_model\\logistic.py:432: FutureWarning: Default solver will be changed to 'lbfgs' in 0.22. Specify a solver to silence this warning.\n",
      "  FutureWarning)\n",
      "C:\\Users\\philippe\\Anaconda3\\envs\\ml\\lib\\site-packages\\sklearn\\linear_model\\logistic.py:432: FutureWarning: Default solver will be changed to 'lbfgs' in 0.22. Specify a solver to silence this warning.\n",
      "  FutureWarning)\n",
      "C:\\Users\\philippe\\Anaconda3\\envs\\ml\\lib\\site-packages\\sklearn\\linear_model\\logistic.py:432: FutureWarning: Default solver will be changed to 'lbfgs' in 0.22. Specify a solver to silence this warning.\n",
      "  FutureWarning)\n",
      "C:\\Users\\philippe\\Anaconda3\\envs\\ml\\lib\\site-packages\\sklearn\\linear_model\\logistic.py:432: FutureWarning: Default solver will be changed to 'lbfgs' in 0.22. Specify a solver to silence this warning.\n",
      "  FutureWarning)\n"
     ]
    }
   ],
   "source": [
    "feature_reducer = FeatureReducer(0)\n",
    "oversampler = RandomOverSampler(random_state=0)\n",
    "lr_params = dict(\n",
    "    random_state=0\n",
    ")\n",
    "logistic_regression = LogisticRegression(**lr_params)\n",
    "n_splits = 5\n",
    "\n",
    "pipeline = Pipeline(\n",
    "    [\n",
    "        ('featurereducer', feature_reducer),\n",
    "        ('oversampler', oversampler),\n",
    "        ('logreg', logistic_regression)\n",
    "    ]\n",
    ")\n",
    "results = cross_validation(pipeline, X_train, y_train, n_splits)"
   ]
  },
  {
   "cell_type": "code",
   "execution_count": 95,
   "metadata": {},
   "outputs": [
    {
     "name": "stdout",
     "output_type": "stream",
     "text": [
      "CV score: 68.40% +/- 1.47%\n",
      "Average confusion matrix:\n",
      "[[0.72509421 0.11166392]\n",
      " [0.08140014 0.08184173]]\n"
     ]
    }
   ],
   "source": [
    "scores = np.zeros(n_splits)\n",
    "confusion_matrices = np.zeros((n_splits, 2, 2))\n",
    "for k, v in results.items():\n",
    "    y_fold_valid, y_fold_pred = v\n",
    "    scores[k] = balanced_accuracy_score(y_fold_valid, y_fold_pred)\n",
    "    confusion_matrices[k] = confusion_matrix(y_fold_valid, y_fold_pred)\n",
    "print(\"CV score: {:.2f}% +/- {:.2f}%\".format(scores.mean()* 100, scores.std() * 200))\n",
    "print(\"Average confusion matrix:\")\n",
    "print(confusion_matrices.mean(axis=0) / confusion_matrices.sum() * n_splits)"
   ]
  },
  {
   "cell_type": "markdown",
   "metadata": {},
   "source": [
    "## Stacked model"
   ]
  },
  {
   "cell_type": "code",
   "execution_count": 30,
   "metadata": {},
   "outputs": [],
   "source": [
    "class StackedModel(BaseEstimator, TransformerMixin):\n",
    "    def __init__(self, clfs=[], meta_clf=None):\n",
    "        self.clfs = clfs\n",
    "        self.meta_clf = meta_clf\n",
    "\n",
    "    def fit(self, X, y, split_test_size=0.2):\n",
    "        X_train, X_test, y_train, y_test = train_test_split(X, y, test_size=split_test_size)\n",
    "        y_prob = np.zeros((X_test.shape[0], len(self.clfs)))\n",
    "        for j, clf in enumerate(self.clfs):\n",
    "            clf.fit(X_train, y_train)\n",
    "            y_prob[:, j] = clf.predict_proba(X_test)[:, 1]\n",
    "        self.meta_clf.fit(y_prob, y_test)\n",
    "        return self\n",
    "\n",
    "    def predict(self, X):\n",
    "        y_prob = np.zeros((X.shape[0], len(self.clfs)))\n",
    "        for j, clf in enumerate(self.clfs):\n",
    "            y_prob[:, j] = clf.predict_proba(X)[:, 1]\n",
    "        y_pred = self.meta_clf.predict(y_prob)\n",
    "        return y_pred"
   ]
  },
  {
   "cell_type": "code",
   "execution_count": 31,
   "metadata": {},
   "outputs": [
    {
     "name": "stderr",
     "output_type": "stream",
     "text": [
      "D:\\Anaconda3\\envs\\metallyrics\\lib\\site-packages\\sklearn\\linear_model\\logistic.py:432: FutureWarning: Default solver will be changed to 'lbfgs' in 0.22. Specify a solver to silence this warning.\n",
      "  FutureWarning)\n",
      "D:\\Anaconda3\\envs\\metallyrics\\lib\\site-packages\\sklearn\\linear_model\\logistic.py:432: FutureWarning: Default solver will be changed to 'lbfgs' in 0.22. Specify a solver to silence this warning.\n",
      "  FutureWarning)\n",
      "D:\\Anaconda3\\envs\\metallyrics\\lib\\site-packages\\sklearn\\linear_model\\logistic.py:432: FutureWarning: Default solver will be changed to 'lbfgs' in 0.22. Specify a solver to silence this warning.\n",
      "  FutureWarning)\n",
      "D:\\Anaconda3\\envs\\metallyrics\\lib\\site-packages\\sklearn\\linear_model\\logistic.py:432: FutureWarning: Default solver will be changed to 'lbfgs' in 0.22. Specify a solver to silence this warning.\n",
      "  FutureWarning)\n",
      "D:\\Anaconda3\\envs\\metallyrics\\lib\\site-packages\\sklearn\\linear_model\\logistic.py:432: FutureWarning: Default solver will be changed to 'lbfgs' in 0.22. Specify a solver to silence this warning.\n",
      "  FutureWarning)\n"
     ]
    }
   ],
   "source": [
    "feature_reducer = FeatureReducer(0)\n",
    "oversampler = RandomOverSampler(random_state=0)\n",
    "rf_params = dict(\n",
    "    n_estimators=100,\n",
    "    max_depth=30,\n",
    "    max_features='auto',\n",
    "    min_samples_leaf=1,\n",
    "    min_samples_split=2,\n",
    "    bootstrap=True,\n",
    "    n_jobs=-1,\n",
    "    random_state=0\n",
    ")\n",
    "random_forest = RandomForestClassifier(**rf_params)\n",
    "lr_params = dict(\n",
    "    random_state=0\n",
    ")\n",
    "logistic_regression = LogisticRegression(**lr_params)\n",
    "stacked_model = StackedModel([random_forest], logistic_regression)\n",
    "n_splits = 5\n",
    "\n",
    "pipeline = Pipeline(\n",
    "    [\n",
    "        ('featurereducer', feature_reducer),\n",
    "        ('oversampler', oversampler),\n",
    "        ('stackedmodel', stacked_model)\n",
    "    ]\n",
    ")\n",
    "results = cross_validation(pipeline, X_train, y_train, n_splits)"
   ]
  },
  {
   "cell_type": "code",
   "execution_count": 32,
   "metadata": {},
   "outputs": [
    {
     "name": "stdout",
     "output_type": "stream",
     "text": [
      "CV score: 71.04% +/- 1.04%\n",
      "Average confusion matrix:\n",
      "[[0.72712694 0.10910421]\n",
      " [0.07348638 0.09028247]]\n"
     ]
    }
   ],
   "source": [
    "scores = np.zeros(n_splits)\n",
    "confusion_matrices = np.zeros((n_splits, 2, 2))\n",
    "for k, v in results.items():\n",
    "    y_fold_valid, y_fold_pred = v\n",
    "    scores[k] = balanced_accuracy_score(y_fold_valid, y_fold_pred)\n",
    "    confusion_matrices[k] = confusion_matrix(y_fold_valid, y_fold_pred)\n",
    "print(\"CV score: {:.2f}% +/- {:.2f}%\".format(scores.mean()* 100, scores.std() * 200))\n",
    "print(\"Average confusion matrix:\")\n",
    "print(confusion_matrices.mean(axis=0) / confusion_matrices.sum() * n_splits)"
   ]
  },
  {
   "cell_type": "markdown",
   "metadata": {},
   "source": [
    "# Test with Keras model"
   ]
  },
  {
   "cell_type": "code",
   "execution_count": 33,
   "metadata": {},
   "outputs": [],
   "source": [
    "def nn_model(input_dim):\n",
    "    model = Sequential()\n",
    "    model.add(layers.Dense(40, input_dim=input_dim, activation='relu'))\n",
    "    model.add(layers.Dense(1, activation='sigmoid'))\n",
    "    model.compile(\n",
    "        optimizer='adam',\n",
    "        loss='binary_crossentropy',\n",
    "        metrics=['binary_accuracy']\n",
    "    )\n",
    "    return model\n",
    "\n",
    "def nn_batch_generator(X_data, y_data, batch_size):\n",
    "    number_of_batches = X_data.shape[0] // batch_size\n",
    "    counter = 0\n",
    "    index = np.arange(np.shape(y_data)[0])\n",
    "    while 1:\n",
    "        index_batch = index[batch_size * counter:batch_size * (counter + 1)]\n",
    "        X_batch = X_data[index_batch, :].todense()\n",
    "        y_batch = y_data[index_batch]\n",
    "        counter += 1\n",
    "        yield np.array(X_batch), y_batch\n",
    "        if (counter > number_of_batches):\n",
    "            counter = 0"
   ]
  },
  {
   "cell_type": "code",
   "execution_count": 34,
   "metadata": {},
   "outputs": [
    {
     "name": "stdout",
     "output_type": "stream",
     "text": [
      "WARNING:tensorflow:From D:\\Anaconda3\\envs\\metallyrics\\lib\\site-packages\\tensorflow\\python\\ops\\nn_impl.py:180: add_dispatch_support.<locals>.wrapper (from tensorflow.python.ops.array_ops) is deprecated and will be removed in a future version.\n",
      "Instructions for updating:\n",
      "Use tf.where in 2.0, which has the same broadcast rule as np.where\n",
      "WARNING:tensorflow:From D:\\Anaconda3\\envs\\metallyrics\\lib\\site-packages\\keras\\backend\\tensorflow_backend.py:422: The name tf.global_variables is deprecated. Please use tf.compat.v1.global_variables instead.\n",
      "\n",
      "Train on 47556 samples, validate on 7110 samples\n",
      "Epoch 1/5\n",
      "47556/47556 [==============================] - 54s 1ms/step - loss: 0.3913 - binary_accuracy: 0.8555 - val_loss: 0.4891 - val_binary_accuracy: 0.7900\n",
      "Epoch 2/5\n",
      "47556/47556 [==============================] - 52s 1ms/step - loss: 0.1912 - binary_accuracy: 0.9276 - val_loss: 0.5316 - val_binary_accuracy: 0.8127\n",
      "Train on 47556 samples, validate on 7109 samples\n",
      "Epoch 1/5\n",
      "47556/47556 [==============================] - 52s 1ms/step - loss: 0.3972 - binary_accuracy: 0.8527 - val_loss: 0.4705 - val_binary_accuracy: 0.8086\n",
      "Epoch 2/5\n",
      "47556/47556 [==============================] - 52s 1ms/step - loss: 0.2004 - binary_accuracy: 0.9254 - val_loss: 0.5135 - val_binary_accuracy: 0.8139\n",
      "Train on 47556 samples, validate on 7109 samples\n",
      "Epoch 1/5\n",
      "47556/47556 [==============================] - 51s 1ms/step - loss: 0.4067 - binary_accuracy: 0.8497 - val_loss: 0.4551 - val_binary_accuracy: 0.7995\n",
      "Epoch 2/5\n",
      "47556/47556 [==============================] - 51s 1ms/step - loss: 0.2109 - binary_accuracy: 0.9218 - val_loss: 0.4986 - val_binary_accuracy: 0.8005\n",
      "Train on 47558 samples, validate on 7108 samples\n",
      "Epoch 1/5\n",
      "47558/47558 [==============================] - 57s 1ms/step - loss: 0.3870 - binary_accuracy: 0.8491 - val_loss: 0.4514 - val_binary_accuracy: 0.8120\n",
      "Epoch 2/5\n",
      "47558/47558 [==============================] - 51s 1ms/step - loss: 0.1865 - binary_accuracy: 0.9296 - val_loss: 0.4975 - val_binary_accuracy: 0.8092\n",
      "Train on 47558 samples, validate on 7108 samples\n",
      "Epoch 1/5\n",
      "47558/47558 [==============================] - 107s 2ms/step - loss: 0.3945 - binary_accuracy: 0.8531 - val_loss: 0.4906 - val_binary_accuracy: 0.7907\n",
      "Epoch 2/5\n",
      "47558/47558 [==============================] - 132s 3ms/step - loss: 0.1953 - binary_accuracy: 0.9261 - val_loss: 0.5492 - val_binary_accuracy: 0.8001\n",
      "CV score: 65.77% +/- 3.61%\n",
      "Average confusion matrix:\n",
      "[[0.73601733 0.10021382]\n",
      " [0.09250506 0.07126379]]\n"
     ]
    }
   ],
   "source": [
    "epochs = 5\n",
    "batch_size = 128\n",
    "feature_reducer = FeatureReducer(0)\n",
    "oversampler = SMOTE(random_state=0)\n",
    "\n",
    "n_splits = 5\n",
    "kfold = StratifiedKFold(n_splits=n_splits, shuffle=True, random_state=0)\n",
    "scores = np.zeros(n_splits)\n",
    "confusion_matrices = np.zeros((n_splits, 2, 2))\n",
    "for i, (train_idx, valid_idx) in enumerate(kfold.split(X_train, y_train)):\n",
    "    X_fold_train, y_fold_train = X_train[train_idx], y_train[train_idx]\n",
    "    X_fold_valid, y_fold_valid = X_train[valid_idx], y_train[valid_idx]\n",
    "    feature_reducer.fit(X_fold_train)\n",
    "    X_fold_train = feature_reducer.transform(X_fold_train)\n",
    "    X_fold_valid = feature_reducer.transform(X_fold_valid)\n",
    "    X_fold_train, y_fold_train = oversampler.fit_resample(X_fold_train, y_fold_train)\n",
    "    keras_model = KerasClassifier(\n",
    "        nn_model,\n",
    "        input_dim=X_fold_train.shape[1],\n",
    "        epochs=epochs,\n",
    "        batch_size=batch_size,\n",
    "        callbacks=[EarlyStopping(monitor='val_loss', min_delta=0.01, patience=0)],\n",
    "        validation_data=(X_fold_valid, y_fold_valid)\n",
    "    )\n",
    "    keras_model.fit(X_fold_train, y_fold_train)\n",
    "    y_fold_pred = keras_model.predict(X_fold_valid)\n",
    "    scores[i] = balanced_accuracy_score(y_fold_valid, y_fold_pred)\n",
    "    confusion_matrices[i] = confusion_matrix(y_fold_valid, y_fold_pred)\n",
    "print(\"CV score: {:.2f}% +/- {:.2f}%\".format(scores.mean()* 100, scores.std() * 200))\n",
    "print(\"Average confusion matrix:\")\n",
    "print(confusion_matrices.mean(axis=0) / confusion_matrices.sum() * n_splits)"
   ]
  },
  {
   "cell_type": "markdown",
   "metadata": {},
   "source": [
    "## Stacking RF with NN"
   ]
  },
  {
   "cell_type": "code",
   "execution_count": 159,
   "metadata": {},
   "outputs": [
    {
     "name": "stdout",
     "output_type": "stream",
     "text": [
      "Epoch 1/1\n",
      "36380/36380 [==============================] - 61s 2ms/step - loss: 0.3912 - binary_accuracy: 0.8296\n"
     ]
    },
    {
     "name": "stderr",
     "output_type": "stream",
     "text": [
      "C:\\Users\\philippe\\Anaconda3\\envs\\ml\\lib\\site-packages\\sklearn\\linear_model\\logistic.py:432: FutureWarning: Default solver will be changed to 'lbfgs' in 0.22. Specify a solver to silence this warning.\n",
      "  FutureWarning)\n"
     ]
    },
    {
     "name": "stdout",
     "output_type": "stream",
     "text": [
      "Epoch 1/1\n",
      "36380/36380 [==============================] - 61s 2ms/step - loss: 0.4036 - binary_accuracy: 0.8233\n"
     ]
    },
    {
     "name": "stderr",
     "output_type": "stream",
     "text": [
      "C:\\Users\\philippe\\Anaconda3\\envs\\ml\\lib\\site-packages\\sklearn\\linear_model\\logistic.py:432: FutureWarning: Default solver will be changed to 'lbfgs' in 0.22. Specify a solver to silence this warning.\n",
      "  FutureWarning)\n"
     ]
    },
    {
     "name": "stdout",
     "output_type": "stream",
     "text": [
      "Epoch 1/1\n",
      "36380/36380 [==============================] - 61s 2ms/step - loss: 0.4031 - binary_accuracy: 0.8275\n"
     ]
    },
    {
     "name": "stderr",
     "output_type": "stream",
     "text": [
      "C:\\Users\\philippe\\Anaconda3\\envs\\ml\\lib\\site-packages\\sklearn\\linear_model\\logistic.py:432: FutureWarning: Default solver will be changed to 'lbfgs' in 0.22. Specify a solver to silence this warning.\n",
      "  FutureWarning)\n"
     ]
    },
    {
     "name": "stdout",
     "output_type": "stream",
     "text": [
      "Epoch 1/1\n",
      "36382/36382 [==============================] - 66s 2ms/step - loss: 0.3995 - binary_accuracy: 0.8255\n"
     ]
    },
    {
     "name": "stderr",
     "output_type": "stream",
     "text": [
      "C:\\Users\\philippe\\Anaconda3\\envs\\ml\\lib\\site-packages\\sklearn\\linear_model\\logistic.py:432: FutureWarning: Default solver will be changed to 'lbfgs' in 0.22. Specify a solver to silence this warning.\n",
      "  FutureWarning)\n"
     ]
    },
    {
     "name": "stdout",
     "output_type": "stream",
     "text": [
      "Epoch 1/1\n",
      "36382/36382 [==============================] - 63s 2ms/step - loss: 0.3920 - binary_accuracy: 0.8311\n"
     ]
    },
    {
     "name": "stderr",
     "output_type": "stream",
     "text": [
      "C:\\Users\\philippe\\Anaconda3\\envs\\ml\\lib\\site-packages\\sklearn\\linear_model\\logistic.py:432: FutureWarning: Default solver will be changed to 'lbfgs' in 0.22. Specify a solver to silence this warning.\n",
      "  FutureWarning)\n"
     ]
    }
   ],
   "source": [
    "feature_reducer = FeatureReducer(0)\n",
    "oversampler = RandomOverSampler(random_state=0)\n",
    "rf_params = dict(\n",
    "    n_estimators=100,\n",
    "    max_depth=30,\n",
    "    max_features='auto',\n",
    "    min_samples_leaf=1,\n",
    "    min_samples_split=2,\n",
    "    bootstrap=True,\n",
    "    n_jobs=-1,\n",
    "    random_state=0\n",
    ")\n",
    "random_forest = RandomForestClassifier(**rf_params)\n",
    "nn_params = dict(\n",
    "    epochs=1,\n",
    "    batch_size=128\n",
    ")\n",
    "keras_nn = KerasClassifier(nn_model, input_dim=X_train.shape[1], **nn_params)\n",
    "lr_params = dict(\n",
    "    random_state=0\n",
    ")\n",
    "logistic_regression = LogisticRegression(**lr_params)\n",
    "stacked_model = StackedModel([random_forest, keras_nn], logistic_regression)\n",
    "n_splits = 5\n",
    "\n",
    "pipeline = Pipeline(\n",
    "    [\n",
    "#         ('featurereducer', feature_reducer),\n",
    "        ('oversampler', oversampler),\n",
    "        ('stackedmodel', stacked_model)\n",
    "    ]\n",
    ")\n",
    "results = cross_validation(pipeline, X_train, y_train, n_splits)"
   ]
  },
  {
   "cell_type": "code",
   "execution_count": 160,
   "metadata": {},
   "outputs": [
    {
     "name": "stdout",
     "output_type": "stream",
     "text": [
      "CV score: 71.72% +/- 1.04%\n",
      "Average confusion matrix:\n",
      "[[0.74258125 0.09417687]\n",
      " [0.07395195 0.08928992]]\n"
     ]
    }
   ],
   "source": [
    "scores = np.zeros(n_splits)\n",
    "confusion_matrices = np.zeros((n_splits, 2, 2))\n",
    "for k, v in results.items():\n",
    "    y_fold_valid, y_fold_pred = v\n",
    "    scores[k] = balanced_accuracy_score(y_fold_valid, y_fold_pred)\n",
    "    confusion_matrices[k] = confusion_matrix(y_fold_valid, y_fold_pred)\n",
    "print(\"CV score: {:.2f}% +/- {:.2f}%\".format(scores.mean()* 100, scores.std() * 200))\n",
    "print(\"Average confusion matrix:\")\n",
    "print(confusion_matrices.mean(axis=0) / confusion_matrices.sum() * n_splits)"
   ]
  },
  {
   "cell_type": "code",
   "execution_count": 33,
   "metadata": {},
   "outputs": [
    {
     "name": "stdout",
     "output_type": "stream",
     "text": [
      "Epoch 1/1\n",
      "30316/30316 [==============================] - 5s 149us/step - loss: 0.4279 - binary_accuracy: 0.8083\n"
     ]
    },
    {
     "name": "stderr",
     "output_type": "stream",
     "text": [
      "C:\\Users\\philippe\\Anaconda3\\envs\\ml\\lib\\site-packages\\sklearn\\linear_model\\logistic.py:432: FutureWarning: Default solver will be changed to 'lbfgs' in 0.22. Specify a solver to silence this warning.\n",
      "  FutureWarning)\n"
     ]
    },
    {
     "name": "stdout",
     "output_type": "stream",
     "text": [
      "Epoch 1/1\n",
      "30318/30318 [==============================] - 5s 155us/step - loss: 0.4212 - binary_accuracy: 0.8162\n"
     ]
    },
    {
     "name": "stderr",
     "output_type": "stream",
     "text": [
      "C:\\Users\\philippe\\Anaconda3\\envs\\ml\\lib\\site-packages\\sklearn\\linear_model\\logistic.py:432: FutureWarning: Default solver will be changed to 'lbfgs' in 0.22. Specify a solver to silence this warning.\n",
      "  FutureWarning)\n"
     ]
    },
    {
     "name": "stdout",
     "output_type": "stream",
     "text": [
      "Epoch 1/1\n",
      "30318/30318 [==============================] - 5s 154us/step - loss: 0.4244 - binary_accuracy: 0.8134\n"
     ]
    },
    {
     "name": "stderr",
     "output_type": "stream",
     "text": [
      "C:\\Users\\philippe\\Anaconda3\\envs\\ml\\lib\\site-packages\\sklearn\\linear_model\\logistic.py:432: FutureWarning: Default solver will be changed to 'lbfgs' in 0.22. Specify a solver to silence this warning.\n",
      "  FutureWarning)\n"
     ]
    },
    {
     "name": "stdout",
     "output_type": "stream",
     "text": [
      "CV score: 71.28% +/- 1.62%\n",
      "Average confusion matrix:\n",
      "[[0.75691828 0.07983985]\n",
      " [0.07819124 0.08505064]]\n"
     ]
    }
   ],
   "source": [
    "feature_reducer = FeatureReducer(0)\n",
    "oversampler = RandomOverSampler(random_state=0)\n",
    "rf_params = dict(\n",
    "    n_estimators=100,\n",
    "    max_depth=30,\n",
    "    max_features='auto',\n",
    "    min_samples_leaf=1,\n",
    "    min_samples_split=2,\n",
    "    bootstrap=True,\n",
    "    n_jobs=-1,\n",
    "    random_state=0\n",
    ")\n",
    "nn_params = dict(\n",
    "    epochs=1,\n",
    "    batch_size=128\n",
    ")\n",
    "lr_params = dict(\n",
    "    random_state=0\n",
    ")\n",
    "n_splits = 3\n",
    "\n",
    "kfold = StratifiedKFold(n_splits=n_splits, shuffle=True, random_state=0)\n",
    "scores = np.zeros(n_splits)\n",
    "confusion_matrices = np.zeros((n_splits, 2, 2))\n",
    "\n",
    "for i, (train_idx, valid_idx) in enumerate(kfold.split(X_train, y_train)):\n",
    "    X_fold_train, y_fold_train = X_train[train_idx], y_train[train_idx]\n",
    "    X_fold_valid, y_fold_valid = X_train[valid_idx], y_train[valid_idx]\n",
    "    feature_reducer.fit(X_fold_train)\n",
    "    X_fold_train = feature_reducer.transform(X_fold_train)\n",
    "    X_fold_valid = feature_reducer.transform(X_fold_valid)\n",
    "    X_fold_train, y_fold_train = oversampler.fit_resample(X_fold_train, y_fold_train)\n",
    "\n",
    "    rf_model = RandomForestClassifier(**rf_params)\n",
    "    keras_model = KerasClassifier(nn_model, input_dim=X_fold_train.shape[1], **nn_params)\n",
    "    lr_model = LogisticRegression(**lr_params)\n",
    "    clfs = [rf_model, keras_model]\n",
    "    meta_clf = lr_model\n",
    "\n",
    "    stacked_model = StackedModel([rf_model, keras_model], lr_model)\n",
    "    stacked_model.fit(X_fold_train, y_fold_train)\n",
    "    y_fold_pred = stacked_model.predict(X_fold_valid)\n",
    "\n",
    "    scores[i] = balanced_accuracy_score(y_fold_valid, y_fold_pred)\n",
    "    confusion_matrices[i] = confusion_matrix(y_fold_valid, y_fold_pred)\n",
    "\n",
    "print(\"CV score: {:.2f}% +/- {:.2f}%\".format(scores.mean()* 100, scores.std() * 200))\n",
    "print(\"Average confusion matrix:\")\n",
    "print(confusion_matrices.mean(axis=0) / confusion_matrices.sum() * n_splits)"
   ]
  }
 ],
 "metadata": {
  "kernelspec": {
   "display_name": "Python [conda env:metallyrics]",
   "language": "python",
   "name": "conda-env-metallyrics-py"
  },
  "language_info": {
   "codemirror_mode": {
    "name": "ipython",
    "version": 3
   },
   "file_extension": ".py",
   "mimetype": "text/x-python",
   "name": "python",
   "nbconvert_exporter": "python",
   "pygments_lexer": "ipython3",
   "version": "3.7.4"
  }
 },
 "nbformat": 4,
 "nbformat_minor": 4
}

{
 "cells": [
  {
   "cell_type": "code",
   "execution_count": 1,
   "id": "a6362915-0552-41d8-bb4a-c1714133993f",
   "metadata": {},
   "outputs": [],
   "source": [
    "import os\n",
    "import sys\n",
    "import numpy as np\n",
    "import pandas as pd\n",
    "import matplotlib.pyplot as plt"
   ]
  },
  {
   "cell_type": "code",
   "execution_count": 2,
   "id": "4820c71c-4ca8-4c53-af45-0637f5b4d5e4",
   "metadata": {},
   "outputs": [],
   "source": [
    "from tensorflow import keras\n",
    "from tensorflow.keras.preprocessing.text import Tokenizer\n",
    "from tensorflow.keras.preprocessing.sequence import pad_sequences\n",
    "from tensorflow.keras import Sequential\n",
    "from tensorflow.keras import layers\n",
    "from tensorflow.keras.optimizers import Adam\n",
    "from tensorflow.keras.callbacks import EarlyStopping"
   ]
  },
  {
   "cell_type": "code",
   "execution_count": 3,
   "id": "29251935-fb33-45d3-aab9-30b5ebe51c43",
   "metadata": {},
   "outputs": [],
   "source": [
    "from sklearn.model_selection import train_test_split\n",
    "from skmultilearn.model_selection import IterativeStratification"
   ]
  },
  {
   "cell_type": "code",
   "execution_count": 4,
   "id": "a043913b-ee2c-42d4-9e4a-cabff99742d9",
   "metadata": {},
   "outputs": [],
   "source": [
    "from gensim.models import Word2Vec"
   ]
  },
  {
   "cell_type": "code",
   "execution_count": 5,
   "id": "1a042552-a340-4904-8b82-06bfdb61c1ef",
   "metadata": {},
   "outputs": [],
   "source": [
    "sys.path.append(\"../scripts/\")\n",
    "from ml_utils import MultiLabelClassification"
   ]
  },
  {
   "cell_type": "markdown",
   "id": "a3c35b77-761b-4592-817e-552d8795ddf6",
   "metadata": {
    "tags": []
   },
   "source": [
    "# Data preprocessing\n",
    "\n",
    "The lyrics are tokenized, then converted into sequences to generate a zero-padded $n$-by-$m$ feature matrix $X$ where $n$ is the number of songs and $m$ is the maximum token length (word count) among songs."
   ]
  },
  {
   "cell_type": "code",
   "execution_count": 6,
   "id": "2800cefb-a67b-46cd-8893-d63150144b16",
   "metadata": {},
   "outputs": [],
   "source": [
    "df = pd.read_csv(\"../songs-ml-10pct.csv\")"
   ]
  },
  {
   "cell_type": "code",
   "execution_count": 7,
   "id": "d1675a76-599b-4983-8309-53d24db9e341",
   "metadata": {},
   "outputs": [
    {
     "data": {
      "text/plain": [
       "count    58174.000000\n",
       "mean       167.738234\n",
       "std         85.684165\n",
       "min          1.000000\n",
       "25%        111.000000\n",
       "50%        156.000000\n",
       "75%        210.000000\n",
       "max       2392.000000\n",
       "Name: lyrics, dtype: float64"
      ]
     },
     "execution_count": 7,
     "metadata": {},
     "output_type": "execute_result"
    }
   ],
   "source": [
    "df.lyrics.str.split().apply(len).describe()"
   ]
  },
  {
   "cell_type": "code",
   "execution_count": 8,
   "id": "98c07a4b-0e0d-49dd-b97b-f7ad8e4e8632",
   "metadata": {},
   "outputs": [],
   "source": [
    "input_length = df.lyrics.str.split().apply(len).max()"
   ]
  },
  {
   "cell_type": "code",
   "execution_count": 9,
   "id": "c510fc2e-9357-4f41-a0e5-d63d84c56c7e",
   "metadata": {},
   "outputs": [
    {
     "name": "stdout",
     "output_type": "stream",
     "text": [
      "black: 17%\n",
      "death: 34%\n",
      "heavy: 17%\n",
      "power: 20%\n",
      "thrash: 18%\n"
     ]
    }
   ],
   "source": [
    "for col in df.columns[1:]:\n",
    "    print(f\"{col}: {100*df[col].mean():.2g}%\")"
   ]
  },
  {
   "cell_type": "code",
   "execution_count": 10,
   "id": "6380b5f8-190e-4841-a43c-61708031654f",
   "metadata": {},
   "outputs": [],
   "source": [
    "X = df.lyrics.values\n",
    "y = df[df.columns[1:]].values\n",
    "num_labels = y.shape[1]\n",
    "labels = df.columns[1:]"
   ]
  },
  {
   "cell_type": "code",
   "execution_count": 11,
   "id": "eac2a9d8-86d9-43c0-8a43-9173f93213ca",
   "metadata": {},
   "outputs": [],
   "source": [
    "X_train, X_test, y_train, y_test = train_test_split(X, y, test_size=0.2, random_state=0)"
   ]
  },
  {
   "cell_type": "markdown",
   "id": "3da307da-783f-400b-965a-f23127befa9d",
   "metadata": {
    "tags": []
   },
   "source": [
    "# Glove pre-trained word embeddings"
   ]
  },
  {
   "cell_type": "code",
   "execution_count": 13,
   "id": "30e17f68-291b-48fb-8b7f-c35da8fbca5c",
   "metadata": {},
   "outputs": [
    {
     "name": "stdout",
     "output_type": "stream",
     "text": [
      "95700\n"
     ]
    }
   ],
   "source": [
    "tokenizer = Tokenizer(filters='!\"#$%&()*+,-./:;<=>?@[\\\\]^_`{|}~\\t\\n\\r\\'')\n",
    "tokenizer.fit_on_texts(X_train)\n",
    "vocab_size = len(tokenizer.index_word) + 1\n",
    "print(vocab_size)"
   ]
  },
  {
   "cell_type": "code",
   "execution_count": 14,
   "id": "f6943c63-4959-424e-ae1f-41c1ef04be84",
   "metadata": {},
   "outputs": [],
   "source": [
    "def texts_to_sequences(texts, maxlen=input_length):\n",
    "    sequences = tokenizer.texts_to_sequences(texts)\n",
    "    padded = pad_sequences(sequences, maxlen=maxlen, padding='post')\n",
    "    return padded"
   ]
  },
  {
   "cell_type": "code",
   "execution_count": 15,
   "id": "92fb07be-57e4-4813-8de6-4fed81d9658a",
   "metadata": {},
   "outputs": [],
   "source": [
    "padded_train = texts_to_sequences(X_train)\n",
    "padded_test = texts_to_sequences(X_test)"
   ]
  },
  {
   "cell_type": "code",
   "execution_count": 16,
   "id": "0af22ee4-9acc-40a1-94ba-9296cf42f097",
   "metadata": {},
   "outputs": [
    {
     "data": {
      "text/plain": [
       "(46539, 2392)"
      ]
     },
     "execution_count": 16,
     "metadata": {},
     "output_type": "execute_result"
    }
   ],
   "source": [
    "padded_train.shape"
   ]
  },
  {
   "cell_type": "code",
   "execution_count": 17,
   "id": "135526b6-132a-4ee6-9c3f-e7b3dc7398f1",
   "metadata": {},
   "outputs": [
    {
     "data": {
      "text/plain": [
       "array([[1319,   39,    2, ...,    0,    0,    0],\n",
       "       [  28,   22,    5, ...,    0,    0,    0],\n",
       "       [ 744,  384,  919, ...,    0,    0,    0],\n",
       "       ...,\n",
       "       [ 138,    1,  892, ...,    0,    0,    0],\n",
       "       [   3,   54,   22, ...,    0,    0,    0],\n",
       "       [   3,  463,  646, ...,    0,    0,    0]])"
      ]
     },
     "execution_count": 17,
     "metadata": {},
     "output_type": "execute_result"
    }
   ],
   "source": [
    "padded_train"
   ]
  },
  {
   "cell_type": "markdown",
   "id": "fdf84959-d69e-4501-b328-5a0dc62b0aad",
   "metadata": {},
   "source": [
    "### Resize sequences to a more manageable length"
   ]
  },
  {
   "cell_type": "code",
   "execution_count": 18,
   "id": "1b933c8b-3551-4b0c-8b18-2bd633947c5e",
   "metadata": {
    "tags": []
   },
   "outputs": [],
   "source": [
    "def resize_sequences(X_old, y_old, length):\n",
    "    X_new = []\n",
    "    y_new = []\n",
    "    for i, row in enumerate(X_old):\n",
    "        new_rows = np.split(row, np.arange(0, len(row), length))[1:]\n",
    "        for new_row in new_rows:\n",
    "            new_row_padded = np.pad(new_row, (0, input_length_short - len(new_row)))\n",
    "            if sum(new_row_padded) > 0:\n",
    "                X_new.append(new_row_padded)\n",
    "                y_new.append(y_old[i])\n",
    "    X_new = np.array(X_new)\n",
    "    y_new = np.array(y_new)\n",
    "    return X_new, y_new"
   ]
  },
  {
   "cell_type": "code",
   "execution_count": 19,
   "id": "ade2a44a-a00c-48f4-a8e8-b65b830f955a",
   "metadata": {},
   "outputs": [],
   "source": [
    "input_length_short = 100\n",
    "padded_train, y_train = resize_sequences(padded_train, y_train, input_length_short)\n",
    "padded_test, y_test = resize_sequences(padded_test, y_test, input_length_short)"
   ]
  },
  {
   "cell_type": "code",
   "execution_count": 20,
   "id": "8ef91219-0152-4a97-921d-cda3447bb2db",
   "metadata": {},
   "outputs": [
    {
     "name": "stdout",
     "output_type": "stream",
     "text": [
      "(103199, 100) (103199, 5) (25751, 100) (25751, 5)\n"
     ]
    }
   ],
   "source": [
    "print(padded_train.shape, y_train.shape, padded_test.shape, y_test.shape)"
   ]
  },
  {
   "cell_type": "code",
   "execution_count": 33,
   "id": "3aad3d20-8f21-40dc-ae4a-34fffb0e6ef9",
   "metadata": {},
   "outputs": [
    {
     "name": "stdout",
     "output_type": "stream",
     "text": [
      "[0.25537839 0.12325381 0.22555379 0.17446309 0.22135093]\n",
      "[0 1 0 0 0] 0.024650761659075756\n",
      "[0 1 0 0 0] 0.024650761659075756\n",
      "[0 1 0 0 0] 0.024650761659075756\n",
      "[0 1 0 0 1] 0.06892094669423254\n",
      "[0 1 0 0 1] 0.06892094669423254\n",
      "[0 1 0 0 1] 0.06892094669423254\n",
      "[0 0 0 1 0] 0.03489261742479792\n",
      "[0 0 0 1 0] 0.03489261742479792\n",
      "[1 1 0 0 0] 0.07572643937130955\n",
      "[1 1 0 0 0] 0.07572643937130955\n",
      "[1 1 0 0 0] 0.07572643937130955\n",
      "[1 0 0 0 0] 0.05107567771223379\n",
      "[1 0 0 0 0] 0.05107567771223379\n",
      "[0 1 0 0 0] 0.024650761659075756\n",
      "[0 1 0 0 0] 0.024650761659075756\n",
      "[0 0 0 0 0] 0.039712714073097996\n",
      "[1 1 0 0 0] 0.07572643937130955\n",
      "[1 1 0 0 0] 0.07572643937130955\n",
      "[0 0 0 0 0] 0.039712714073097996\n",
      "[1 0 0 0 0] 0.05107567771223379\n"
     ]
    }
   ],
   "source": [
    "label_weights = 1 / y_train.sum(axis=0)\n",
    "label_weights /= label_weights.sum()\n",
    "print(label_weights)\n",
    "\n",
    "sample_weights = (y_train * label_weights).mean(axis=1)\n",
    "sample_weights[sample_weights == 0] = sample_weights.mean()\n",
    "for i in range(20):\n",
    "    print(y_train[i], sample_weights[i])"
   ]
  },
  {
   "cell_type": "markdown",
   "id": "42813b4e-d324-480f-b2b8-5937fbc1faff",
   "metadata": {
    "tags": []
   },
   "source": [
    "### Load word vectors into a dictionary\n",
    "\n",
    "Adapted from [a Keras tutorial](https://keras.io/examples/nlp/pretrained_word_embeddings/)."
   ]
  },
  {
   "cell_type": "code",
   "execution_count": 21,
   "id": "2490dc08-85eb-4fe1-8f57-1583348f5008",
   "metadata": {},
   "outputs": [
    {
     "name": "stdout",
     "output_type": "stream",
     "text": [
      "400001\n",
      "100\n"
     ]
    }
   ],
   "source": [
    "# path_to_glove_file = \"E:/Projects/metallyrics/data/glove.840B.300d.txt\"\n",
    "path_to_glove_file = \"E:/Projects/metallyrics/data/glove.6B.100d.txt\"\n",
    "\n",
    "embedding_vectors = {}\n",
    "with open(path_to_glove_file, encoding=\"utf8\") as f:\n",
    "    for line in f:\n",
    "        word, coefs = line.split(maxsplit=1)\n",
    "        coefs = np.fromstring(coefs, \"f\", sep=\" \")\n",
    "        embedding_vectors[word] = coefs\n",
    "print(len(embedding_vectors))\n",
    "print(len(list(embedding_vectors.values())[0]))"
   ]
  },
  {
   "cell_type": "markdown",
   "id": "dcf218cd-7f92-475f-a62d-66d3ed43373c",
   "metadata": {},
   "source": [
    "### Embedding matrix"
   ]
  },
  {
   "cell_type": "code",
   "execution_count": 22,
   "id": "8b8e5935-c159-4e32-8a33-a996b57365a9",
   "metadata": {},
   "outputs": [
    {
     "name": "stdout",
     "output_type": "stream",
     "text": [
      "Converted 52969 words (42730 misses)\n"
     ]
    }
   ],
   "source": [
    "embedding_dim = len(list(embedding_vectors.values())[0])\n",
    "hits = 0\n",
    "misses = 0\n",
    "\n",
    "# Prepare embedding matrix\n",
    "embedding_matrix = np.zeros((vocab_size, embedding_dim))\n",
    "for word, i in tokenizer.word_index.items():\n",
    "    embedding_vector = embedding_vectors.get(word)\n",
    "    if embedding_vector is not None:\n",
    "        if len(embedding_vector) > 0:\n",
    "            # Words not found in embedding index will be all-zeros.\n",
    "            # This includes the representation for \"padding\" and \"OOV\"\n",
    "            embedding_matrix[i] = embedding_vector\n",
    "            hits += 1\n",
    "            continue\n",
    "    misses += 1\n",
    "print(\"Converted %d words (%d misses)\" % (hits, misses))"
   ]
  },
  {
   "cell_type": "code",
   "execution_count": 23,
   "id": "29dc4bf5-b781-4ddf-9e34-468c4c655b0c",
   "metadata": {},
   "outputs": [
    {
     "data": {
      "text/plain": [
       "(95700, 100)"
      ]
     },
     "execution_count": 23,
     "metadata": {},
     "output_type": "execute_result"
    }
   ],
   "source": [
    "embedding_matrix.shape"
   ]
  },
  {
   "cell_type": "code",
   "execution_count": 24,
   "id": "59fdcd25-bd24-4599-aba4-9c4deb904a16",
   "metadata": {},
   "outputs": [],
   "source": [
    "embedding_layer = layers.Embedding(\n",
    "    vocab_size,\n",
    "    embedding_dim,\n",
    "    embeddings_initializer=keras.initializers.Constant(embedding_matrix),\n",
    "    trainable=False,\n",
    ")"
   ]
  },
  {
   "cell_type": "markdown",
   "id": "99ed3ba9-f04d-42c8-90bd-bfb4e004b08b",
   "metadata": {
    "jp-MarkdownHeadingCollapsed": true,
    "tags": []
   },
   "source": [
    "#### Word replacement"
   ]
  },
  {
   "cell_type": "code",
   "execution_count": 25,
   "id": "7f38c77a-5c2c-4071-8698-b783f226c008",
   "metadata": {},
   "outputs": [
    {
     "data": {
      "text/plain": [
       "[('god', -19.013266124371704),\n",
       " ('evil', -16.74109671214331),\n",
       " ('devil', -16.391001127660708),\n",
       " ('jesus', -16.09329618071708),\n",
       " ('christ', -16.062787387783878),\n",
       " ('sacrifice', -14.433605984472056),\n",
       " ('heaven', -14.177968450023208),\n",
       " ('witches', -14.173267745378634),\n",
       " ('allah', -14.02747231518036),\n",
       " ('gods', -14.01646492569156)]"
      ]
     },
     "execution_count": 25,
     "metadata": {},
     "output_type": "execute_result"
    }
   ],
   "source": [
    "vector = embedding_vectors['satan']\n",
    "# dist = np.linalg.norm(embedding_matrix - vector, axis=1)\n",
    "dist = -np.dot(embedding_matrix, vector)\n",
    "nearest = [(tokenizer.index_word.get(i, 0), dist[i]) for i in  dist.argsort()[1:11]]\n",
    "nearest"
   ]
  },
  {
   "cell_type": "code",
   "execution_count": 26,
   "id": "8f35aa4d-af18-4d3d-83bf-c1c06629d773",
   "metadata": {},
   "outputs": [],
   "source": [
    "from nltk.corpus import stopwords"
   ]
  },
  {
   "cell_type": "code",
   "execution_count": 27,
   "id": "3f9e2f5f-1fb6-4f4e-aa95-17fd1cc311fa",
   "metadata": {
    "tags": []
   },
   "outputs": [],
   "source": [
    "ignore = stopwords.words('english')"
   ]
  },
  {
   "cell_type": "code",
   "execution_count": 28,
   "id": "2a6fb575-12d0-41ce-8701-7d75a57ac901",
   "metadata": {},
   "outputs": [
    {
     "data": {
      "text/plain": [
       "array([0.        , 5.82115365, 6.29686884, ..., 4.74738433, 4.41079049,\n",
       "       0.        ])"
      ]
     },
     "execution_count": 28,
     "metadata": {},
     "output_type": "execute_result"
    }
   ],
   "source": [
    "np.linalg.norm(embedding_matrix, axis=1)"
   ]
  },
  {
   "cell_type": "code",
   "execution_count": 29,
   "id": "56812221-64cc-41b5-afbe-c7fd10b332aa",
   "metadata": {},
   "outputs": [],
   "source": [
    "def get_nearest_word(word, method='euclidean'):\n",
    "    if word not in ignore and isinstance(word, str):\n",
    "        if word in embedding_vectors.keys():\n",
    "            vector = embedding_vectors[word]\n",
    "            if len(vector) > 0:\n",
    "                if method == 'euclidean':\n",
    "                    dist = np.linalg.norm(embedding_matrix - vector, axis=1)\n",
    "                    i = dist.argsort()[1]\n",
    "                elif method == 'cosine':\n",
    "                    embedding_norm = np.linalg.norm(embedding_matrix, axis=1)\n",
    "                    vector_norm = np.linalg.norm(vector)\n",
    "                    dist = np.dot(embedding_matrix, vector) / (embedding_norm * vector_norm)\n",
    "                    dist = np.nan_to_num(dist, 0)\n",
    "                    i = dist.argsort()[-2]\n",
    "                else:\n",
    "                    assert ValueError(f\"invalid method {method}\")\n",
    "                nearest = tokenizer.index_word.get(i, 0)\n",
    "                if nearest not in ignore:\n",
    "                    return nearest\n",
    "    return word"
   ]
  },
  {
   "cell_type": "code",
   "execution_count": 30,
   "id": "7bc5b9ec-0829-4c4b-a5e5-37028f8d1fe1",
   "metadata": {
    "tags": []
   },
   "outputs": [
    {
     "name": "stderr",
     "output_type": "stream",
     "text": [
      "C:\\Users\\philn\\AppData\\Local\\Temp\\ipykernel_2652\\3763140851.py:12: RuntimeWarning: invalid value encountered in true_divide\n",
      "  dist = np.dot(embedding_matrix, vector) / (embedding_norm * vector_norm)\n"
     ]
    },
    {
     "name": "stdout",
     "output_type": "stream",
     "text": [
      "['it’s', 'everything', 'what’s', 'wrong', 'with', 'it', 'it’s', 'everything', 'what’s', 'wrong', 'with', 'us', 'null', 'rictus', 'grin', 'beyond', 'death', 'and', 'it’s', 'after']\n",
      "['it’s', 'things', 'what’s', 'mistake', 'with', 'it', 'it’s', 'things', 'what’s', 'mistake', 'with', 'us', 'invalid', 'luxuriance', 'smile', 'far', 'died', 'and', 'it’s', 'after']\n"
     ]
    }
   ],
   "source": [
    "words = [tokenizer.index_word.get(i, 0) for i in padded_train[111]]\n",
    "new_words = [get_nearest_word(word, 'cosine') for word in words]\n",
    "new_row = [tokenizer.word_index.get(word, 0) for word in new_words]\n",
    "print(words[:20])\n",
    "print(new_words[:20])"
   ]
  },
  {
   "cell_type": "markdown",
   "id": "8549ddb4-a8b1-4738-a91a-4f621beca27d",
   "metadata": {
    "tags": []
   },
   "source": [
    "### Convolution neural network"
   ]
  },
  {
   "cell_type": "code",
   "execution_count": 30,
   "id": "74ca2d36-5292-4092-86ca-ce006b6a9e2f",
   "metadata": {
    "tags": []
   },
   "outputs": [
    {
     "name": "stdout",
     "output_type": "stream",
     "text": [
      "Model: \"sequential\"\n",
      "_________________________________________________________________\n",
      " Layer (type)                Output Shape              Param #   \n",
      "=================================================================\n",
      " embedding (Embedding)       (None, None, 100)         9570000   \n",
      "                                                                 \n",
      " conv1d (Conv1D)             (None, None, 128)         51328     \n",
      "                                                                 \n",
      " global_max_pooling1d (Globa  (None, 128)              0         \n",
      " lMaxPooling1D)                                                  \n",
      "                                                                 \n",
      " flatten (Flatten)           (None, 128)               0         \n",
      "                                                                 \n",
      " dense (Dense)               (None, 256)               33024     \n",
      "                                                                 \n",
      " dense_1 (Dense)             (None, 5)                 1285      \n",
      "                                                                 \n",
      "=================================================================\n",
      "Total params: 9,655,637\n",
      "Trainable params: 85,637\n",
      "Non-trainable params: 9,570,000\n",
      "_________________________________________________________________\n",
      "None\n"
     ]
    }
   ],
   "source": [
    "cnn_model = Sequential()\n",
    "cnn_model.add(embedding_layer)\n",
    "cnn_model.add(layers.Conv1D(filters=128, kernel_size=4, activation='relu'))\n",
    "# cnn_model.add(layers.BatchNormalization())\n",
    "# cnn_model.add(layers.MaxPooling1D(pool_size=2))\n",
    "# cnn_model.add(layers.Conv1D(filters=64, kernel_size=4, activation='relu'))\n",
    "# cnn_model.add(layers.BatchNormalization())\n",
    "cnn_model.add(layers.GlobalMaxPooling1D())\n",
    "cnn_model.add(layers.Flatten())\n",
    "cnn_model.add(layers.Dense(256))\n",
    "cnn_model.add(layers.Dense(num_labels, activation='sigmoid'))\n",
    "opt = Adam(learning_rate=0.0001)\n",
    "cnn_model.compile(optimizer=opt, loss='binary_crossentropy', metrics=['accuracy'])\n",
    "print(cnn_model.summary())"
   ]
  },
  {
   "cell_type": "code",
   "execution_count": 31,
   "id": "0c1da53e-003b-492e-918a-579479da761a",
   "metadata": {
    "collapsed": true,
    "jupyter": {
     "outputs_hidden": true
    },
    "tags": []
   },
   "outputs": [
    {
     "name": "stdout",
     "output_type": "stream",
     "text": [
      "Epoch 1/64\n",
      "2580/2580 [==============================] - 17s 6ms/step - loss: 0.4689 - accuracy: 0.3382 - val_loss: 0.4520 - val_accuracy: 0.3797\n",
      "Epoch 2/64\n",
      "2580/2580 [==============================] - 15s 6ms/step - loss: 0.4439 - accuracy: 0.3891 - val_loss: 0.4462 - val_accuracy: 0.3977\n",
      "Epoch 3/64\n",
      "2580/2580 [==============================] - 16s 6ms/step - loss: 0.4333 - accuracy: 0.4064 - val_loss: 0.4437 - val_accuracy: 0.4033\n",
      "Epoch 4/64\n",
      "2580/2580 [==============================] - 16s 6ms/step - loss: 0.4249 - accuracy: 0.4197 - val_loss: 0.4425 - val_accuracy: 0.4023\n",
      "Epoch 5/64\n",
      "2580/2580 [==============================] - 17s 6ms/step - loss: 0.4171 - accuracy: 0.4320 - val_loss: 0.4440 - val_accuracy: 0.3905\n",
      "Epoch 6/64\n",
      "2580/2580 [==============================] - 17s 7ms/step - loss: 0.4104 - accuracy: 0.4406 - val_loss: 0.4461 - val_accuracy: 0.3946\n",
      "Epoch 7/64\n",
      "2580/2580 [==============================] - 16s 6ms/step - loss: 0.4040 - accuracy: 0.4495 - val_loss: 0.4474 - val_accuracy: 0.4007\n",
      "Epoch 8/64\n",
      "2580/2580 [==============================] - 16s 6ms/step - loss: 0.3979 - accuracy: 0.4547 - val_loss: 0.4535 - val_accuracy: 0.3923\n",
      "Epoch 9/64\n",
      "2580/2580 [==============================] - 16s 6ms/step - loss: 0.3927 - accuracy: 0.4616 - val_loss: 0.4574 - val_accuracy: 0.3842\n",
      "Epoch 10/64\n",
      "2580/2580 [==============================] - 16s 6ms/step - loss: 0.3872 - accuracy: 0.4701 - val_loss: 0.4579 - val_accuracy: 0.3869\n",
      "Epoch 11/64\n",
      "2580/2580 [==============================] - 16s 6ms/step - loss: 0.3824 - accuracy: 0.4763 - val_loss: 0.4611 - val_accuracy: 0.3916\n",
      "Epoch 12/64\n",
      "2580/2580 [==============================] - 16s 6ms/step - loss: 0.3781 - accuracy: 0.4807 - val_loss: 0.4668 - val_accuracy: 0.3797\n",
      "Epoch 13/64\n",
      "2580/2580 [==============================] - 16s 6ms/step - loss: 0.3737 - accuracy: 0.4853 - val_loss: 0.4692 - val_accuracy: 0.3823\n",
      "Epoch 14/64\n",
      "2580/2580 [==============================] - 16s 6ms/step - loss: 0.3703 - accuracy: 0.4897 - val_loss: 0.4741 - val_accuracy: 0.3714\n",
      "Epoch 15/64\n",
      "2580/2580 [==============================] - 17s 6ms/step - loss: 0.3663 - accuracy: 0.4936 - val_loss: 0.4867 - val_accuracy: 0.3758\n",
      "Epoch 16/64\n",
      "2580/2580 [==============================] - 17s 7ms/step - loss: 0.3629 - accuracy: 0.4999 - val_loss: 0.4823 - val_accuracy: 0.3687\n",
      "Epoch 17/64\n",
      "2580/2580 [==============================] - 16s 6ms/step - loss: 0.3597 - accuracy: 0.5037 - val_loss: 0.4849 - val_accuracy: 0.3764\n",
      "Epoch 18/64\n",
      "2580/2580 [==============================] - 16s 6ms/step - loss: 0.3564 - accuracy: 0.5081 - val_loss: 0.4886 - val_accuracy: 0.3760\n",
      "Epoch 19/64\n",
      "2580/2580 [==============================] - 16s 6ms/step - loss: 0.3538 - accuracy: 0.5108 - val_loss: 0.4948 - val_accuracy: 0.3759\n",
      "Epoch 20/64\n",
      "2580/2580 [==============================] - 16s 6ms/step - loss: 0.3509 - accuracy: 0.5139 - val_loss: 0.4965 - val_accuracy: 0.3854\n",
      "Epoch 21/64\n",
      "2580/2580 [==============================] - 16s 6ms/step - loss: 0.3484 - accuracy: 0.5171 - val_loss: 0.5039 - val_accuracy: 0.3728\n",
      "Epoch 22/64\n",
      "2580/2580 [==============================] - 17s 6ms/step - loss: 0.3459 - accuracy: 0.5207 - val_loss: 0.5048 - val_accuracy: 0.3721\n",
      "Epoch 23/64\n",
      "2580/2580 [==============================] - 16s 6ms/step - loss: 0.3436 - accuracy: 0.5238 - val_loss: 0.5058 - val_accuracy: 0.3766\n",
      "Epoch 24/64\n",
      "2580/2580 [==============================] - 16s 6ms/step - loss: 0.3413 - accuracy: 0.5245 - val_loss: 0.5261 - val_accuracy: 0.3404\n",
      "Epoch 25/64\n",
      "2580/2580 [==============================] - 16s 6ms/step - loss: 0.3391 - accuracy: 0.5291 - val_loss: 0.5146 - val_accuracy: 0.3728\n",
      "Epoch 26/64\n",
      "2580/2580 [==============================] - 16s 6ms/step - loss: 0.3372 - accuracy: 0.5312 - val_loss: 0.5182 - val_accuracy: 0.3639\n",
      "Epoch 27/64\n",
      "2580/2580 [==============================] - 16s 6ms/step - loss: 0.3350 - accuracy: 0.5332 - val_loss: 0.5199 - val_accuracy: 0.3693\n",
      "Epoch 28/64\n",
      "2580/2580 [==============================] - 16s 6ms/step - loss: 0.3333 - accuracy: 0.5350 - val_loss: 0.5242 - val_accuracy: 0.3690\n",
      "Epoch 29/64\n",
      "2580/2580 [==============================] - 18s 7ms/step - loss: 0.3320 - accuracy: 0.5371 - val_loss: 0.5268 - val_accuracy: 0.3653\n",
      "Epoch 30/64\n",
      "2580/2580 [==============================] - 16s 6ms/step - loss: 0.3300 - accuracy: 0.5379 - val_loss: 0.5299 - val_accuracy: 0.3575\n",
      "Epoch 31/64\n",
      "2580/2580 [==============================] - 16s 6ms/step - loss: 0.3283 - accuracy: 0.5413 - val_loss: 0.5334 - val_accuracy: 0.3530\n",
      "Epoch 32/64\n",
      "2580/2580 [==============================] - 17s 6ms/step - loss: 0.3268 - accuracy: 0.5420 - val_loss: 0.5362 - val_accuracy: 0.3564\n",
      "Epoch 33/64\n",
      "2580/2580 [==============================] - 16s 6ms/step - loss: 0.3255 - accuracy: 0.5436 - val_loss: 0.5417 - val_accuracy: 0.3623\n",
      "Epoch 34/64\n",
      "2580/2580 [==============================] - 18s 7ms/step - loss: 0.3238 - accuracy: 0.5462 - val_loss: 0.5448 - val_accuracy: 0.3490\n",
      "Epoch 35/64\n",
      "2580/2580 [==============================] - 18s 7ms/step - loss: 0.3225 - accuracy: 0.5476 - val_loss: 0.5429 - val_accuracy: 0.3663\n",
      "Epoch 36/64\n",
      "2580/2580 [==============================] - 17s 7ms/step - loss: 0.3210 - accuracy: 0.5483 - val_loss: 0.5504 - val_accuracy: 0.3675\n",
      "Epoch 37/64\n",
      "2580/2580 [==============================] - 17s 6ms/step - loss: 0.3202 - accuracy: 0.5495 - val_loss: 0.5489 - val_accuracy: 0.3645\n",
      "Epoch 38/64\n",
      "2580/2580 [==============================] - 16s 6ms/step - loss: 0.3184 - accuracy: 0.5520 - val_loss: 0.5523 - val_accuracy: 0.3530\n",
      "Epoch 39/64\n",
      "2580/2580 [==============================] - 16s 6ms/step - loss: 0.3168 - accuracy: 0.5539 - val_loss: 0.5554 - val_accuracy: 0.3552\n",
      "Epoch 40/64\n",
      "2580/2580 [==============================] - 16s 6ms/step - loss: 0.3157 - accuracy: 0.5557 - val_loss: 0.5623 - val_accuracy: 0.3440\n",
      "Epoch 41/64\n",
      "2580/2580 [==============================] - 17s 7ms/step - loss: 0.3155 - accuracy: 0.5549 - val_loss: 0.5605 - val_accuracy: 0.3675\n",
      "Epoch 42/64\n",
      "2580/2580 [==============================] - 17s 7ms/step - loss: 0.3135 - accuracy: 0.5572 - val_loss: 0.5637 - val_accuracy: 0.3586\n",
      "Epoch 43/64\n",
      "2580/2580 [==============================] - 17s 6ms/step - loss: 0.3124 - accuracy: 0.5578 - val_loss: 0.5660 - val_accuracy: 0.3473\n",
      "Epoch 44/64\n",
      "2580/2580 [==============================] - 16s 6ms/step - loss: 0.3117 - accuracy: 0.5594 - val_loss: 0.5705 - val_accuracy: 0.3696\n",
      "Epoch 45/64\n",
      "2580/2580 [==============================] - 17s 7ms/step - loss: 0.3106 - accuracy: 0.5604 - val_loss: 0.5751 - val_accuracy: 0.3617\n",
      "Epoch 46/64\n",
      "2580/2580 [==============================] - 16s 6ms/step - loss: 0.3092 - accuracy: 0.5625 - val_loss: 0.5719 - val_accuracy: 0.3668\n",
      "Epoch 47/64\n",
      "2580/2580 [==============================] - 16s 6ms/step - loss: 0.3088 - accuracy: 0.5622 - val_loss: 0.5761 - val_accuracy: 0.3597\n",
      "Epoch 48/64\n",
      "2580/2580 [==============================] - 17s 6ms/step - loss: 0.3077 - accuracy: 0.5653 - val_loss: 0.5883 - val_accuracy: 0.3368\n",
      "Epoch 49/64\n",
      "2580/2580 [==============================] - 17s 6ms/step - loss: 0.3067 - accuracy: 0.5637 - val_loss: 0.5803 - val_accuracy: 0.3554\n",
      "Epoch 50/64\n",
      "2580/2580 [==============================] - 17s 6ms/step - loss: 0.3052 - accuracy: 0.5660 - val_loss: 0.5825 - val_accuracy: 0.3519\n",
      "Epoch 51/64\n",
      "2580/2580 [==============================] - 17s 6ms/step - loss: 0.3049 - accuracy: 0.5676 - val_loss: 0.5885 - val_accuracy: 0.3496\n",
      "Epoch 52/64\n",
      "2580/2580 [==============================] - 17s 7ms/step - loss: 0.3038 - accuracy: 0.5674 - val_loss: 0.5923 - val_accuracy: 0.3476\n",
      "Epoch 53/64\n",
      "2580/2580 [==============================] - 17s 6ms/step - loss: 0.3029 - accuracy: 0.5685 - val_loss: 0.5917 - val_accuracy: 0.3456\n",
      "Epoch 54/64\n",
      "2580/2580 [==============================] - 17s 6ms/step - loss: 0.3025 - accuracy: 0.5701 - val_loss: 0.5970 - val_accuracy: 0.3578\n",
      "Epoch 55/64\n",
      "2580/2580 [==============================] - 17s 6ms/step - loss: 0.3013 - accuracy: 0.5720 - val_loss: 0.6082 - val_accuracy: 0.3627\n",
      "Epoch 56/64\n",
      "2580/2580 [==============================] - 17s 7ms/step - loss: 0.3003 - accuracy: 0.5724 - val_loss: 0.5971 - val_accuracy: 0.3530\n",
      "Epoch 57/64\n",
      "2580/2580 [==============================] - 17s 7ms/step - loss: 0.2995 - accuracy: 0.5736 - val_loss: 0.6034 - val_accuracy: 0.3556\n",
      "Epoch 58/64\n",
      "2580/2580 [==============================] - 18s 7ms/step - loss: 0.2993 - accuracy: 0.5727 - val_loss: 0.6018 - val_accuracy: 0.3572\n",
      "Epoch 59/64\n",
      "2580/2580 [==============================] - 18s 7ms/step - loss: 0.2983 - accuracy: 0.5748 - val_loss: 0.6013 - val_accuracy: 0.3568\n",
      "Epoch 60/64\n",
      "2580/2580 [==============================] - 17s 7ms/step - loss: 0.2978 - accuracy: 0.5758 - val_loss: 0.6047 - val_accuracy: 0.3442\n",
      "Epoch 61/64\n",
      "2580/2580 [==============================] - 18s 7ms/step - loss: 0.2971 - accuracy: 0.5754 - val_loss: 0.6054 - val_accuracy: 0.3452\n",
      "Epoch 62/64\n",
      "2580/2580 [==============================] - 17s 7ms/step - loss: 0.2958 - accuracy: 0.5767 - val_loss: 0.6095 - val_accuracy: 0.3396\n",
      "Epoch 63/64\n",
      "2580/2580 [==============================] - 17s 6ms/step - loss: 0.2957 - accuracy: 0.5780 - val_loss: 0.6102 - val_accuracy: 0.3502\n",
      "Epoch 64/64\n",
      "2580/2580 [==============================] - 17s 7ms/step - loss: 0.2947 - accuracy: 0.5791 - val_loss: 0.6118 - val_accuracy: 0.3563\n",
      "loss: 0.6082\n",
      "acc: 0.3599\n"
     ]
    }
   ],
   "source": [
    "cnn_history = cnn_model.fit(padded_train, y_train, epochs=64, batch_size=32, validation_split=0.2, verbose=1)\n",
    "cnn_pred = cnn_model.predict(padded_test)\n",
    "cnn_loss, cnn_acc = cnn_model.evaluate(padded_test, y_test, verbose=0)\n",
    "print(f\"loss: {cnn_loss:.4f}\\nacc: {cnn_acc:.4f}\")"
   ]
  },
  {
   "cell_type": "code",
   "execution_count": 32,
   "id": "35153811-9bd0-4318-961f-2bea81d88c6c",
   "metadata": {
    "tags": []
   },
   "outputs": [
    {
     "data": {
      "image/png": "[encoded data removed]",
      "text/plain": [
       "<Figure size 864x432 with 2 Axes>"
      ]
     },
     "metadata": {},
     "output_type": "display_data"
    }
   ],
   "source": [
    "fig, (ax1, ax2) = plt.subplots(2, 1, figsize=(12, 6))\n",
    "ax1.plot(cnn_history.history['accuracy'])\n",
    "ax1.plot(cnn_history.history['val_accuracy'])\n",
    "ax1.set_ylabel('accuracy')\n",
    "ax1.set_xlabel('epoch')\n",
    "ax1.legend(['train', 'validation'], loc='upper left')\n",
    "ax2.plot(cnn_history.history['loss'])\n",
    "ax2.plot(cnn_history.history['val_loss'])\n",
    "ax2.set_ylabel('loss')\n",
    "ax2.set_xlabel('epoch')\n",
    "plt.show()"
   ]
  },
  {
   "cell_type": "code",
   "execution_count": 33,
   "id": "c090850a-2819-4f5a-9640-5c946d871691",
   "metadata": {},
   "outputs": [
    {
     "data": {
      "text/plain": [
       "array([[0, 0, 0, 0, 0],\n",
       "       [0, 0, 1, 0, 0],\n",
       "       [0, 0, 0, 0, 0],\n",
       "       [0, 0, 0, 1, 0],\n",
       "       [0, 0, 1, 1, 0],\n",
       "       [1, 1, 0, 0, 0],\n",
       "       [0, 0, 0, 0, 0],\n",
       "       [0, 1, 0, 0, 0],\n",
       "       [0, 1, 0, 0, 0],\n",
       "       [0, 0, 0, 0, 0],\n",
       "       [0, 0, 0, 0, 1],\n",
       "       [0, 0, 0, 0, 0],\n",
       "       [0, 0, 0, 0, 0],\n",
       "       [0, 0, 1, 0, 0],\n",
       "       [1, 1, 0, 0, 0],\n",
       "       [0, 1, 0, 0, 0],\n",
       "       [0, 1, 0, 0, 0],\n",
       "       [0, 1, 0, 0, 0],\n",
       "       [0, 0, 1, 1, 0],\n",
       "       [0, 0, 0, 1, 0]])"
      ]
     },
     "execution_count": 33,
     "metadata": {},
     "output_type": "execute_result"
    }
   ],
   "source": [
    "cnn_pred.round().astype(int)[:20]"
   ]
  },
  {
   "cell_type": "code",
   "execution_count": 34,
   "id": "c10b6161-251f-4f0b-83a9-c9e1fbc95bf0",
   "metadata": {},
   "outputs": [
    {
     "data": {
      "text/plain": [
       "array([[0, 0, 1, 1, 0],\n",
       "       [0, 0, 1, 1, 0],\n",
       "       [0, 0, 0, 1, 0],\n",
       "       [0, 0, 0, 1, 0],\n",
       "       [0, 0, 0, 1, 0],\n",
       "       [1, 0, 0, 0, 0],\n",
       "       [1, 0, 0, 0, 0],\n",
       "       [0, 0, 1, 1, 0],\n",
       "       [0, 0, 1, 1, 0],\n",
       "       [0, 0, 1, 1, 0],\n",
       "       [0, 0, 0, 0, 1],\n",
       "       [0, 0, 0, 0, 1],\n",
       "       [0, 0, 0, 0, 0],\n",
       "       [0, 0, 0, 0, 0],\n",
       "       [1, 0, 0, 0, 0],\n",
       "       [1, 0, 0, 0, 0],\n",
       "       [0, 0, 0, 0, 0],\n",
       "       [0, 0, 0, 0, 0],\n",
       "       [0, 0, 1, 0, 0],\n",
       "       [0, 0, 1, 0, 0]], dtype=int64)"
      ]
     },
     "execution_count": 34,
     "metadata": {},
     "output_type": "execute_result"
    }
   ],
   "source": [
    "y_test[:20]"
   ]
  },
  {
   "cell_type": "markdown",
   "id": "d652f7b7-2197-4800-b91b-5c5cfb4d45e4",
   "metadata": {
    "jp-MarkdownHeadingCollapsed": true,
    "tags": []
   },
   "source": [
    "### LSTM"
   ]
  },
  {
   "cell_type": "code",
   "execution_count": 35,
   "id": "e56ed856-8dad-4247-a2b5-e5b35b443b93",
   "metadata": {
    "tags": []
   },
   "outputs": [
    {
     "name": "stdout",
     "output_type": "stream",
     "text": [
      "Model: \"sequential_1\"\n",
      "_________________________________________________________________\n",
      " Layer (type)                Output Shape              Param #   \n",
      "=================================================================\n",
      " embedding (Embedding)       (None, None, 100)         9570000   \n",
      "                                                                 \n",
      " spatial_dropout1d (SpatialD  (None, None, 100)        0         \n",
      " ropout1D)                                                       \n",
      "                                                                 \n",
      " bidirectional (Bidirectiona  (None, 256)              234496    \n",
      " l)                                                              \n",
      "                                                                 \n",
      " dropout (Dropout)           (None, 256)               0         \n",
      "                                                                 \n",
      " batch_normalization (BatchN  (None, 256)              1024      \n",
      " ormalization)                                                   \n",
      "                                                                 \n",
      " dense_2 (Dense)             (None, 5)                 1285      \n",
      "                                                                 \n",
      "=================================================================\n",
      "Total params: 9,806,805\n",
      "Trainable params: 236,293\n",
      "Non-trainable params: 9,570,512\n",
      "_________________________________________________________________\n",
      "None\n"
     ]
    }
   ],
   "source": [
    "lstm_model = Sequential()\n",
    "lstm_model.add(embedding_layer)\n",
    "lstm_model.add(layers.SpatialDropout1D(0.2))\n",
    "lstm_model.add(layers.Bidirectional(layers.LSTM(128, return_sequences=False)))\n",
    "lstm_model.add(layers.Dropout(0.2))\n",
    "lstm_model.add(layers.BatchNormalization())\n",
    "lstm_model.add(layers.Dense(num_labels, activation='sigmoid'))\n",
    "opt = Adam(learning_rate=0.001)\n",
    "lstm_model.compile(optimizer=opt, loss='binary_crossentropy', metrics=['accuracy'])\n",
    "print(lstm_model.summary())"
   ]
  },
  {
   "cell_type": "code",
   "execution_count": 36,
   "id": "968fdfc0-92ca-4213-b178-0eb2f57193d2",
   "metadata": {
    "collapsed": true,
    "jupyter": {
     "outputs_hidden": true
    },
    "tags": []
   },
   "outputs": [
    {
     "name": "stdout",
     "output_type": "stream",
     "text": [
      "Epoch 1/64\n",
      "2580/2580 [==============================] - 125s 48ms/step - loss: 0.4844 - accuracy: 0.3388 - val_loss: 0.4449 - val_accuracy: 0.3795\n",
      "Epoch 2/64\n",
      "2580/2580 [==============================] - 131s 51ms/step - loss: 0.4490 - accuracy: 0.3805 - val_loss: 0.4387 - val_accuracy: 0.3953\n",
      "Epoch 3/64\n",
      "2580/2580 [==============================] - 134s 52ms/step - loss: 0.4407 - accuracy: 0.3966 - val_loss: 0.4341 - val_accuracy: 0.3836\n",
      "Epoch 4/64\n",
      "2580/2580 [==============================] - 150s 58ms/step - loss: 0.4338 - accuracy: 0.4062 - val_loss: 0.4321 - val_accuracy: 0.4125\n",
      "Epoch 5/64\n",
      "2580/2580 [==============================] - 156s 60ms/step - loss: 0.4285 - accuracy: 0.4133 - val_loss: 0.4297 - val_accuracy: 0.4173\n",
      "Epoch 6/64\n",
      "2580/2580 [==============================] - 176s 68ms/step - loss: 0.4239 - accuracy: 0.4194 - val_loss: 0.4283 - val_accuracy: 0.4162\n",
      "Epoch 7/64\n",
      "2580/2580 [==============================] - 172s 67ms/step - loss: 0.4196 - accuracy: 0.4248 - val_loss: 0.4252 - val_accuracy: 0.4215\n",
      "Epoch 8/64\n",
      "2580/2580 [==============================] - 150s 58ms/step - loss: 0.4170 - accuracy: 0.4312 - val_loss: 0.4265 - val_accuracy: 0.4210\n",
      "Epoch 9/64\n",
      "2580/2580 [==============================] - 150s 58ms/step - loss: 0.4125 - accuracy: 0.4351 - val_loss: 0.4273 - val_accuracy: 0.4199\n",
      "Epoch 10/64\n",
      "2580/2580 [==============================] - 151s 58ms/step - loss: 0.4087 - accuracy: 0.4417 - val_loss: 0.4270 - val_accuracy: 0.4181\n",
      "Epoch 11/64\n",
      "2580/2580 [==============================] - 152s 59ms/step - loss: 0.4057 - accuracy: 0.4451 - val_loss: 0.4268 - val_accuracy: 0.4219\n",
      "Epoch 12/64\n",
      "2580/2580 [==============================] - 153s 59ms/step - loss: 0.4028 - accuracy: 0.4507 - val_loss: 0.4336 - val_accuracy: 0.4211\n",
      "Epoch 13/64\n",
      "2580/2580 [==============================] - 156s 60ms/step - loss: 0.4004 - accuracy: 0.4533 - val_loss: 0.4315 - val_accuracy: 0.4226\n",
      "Epoch 14/64\n",
      "2580/2580 [==============================] - 155s 60ms/step - loss: 0.3967 - accuracy: 0.4588 - val_loss: 0.4353 - val_accuracy: 0.4276\n",
      "Epoch 15/64\n",
      "2580/2580 [==============================] - 157s 61ms/step - loss: 0.3976 - accuracy: 0.4588 - val_loss: 0.4328 - val_accuracy: 0.4100\n",
      "Epoch 16/64\n",
      "2580/2580 [==============================] - 182s 70ms/step - loss: 0.3936 - accuracy: 0.4616 - val_loss: 0.4352 - val_accuracy: 0.4211\n",
      "Epoch 17/64\n",
      "2580/2580 [==============================] - 184s 71ms/step - loss: 0.3903 - accuracy: 0.4651 - val_loss: 0.4426 - val_accuracy: 0.4066\n",
      "Epoch 18/64\n",
      "2580/2580 [==============================] - 185s 72ms/step - loss: 0.3880 - accuracy: 0.4699 - val_loss: 0.4390 - val_accuracy: 0.4232\n",
      "Epoch 19/64\n",
      "2580/2580 [==============================] - 184s 71ms/step - loss: 0.3860 - accuracy: 0.4726 - val_loss: 0.4389 - val_accuracy: 0.4245\n",
      "Epoch 20/64\n",
      "2580/2580 [==============================] - 184s 71ms/step - loss: 0.3837 - accuracy: 0.4770 - val_loss: 0.4406 - val_accuracy: 0.4175\n",
      "Epoch 21/64\n",
      "2580/2580 [==============================] - 179s 69ms/step - loss: 0.3804 - accuracy: 0.4800 - val_loss: 0.4403 - val_accuracy: 0.4111\n",
      "Epoch 22/64\n",
      "2580/2580 [==============================] - 184s 71ms/step - loss: 0.3792 - accuracy: 0.4820 - val_loss: 0.4450 - val_accuracy: 0.4167\n",
      "Epoch 23/64\n",
      "2580/2580 [==============================] - 184s 71ms/step - loss: 0.3771 - accuracy: 0.4847 - val_loss: 0.4491 - val_accuracy: 0.4155\n",
      "Epoch 24/64\n",
      "1822/2580 [====================>.........] - ETA: 47s - loss: 0.3752 - accuracy: 0.4866"
     ]
    },
    {
     "ename": "KeyboardInterrupt",
     "evalue": "",
     "output_type": "error",
     "traceback": [
      "\u001b[1;31m---------------------------------------------------------------------------\u001b[0m",
      "\u001b[1;31mKeyboardInterrupt\u001b[0m                         Traceback (most recent call last)",
      "Input \u001b[1;32mIn [36]\u001b[0m, in \u001b[0;36m<module>\u001b[1;34m\u001b[0m\n\u001b[1;32m----> 1\u001b[0m history \u001b[38;5;241m=\u001b[39m \u001b[43mmodel\u001b[49m\u001b[38;5;241;43m.\u001b[39;49m\u001b[43mfit\u001b[49m\u001b[43m(\u001b[49m\u001b[43mpadded_train\u001b[49m\u001b[43m,\u001b[49m\u001b[43m \u001b[49m\u001b[43my_train\u001b[49m\u001b[43m,\u001b[49m\u001b[43m \u001b[49m\u001b[43mepochs\u001b[49m\u001b[38;5;241;43m=\u001b[39;49m\u001b[38;5;241;43m64\u001b[39;49m\u001b[43m,\u001b[49m\u001b[43m \u001b[49m\u001b[43mbatch_size\u001b[49m\u001b[38;5;241;43m=\u001b[39;49m\u001b[38;5;241;43m32\u001b[39;49m\u001b[43m,\u001b[49m\u001b[43m \u001b[49m\u001b[43mvalidation_split\u001b[49m\u001b[38;5;241;43m=\u001b[39;49m\u001b[38;5;241;43m0.2\u001b[39;49m\u001b[43m,\u001b[49m\u001b[43m \u001b[49m\u001b[43mverbose\u001b[49m\u001b[38;5;241;43m=\u001b[39;49m\u001b[38;5;241;43m1\u001b[39;49m\u001b[43m)\u001b[49m\n\u001b[0;32m      2\u001b[0m y_pred \u001b[38;5;241m=\u001b[39m model\u001b[38;5;241m.\u001b[39mpredict(padded_test)\n\u001b[0;32m      3\u001b[0m loss, acc \u001b[38;5;241m=\u001b[39m model\u001b[38;5;241m.\u001b[39mevaluate(padded_test, y_test, verbose\u001b[38;5;241m=\u001b[39m\u001b[38;5;241m0\u001b[39m)\n",
      "File \u001b[1;32mE:\\anaconda3\\envs\\metallyrics\\lib\\site-packages\\keras\\utils\\traceback_utils.py:64\u001b[0m, in \u001b[0;36mfilter_traceback.<locals>.error_handler\u001b[1;34m(*args, **kwargs)\u001b[0m\n\u001b[0;32m     62\u001b[0m filtered_tb \u001b[38;5;241m=\u001b[39m \u001b[38;5;28;01mNone\u001b[39;00m\n\u001b[0;32m     63\u001b[0m \u001b[38;5;28;01mtry\u001b[39;00m:\n\u001b[1;32m---> 64\u001b[0m   \u001b[38;5;28;01mreturn\u001b[39;00m fn(\u001b[38;5;241m*\u001b[39margs, \u001b[38;5;241m*\u001b[39m\u001b[38;5;241m*\u001b[39mkwargs)\n\u001b[0;32m     65\u001b[0m \u001b[38;5;28;01mexcept\u001b[39;00m \u001b[38;5;167;01mException\u001b[39;00m \u001b[38;5;28;01mas\u001b[39;00m e:  \u001b[38;5;66;03m# pylint: disable=broad-except\u001b[39;00m\n\u001b[0;32m     66\u001b[0m   filtered_tb \u001b[38;5;241m=\u001b[39m _process_traceback_frames(e\u001b[38;5;241m.\u001b[39m__traceback__)\n",
      "File \u001b[1;32mE:\\anaconda3\\envs\\metallyrics\\lib\\site-packages\\keras\\engine\\training.py:1216\u001b[0m, in \u001b[0;36mModel.fit\u001b[1;34m(self, x, y, batch_size, epochs, verbose, callbacks, validation_split, validation_data, shuffle, class_weight, sample_weight, initial_epoch, steps_per_epoch, validation_steps, validation_batch_size, validation_freq, max_queue_size, workers, use_multiprocessing)\u001b[0m\n\u001b[0;32m   1209\u001b[0m \u001b[38;5;28;01mwith\u001b[39;00m tf\u001b[38;5;241m.\u001b[39mprofiler\u001b[38;5;241m.\u001b[39mexperimental\u001b[38;5;241m.\u001b[39mTrace(\n\u001b[0;32m   1210\u001b[0m     \u001b[38;5;124m'\u001b[39m\u001b[38;5;124mtrain\u001b[39m\u001b[38;5;124m'\u001b[39m,\n\u001b[0;32m   1211\u001b[0m     epoch_num\u001b[38;5;241m=\u001b[39mepoch,\n\u001b[0;32m   1212\u001b[0m     step_num\u001b[38;5;241m=\u001b[39mstep,\n\u001b[0;32m   1213\u001b[0m     batch_size\u001b[38;5;241m=\u001b[39mbatch_size,\n\u001b[0;32m   1214\u001b[0m     _r\u001b[38;5;241m=\u001b[39m\u001b[38;5;241m1\u001b[39m):\n\u001b[0;32m   1215\u001b[0m   callbacks\u001b[38;5;241m.\u001b[39mon_train_batch_begin(step)\n\u001b[1;32m-> 1216\u001b[0m   tmp_logs \u001b[38;5;241m=\u001b[39m \u001b[38;5;28;43mself\u001b[39;49m\u001b[38;5;241;43m.\u001b[39;49m\u001b[43mtrain_function\u001b[49m\u001b[43m(\u001b[49m\u001b[43miterator\u001b[49m\u001b[43m)\u001b[49m\n\u001b[0;32m   1217\u001b[0m   \u001b[38;5;28;01mif\u001b[39;00m data_handler\u001b[38;5;241m.\u001b[39mshould_sync:\n\u001b[0;32m   1218\u001b[0m     context\u001b[38;5;241m.\u001b[39masync_wait()\n",
      "File \u001b[1;32mE:\\anaconda3\\envs\\metallyrics\\lib\\site-packages\\tensorflow\\python\\util\\traceback_utils.py:150\u001b[0m, in \u001b[0;36mfilter_traceback.<locals>.error_handler\u001b[1;34m(*args, **kwargs)\u001b[0m\n\u001b[0;32m    148\u001b[0m filtered_tb \u001b[38;5;241m=\u001b[39m \u001b[38;5;28;01mNone\u001b[39;00m\n\u001b[0;32m    149\u001b[0m \u001b[38;5;28;01mtry\u001b[39;00m:\n\u001b[1;32m--> 150\u001b[0m   \u001b[38;5;28;01mreturn\u001b[39;00m fn(\u001b[38;5;241m*\u001b[39margs, \u001b[38;5;241m*\u001b[39m\u001b[38;5;241m*\u001b[39mkwargs)\n\u001b[0;32m    151\u001b[0m \u001b[38;5;28;01mexcept\u001b[39;00m \u001b[38;5;167;01mException\u001b[39;00m \u001b[38;5;28;01mas\u001b[39;00m e:\n\u001b[0;32m    152\u001b[0m   filtered_tb \u001b[38;5;241m=\u001b[39m _process_traceback_frames(e\u001b[38;5;241m.\u001b[39m__traceback__)\n",
      "File \u001b[1;32mE:\\anaconda3\\envs\\metallyrics\\lib\\site-packages\\tensorflow\\python\\eager\\def_function.py:910\u001b[0m, in \u001b[0;36mFunction.__call__\u001b[1;34m(self, *args, **kwds)\u001b[0m\n\u001b[0;32m    907\u001b[0m compiler \u001b[38;5;241m=\u001b[39m \u001b[38;5;124m\"\u001b[39m\u001b[38;5;124mxla\u001b[39m\u001b[38;5;124m\"\u001b[39m \u001b[38;5;28;01mif\u001b[39;00m \u001b[38;5;28mself\u001b[39m\u001b[38;5;241m.\u001b[39m_jit_compile \u001b[38;5;28;01melse\u001b[39;00m \u001b[38;5;124m\"\u001b[39m\u001b[38;5;124mnonXla\u001b[39m\u001b[38;5;124m\"\u001b[39m\n\u001b[0;32m    909\u001b[0m \u001b[38;5;28;01mwith\u001b[39;00m OptionalXlaContext(\u001b[38;5;28mself\u001b[39m\u001b[38;5;241m.\u001b[39m_jit_compile):\n\u001b[1;32m--> 910\u001b[0m   result \u001b[38;5;241m=\u001b[39m \u001b[38;5;28mself\u001b[39m\u001b[38;5;241m.\u001b[39m_call(\u001b[38;5;241m*\u001b[39margs, \u001b[38;5;241m*\u001b[39m\u001b[38;5;241m*\u001b[39mkwds)\n\u001b[0;32m    912\u001b[0m new_tracing_count \u001b[38;5;241m=\u001b[39m \u001b[38;5;28mself\u001b[39m\u001b[38;5;241m.\u001b[39mexperimental_get_tracing_count()\n\u001b[0;32m    913\u001b[0m without_tracing \u001b[38;5;241m=\u001b[39m (tracing_count \u001b[38;5;241m==\u001b[39m new_tracing_count)\n",
      "File \u001b[1;32mE:\\anaconda3\\envs\\metallyrics\\lib\\site-packages\\tensorflow\\python\\eager\\def_function.py:942\u001b[0m, in \u001b[0;36mFunction._call\u001b[1;34m(self, *args, **kwds)\u001b[0m\n\u001b[0;32m    939\u001b[0m   \u001b[38;5;28mself\u001b[39m\u001b[38;5;241m.\u001b[39m_lock\u001b[38;5;241m.\u001b[39mrelease()\n\u001b[0;32m    940\u001b[0m   \u001b[38;5;66;03m# In this case we have created variables on the first call, so we run the\u001b[39;00m\n\u001b[0;32m    941\u001b[0m   \u001b[38;5;66;03m# defunned version which is guaranteed to never create variables.\u001b[39;00m\n\u001b[1;32m--> 942\u001b[0m   \u001b[38;5;28;01mreturn\u001b[39;00m \u001b[38;5;28mself\u001b[39m\u001b[38;5;241m.\u001b[39m_stateless_fn(\u001b[38;5;241m*\u001b[39margs, \u001b[38;5;241m*\u001b[39m\u001b[38;5;241m*\u001b[39mkwds)  \u001b[38;5;66;03m# pylint: disable=not-callable\u001b[39;00m\n\u001b[0;32m    943\u001b[0m \u001b[38;5;28;01melif\u001b[39;00m \u001b[38;5;28mself\u001b[39m\u001b[38;5;241m.\u001b[39m_stateful_fn \u001b[38;5;129;01mis\u001b[39;00m \u001b[38;5;129;01mnot\u001b[39;00m \u001b[38;5;28;01mNone\u001b[39;00m:\n\u001b[0;32m    944\u001b[0m   \u001b[38;5;66;03m# Release the lock early so that multiple threads can perform the call\u001b[39;00m\n\u001b[0;32m    945\u001b[0m   \u001b[38;5;66;03m# in parallel.\u001b[39;00m\n\u001b[0;32m    946\u001b[0m   \u001b[38;5;28mself\u001b[39m\u001b[38;5;241m.\u001b[39m_lock\u001b[38;5;241m.\u001b[39mrelease()\n",
      "File \u001b[1;32mE:\\anaconda3\\envs\\metallyrics\\lib\\site-packages\\tensorflow\\python\\eager\\function.py:3130\u001b[0m, in \u001b[0;36mFunction.__call__\u001b[1;34m(self, *args, **kwargs)\u001b[0m\n\u001b[0;32m   3127\u001b[0m \u001b[38;5;28;01mwith\u001b[39;00m \u001b[38;5;28mself\u001b[39m\u001b[38;5;241m.\u001b[39m_lock:\n\u001b[0;32m   3128\u001b[0m   (graph_function,\n\u001b[0;32m   3129\u001b[0m    filtered_flat_args) \u001b[38;5;241m=\u001b[39m \u001b[38;5;28mself\u001b[39m\u001b[38;5;241m.\u001b[39m_maybe_define_function(args, kwargs)\n\u001b[1;32m-> 3130\u001b[0m \u001b[38;5;28;01mreturn\u001b[39;00m \u001b[43mgraph_function\u001b[49m\u001b[38;5;241;43m.\u001b[39;49m\u001b[43m_call_flat\u001b[49m\u001b[43m(\u001b[49m\n\u001b[0;32m   3131\u001b[0m \u001b[43m    \u001b[49m\u001b[43mfiltered_flat_args\u001b[49m\u001b[43m,\u001b[49m\u001b[43m \u001b[49m\u001b[43mcaptured_inputs\u001b[49m\u001b[38;5;241;43m=\u001b[39;49m\u001b[43mgraph_function\u001b[49m\u001b[38;5;241;43m.\u001b[39;49m\u001b[43mcaptured_inputs\u001b[49m\u001b[43m)\u001b[49m\n",
      "File \u001b[1;32mE:\\anaconda3\\envs\\metallyrics\\lib\\site-packages\\tensorflow\\python\\eager\\function.py:1959\u001b[0m, in \u001b[0;36mConcreteFunction._call_flat\u001b[1;34m(self, args, captured_inputs, cancellation_manager)\u001b[0m\n\u001b[0;32m   1955\u001b[0m possible_gradient_type \u001b[38;5;241m=\u001b[39m gradients_util\u001b[38;5;241m.\u001b[39mPossibleTapeGradientTypes(args)\n\u001b[0;32m   1956\u001b[0m \u001b[38;5;28;01mif\u001b[39;00m (possible_gradient_type \u001b[38;5;241m==\u001b[39m gradients_util\u001b[38;5;241m.\u001b[39mPOSSIBLE_GRADIENT_TYPES_NONE\n\u001b[0;32m   1957\u001b[0m     \u001b[38;5;129;01mand\u001b[39;00m executing_eagerly):\n\u001b[0;32m   1958\u001b[0m   \u001b[38;5;66;03m# No tape is watching; skip to running the function.\u001b[39;00m\n\u001b[1;32m-> 1959\u001b[0m   \u001b[38;5;28;01mreturn\u001b[39;00m \u001b[38;5;28mself\u001b[39m\u001b[38;5;241m.\u001b[39m_build_call_outputs(\u001b[38;5;28;43mself\u001b[39;49m\u001b[38;5;241;43m.\u001b[39;49m\u001b[43m_inference_function\u001b[49m\u001b[38;5;241;43m.\u001b[39;49m\u001b[43mcall\u001b[49m\u001b[43m(\u001b[49m\n\u001b[0;32m   1960\u001b[0m \u001b[43m      \u001b[49m\u001b[43mctx\u001b[49m\u001b[43m,\u001b[49m\u001b[43m \u001b[49m\u001b[43margs\u001b[49m\u001b[43m,\u001b[49m\u001b[43m \u001b[49m\u001b[43mcancellation_manager\u001b[49m\u001b[38;5;241;43m=\u001b[39;49m\u001b[43mcancellation_manager\u001b[49m\u001b[43m)\u001b[49m)\n\u001b[0;32m   1961\u001b[0m forward_backward \u001b[38;5;241m=\u001b[39m \u001b[38;5;28mself\u001b[39m\u001b[38;5;241m.\u001b[39m_select_forward_and_backward_functions(\n\u001b[0;32m   1962\u001b[0m     args,\n\u001b[0;32m   1963\u001b[0m     possible_gradient_type,\n\u001b[0;32m   1964\u001b[0m     executing_eagerly)\n\u001b[0;32m   1965\u001b[0m forward_function, args_with_tangents \u001b[38;5;241m=\u001b[39m forward_backward\u001b[38;5;241m.\u001b[39mforward()\n",
      "File \u001b[1;32mE:\\anaconda3\\envs\\metallyrics\\lib\\site-packages\\tensorflow\\python\\eager\\function.py:598\u001b[0m, in \u001b[0;36m_EagerDefinedFunction.call\u001b[1;34m(self, ctx, args, cancellation_manager)\u001b[0m\n\u001b[0;32m    596\u001b[0m \u001b[38;5;28;01mwith\u001b[39;00m _InterpolateFunctionError(\u001b[38;5;28mself\u001b[39m):\n\u001b[0;32m    597\u001b[0m   \u001b[38;5;28;01mif\u001b[39;00m cancellation_manager \u001b[38;5;129;01mis\u001b[39;00m \u001b[38;5;28;01mNone\u001b[39;00m:\n\u001b[1;32m--> 598\u001b[0m     outputs \u001b[38;5;241m=\u001b[39m \u001b[43mexecute\u001b[49m\u001b[38;5;241;43m.\u001b[39;49m\u001b[43mexecute\u001b[49m\u001b[43m(\u001b[49m\n\u001b[0;32m    599\u001b[0m \u001b[43m        \u001b[49m\u001b[38;5;28;43mstr\u001b[39;49m\u001b[43m(\u001b[49m\u001b[38;5;28;43mself\u001b[39;49m\u001b[38;5;241;43m.\u001b[39;49m\u001b[43msignature\u001b[49m\u001b[38;5;241;43m.\u001b[39;49m\u001b[43mname\u001b[49m\u001b[43m)\u001b[49m\u001b[43m,\u001b[49m\n\u001b[0;32m    600\u001b[0m \u001b[43m        \u001b[49m\u001b[43mnum_outputs\u001b[49m\u001b[38;5;241;43m=\u001b[39;49m\u001b[38;5;28;43mself\u001b[39;49m\u001b[38;5;241;43m.\u001b[39;49m\u001b[43m_num_outputs\u001b[49m\u001b[43m,\u001b[49m\n\u001b[0;32m    601\u001b[0m \u001b[43m        \u001b[49m\u001b[43minputs\u001b[49m\u001b[38;5;241;43m=\u001b[39;49m\u001b[43margs\u001b[49m\u001b[43m,\u001b[49m\n\u001b[0;32m    602\u001b[0m \u001b[43m        \u001b[49m\u001b[43mattrs\u001b[49m\u001b[38;5;241;43m=\u001b[39;49m\u001b[43mattrs\u001b[49m\u001b[43m,\u001b[49m\n\u001b[0;32m    603\u001b[0m \u001b[43m        \u001b[49m\u001b[43mctx\u001b[49m\u001b[38;5;241;43m=\u001b[39;49m\u001b[43mctx\u001b[49m\u001b[43m)\u001b[49m\n\u001b[0;32m    604\u001b[0m   \u001b[38;5;28;01melse\u001b[39;00m:\n\u001b[0;32m    605\u001b[0m     outputs \u001b[38;5;241m=\u001b[39m execute\u001b[38;5;241m.\u001b[39mexecute_with_cancellation(\n\u001b[0;32m    606\u001b[0m         \u001b[38;5;28mstr\u001b[39m(\u001b[38;5;28mself\u001b[39m\u001b[38;5;241m.\u001b[39msignature\u001b[38;5;241m.\u001b[39mname),\n\u001b[0;32m    607\u001b[0m         num_outputs\u001b[38;5;241m=\u001b[39m\u001b[38;5;28mself\u001b[39m\u001b[38;5;241m.\u001b[39m_num_outputs,\n\u001b[1;32m   (...)\u001b[0m\n\u001b[0;32m    610\u001b[0m         ctx\u001b[38;5;241m=\u001b[39mctx,\n\u001b[0;32m    611\u001b[0m         cancellation_manager\u001b[38;5;241m=\u001b[39mcancellation_manager)\n",
      "File \u001b[1;32mE:\\anaconda3\\envs\\metallyrics\\lib\\site-packages\\tensorflow\\python\\eager\\execute.py:58\u001b[0m, in \u001b[0;36mquick_execute\u001b[1;34m(op_name, num_outputs, inputs, attrs, ctx, name)\u001b[0m\n\u001b[0;32m     56\u001b[0m \u001b[38;5;28;01mtry\u001b[39;00m:\n\u001b[0;32m     57\u001b[0m   ctx\u001b[38;5;241m.\u001b[39mensure_initialized()\n\u001b[1;32m---> 58\u001b[0m   tensors \u001b[38;5;241m=\u001b[39m \u001b[43mpywrap_tfe\u001b[49m\u001b[38;5;241;43m.\u001b[39;49m\u001b[43mTFE_Py_Execute\u001b[49m\u001b[43m(\u001b[49m\u001b[43mctx\u001b[49m\u001b[38;5;241;43m.\u001b[39;49m\u001b[43m_handle\u001b[49m\u001b[43m,\u001b[49m\u001b[43m \u001b[49m\u001b[43mdevice_name\u001b[49m\u001b[43m,\u001b[49m\u001b[43m \u001b[49m\u001b[43mop_name\u001b[49m\u001b[43m,\u001b[49m\n\u001b[0;32m     59\u001b[0m \u001b[43m                                      \u001b[49m\u001b[43minputs\u001b[49m\u001b[43m,\u001b[49m\u001b[43m \u001b[49m\u001b[43mattrs\u001b[49m\u001b[43m,\u001b[49m\u001b[43m \u001b[49m\u001b[43mnum_outputs\u001b[49m\u001b[43m)\u001b[49m\n\u001b[0;32m     60\u001b[0m \u001b[38;5;28;01mexcept\u001b[39;00m core\u001b[38;5;241m.\u001b[39m_NotOkStatusException \u001b[38;5;28;01mas\u001b[39;00m e:\n\u001b[0;32m     61\u001b[0m   \u001b[38;5;28;01mif\u001b[39;00m name \u001b[38;5;129;01mis\u001b[39;00m \u001b[38;5;129;01mnot\u001b[39;00m \u001b[38;5;28;01mNone\u001b[39;00m:\n",
      "\u001b[1;31mKeyboardInterrupt\u001b[0m: "
     ]
    }
   ],
   "source": [
    "lstm_history = lstm_model.fit(padded_train, y_train, epochs=64, batch_size=32, validation_split=0.2, verbose=1)\n",
    "lstm_pred = lstm_model.predict(padded_test)\n",
    "lstm_loss, lstm_acc = lstm_model.evaluate(padded_test, y_test, verbose=0)\n",
    "print(f\"loss: {lstm_loss:.4f}\\nacc: {lstm_acc:.4f}\")"
   ]
  },
  {
   "cell_type": "code",
   "execution_count": 40,
   "id": "1383e17f-a3a9-4577-8bf2-9ee7d460b8ad",
   "metadata": {},
   "outputs": [
    {
     "name": "stdout",
     "output_type": "stream",
     "text": [
      "loss: 0.4437\n",
      "acc: 0.4171\n"
     ]
    }
   ],
   "source": [
    "lstm_model = model\n",
    "lstm_pred = lstm_model.predict(padded_test)\n",
    "lstm_loss, lstm_acc = lstm_model.evaluate(padded_test, y_test, verbose=0)\n",
    "print(f\"loss: {lstm_loss:.4f}\\nacc: {lstm_acc:.4f}\")"
   ]
  },
  {
   "cell_type": "code",
   "execution_count": null,
   "id": "c8943995-fecc-4f5e-9b86-f933bd5a8ff3",
   "metadata": {
    "tags": []
   },
   "outputs": [],
   "source": [
    "fig, (ax1, ax2) = plt.subplots(2, 1, figsize=(12, 6))\n",
    "ax1.plot(lstm_history.history['accuracy'])\n",
    "ax1.plot(lstm_history.history['val_accuracy'])\n",
    "ax1.set_ylabel('accuracy')\n",
    "ax1.set_xlabel('epoch')\n",
    "ax1.legend(['train', 'validation'], loc='upper left')\n",
    "ax2.plot(lstm_history.history['loss'])\n",
    "ax2.plot(lstm_history.history['val_loss'])\n",
    "ax2.set_ylabel('loss')\n",
    "ax2.set_xlabel('epoch')\n",
    "plt.show()"
   ]
  },
  {
   "cell_type": "code",
   "execution_count": 43,
   "id": "24ad7896-6ca4-4166-9202-18949047b6b9",
   "metadata": {
    "tags": []
   },
   "outputs": [
    {
     "name": "stdout",
     "output_type": "stream",
     "text": [
      "\n",
      "Average binary classification scores:\n",
      "  balanced_accuracy   0.62 +/- 0.07\n",
      "  precision           0.57 +/- 0.09\n",
      "  recall              0.31 +/- 0.23\n",
      "  f1                  0.39 +/- 0.20\n",
      "\n",
      "Multi-label classification metrics:\n",
      "  accuracy      0.31\n",
      "  precision     0.58\n",
      "  recall        0.36\n",
      "  f1            0.44\n",
      "  hamming loss  0.98\n",
      "\n",
      "ROC AUC scores:\n",
      "  black     : 0.802\n",
      "  death     : 0.754\n",
      "  heavy     : 0.772\n",
      "  power     : 0.785\n",
      "  thrash    : 0.707\n",
      "  macro-avg : 0.764 +/- 0.033\n"
     ]
    },
    {
     "data": {
      "text/plain": [
       "array([0.11514997, 0.36893153, 0.14259663, 0.19652411, 0.16775662])"
      ]
     },
     "execution_count": 43,
     "metadata": {},
     "output_type": "execute_result"
    },
    {
     "data": {
      "image/png": "[encoded data removed]",
      "text/plain": [
       "<Figure size 576x432 with 1 Axes>"
      ]
     },
     "metadata": {},
     "output_type": "display_data"
    },
    {
     "data": {
      "image/png": "[encoded data removed]",
      "text/plain": [
       "<Figure size 576x432 with 1 Axes>"
      ]
     },
     "metadata": {},
     "output_type": "display_data"
    }
   ],
   "source": [
    "lstm_mlc = MultiLabelClassification(y_test, pred=lstm_pred, labels=labels)\n",
    "lstm_mlc.print_report()\n",
    "lstm_mlc.plot_precision_recall_curve()\n",
    "lstm_mlc.plot_roc_curve()\n",
    "lstm_mlc.best_thresholds()"
   ]
  },
  {
   "cell_type": "code",
   "execution_count": 44,
   "id": "2f4dc959-b055-412f-aaaa-c0baa98ed3c2",
   "metadata": {
    "tags": []
   },
   "outputs": [
    {
     "name": "stdout",
     "output_type": "stream",
     "text": [
      "\n",
      "Average binary classification scores:\n",
      "  balanced_accuracy   0.70 +/- 0.05\n",
      "  precision           0.38 +/- 0.14\n",
      "  recall              0.69 +/- 0.05\n",
      "  f1                  0.49 +/- 0.12\n",
      "\n",
      "Multi-label classification metrics:\n",
      "  accuracy      0.38\n",
      "  precision     0.41\n",
      "  recall        0.71\n",
      "  f1            0.52\n",
      "  hamming loss  1.50\n",
      "\n",
      "ROC AUC scores:\n",
      "  black     : 0.802\n",
      "  death     : 0.754\n",
      "  heavy     : 0.772\n",
      "  power     : 0.785\n",
      "  thrash    : 0.707\n",
      "  macro-avg : 0.764 +/- 0.033\n"
     ]
    }
   ],
   "source": [
    "lstm_mlc_tuned = MultiLabelClassification(y_test, pred=lstm_pred, labels=labels, threshold=lstm_mlc.best_thresholds())\n",
    "lstm_mlc_tuned.print_report()"
   ]
  },
  {
   "cell_type": "code",
   "execution_count": 45,
   "id": "e3b8332e-4d7d-4363-a183-a5059c18e5d4",
   "metadata": {},
   "outputs": [
    {
     "data": {
      "text/plain": [
       "array([[0, 0, 0, 0, 0],\n",
       "       [0, 0, 0, 0, 0],\n",
       "       [0, 0, 0, 1, 0],\n",
       "       [0, 0, 0, 0, 0],\n",
       "       [0, 0, 0, 1, 0],\n",
       "       [1, 1, 0, 0, 0],\n",
       "       [0, 1, 0, 0, 0],\n",
       "       [0, 0, 0, 0, 0],\n",
       "       [0, 0, 0, 0, 0],\n",
       "       [0, 0, 0, 0, 0],\n",
       "       [0, 0, 0, 0, 1],\n",
       "       [0, 0, 0, 0, 0],\n",
       "       [0, 0, 1, 0, 0],\n",
       "       [0, 0, 1, 0, 0],\n",
       "       [1, 0, 0, 0, 0],\n",
       "       [1, 0, 0, 0, 0],\n",
       "       [0, 1, 0, 0, 0],\n",
       "       [0, 1, 0, 0, 0],\n",
       "       [0, 0, 1, 1, 0],\n",
       "       [0, 0, 1, 1, 0]])"
      ]
     },
     "execution_count": 45,
     "metadata": {},
     "output_type": "execute_result"
    }
   ],
   "source": [
    "lstm_pred.round().astype(int)[:20]"
   ]
  },
  {
   "cell_type": "code",
   "execution_count": 46,
   "id": "ed9e7f28-facb-4a13-bc10-42b94ecfaff5",
   "metadata": {},
   "outputs": [
    {
     "data": {
      "text/plain": [
       "array([[1, 1, 0, 0, 0],\n",
       "       [1, 0, 1, 1, 0],\n",
       "       [0, 0, 0, 1, 0],\n",
       "       [1, 1, 0, 0, 0],\n",
       "       [0, 0, 0, 1, 0],\n",
       "       [1, 1, 0, 0, 0],\n",
       "       [1, 1, 0, 0, 0],\n",
       "       [0, 0, 0, 0, 0],\n",
       "       [0, 0, 1, 1, 0],\n",
       "       [0, 0, 1, 1, 1],\n",
       "       [0, 0, 1, 1, 1],\n",
       "       [0, 0, 1, 1, 0],\n",
       "       [0, 0, 1, 0, 0],\n",
       "       [0, 0, 1, 1, 0],\n",
       "       [1, 1, 0, 0, 1],\n",
       "       [1, 1, 0, 0, 0],\n",
       "       [0, 1, 0, 0, 0],\n",
       "       [0, 1, 0, 0, 0],\n",
       "       [0, 0, 1, 1, 0],\n",
       "       [0, 0, 1, 1, 0]])"
      ]
     },
     "execution_count": 46,
     "metadata": {},
     "output_type": "execute_result"
    }
   ],
   "source": [
    "lstm_mlc_tuned.pred_class[:20]"
   ]
  },
  {
   "cell_type": "code",
   "execution_count": 47,
   "id": "ddb36b31-eee9-43ac-a303-6a24eaf12005",
   "metadata": {},
   "outputs": [
    {
     "data": {
      "text/plain": [
       "array([[0, 0, 1, 1, 0],\n",
       "       [0, 0, 1, 1, 0],\n",
       "       [0, 0, 0, 1, 0],\n",
       "       [0, 0, 0, 1, 0],\n",
       "       [0, 0, 0, 1, 0],\n",
       "       [1, 0, 0, 0, 0],\n",
       "       [1, 0, 0, 0, 0],\n",
       "       [0, 0, 1, 1, 0],\n",
       "       [0, 0, 1, 1, 0],\n",
       "       [0, 0, 1, 1, 0],\n",
       "       [0, 0, 0, 0, 1],\n",
       "       [0, 0, 0, 0, 1],\n",
       "       [0, 0, 0, 0, 0],\n",
       "       [0, 0, 0, 0, 0],\n",
       "       [1, 0, 0, 0, 0],\n",
       "       [1, 0, 0, 0, 0],\n",
       "       [0, 0, 0, 0, 0],\n",
       "       [0, 0, 0, 0, 0],\n",
       "       [0, 0, 1, 0, 0],\n",
       "       [0, 0, 1, 0, 0]], dtype=int64)"
      ]
     },
     "execution_count": 47,
     "metadata": {},
     "output_type": "execute_result"
    }
   ],
   "source": [
    "y_test[:20]"
   ]
  },
  {
   "cell_type": "markdown",
   "id": "05717575-20df-4b86-8840-f99d785eb52d",
   "metadata": {},
   "source": [
    "### LSTM trained with sample weights"
   ]
  },
  {
   "cell_type": "code",
   "execution_count": 51,
   "id": "f96331c2-c168-4670-a79c-5451d3df3fd6",
   "metadata": {},
   "outputs": [],
   "source": [
    "early_stopping = keras.callbacks.EarlyStopping(\n",
    "    monitor=\"val_loss\",\n",
    "    min_delta=0,\n",
    "    patience=10,\n",
    "    verbose=0,\n",
    "    mode=\"auto\",\n",
    "    baseline=None,\n",
    "    restore_best_weights=True,\n",
    ")"
   ]
  },
  {
   "cell_type": "code",
   "execution_count": 54,
   "id": "ced5c285-1e56-45f4-b2cd-8506e6b4becf",
   "metadata": {
    "tags": []
   },
   "outputs": [
    {
     "name": "stdout",
     "output_type": "stream",
     "text": [
      "Model: \"sequential_2\"\n",
      "_________________________________________________________________\n",
      " Layer (type)                Output Shape              Param #   \n",
      "=================================================================\n",
      " embedding (Embedding)       (None, None, 100)         9570000   \n",
      "                                                                 \n",
      " spatial_dropout1d_2 (Spatia  (None, None, 100)        0         \n",
      " lDropout1D)                                                     \n",
      "                                                                 \n",
      " bidirectional_2 (Bidirectio  (None, 256)              234496    \n",
      " nal)                                                            \n",
      "                                                                 \n",
      " dropout_2 (Dropout)         (None, 256)               0         \n",
      "                                                                 \n",
      " batch_normalization_2 (Batc  (None, 256)              1024      \n",
      " hNormalization)                                                 \n",
      "                                                                 \n",
      " dense_2 (Dense)             (None, 5)                 1285      \n",
      "                                                                 \n",
      "=================================================================\n",
      "Total params: 9,806,805\n",
      "Trainable params: 236,293\n",
      "Non-trainable params: 9,570,512\n",
      "_________________________________________________________________\n",
      "None\n"
     ]
    }
   ],
   "source": [
    "lstm_model_2 = Sequential()\n",
    "lstm_model_2.add(embedding_layer)\n",
    "lstm_model_2.add(layers.SpatialDropout1D(0.2))\n",
    "lstm_model_2.add(layers.Bidirectional(layers.LSTM(128, return_sequences=False)))\n",
    "lstm_model_2.add(layers.Dropout(0.2))\n",
    "lstm_model_2.add(layers.BatchNormalization())\n",
    "lstm_model_2.add(layers.Dense(num_labels, activation='sigmoid'))\n",
    "opt = Adam(learning_rate=0.1)\n",
    "lstm_model_2.compile(optimizer=opt, loss='binary_crossentropy', metrics=['accuracy'])\n",
    "print(lstm_model_2.summary())"
   ]
  },
  {
   "cell_type": "code",
   "execution_count": 55,
   "id": "df998e73-2b6c-49c9-a043-ff007ff619ac",
   "metadata": {
    "tags": []
   },
   "outputs": [
    {
     "name": "stdout",
     "output_type": "stream",
     "text": [
      "Epoch 1/64\n",
      "2580/2580 [==============================] - 152s 58ms/step - loss: 0.0291 - accuracy: 0.2020 - val_loss: 0.0270 - val_accuracy: 0.2774\n",
      "Epoch 2/64\n",
      "2580/2580 [==============================] - 147s 57ms/step - loss: nan - accuracy: 0.2433 - val_loss: nan - val_accuracy: 0.3233\n",
      "Epoch 3/64\n",
      "2580/2580 [==============================] - 147s 57ms/step - loss: nan - accuracy: 0.3176 - val_loss: nan - val_accuracy: 0.3233\n",
      "Epoch 4/64\n",
      "2580/2580 [==============================] - 159s 62ms/step - loss: nan - accuracy: 0.3176 - val_loss: nan - val_accuracy: 0.3233\n",
      "Epoch 5/64\n",
      "2580/2580 [==============================] - 162s 63ms/step - loss: nan - accuracy: 0.3176 - val_loss: nan - val_accuracy: 0.3233\n",
      "Epoch 6/64\n",
      "2580/2580 [==============================] - 172s 66ms/step - loss: nan - accuracy: 0.3176 - val_loss: nan - val_accuracy: 0.3233\n",
      "Epoch 7/64\n",
      "2580/2580 [==============================] - 173s 67ms/step - loss: nan - accuracy: 0.3176 - val_loss: nan - val_accuracy: 0.3233\n",
      "Epoch 8/64\n",
      "2580/2580 [==============================] - 177s 68ms/step - loss: nan - accuracy: 0.3176 - val_loss: nan - val_accuracy: 0.3233\n",
      "Epoch 9/64\n",
      "2580/2580 [==============================] - 174s 67ms/step - loss: nan - accuracy: 0.3176 - val_loss: nan - val_accuracy: 0.3233\n",
      "Epoch 10/64\n",
      "2580/2580 [==============================] - 165s 64ms/step - loss: nan - accuracy: 0.3176 - val_loss: nan - val_accuracy: 0.3233\n",
      "Epoch 11/64\n",
      "2580/2580 [==============================] - 163s 63ms/step - loss: nan - accuracy: 0.3176 - val_loss: nan - val_accuracy: 0.3233\n",
      "loss: 0.5169\n",
      "acc: 0.2772\n"
     ]
    }
   ],
   "source": [
    "lstm_2_history = lstm_model_2.fit(\n",
    "    padded_train,\n",
    "    y_train,\n",
    "    sample_weight=sample_weights,\n",
    "    epochs=64,\n",
    "    batch_size=32,\n",
    "    callbacks=[early_stopping],\n",
    "    validation_split=0.2,\n",
    "    verbose=1\n",
    ")\n",
    "lstm_2_pred = lstm_model_2.predict(padded_test)\n",
    "lstm_2_loss, lstm_2_acc = lstm_model_2.evaluate(padded_test, y_test, verbose=0)\n",
    "print(f\"loss: {lstm_2_loss:.4f}\\nacc: {lstm_2_acc:.4f}\")"
   ]
  },
  {
   "cell_type": "code",
   "execution_count": null,
   "id": "18df32da-dd20-4e03-b42b-2296f7d1813e",
   "metadata": {
    "tags": []
   },
   "outputs": [],
   "source": [
    "fig, (ax1, ax2) = plt.subplots(2, 1, figsize=(12, 6))\n",
    "ax1.plot(lstm_2_history.history['accuracy'])\n",
    "ax1.plot(lstm_2_history.history['val_accuracy'])\n",
    "ax1.set_ylabel('accuracy')\n",
    "ax1.set_xlabel('epoch')\n",
    "ax1.legend(['train', 'validation'], loc='upper left')\n",
    "ax2.plot(lstm_2_history.history['loss'])\n",
    "ax2.plot(lstm_2_history.history['val_loss'])\n",
    "ax2.set_ylabel('loss')\n",
    "ax2.set_xlabel('epoch')\n",
    "plt.show()"
   ]
  },
  {
   "cell_type": "code",
   "execution_count": null,
   "id": "3cf502a4-a4c8-4054-badf-ff6585fc4cac",
   "metadata": {
    "tags": []
   },
   "outputs": [],
   "source": [
    "lstm_2_mlc = MultiLabelClassification(y_test, pred=lstm_2_pred, labels=labels)\n",
    "lstm_2_mlc.print_report()\n",
    "lstm_2_mlc.plot_precision_recall_curve()\n",
    "lstm_2_mlc.plot_roc_curve()\n",
    "lstm_2_mlc.best_thresholds()"
   ]
  },
  {
   "cell_type": "code",
   "execution_count": null,
   "id": "6840893f-e9aa-4743-8650-6c5d208636a6",
   "metadata": {
    "tags": []
   },
   "outputs": [],
   "source": [
    "lstm_2_mlc_tuned = MultiLabelClassification(y_test, pred=lstm_2_pred, labels=labels, threshold=lstm_2_mlc.best_thresholds())\n",
    "lstm_2_mlc_tuned.print_report()"
   ]
  },
  {
   "cell_type": "code",
   "execution_count": null,
   "id": "62c6b786-84e3-48de-8877-f8c2ef2ec205",
   "metadata": {},
   "outputs": [],
   "source": [
    "lstm_2_pred.round().astype(int)[:20]"
   ]
  },
  {
   "cell_type": "code",
   "execution_count": null,
   "id": "cd1317ea-7dae-48fa-a7fd-a0e2ab427270",
   "metadata": {},
   "outputs": [],
   "source": [
    "lstm_2_mlc_tuned.pred_class[:20]"
   ]
  },
  {
   "cell_type": "code",
   "execution_count": null,
   "id": "bd825286-0191-4849-b356-efbfb91b61f3",
   "metadata": {},
   "outputs": [],
   "source": [
    "y_test[:20]"
   ]
  }
 ],
 "metadata": {
  "kernelspec": {
   "display_name": "Python (metallyrics)",
   "language": "python",
   "name": "metallyrics"
  },
  "language_info": {
   "codemirror_mode": {
    "name": "ipython",
    "version": 3
   },
   "file_extension": ".py",
   "mimetype": "text/x-python",
   "name": "python",
   "nbconvert_exporter": "python",
   "pygments_lexer": "ipython3",
   "version": "3.9.7"
  }
 },
 "nbformat": 4,
 "nbformat_minor": 5
}

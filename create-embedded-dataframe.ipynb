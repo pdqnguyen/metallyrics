{
 "cells": [
  {
   "cell_type": "code",
   "execution_count": 348,
   "metadata": {},
   "outputs": [],
   "source": [
    "import os\n",
    "import re\n",
    "import numpy as np\n",
    "import pandas as pd\n",
    "import pickle as pkl\n",
    "from metallum import Band, Album, Song\n",
    "\n",
    "import nltk\n",
    "from nltk.corpus import stopwords\n",
    "languages = ['english', 'german', 'french', 'finnish', 'swedish', 'norwegian', 'danish', 'russian']\n",
    "stop_words = set()\n",
    "for language in languages:\n",
    "    stop_words.update(set(stopwords.words(language)))\n",
    "english_vocab = set(w.lower() for w in nltk.corpus.words.words())\n",
    "\n",
    "import matplotlib\n",
    "matplotlib.rcParams['figure.facecolor'] = 'white'\n",
    "import matplotlib.pyplot as plt\n",
    "%matplotlib inline\n",
    "\n",
    "from sklearn.feature_extraction.text import CountVectorizer\n",
    "from sklearn.preprocessing import LabelEncoder\n",
    "from sklearn.model_selection import train_test_split, cross_val_score\n",
    "from sklearn.metrics import accuracy_score, balanced_accuracy_score\n",
    "\n",
    "from keras.preprocessing.text import Tokenizer\n",
    "from keras.preprocessing.sequence import pad_sequences\n",
    "from keras.models import Sequential\n",
    "from keras import layers\n",
    "from keras.wrappers.scikit_learn import KerasClassifier\n",
    "\n",
    "from imblearn.over_sampling import RandomOverSampler"
   ]
  },
  {
   "cell_type": "code",
   "execution_count": 3,
   "metadata": {},
   "outputs": [],
   "source": [
    "LYRICS_DIR = 'lyrics/'\n",
    "BANDS_DIR = 'bands/'"
   ]
  },
  {
   "cell_type": "code",
   "execution_count": 69,
   "metadata": {},
   "outputs": [],
   "source": [
    "band_filenames = [f for f in os.listdir(BANDS_DIR) if '.pkl' in f]\n",
    "bands = [pkl.load(open(os.path.join(BANDS_DIR, f), 'rb')) for f in band_filenames]\n",
    "band_genres = {b.name.lower(): b.genres for b in bands}"
   ]
  },
  {
   "cell_type": "code",
   "execution_count": 303,
   "metadata": {},
   "outputs": [
    {
     "name": "stdout",
     "output_type": "stream",
     "text": [
      "vocabulary size: 171518\n"
     ]
    }
   ],
   "source": [
    "lyrics_filenames = [f for f in os.listdir(LYRICS_DIR) if '.pkl' in f]\n",
    "lyrics = {filename.replace('.pkl', ''): pkl.load(open(os.path.join(LYRICS_DIR, filename), 'rb')) for filename in lyrics_filenames}\n",
    "corpus = []\n",
    "band_names = []\n",
    "song_names = []\n",
    "vocabulary = set()\n",
    "genres = []\n",
    "for band, band_lyrics in lyrics.items():\n",
    "    if band in band_genres.keys():\n",
    "        for album, album_lyrics in band_lyrics.items():\n",
    "            for song, song_lyrics in album_lyrics.items():\n",
    "                words = []\n",
    "                for line in song_lyrics:\n",
    "                    for w in line.split():\n",
    "                        s = re.search(\"(\\w+)|(\\w+([-'])(\\w+)?[']?(\\w+))\", w.lower())\n",
    "                        if s:\n",
    "                            w = s.group()\n",
    "                            if True: #w in english_vocab and w not in stop_words:\n",
    "                                words.append(w)\n",
    "                song_name = []\n",
    "                for w in song.split():\n",
    "                    s = re.search(\"(\\w+)|(\\w+([-'])(\\w+)?[']?(\\w+))\", re.sub('\\d+\\.', '', w).lower())\n",
    "                    if s:\n",
    "                        song_name.append(s.group())\n",
    "                song_name = ' '.join(song_name)\n",
    "                document = ' '.join(words)\n",
    "                if len(document) > 0:\n",
    "                    corpus.append(document)\n",
    "                    band_names.append(band)\n",
    "                    song_names.append(song_name)\n",
    "                    vocabulary.update(set(words))\n",
    "                    genres.append(band_genres[band])\n",
    "print(\"vocabulary size: {}\".format(len(vocabulary)))"
   ]
  },
  {
   "cell_type": "markdown",
   "metadata": {},
   "source": [
    "# Features dataframe"
   ]
  },
  {
   "cell_type": "code",
   "execution_count": 404,
   "metadata": {},
   "outputs": [
    {
     "data": {
      "text/html": [
       "<div>\n",
       "<style scoped>\n",
       "    .dataframe tbody tr th:only-of-type {\n",
       "        vertical-align: middle;\n",
       "    }\n",
       "\n",
       "    .dataframe tbody tr th {\n",
       "        vertical-align: top;\n",
       "    }\n",
       "\n",
       "    .dataframe thead th {\n",
       "        text-align: right;\n",
       "    }\n",
       "</style>\n",
       "<table border=\"1\" class=\"dataframe\">\n",
       "  <thead>\n",
       "    <tr style=\"text-align: right;\">\n",
       "      <th></th>\n",
       "      <th>band</th>\n",
       "      <th>song</th>\n",
       "      <th>lyrics</th>\n",
       "      <th>genres</th>\n",
       "    </tr>\n",
       "  </thead>\n",
       "  <tbody>\n",
       "    <tr>\n",
       "      <th>0</th>\n",
       "      <td>defiance</td>\n",
       "      <td>the fault</td>\n",
       "      <td>danger lingers in the air tonight don feel rig...</td>\n",
       "      <td>[thrash]</td>\n",
       "    </tr>\n",
       "    <tr>\n",
       "      <th>1</th>\n",
       "      <td>defiance</td>\n",
       "      <td>death machine</td>\n",
       "      <td>take a look into the future see a time that wi...</td>\n",
       "      <td>[thrash]</td>\n",
       "    </tr>\n",
       "    <tr>\n",
       "      <th>2</th>\n",
       "      <td>defiance</td>\n",
       "      <td>product of society</td>\n",
       "      <td>lost mind looking for something to fill that e...</td>\n",
       "      <td>[thrash]</td>\n",
       "    </tr>\n",
       "    <tr>\n",
       "      <th>3</th>\n",
       "      <td>defiance</td>\n",
       "      <td>forgotten</td>\n",
       "      <td>forgotten men who fought for shit went through...</td>\n",
       "      <td>[thrash]</td>\n",
       "    </tr>\n",
       "    <tr>\n",
       "      <th>4</th>\n",
       "      <td>defiance</td>\n",
       "      <td>lock jaw</td>\n",
       "      <td>have you ever felt a puncture thru the skin fr...</td>\n",
       "      <td>[thrash]</td>\n",
       "    </tr>\n",
       "  </tbody>\n",
       "</table>\n",
       "</div>"
      ],
      "text/plain": [
       "       band                song  \\\n",
       "0  defiance           the fault   \n",
       "1  defiance       death machine   \n",
       "2  defiance  product of society   \n",
       "3  defiance           forgotten   \n",
       "4  defiance            lock jaw   \n",
       "\n",
       "                                              lyrics    genres  \n",
       "0  danger lingers in the air tonight don feel rig...  [thrash]  \n",
       "1  take a look into the future see a time that wi...  [thrash]  \n",
       "2  lost mind looking for something to fill that e...  [thrash]  \n",
       "3  forgotten men who fought for shit went through...  [thrash]  \n",
       "4  have you ever felt a puncture thru the skin fr...  [thrash]  "
      ]
     },
     "execution_count": 404,
     "metadata": {},
     "output_type": "execute_result"
    }
   ],
   "source": [
    "df_rows = [\n",
    "    {'band': band_names[i], 'song': song_names[i], 'lyrics': corpus[i], 'genres': genres[i]} for i in range(len(corpus))\n",
    "]\n",
    "df = pd.DataFrame(df_rows, columns=['band', 'song', 'lyrics', 'genres'])\n",
    "df = df.drop_duplicates(subset=['band', 'song'])\n",
    "df.head()"
   ]
  },
  {
   "cell_type": "code",
   "execution_count": 405,
   "metadata": {},
   "outputs": [
    {
     "name": "stdout",
     "output_type": "stream",
     "text": [
      "160 85 1 1598\n"
     ]
    }
   ],
   "source": [
    "song_lengths = df['lyrics'].apply(lambda x: len(x.split()))\n",
    "print(round(song_lengths.mean()), round(song_lengths.std()), song_lengths.min(), song_lengths.max())"
   ]
  },
  {
   "cell_type": "code",
   "execution_count": 433,
   "metadata": {},
   "outputs": [
    {
     "data": {
      "image/png": "[encoded data removed]",
      "text/plain": [
       "<Figure size 432x288 with 1 Axes>"
      ]
     },
     "metadata": {
      "needs_background": "light"
     },
     "output_type": "display_data"
    }
   ],
   "source": [
    "plt.fill_between(range(1, df.shape[0] + 1), 0, song_lengths.sort_values()[::-1].reset_index(drop=True))\n",
    "plt.title(\"song lengths\")\n",
    "plt.xlabel('song ranking by length')\n",
    "plt.ylabel('word count')\n",
    "plt.xscale('log')\n",
    "plt.grid(axis='both')\n",
    "plt.show()"
   ]
  },
  {
   "cell_type": "code",
   "execution_count": 435,
   "metadata": {},
   "outputs": [
    {
     "data": {
      "image/png": "[encoded data removed]",
      "text/plain": [
       "<Figure size 432x288 with 1 Axes>"
      ]
     },
     "metadata": {
      "needs_background": "light"
     },
     "output_type": "display_data"
    }
   ],
   "source": [
    "song_lengths.hist(bins=100)\n",
    "plt.title(\"song lengths\")\n",
    "plt.xlabel('word count')\n",
    "plt.ylabel('songs')\n",
    "plt.show()"
   ]
  },
  {
   "cell_type": "markdown",
   "metadata": {},
   "source": [
    "# Labels dataframe"
   ]
  },
  {
   "cell_type": "code",
   "execution_count": 436,
   "metadata": {},
   "outputs": [
    {
     "data": {
      "text/html": [
       "<div>\n",
       "<style scoped>\n",
       "    .dataframe tbody tr th:only-of-type {\n",
       "        vertical-align: middle;\n",
       "    }\n",
       "\n",
       "    .dataframe tbody tr th {\n",
       "        vertical-align: top;\n",
       "    }\n",
       "\n",
       "    .dataframe thead th {\n",
       "        text-align: right;\n",
       "    }\n",
       "</style>\n",
       "<table border=\"1\" class=\"dataframe\">\n",
       "  <thead>\n",
       "    <tr style=\"text-align: right;\">\n",
       "      <th></th>\n",
       "      <th>black</th>\n",
       "      <th>death</th>\n",
       "      <th>heavy</th>\n",
       "      <th>melodic</th>\n",
       "      <th>power</th>\n",
       "      <th>progressive</th>\n",
       "      <th>thrash</th>\n",
       "      <th>other</th>\n",
       "    </tr>\n",
       "  </thead>\n",
       "  <tbody>\n",
       "    <tr>\n",
       "      <th>0</th>\n",
       "      <td>0</td>\n",
       "      <td>0</td>\n",
       "      <td>0</td>\n",
       "      <td>0</td>\n",
       "      <td>0</td>\n",
       "      <td>0</td>\n",
       "      <td>1</td>\n",
       "      <td>0</td>\n",
       "    </tr>\n",
       "    <tr>\n",
       "      <th>1</th>\n",
       "      <td>0</td>\n",
       "      <td>0</td>\n",
       "      <td>0</td>\n",
       "      <td>0</td>\n",
       "      <td>0</td>\n",
       "      <td>0</td>\n",
       "      <td>1</td>\n",
       "      <td>0</td>\n",
       "    </tr>\n",
       "    <tr>\n",
       "      <th>2</th>\n",
       "      <td>0</td>\n",
       "      <td>0</td>\n",
       "      <td>0</td>\n",
       "      <td>0</td>\n",
       "      <td>0</td>\n",
       "      <td>0</td>\n",
       "      <td>1</td>\n",
       "      <td>0</td>\n",
       "    </tr>\n",
       "    <tr>\n",
       "      <th>3</th>\n",
       "      <td>0</td>\n",
       "      <td>0</td>\n",
       "      <td>0</td>\n",
       "      <td>0</td>\n",
       "      <td>0</td>\n",
       "      <td>0</td>\n",
       "      <td>1</td>\n",
       "      <td>0</td>\n",
       "    </tr>\n",
       "    <tr>\n",
       "      <th>4</th>\n",
       "      <td>0</td>\n",
       "      <td>0</td>\n",
       "      <td>0</td>\n",
       "      <td>0</td>\n",
       "      <td>0</td>\n",
       "      <td>0</td>\n",
       "      <td>1</td>\n",
       "      <td>0</td>\n",
       "    </tr>\n",
       "  </tbody>\n",
       "</table>\n",
       "</div>"
      ],
      "text/plain": [
       "   black  death  heavy  melodic  power  progressive  thrash  other\n",
       "0      0      0      0        0      0            0       1      0\n",
       "1      0      0      0        0      0            0       1      0\n",
       "2      0      0      0        0      0            0       1      0\n",
       "3      0      0      0        0      0            0       1      0\n",
       "4      0      0      0        0      0            0       1      0"
      ]
     },
     "execution_count": 436,
     "metadata": {},
     "output_type": "execute_result"
    }
   ],
   "source": [
    "unique_genres = sorted(set([x for lst in df['genres'].tolist() for x in lst]))\n",
    "df_genres = pd.DataFrame(index=df.index, columns=unique_genres)\n",
    "for genre in unique_genres:\n",
    "    df_genres[genre] = df['genres'].apply(lambda x: 1 if genre in x else 0)\n",
    "top_genres = df_genres.columns[df_genres.mean(axis=0) > 0.1]\n",
    "df_genres = df_genres[top_genres]\n",
    "df_genres['other'] = (df_genres.sum(axis=1) == 0).astype(int)\n",
    "df_genres.head()"
   ]
  },
  {
   "cell_type": "code",
   "execution_count": 437,
   "metadata": {},
   "outputs": [
    {
     "data": {
      "text/plain": [
       "black          0.228073\n",
       "death          0.326872\n",
       "heavy          0.161634\n",
       "melodic        0.106877\n",
       "power          0.164225\n",
       "progressive    0.110551\n",
       "thrash         0.192628\n",
       "other          0.136034\n",
       "dtype: float64"
      ]
     },
     "execution_count": 437,
     "metadata": {},
     "output_type": "execute_result"
    }
   ],
   "source": [
    "df_genres.mean(axis=0)"
   ]
  },
  {
   "cell_type": "markdown",
   "metadata": {},
   "source": [
    "# Tokenization & oversampling"
   ]
  },
  {
   "cell_type": "code",
   "execution_count": 485,
   "metadata": {},
   "outputs": [],
   "source": [
    "corpus_train, corpus_test, y_train, y_test = train_test_split(df['lyrics'].values, df_genres['death'].values, test_size=0.2)"
   ]
  },
  {
   "cell_type": "code",
   "execution_count": 486,
   "metadata": {},
   "outputs": [
    {
     "name": "stdout",
     "output_type": "stream",
     "text": [
      "(33968, 1598) (8492, 1598) (33968,) (8492,)\n"
     ]
    }
   ],
   "source": [
    "maxlen = song_lengths.max()\n",
    "\n",
    "tokenizer = Tokenizer(num_words=5000)\n",
    "tokenizer.fit_on_texts(corpus_train)\n",
    "\n",
    "vocab_size = len(tokenizer.word_index) + 1\n",
    "\n",
    "X_train = tokenizer.texts_to_sequences(corpus_train)\n",
    "X_test = tokenizer.texts_to_sequences(corpus_test)\n",
    "\n",
    "X_train = pad_sequences(X_train, padding='post', maxlen=maxlen)\n",
    "X_test = pad_sequences(X_test, padding='post', maxlen=maxlen)\n",
    "\n",
    "print(X_train.shape, X_test.shape, y_train.shape, y_test.shape)"
   ]
  },
  {
   "cell_type": "code",
   "execution_count": 487,
   "metadata": {},
   "outputs": [
    {
     "name": "stdout",
     "output_type": "stream",
     "text": [
      "(45678, 1598) (45678,)\n"
     ]
    }
   ],
   "source": [
    "X_train, y_train = RandomOverSampler(random_state=0).fit_resample(X_train, y_train)\n",
    "print(X_train.shape, y_train.shape)"
   ]
  },
  {
   "cell_type": "markdown",
   "metadata": {},
   "source": [
    "# Test with a simple Keras model"
   ]
  },
  {
   "cell_type": "code",
   "execution_count": 488,
   "metadata": {},
   "outputs": [],
   "source": [
    "embedding_dim = 50\n",
    "\n",
    "def create_model(input_dim=None, output_dim=None, input_length=maxlen):\n",
    "    model = Sequential()\n",
    "    model.add(layers.Embedding(input_dim=input_dim,\n",
    "                               output_dim=output_dim,\n",
    "                               input_length=input_length))\n",
    "    model.add(layers.Flatten())\n",
    "    model.add(layers.Dense(10, activation='relu'))\n",
    "    model.add(layers.Dense(1, activation='sigmoid'))\n",
    "    model.compile(optimizer='adam',\n",
    "                  loss='binary_crossentropy',\n",
    "                  metrics=['accuracy'])\n",
    "    return model\n",
    "\n",
    "model = KerasClassifier(create_model, input_dim=vocab_size, output_dim=embedding_dim, epochs=3, batch_size=128, verbose=True)"
   ]
  },
  {
   "cell_type": "code",
   "execution_count": 489,
   "metadata": {},
   "outputs": [
    {
     "name": "stdout",
     "output_type": "stream",
     "text": [
      "Epoch 1/3\n",
      "30452/30452 [==============================] - 43s 1ms/step - loss: 0.6880 - acc: 0.5829\n",
      "Epoch 2/3\n",
      "30452/30452 [==============================] - 39s 1ms/step - loss: 0.6801 - acc: 0.5868\n",
      "Epoch 3/3\n",
      "30452/30452 [==============================] - 38s 1ms/step - loss: 0.6783 - acc: 0.5869\n",
      "15226/15226 [==============================] - 4s 244us/step\n",
      "Epoch 1/3\n",
      "30452/30452 [==============================] - 42s 1ms/step - loss: 0.6961 - acc: 0.5823\n",
      "Epoch 2/3\n",
      "30452/30452 [==============================] - 38s 1ms/step - loss: 0.6814 - acc: 0.5860\n",
      "Epoch 3/3\n",
      "30452/30452 [==============================] - 38s 1ms/step - loss: 0.6790 - acc: 0.5860\n",
      "15226/15226 [==============================] - 4s 251us/step\n",
      "Epoch 1/3\n",
      "30452/30452 [==============================] - 43s 1ms/step - loss: 0.5795 - acc: 0.6970\n",
      "Epoch 2/3\n",
      "30452/30452 [==============================] - 38s 1ms/step - loss: 0.5060 - acc: 0.7611\n",
      "Epoch 3/3\n",
      "30452/30452 [==============================] - 38s 1ms/step - loss: 0.4507 - acc: 0.7984\n",
      "15226/15226 [==============================] - 4s 251us/step\n",
      "CV score: 58.4% +/- 23.8%\n"
     ]
    }
   ],
   "source": [
    "scores = cross_val_score(model, X_train, y_train, cv=3, scoring='balanced_accuracy')\n",
    "print(\"CV score: {:.1f}% +/- {:.1f}%\".format(scores.mean() * 100, scores.std() * 200))"
   ]
  },
  {
   "cell_type": "code",
   "execution_count": 484,
   "metadata": {},
   "outputs": [
    {
     "name": "stdout",
     "output_type": "stream",
     "text": [
      "Epoch 1/1\n",
      "33968/33968 [==============================] - 46s 1ms/step - loss: 0.2465 - acc: 0.6915\n",
      "8492/8492 [==============================] - 3s 334us/step\n",
      "0.6079665363619577\n"
     ]
    }
   ],
   "source": [
    "model.fit(X_train, y_train, class_weight=class_weight)\n",
    "y_pred = model.predict(X_test)\n",
    "print(balanced_accuracy_score(y_test, y_pred))"
   ]
  },
  {
   "cell_type": "markdown",
   "metadata": {},
   "source": [
    "### With global max pooling instead of flattening"
   ]
  },
  {
   "cell_type": "code",
   "execution_count": 280,
   "metadata": {},
   "outputs": [],
   "source": [
    "embedding_dim = 50\n",
    "\n",
    "def create_model(input_dim=None, output_dim=None, input_length=maxlen):\n",
    "    model = Sequential()\n",
    "    model.add(layers.Embedding(input_dim=input_dim,\n",
    "                               output_dim=output_dim,\n",
    "                               input_length=input_length))\n",
    "    model.add(layers.GlobalMaxPool1D())\n",
    "    model.add(layers.Dense(10, activation='relu'))\n",
    "    model.add(layers.Dense(1, activation='sigmoid'))\n",
    "    model.compile(optimizer='adam',\n",
    "                  loss='binary_crossentropy',\n",
    "                  metrics=['accuracy'])\n",
    "    return model\n",
    "\n",
    "model = KerasClassifier(create_model, input_dim=vocab_size, output_dim=embedding_dim, epochs=5, batch_size=10, verbose=False)"
   ]
  },
  {
   "cell_type": "code",
   "execution_count": 281,
   "metadata": {},
   "outputs": [
    {
     "name": "stdout",
     "output_type": "stream",
     "text": [
      "CV score: 87.3% +/- 9.4%\n"
     ]
    }
   ],
   "source": [
    "scores = cross_val_score(model, X_train, y_train, cv=5, scoring='balanced_accuracy')\n",
    "print(\"CV score: {:.1f}% +/- {:.1f}%\".format(scores.mean() * 100, scores.std() * 200))"
   ]
  },
  {
   "cell_type": "code",
   "execution_count": 297,
   "metadata": {},
   "outputs": [
    {
     "name": "stdout",
     "output_type": "stream",
     "text": [
      "0.5\n"
     ]
    }
   ],
   "source": [
    "model.fit(X_train, y_train)\n",
    "y_pred = model.predict(X_test)\n",
    "print(balanced_accuracy_score(y_test, y_pred))"
   ]
  },
  {
   "cell_type": "markdown",
   "metadata": {},
   "source": [
    "### Convolutional neural network"
   ]
  },
  {
   "cell_type": "code",
   "execution_count": 284,
   "metadata": {},
   "outputs": [],
   "source": [
    "embedding_dim = 50\n",
    "\n",
    "def create_model(input_dim=None, output_dim=None, input_length=maxlen):\n",
    "    model = Sequential()\n",
    "    model.add(layers.Embedding(input_dim=input_dim,\n",
    "                               output_dim=output_dim,\n",
    "                               input_length=input_length))\n",
    "    model.add(layers.Conv1D(128, 5, activation='relu'))\n",
    "    model.add(layers.GlobalMaxPool1D())\n",
    "    model.add(layers.Dense(10, activation='relu'))\n",
    "    model.add(layers.Dense(1, activation='sigmoid'))\n",
    "    model.compile(optimizer='adam',\n",
    "                  loss='binary_crossentropy',\n",
    "                  metrics=['accuracy'])\n",
    "    return model\n",
    "\n",
    "model = KerasClassifier(create_model, input_dim=vocab_size, output_dim=embedding_dim, epochs=5, batch_size=10, verbose=False)"
   ]
  },
  {
   "cell_type": "code",
   "execution_count": 298,
   "metadata": {},
   "outputs": [
    {
     "name": "stdout",
     "output_type": "stream",
     "text": [
      "CV score: 50.0% +/- 0.0%\n"
     ]
    }
   ],
   "source": [
    "scores = cross_val_score(model, X_train, y_train, cv=5, scoring='balanced_accuracy')\n",
    "print(\"CV score: {:.1f}% +/- {:.1f}%\".format(scores.mean() * 100, scores.std() * 200))"
   ]
  },
  {
   "cell_type": "code",
   "execution_count": 297,
   "metadata": {},
   "outputs": [
    {
     "name": "stdout",
     "output_type": "stream",
     "text": [
      "0.5\n"
     ]
    }
   ],
   "source": [
    "model.fit(X_train, y_train)\n",
    "y_pred = model.predict(X_test)\n",
    "print(balanced_accuracy_score(y_test, y_pred))"
   ]
  }
 ],
 "metadata": {
  "kernelspec": {
   "display_name": "Python 3",
   "language": "python",
   "name": "python3"
  },
  "language_info": {
   "codemirror_mode": {
    "name": "ipython",
    "version": 3
   },
   "file_extension": ".py",
   "mimetype": "text/x-python",
   "name": "python",
   "nbconvert_exporter": "python",
   "pygments_lexer": "ipython3",
   "version": "3.7.3"
  }
 },
 "nbformat": 4,
 "nbformat_minor": 2
}

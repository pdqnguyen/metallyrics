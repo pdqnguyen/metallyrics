{
 "cells": [
  {
   "cell_type": "code",
   "execution_count": 131,
   "metadata": {},
   "outputs": [],
   "source": [
    "import os\n",
    "import numpy as np\n",
    "import pandas as pd\n",
    "import matplotlib\n",
    "matplotlib.rcParams['figure.facecolor'] = 'white'\n",
    "import matplotlib.pyplot as plt\n",
    "import nltk\n",
    "from nltk.tokenize import word_tokenize\n",
    "from nltk.stem.porter import PorterStemmer\n",
    "from nltk.corpus import stopwords\n",
    "from nltk.corpus import words as nltk_words\n",
    "from sklearn.feature_extraction.text import CountVectorizer, TfidfVectorizer\n",
    "from gensim.corpora import Dictionary\n",
    "from gensim.models import TfidfModel\n",
    "import wordcloud"
   ]
  },
  {
   "cell_type": "code",
   "execution_count": 12,
   "metadata": {},
   "outputs": [],
   "source": [
    "# stopwords_dir = 'C:Users/philippe/AppData/Roaming/nltk_data/corpora/stopwords/'\n",
    "stopwords_dir = '/home/philippe/nltk_data/corpora/stopwords'\n",
    "files = os.listdir(stopwords_dir)\n",
    "languages = [file for file in files if file != 'README']\n",
    "stop_words = set()\n",
    "for language in languages:\n",
    "    stop_words.update(set(stopwords.words(language)))"
   ]
  },
  {
   "cell_type": "code",
   "execution_count": 172,
   "metadata": {},
   "outputs": [],
   "source": [
    "def get_common_surface_form(original_corpus, stemmer):\n",
    "    from collections import defaultdict\n",
    "    counts = defaultdict(lambda : defaultdict(int))\n",
    "    surface_forms = {}\n",
    "    for document in original_corpus:\n",
    "        for token in document:\n",
    "            stemmed = stemmer.stem(token)\n",
    "            counts[stemmed][token] += 1\n",
    "    for stemmed, originals in counts.items():\n",
    "        surface_forms[stemmed] = max(originals, key=lambda i: originals[i])\n",
    "    return surface_forms"
   ]
  },
  {
   "cell_type": "code",
   "execution_count": 228,
   "metadata": {},
   "outputs": [],
   "source": [
    "df = pd.read_hdf('combined-data/lyrics-genres.h5', key='df', mode='r')\n",
    "df = df[df.lyrics.apply(len) > 0]\n",
    "\n",
    "# drop non-English songs\n",
    "english_words = set(nltk_words.words())\n",
    "def pct_english(x):\n",
    "    return len(set(x).intersection(english_words)) / len(set(x))\n",
    "num_english_words = df.lyrics.str.split().apply(pct_english)\n",
    "df = df[num_english_words > 0.5]\n",
    "\n",
    "# split into genre documents\n",
    "df['other'] = (df[df.columns[1:]].sum(axis=1) == 0).astype(int)\n",
    "genres = df.columns[1:]\n",
    "genre_texts = [' '.join(df[df[genre] == 1].lyrics.values) for genre in genres]\n",
    "# genre_texts = [' '.join(df[(df[genre] == 1) & (df[genres].sum(axis=1) == 1)].lyrics.values) for genre in genres]"
   ]
  },
  {
   "cell_type": "code",
   "execution_count": null,
   "metadata": {},
   "outputs": [],
   "source": [
    "stemmer = PorterStemmer()\n",
    "stemmed_corpus = []\n",
    "original_corpus = []\n",
    "for text in genre_texts:\n",
    "    tokens = word_tokenize(text)\n",
    "    stemmed = [stemmer.stem(token) for token in tokens]\n",
    "    stemmed_corpus.append(stemmed)\n",
    "    original_corpus.append(tokens)\n",
    "dictionary = Dictionary(stemmed_corpus)\n",
    "vectors = [dictionary.doc2bow(text) for text in stemmed_corpus]\n",
    "vectors = [[bow_repr for bow_repr in vector if bow_repr[1] > 100] for vector in vectors]\n",
    "tfidf = TfidfModel(vectors, wglobal=lambda x1, x2: np.log2((1 + x2) / (1 + x1)))\n",
    "surface_forms = get_common_surface_form(original_corpus, stemmer)\n",
    "for i, genre in enumerate(genres):\n",
    "    print(genre)\n",
    "    top_words = np.sort(np.array(tfidf[vectors[i]], dtype = [('word', int), ('score', float)]), order='score')[::-1]\n",
    "    frequencies = [(surface_forms[dictionary[word]],score) for word,score in top_words]\n",
    "    wc = wordcloud.WordCloud(stopwords=sorted(stop_words)).generate_from_frequencies(dict(frequencies))\n",
    "    plt.figure(figsize=(8, 5))\n",
    "    plt.imshow(wc)\n",
    "    plt.axis('off')\n",
    "    plt.show()"
   ]
  }
 ],
 "metadata": {
  "kernelspec": {
   "display_name": "Python 3",
   "language": "python",
   "name": "python3"
  },
  "language_info": {
   "codemirror_mode": {
    "name": "ipython",
    "version": 3
   },
   "file_extension": ".py",
   "mimetype": "text/x-python",
   "name": "python",
   "nbconvert_exporter": "python",
   "pygments_lexer": "ipython3",
   "version": "3.7.3"
  }
 },
 "nbformat": 4,
 "nbformat_minor": 2
}

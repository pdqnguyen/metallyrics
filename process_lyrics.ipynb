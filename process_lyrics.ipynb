{
 "cells": [
  {
   "cell_type": "code",
   "execution_count": 1,
   "metadata": {},
   "outputs": [],
   "source": [
    "import pandas as pd\n",
    "from nltk.corpus import stopwords\n",
    "from scrape_darklyrics import get_band_lyrics"
   ]
  },
  {
   "cell_type": "code",
   "execution_count": 26,
   "metadata": {},
   "outputs": [],
   "source": [
    "import re\n",
    "\n",
    "def strip_lyrics(lyrics):\n",
    "    text = ' '.join(lyrics)\n",
    "    words = re.split(' |,|\\.', text)\n",
    "    out = [word.lower() for word in words if word != '']\n",
    "    return out\n",
    "\n",
    "def word_count(a):\n",
    "    words = []\n",
    "    for word in a:\n",
    "        if any(char.isalpha() for char in word):\n",
    "            if '\\'' in word:\n",
    "                word = word[:word.index('\\'')]\n",
    "            word = word.replace('(', '')\n",
    "            word = word.replace('(', '')\n",
    "            words.append(word)\n",
    "    keys = sorted(set(words) - set(stopwords.words('english')))\n",
    "    return {key: words.count(key) for key in keys if '\\'re' not in key}\n",
    "\n",
    "def band_word_count(band_lyrics):\n",
    "    df_list = []\n",
    "    for album_lyrics in band_lyrics.values():\n",
    "        for song, lyrics in album_lyrics.items():\n",
    "            word_count_dict = word_count(strip_lyrics(lyrics))\n",
    "            song_df = pd.DataFrame.from_dict(word_count_dict, orient='index')\n",
    "            if len(song_df) != 0:\n",
    "                song_name = song[song.index('.')+2:]\n",
    "                song_df.columns = [song_name]\n",
    "                df_list.append(song_df)\n",
    "    df = pd.concat(df_list, axis=1, sort=True).fillna(0)\n",
    "    return df"
   ]
  },
  {
   "cell_type": "code",
   "execution_count": 30,
   "metadata": {},
   "outputs": [],
   "source": [
    "df = band_word_count(get_band_lyrics('betweentheburiedandme'))"
   ]
  },
  {
   "cell_type": "code",
   "execution_count": 33,
   "metadata": {},
   "outputs": [
    {
     "data": {
      "text/plain": [
       "abandoned        1.0\n",
       "abduction        1.0\n",
       "abort            1.0\n",
       "abound           1.0\n",
       "above/below      1.0\n",
       "abscess          2.0\n",
       "absolutely       1.0\n",
       "accept           5.0\n",
       "achievement      1.0\n",
       "acknowledge      1.0\n",
       "across          10.0\n",
       "act              4.0\n",
       "action           1.0\n",
       "actions          3.0\n",
       "actual           3.0\n",
       "add              1.0\n",
       "admit            1.0\n",
       "adult            2.0\n",
       "adults           2.0\n",
       "advantage        2.0\n",
       "affair           1.0\n",
       "affect           1.0\n",
       "affection        2.0\n",
       "afloat           1.0\n",
       "afraid           5.0\n",
       "after?           1.0\n",
       "age-old          1.0\n",
       "agenda           1.0\n",
       "aggressive       1.0\n",
       "ago              4.0\n",
       "                ... \n",
       "wrist            1.0\n",
       "write            1.0\n",
       "writes:          1.0\n",
       "writing          8.0\n",
       "written          1.0\n",
       "wrong            2.0\n",
       "wrote            1.0\n",
       "x                1.0\n",
       "ya               2.0\n",
       "yawning          1.0\n",
       "yeah             3.0\n",
       "yeah!!!          1.0\n",
       "yeah!!!!         1.0\n",
       "yeah!)           1.0\n",
       "year            10.0\n",
       "year:            1.0\n",
       "years           13.0\n",
       "yellow           7.0\n",
       "yes              6.0\n",
       "yet              3.0\n",
       "young            3.0\n",
       "yourself-get     1.0\n",
       "you’re           1.0\n",
       "‘cause           1.0\n",
       "‘em              2.0\n",
       "“as              1.0\n",
       "“comfort        15.0\n",
       "“get             1.0\n",
       "“night           1.0\n",
       "“others”         1.0\n",
       "Length: 2523, dtype: float64"
      ]
     },
     "execution_count": 33,
     "metadata": {},
     "output_type": "execute_result"
    }
   ],
   "source": [
    "df.sum(axis=1)"
   ]
  }
 ],
 "metadata": {
  "kernelspec": {
   "display_name": "Python 3",
   "language": "python",
   "name": "python3"
  },
  "language_info": {
   "codemirror_mode": {
    "name": "ipython",
    "version": 3
   },
   "file_extension": ".py",
   "mimetype": "text/x-python",
   "name": "python",
   "nbconvert_exporter": "python",
   "pygments_lexer": "ipython3",
   "version": "3.6.5"
  }
 },
 "nbformat": 4,
 "nbformat_minor": 2
}

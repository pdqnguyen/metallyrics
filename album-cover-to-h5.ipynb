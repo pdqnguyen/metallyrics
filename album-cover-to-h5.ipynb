{
 "cells": [
  {
   "cell_type": "code",
   "execution_count": 1,
   "metadata": {},
   "outputs": [
    {
     "name": "stderr",
     "output_type": "stream",
     "text": [
      "Using TensorFlow backend.\n",
      "C:\\Users\\philippe\\Anaconda3\\envs\\ml\\lib\\site-packages\\tensorflow\\python\\framework\\dtypes.py:516: FutureWarning: Passing (type, 1) or '1type' as a synonym of type is deprecated; in a future version of numpy, it will be understood as (type, (1,)) / '(1,)type'.\n",
      "  _np_qint8 = np.dtype([(\"qint8\", np.int8, 1)])\n",
      "C:\\Users\\philippe\\Anaconda3\\envs\\ml\\lib\\site-packages\\tensorflow\\python\\framework\\dtypes.py:517: FutureWarning: Passing (type, 1) or '1type' as a synonym of type is deprecated; in a future version of numpy, it will be understood as (type, (1,)) / '(1,)type'.\n",
      "  _np_quint8 = np.dtype([(\"quint8\", np.uint8, 1)])\n",
      "C:\\Users\\philippe\\Anaconda3\\envs\\ml\\lib\\site-packages\\tensorflow\\python\\framework\\dtypes.py:518: FutureWarning: Passing (type, 1) or '1type' as a synonym of type is deprecated; in a future version of numpy, it will be understood as (type, (1,)) / '(1,)type'.\n",
      "  _np_qint16 = np.dtype([(\"qint16\", np.int16, 1)])\n",
      "C:\\Users\\philippe\\Anaconda3\\envs\\ml\\lib\\site-packages\\tensorflow\\python\\framework\\dtypes.py:519: FutureWarning: Passing (type, 1) or '1type' as a synonym of type is deprecated; in a future version of numpy, it will be understood as (type, (1,)) / '(1,)type'.\n",
      "  _np_quint16 = np.dtype([(\"quint16\", np.uint16, 1)])\n",
      "C:\\Users\\philippe\\Anaconda3\\envs\\ml\\lib\\site-packages\\tensorflow\\python\\framework\\dtypes.py:520: FutureWarning: Passing (type, 1) or '1type' as a synonym of type is deprecated; in a future version of numpy, it will be understood as (type, (1,)) / '(1,)type'.\n",
      "  _np_qint32 = np.dtype([(\"qint32\", np.int32, 1)])\n",
      "C:\\Users\\philippe\\Anaconda3\\envs\\ml\\lib\\site-packages\\tensorflow\\python\\framework\\dtypes.py:525: FutureWarning: Passing (type, 1) or '1type' as a synonym of type is deprecated; in a future version of numpy, it will be understood as (type, (1,)) / '(1,)type'.\n",
      "  np_resource = np.dtype([(\"resource\", np.ubyte, 1)])\n",
      "C:\\Users\\philippe\\Anaconda3\\envs\\ml\\lib\\site-packages\\tensorboard\\compat\\tensorflow_stub\\dtypes.py:541: FutureWarning: Passing (type, 1) or '1type' as a synonym of type is deprecated; in a future version of numpy, it will be understood as (type, (1,)) / '(1,)type'.\n",
      "  _np_qint8 = np.dtype([(\"qint8\", np.int8, 1)])\n",
      "C:\\Users\\philippe\\Anaconda3\\envs\\ml\\lib\\site-packages\\tensorboard\\compat\\tensorflow_stub\\dtypes.py:542: FutureWarning: Passing (type, 1) or '1type' as a synonym of type is deprecated; in a future version of numpy, it will be understood as (type, (1,)) / '(1,)type'.\n",
      "  _np_quint8 = np.dtype([(\"quint8\", np.uint8, 1)])\n",
      "C:\\Users\\philippe\\Anaconda3\\envs\\ml\\lib\\site-packages\\tensorboard\\compat\\tensorflow_stub\\dtypes.py:543: FutureWarning: Passing (type, 1) or '1type' as a synonym of type is deprecated; in a future version of numpy, it will be understood as (type, (1,)) / '(1,)type'.\n",
      "  _np_qint16 = np.dtype([(\"qint16\", np.int16, 1)])\n",
      "C:\\Users\\philippe\\Anaconda3\\envs\\ml\\lib\\site-packages\\tensorboard\\compat\\tensorflow_stub\\dtypes.py:544: FutureWarning: Passing (type, 1) or '1type' as a synonym of type is deprecated; in a future version of numpy, it will be understood as (type, (1,)) / '(1,)type'.\n",
      "  _np_quint16 = np.dtype([(\"quint16\", np.uint16, 1)])\n",
      "C:\\Users\\philippe\\Anaconda3\\envs\\ml\\lib\\site-packages\\tensorboard\\compat\\tensorflow_stub\\dtypes.py:545: FutureWarning: Passing (type, 1) or '1type' as a synonym of type is deprecated; in a future version of numpy, it will be understood as (type, (1,)) / '(1,)type'.\n",
      "  _np_qint32 = np.dtype([(\"qint32\", np.int32, 1)])\n",
      "C:\\Users\\philippe\\Anaconda3\\envs\\ml\\lib\\site-packages\\tensorboard\\compat\\tensorflow_stub\\dtypes.py:550: FutureWarning: Passing (type, 1) or '1type' as a synonym of type is deprecated; in a future version of numpy, it will be understood as (type, (1,)) / '(1,)type'.\n",
      "  np_resource = np.dtype([(\"resource\", np.ubyte, 1)])\n"
     ]
    }
   ],
   "source": [
    "import pickle\n",
    "from urllib.parse import unquote, quote_plus\n",
    "import os\n",
    "import pandas as pd\n",
    "import numpy as np\n",
    "import matplotlib.pyplot as plt\n",
    "plt.rcParams['axes.labelsize'] = 16\n",
    "plt.rcParams['xtick.labelsize'] = 14\n",
    "plt.rcParams['ytick.labelsize'] = 14\n",
    "plt.rcParams['figure.titlesize'] = 20\n",
    "plt.rcParams['axes.titlesize'] = 20\n",
    "plt.rcParams['axes.grid'] = True\n",
    "plt.rcParams['legend.fontsize'] = 14\n",
    "%matplotlib inline\n",
    "\n",
    "from skimage import transform, io\n",
    "\n",
    "from keras.applications.vgg19 import VGG19, preprocess_input"
   ]
  },
  {
   "cell_type": "code",
   "execution_count": 2,
   "metadata": {},
   "outputs": [
    {
     "name": "stderr",
     "output_type": "stream",
     "text": [
      "C:\\Users\\philippe\\Anaconda3\\envs\\ml\\lib\\site-packages\\ipykernel_launcher.py:24: FutureWarning: Sorting because non-concatenation axis is not aligned. A future version\n",
      "of pandas will change to not sort by default.\n",
      "\n",
      "To accept the future behavior, pass 'sort=False'.\n",
      "\n",
      "To retain the current behavior and silence the warning, pass 'sort=True'.\n",
      "\n"
     ]
    }
   ],
   "source": [
    "files = ['bands/' + path for path in os.listdir('bands') if '.pkl' in path]\n",
    "df_list = []\n",
    "bands = []\n",
    "for file in files:\n",
    "    try:\n",
    "        with open(file, 'rb') as f:\n",
    "            band = pickle.load(f)\n",
    "    except:\n",
    "        pass\n",
    "    if band.albums is not None:\n",
    "        df = band.albums\n",
    "        for genre in band.genres:\n",
    "            df['genre_' + genre] = 1\n",
    "        df['band'] = band.name\n",
    "        df['origin'] = band.origin\n",
    "        covers = pd.Series(index=df.index)\n",
    "        for i, album in df.album.items():\n",
    "            im_file = 'imgs/' + quote_plus(band.name.replace(' ', '_') + '-' + album + '.jpg')\n",
    "            if os.path.exists(im_file):\n",
    "                covers[i] = im_file\n",
    "        df['cover'] = covers\n",
    "        df_list.append(df)\n",
    "        bands.append(band)\n",
    "df_full = pd.concat(df_list).fillna(0).reset_index(drop=True)\n",
    "\n",
    "cols = df_full.columns\n",
    "genre_columns = cols[cols.str.contains('genre_')].sort_values()\n",
    "for col in genre_columns:\n",
    "    df_full[col] = df_full[col].astype(int)\n",
    "\n",
    "df_full = df_full[df_full.cover.astype(bool)].reset_index(drop=True)"
   ]
  },
  {
   "cell_type": "code",
   "execution_count": 3,
   "metadata": {},
   "outputs": [
    {
     "name": "stdout",
     "output_type": "stream",
     "text": [
      "0\n",
      "1000\n",
      "2000\n",
      "3000\n",
      "4000\n",
      "5000\n"
     ]
    },
    {
     "name": "stderr",
     "output_type": "stream",
     "text": [
      "C:\\Users\\philippe\\Anaconda3\\envs\\ml\\lib\\site-packages\\PIL\\TiffImagePlugin.py:804: UserWarning: Corrupt EXIF data.  Expecting to read 4 bytes but only got 0. \n",
      "  warnings.warn(str(msg))\n"
     ]
    },
    {
     "name": "stdout",
     "output_type": "stream",
     "text": [
      "6000\n",
      "7000\n",
      "8000\n"
     ]
    }
   ],
   "source": [
    "%reset_selective -f images\n",
    "im_shape = (224, 224)\n",
    "images = np.zeros((df_full.shape[0], im_shape[0], im_shape[1], 3))\n",
    "for i, x in df_full.cover.items():\n",
    "    if i % 1000 == 0:\n",
    "        print(i)\n",
    "    try:\n",
    "        im = io.imread(x)[:, :, :3] / 255.\n",
    "        im = transform.resize(im, im_shape, mode='symmetric', preserve_range=True)\n",
    "        images[i] = im\n",
    "    except:\n",
    "        continue\n",
    "# image_nonzero = images.any(axis=(1, 2, 3))\n",
    "# df = df_full[image_nonzero]\n",
    "# images = images[image_nonzero]\n",
    "# labels = df.genre_death.values"
   ]
  },
  {
   "cell_type": "code",
   "execution_count": 4,
   "metadata": {},
   "outputs": [],
   "source": [
    "labels = df_full.genre_death.values"
   ]
  },
  {
   "cell_type": "code",
   "execution_count": 5,
   "metadata": {},
   "outputs": [
    {
     "data": {
      "text/plain": [
       "((8068, 224, 224, 3), (8068,))"
      ]
     },
     "execution_count": 5,
     "metadata": {},
     "output_type": "execute_result"
    }
   ],
   "source": [
    "images.shape, labels.shape"
   ]
  },
  {
   "cell_type": "code",
   "execution_count": 16,
   "metadata": {},
   "outputs": [],
   "source": [
    "import h5py"
   ]
  },
  {
   "cell_type": "code",
   "execution_count": null,
   "metadata": {},
   "outputs": [],
   "source": []
  },
  {
   "cell_type": "code",
   "execution_count": 33,
   "metadata": {},
   "outputs": [],
   "source": [
    "info_cols = ['band', 'album', 'origin', 'year', 'numrev', 'avgrev']\n",
    "info = df_full[info_cols]"
   ]
  },
  {
   "cell_type": "code",
   "execution_count": 52,
   "metadata": {},
   "outputs": [],
   "source": [
    "info.to_hdf('album_info2.h5', 'info', mode='w', format='table', data_columns=True)"
   ]
  },
  {
   "cell_type": "code",
   "execution_count": 63,
   "metadata": {},
   "outputs": [
    {
     "name": "stdout",
     "output_type": "stream",
     "text": [
      "{'_id': <h5py.h5d.DatasetID object at 0x00000142953535E8>}\n"
     ]
    }
   ],
   "source": [
    "h5f = h5py.File('album_info2.h5', 'r')\n",
    "print(h5f['info/table'].)\n",
    "h5f.close()"
   ]
  },
  {
   "cell_type": "code",
   "execution_count": 66,
   "metadata": {},
   "outputs": [],
   "source": [
    "h5f = h5py.File('album_covers.h5', 'w')\n",
    "h5f.create_dataset('images', data=images)\n",
    "h5f.create_dataset('labels', data=labels)\n",
    "h5f.close()\n",
    "info.to_hdf('album_covers2.h5', 'info', mode='a', format='table', data_columns=True)"
   ]
  },
  {
   "cell_type": "code",
   "execution_count": 87,
   "metadata": {},
   "outputs": [
    {
     "name": "stdout",
     "output_type": "stream",
     "text": [
      "<KeysViewHDF5 ['images', 'info', 'labels']>\n",
      "[(   0, b'\\xc3\\x81smegin', b'Hin_vordende_Sod_%26_S%C3%B8', b'Norway', 2003, 10, 91)\n",
      " (   1, b'\\xc3\\x81smegin', b'Arv', b'Norway', 2008,  9, 68)\n",
      " (   2, b'Aarni', b'Bathos', b'Finland', 2004,  4, 81) ...\n",
      " (8065, b'Zyklon', b'World_ov_Worms', b'Norway', 2001,  5, 81)\n",
      " (8066, b'Zyklon', b'Aeon', b'Norway', 2003,  5, 65)\n",
      " (8067, b'Zyklon', b'Disintegrate', b'Norway', 2006,  3, 62)]\n",
      "[0 0 0 ... 1 1 1]\n",
      "[[[0.07278956 0.07278959 0.02573078]\n",
      "  [0.08953547 0.08953551 0.0424767 ]\n",
      "  [0.09725812 0.09725815 0.0507597 ]\n",
      "  ...\n",
      "  [0.18861441 0.17236775 0.12474858]\n",
      "  [0.16048374 0.14479743 0.09913919]\n",
      "  [0.13621411 0.12052779 0.07739054]]\n",
      "\n",
      " [[0.10652201 0.11156395 0.06702622]\n",
      "  [0.08139302 0.08643497 0.04189722]\n",
      "  [0.08263328 0.0874951  0.04369785]\n",
      "  ...\n",
      "  [0.14465773 0.12372935 0.07611018]\n",
      "  [0.12150902 0.09988041 0.05512253]\n",
      "  [0.08879656 0.06554733 0.02493104]]\n",
      "\n",
      " [[0.11656579 0.12126774 0.08799433]\n",
      "  [0.09805873 0.10328084 0.06836691]\n",
      "  [0.13195029 0.13591196 0.10507955]\n",
      "  ...\n",
      "  [0.15720147 0.1334119  0.08635307]\n",
      "  [0.13251245 0.10740235 0.06370503]\n",
      "  [0.11186439 0.08441343 0.04575806]]\n",
      "\n",
      " ...\n",
      "\n",
      " [[0.45636222 0.26364501 0.14627806]\n",
      "  [0.45078021 0.25806291 0.13565406]\n",
      "  [0.47140815 0.27084796 0.14899895]\n",
      "  ...\n",
      "  [0.3212901  0.10088259 0.05614426]\n",
      "  [0.26294639 0.12713193 0.06530712]\n",
      "  [0.20416343 0.14759968 0.06344635]]\n",
      "\n",
      " [[0.45928372 0.26712685 0.14559818]\n",
      "  [0.42917247 0.23701556 0.11152537]\n",
      "  [0.45136074 0.25444178 0.12474995]\n",
      "  ...\n",
      "  [0.46392394 0.15972333 0.12178781]\n",
      "  [0.34715735 0.15460039 0.11688518]\n",
      "  [0.21352669 0.1274912  0.07843171]]\n",
      "\n",
      " [[0.49801806 0.30586119 0.18037101]\n",
      "  [0.4343544  0.24219749 0.11472647]\n",
      "  [0.44453801 0.2476191  0.11220515]\n",
      "  ...\n",
      "  [0.47016851 0.11952921 0.08143384]\n",
      "  [0.33639473 0.09349825 0.07891195]\n",
      "  [0.25029997 0.12508919 0.11238374]]]\n"
     ]
    }
   ],
   "source": [
    "h5f = h5py.File('album_covers.h5', 'r')\n",
    "print(h5f.keys())\n",
    "print(h5f['info/table'].value)\n",
    "print(h5f['labels'].value)\n",
    "print(h5f['images'][0])\n",
    "h5f.close()"
   ]
  }
 ],
 "metadata": {
  "kernelspec": {
   "display_name": "Python [conda env:ml]",
   "language": "python",
   "name": "conda-env-ml-py"
  },
  "language_info": {
   "codemirror_mode": {
    "name": "ipython",
    "version": 3
   },
   "file_extension": ".py",
   "mimetype": "text/x-python",
   "name": "python",
   "nbconvert_exporter": "python",
   "pygments_lexer": "ipython3",
   "version": "3.7.4"
  }
 },
 "nbformat": 4,
 "nbformat_minor": 4
}

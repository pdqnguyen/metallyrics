{
 "cells": [
  {
   "cell_type": "code",
   "execution_count": 25,
   "metadata": {},
   "outputs": [],
   "source": [
    "import re\n",
    "from utils import scrape_html"
   ]
  },
  {
   "cell_type": "code",
   "execution_count": 42,
   "metadata": {},
   "outputs": [],
   "source": [
    "BASEURL = 'http://www.darklyrics.com'\n",
    "def get_band_names(letter):\n",
    "    band_names_url = BASEURL + '/' + letter.lower() + '.html'\n",
    "    soup = scrape_html(band_names_url)\n",
    "    band_names = []\n",
    "    urls = [line['href'] for line in soup.find_all('a', href=True)]\n",
    "    for url in urls:\n",
    "        pattern = '(?<=' + letter.lower() + '\\/)([a-z0-9]+)(?=\\.html)'\n",
    "        match = re.search(pattern, url)\n",
    "        if match is not None:\n",
    "            band_names.append(match.group(0))\n",
    "    return band_names"
   ]
  },
  {
   "cell_type": "code",
   "execution_count": 43,
   "metadata": {},
   "outputs": [],
   "source": [
    "band_names = get_band_names('c')"
   ]
  }
 ],
 "metadata": {
  "kernelspec": {
   "display_name": "Python 3",
   "language": "python",
   "name": "python3"
  },
  "language_info": {
   "codemirror_mode": {
    "name": "ipython",
    "version": 3
   },
   "file_extension": ".py",
   "mimetype": "text/x-python",
   "name": "python",
   "nbconvert_exporter": "python",
   "pygments_lexer": "ipython3",
   "version": "3.6.5"
  }
 },
 "nbformat": 4,
 "nbformat_minor": 2
}

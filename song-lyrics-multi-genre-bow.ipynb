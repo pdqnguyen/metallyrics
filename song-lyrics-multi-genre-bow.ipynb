{
 "cells": [
  {
   "cell_type": "code",
   "execution_count": 2,
   "metadata": {},
   "outputs": [
    {
     "name": "stderr",
     "output_type": "stream",
     "text": [
      "Using TensorFlow backend.\n"
     ]
    }
   ],
   "source": [
    "import os\n",
    "import re\n",
    "import h5py\n",
    "from copy import deepcopy\n",
    "import numpy as np\n",
    "import pandas as pd\n",
    "import pickle as pkl\n",
    "\n",
    "import nltk\n",
    "from nltk.corpus import stopwords\n",
    "languages = ['english', 'german', 'french', 'finnish', 'swedish', 'norwegian', 'danish', 'russian']\n",
    "stop_words = set()\n",
    "for language in languages:\n",
    "    stop_words.update(set(stopwords.words(language)))\n",
    "english_vocab = set(w.lower() for w in nltk.corpus.words.words())\n",
    "\n",
    "import matplotlib\n",
    "matplotlib.rcParams['figure.facecolor'] = 'white'\n",
    "import matplotlib.pyplot as plt\n",
    "%matplotlib inline\n",
    "\n",
    "from sklearn.feature_extraction.text import CountVectorizer, TfidfVectorizer, HashingVectorizer\n",
    "from sklearn.feature_selection import SelectKBest\n",
    "from sklearn.preprocessing import LabelEncoder\n",
    "from sklearn.model_selection import train_test_split, cross_val_score, StratifiedKFold\n",
    "from sklearn.metrics import accuracy_score, balanced_accuracy_score, log_loss, confusion_matrix, roc_curve, roc_auc_score\n",
    "from sklearn.pipeline import make_pipeline\n",
    "from sklearn.base import BaseEstimator, TransformerMixin, clone\n",
    "\n",
    "from sklearn.model_selection import StratifiedKFold\n",
    "from sklearn.ensemble import RandomForestClassifier\n",
    "from sklearn.linear_model import LogisticRegression\n",
    "\n",
    "from mlxtend.classifier import StackingClassifier\n",
    "from imblearn.pipeline import Pipeline\n",
    "\n",
    "from imblearn.over_sampling import RandomOverSampler, SMOTE\n",
    "\n",
    "from keras.preprocessing.text import Tokenizer\n",
    "from keras.preprocessing.sequence import pad_sequences\n",
    "from keras.models import Sequential\n",
    "from keras import layers\n",
    "from keras.wrappers.scikit_learn import KerasClassifier\n",
    "from keras.callbacks import EarlyStopping"
   ]
  },
  {
   "cell_type": "markdown",
   "metadata": {},
   "source": [
    "# Preprocessing\n",
    "## Combine song lyrics with genres"
   ]
  },
  {
   "cell_type": "code",
   "execution_count": 7,
   "metadata": {
    "jupyter": {
     "source_hidden": true
    }
   },
   "outputs": [],
   "source": [
    "# LYRICS_DIR = 'lyrics/'\n",
    "# BANDS_DIR = 'bands/'"
   ]
  },
  {
   "cell_type": "code",
   "execution_count": 8,
   "metadata": {
    "jupyter": {
     "source_hidden": true
    }
   },
   "outputs": [],
   "source": [
    "# band_filenames = [f for f in os.listdir(BANDS_DIR) if '.pkl' in f]\n",
    "# bands = [pkl.load(open(os.path.join(BANDS_DIR, f), 'rb')) for f in band_filenames]\n",
    "# band_genres = {b.name.lower(): b.genres for b in bands}"
   ]
  },
  {
   "cell_type": "code",
   "execution_count": 9,
   "metadata": {
    "jupyter": {
     "source_hidden": true
    }
   },
   "outputs": [
    {
     "name": "stdout",
     "output_type": "stream",
     "text": [
      "vocabulary size: 170519\n"
     ]
    }
   ],
   "source": [
    "# lyrics_filenames = [f for f in os.listdir(LYRICS_DIR) if '.pkl' in f]\n",
    "# lyrics = {filename.replace('.pkl', ''): pkl.load(open(os.path.join(LYRICS_DIR, filename), 'rb')) for filename in lyrics_filenames}\n",
    "# corpus = []\n",
    "# band_names = []\n",
    "# song_names = []\n",
    "# vocabulary = set()\n",
    "# genres = []\n",
    "# for band, band_lyrics in lyrics.items():\n",
    "#     if band in band_genres.keys():\n",
    "#         for album, album_lyrics in band_lyrics.items():\n",
    "#             for song, song_lyrics in album_lyrics.items():\n",
    "#                 words = []\n",
    "#                 for line in song_lyrics:\n",
    "#                     for w in line.split():\n",
    "#                         s = re.search(\"(\\w+)|(\\w+([-'])(\\w+)?[']?(\\w+))\", w.lower())\n",
    "#                         if s:\n",
    "#                             w = s.group()\n",
    "#                             if w not in stop_words:\n",
    "#                                 words.append(w)\n",
    "#                 song_name = []\n",
    "#                 for w in song.split():\n",
    "#                     s = re.search(\"(\\w+)|(\\w+([-'])(\\w+)?[']?(\\w+))\", re.sub('\\d+\\.', '', w).lower())\n",
    "#                     if s:\n",
    "#                         song_name.append(s.group())\n",
    "#                 song_name = ' '.join(song_name)\n",
    "#                 document = ' '.join(words)\n",
    "#                 if len(document) > 0:\n",
    "#                     corpus.append(document)\n",
    "#                     band_names.append(band)\n",
    "#                     song_names.append(song_name)\n",
    "#                     vocabulary.update(set(words))\n",
    "#                     genres.append(band_genres[band])\n",
    "# print(\"vocabulary size: {}\".format(len(vocabulary)))"
   ]
  },
  {
   "cell_type": "markdown",
   "metadata": {},
   "source": [
    "### Full lyrics + genres dataframe"
   ]
  },
  {
   "cell_type": "code",
   "execution_count": 10,
   "metadata": {
    "collapsed": true,
    "jupyter": {
     "outputs_hidden": true,
     "source_hidden": true
    }
   },
   "outputs": [
    {
     "name": "stdout",
     "output_type": "stream",
     "text": [
      "(42460, 4)\n"
     ]
    },
    {
     "data": {
      "text/html": [
       "<div>\n",
       "<style scoped>\n",
       "    .dataframe tbody tr th:only-of-type {\n",
       "        vertical-align: middle;\n",
       "    }\n",
       "\n",
       "    .dataframe tbody tr th {\n",
       "        vertical-align: top;\n",
       "    }\n",
       "\n",
       "    .dataframe thead th {\n",
       "        text-align: right;\n",
       "    }\n",
       "</style>\n",
       "<table border=\"1\" class=\"dataframe\">\n",
       "  <thead>\n",
       "    <tr style=\"text-align: right;\">\n",
       "      <th></th>\n",
       "      <th>band</th>\n",
       "      <th>song</th>\n",
       "      <th>lyrics</th>\n",
       "      <th>genres</th>\n",
       "    </tr>\n",
       "  </thead>\n",
       "  <tbody>\n",
       "    <tr>\n",
       "      <td>0</td>\n",
       "      <td>aarni</td>\n",
       "      <td>myrrys</td>\n",
       "      <td>ääni tuulen varjot puiden yksinäni uneksin hal...</td>\n",
       "      <td>[avant-garde, doom]</td>\n",
       "    </tr>\n",
       "    <tr>\n",
       "      <td>1</td>\n",
       "      <td>aarni</td>\n",
       "      <td>the black keyes of r</td>\n",
       "      <td>five hundred years gone since summoned thee le...</td>\n",
       "      <td>[avant-garde, doom]</td>\n",
       "    </tr>\n",
       "    <tr>\n",
       "      <td>2</td>\n",
       "      <td>aarni</td>\n",
       "      <td>metsänpeitto sample 1 2</td>\n",
       "      <td>metsäpolulta metsän polulle metsänpeitossa for...</td>\n",
       "      <td>[avant-garde, doom]</td>\n",
       "    </tr>\n",
       "    <tr>\n",
       "      <td>3</td>\n",
       "      <td>aarni</td>\n",
       "      <td>persona mortuae cutis</td>\n",
       "      <td>yog clavis portaque cum primis digitis cutem m...</td>\n",
       "      <td>[avant-garde, doom]</td>\n",
       "    </tr>\n",
       "    <tr>\n",
       "      <td>4</td>\n",
       "      <td>aarni</td>\n",
       "      <td>ubbo</td>\n",
       "      <td>ubbo source coming zhothaqquah yok kthulhut st...</td>\n",
       "      <td>[avant-garde, doom]</td>\n",
       "    </tr>\n",
       "  </tbody>\n",
       "</table>\n",
       "</div>"
      ],
      "text/plain": [
       "    band                     song  \\\n",
       "0  aarni                   myrrys   \n",
       "1  aarni     the black keyes of r   \n",
       "2  aarni  metsänpeitto sample 1 2   \n",
       "3  aarni    persona mortuae cutis   \n",
       "4  aarni                     ubbo   \n",
       "\n",
       "                                              lyrics               genres  \n",
       "0  ääni tuulen varjot puiden yksinäni uneksin hal...  [avant-garde, doom]  \n",
       "1  five hundred years gone since summoned thee le...  [avant-garde, doom]  \n",
       "2  metsäpolulta metsän polulle metsänpeitossa for...  [avant-garde, doom]  \n",
       "3  yog clavis portaque cum primis digitis cutem m...  [avant-garde, doom]  \n",
       "4  ubbo source coming zhothaqquah yok kthulhut st...  [avant-garde, doom]  "
      ]
     },
     "execution_count": 10,
     "metadata": {},
     "output_type": "execute_result"
    }
   ],
   "source": [
    "# df_rows = [\n",
    "#     {'band': band_names[i], 'song': song_names[i], 'lyrics': corpus[i], 'genres': genres[i]} for i in range(len(corpus))\n",
    "# ]\n",
    "# df = pd.DataFrame(df_rows, columns=['band', 'song', 'lyrics', 'genres'])\n",
    "# df = df.drop_duplicates(subset=['band', 'song'])\n",
    "# print(df.shape)\n",
    "# df.head()"
   ]
  },
  {
   "cell_type": "code",
   "execution_count": 3,
   "metadata": {},
   "outputs": [],
   "source": [
    "df = pd.read_hdf('combined-data/song-lyrics-genres-short.h5', key='df', mode='r')"
   ]
  },
  {
   "cell_type": "markdown",
   "metadata": {},
   "source": [
    "### Statistics of song word counts"
   ]
  },
  {
   "cell_type": "code",
   "execution_count": 3,
   "metadata": {
    "collapsed": true,
    "jupyter": {
     "outputs_hidden": true,
     "source_hidden": true
    }
   },
   "outputs": [
    {
     "name": "stdout",
     "output_type": "stream",
     "text": [
      "72.0 25.0 0 123\n"
     ]
    }
   ],
   "source": [
    "song_lengths = df['lyrics'].apply(lambda x: len(x.split()))\n",
    "print(round(song_lengths.mean()), round(song_lengths.std()), song_lengths.min(), song_lengths.max())"
   ]
  },
  {
   "cell_type": "code",
   "execution_count": 4,
   "metadata": {
    "collapsed": true,
    "jupyter": {
     "outputs_hidden": true,
     "source_hidden": true
    }
   },
   "outputs": [
    {
     "data": {
      "image/png": "[encoded data removed]",
      "text/plain": [
       "<Figure size 432x288 with 1 Axes>"
      ]
     },
     "metadata": {
      "needs_background": "light"
     },
     "output_type": "display_data"
    }
   ],
   "source": [
    "plt.fill_between(range(1, df.shape[0] + 1), 0, song_lengths.sort_values()[::-1].reset_index(drop=True))\n",
    "plt.title(\"song lengths\")\n",
    "plt.xlabel('song ranking by length')\n",
    "plt.ylabel('word count')\n",
    "plt.xscale('log')\n",
    "plt.grid(axis='both')\n",
    "plt.show()"
   ]
  },
  {
   "cell_type": "code",
   "execution_count": 5,
   "metadata": {
    "collapsed": true,
    "jupyter": {
     "outputs_hidden": true,
     "source_hidden": true
    }
   },
   "outputs": [
    {
     "data": {
      "image/png": "[encoded data removed]",
      "text/plain": [
       "<Figure size 432x288 with 1 Axes>"
      ]
     },
     "metadata": {
      "needs_background": "light"
     },
     "output_type": "display_data"
    }
   ],
   "source": [
    "song_lengths.hist(bins=100)\n",
    "plt.title(\"song lengths\")\n",
    "plt.xlabel('word count')\n",
    "plt.ylabel('songs')\n",
    "plt.show()"
   ]
  },
  {
   "cell_type": "markdown",
   "metadata": {},
   "source": [
    "### Genres dataframe"
   ]
  },
  {
   "cell_type": "code",
   "execution_count": 4,
   "metadata": {},
   "outputs": [],
   "source": [
    "unique_genres = []\n",
    "for lst in df['genres'].tolist():\n",
    "    for x in lst:\n",
    "        if (x not in stop_words) and (not re.match('\\-.*', x)) and (x not in unique_genres):\n",
    "            unique_genres.append(x)\n",
    "unique_genres.sort()\n",
    "\n",
    "df_genres_full = pd.DataFrame(index=df.index, columns=unique_genres)\n",
    "for genre in unique_genres:\n",
    "    df_genres_full[genre] = df['genres'].apply(lambda x: 1 if genre in x else 0)\n",
    "df_genres_full['band'] = df['band'].copy()\n",
    "df_genres_bands = df_genres_full.groupby('band').max()\n",
    "df_genres_full.drop('band', axis=1, inplace=True)\n",
    "top_genres = df_genres_full.columns[df_genres_full.mean(axis=0) > 0.15]\n",
    "df_genres = df_genres_full[top_genres].copy()"
   ]
  },
  {
   "cell_type": "code",
   "execution_count": 5,
   "metadata": {},
   "outputs": [
    {
     "data": {
      "text/plain": [
       "death     16135\n",
       "black     11460\n",
       "thrash     9768\n",
       "power      8660\n",
       "heavy      8227\n",
       "dtype: int64"
      ]
     },
     "execution_count": 5,
     "metadata": {},
     "output_type": "execute_result"
    }
   ],
   "source": [
    "df_genres.sum(axis=0).sort_values(ascending=False)"
   ]
  },
  {
   "cell_type": "markdown",
   "metadata": {},
   "source": [
    "## Tokenization & oversampling"
   ]
  },
  {
   "cell_type": "markdown",
   "metadata": {
    "jupyter": {
     "source_hidden": true
    }
   },
   "source": [
    "### Train-test split lyrics and single genre label"
   ]
  },
  {
   "cell_type": "code",
   "execution_count": 10,
   "metadata": {
    "jupyter": {
     "source_hidden": true
    }
   },
   "outputs": [],
   "source": [
    "# corpus_train, corpus_test, y_train, y_test = train_test_split(df['lyrics'].values, df_genres.values, test_size=0.2)"
   ]
  },
  {
   "cell_type": "markdown",
   "metadata": {
    "jupyter": {
     "source_hidden": true
    }
   },
   "source": [
    "### Transform corpuses with vectorizer fit to training corpus"
   ]
  },
  {
   "cell_type": "code",
   "execution_count": 11,
   "metadata": {
    "collapsed": true,
    "jupyter": {
     "outputs_hidden": true,
     "source_hidden": true
    }
   },
   "outputs": [
    {
     "name": "stdout",
     "output_type": "stream",
     "text": [
      "(40517, 147340) (10130, 147340) (40517, 5) (10130, 5)\n"
     ]
    }
   ],
   "source": [
    "# vectorizer = CountVectorizer()\n",
    "# vectorizer.fit(corpus_train)\n",
    "# X_train = vectorizer.transform(corpus_train)\n",
    "# X_test = vectorizer.transform(corpus_test)\n",
    "# print(X_train.shape, X_test.shape, y_train.shape, y_test.shape)"
   ]
  },
  {
   "cell_type": "code",
   "execution_count": 12,
   "metadata": {},
   "outputs": [],
   "source": [
    "def split_vectorize(texts, labels, test_size=0.2):\n",
    "    corpus_train, corpus_test, y_train, y_test = train_test_split(texts, labels, test_size=test_size)\n",
    "    vectorizer = CountVectorizer()\n",
    "    vectorizer.fit(corpus_train)\n",
    "    X_train = vectorizer.transform(corpus_train)\n",
    "    X_test = vectorizer.transform(corpus_test)\n",
    "    return X_train, X_test, y_train, y_test"
   ]
  },
  {
   "cell_type": "markdown",
   "metadata": {},
   "source": [
    "### Cross-validation"
   ]
  },
  {
   "cell_type": "code",
   "execution_count": 13,
   "metadata": {},
   "outputs": [],
   "source": [
    "def cross_validation(model, X, y, n_splits=3):\n",
    "    out = {}\n",
    "    kfold = StratifiedKFold(n_splits=n_splits, shuffle=True, random_state=0)\n",
    "    scores = np.zeros(n_splits)\n",
    "    confusion_matrices = np.zeros((n_splits, 2, 2))\n",
    "    for i, (train_idx, valid_idx) in enumerate(kfold.split(X, y)):\n",
    "        X_fold_train, y_fold_train = X[train_idx], y[train_idx]\n",
    "        X_fold_valid, y_fold_valid = X[valid_idx], y[valid_idx]\n",
    "        model_ = clone(model)\n",
    "        model_.fit(X_fold_train, y_fold_train)\n",
    "        y_fold_pred = model_.predict(X_fold_valid)\n",
    "        out[i] = [y_fold_valid, y_fold_pred]\n",
    "    return out"
   ]
  },
  {
   "cell_type": "code",
   "execution_count": 14,
   "metadata": {},
   "outputs": [],
   "source": [
    "def cross_validate_pipeline(classifier, genre, oversampler, n_splits=5):\n",
    "    X_train, X_test, y_train, y_test = split_vectorize(df['lyrics'].values, df_genres[genre].values)\n",
    "    pipeline = Pipeline(\n",
    "        [\n",
    "            ('oversampler', oversampler(random_state=0)),\n",
    "            ('classifier', classifier)\n",
    "        ]\n",
    "    )\n",
    "    results = cross_validation(pipeline, X_train, y_train, n_splits)\n",
    "    return results"
   ]
  },
  {
   "cell_type": "markdown",
   "metadata": {},
   "source": [
    "# Multi-label classification tools"
   ]
  },
  {
   "cell_type": "markdown",
   "metadata": {},
   "source": [
    "**Binary relevance** is one method of classifying multiple labels at once. A binary relevance model trains a classifier for each label, making it a one-vs-all approach."
   ]
  },
  {
   "cell_type": "code",
   "execution_count": 6,
   "metadata": {},
   "outputs": [],
   "source": [
    "class BinaryRelevance:\n",
    "    def __init__(self, estimator=None, estimators=[]):\n",
    "        if estimator:\n",
    "            self.estimator = estimator\n",
    "            self.estimators_ = {}\n",
    "        elif estimators:\n",
    "            self.estimators_ = dict(estimators)\n",
    "\n",
    "    def fit(self, X, y):\n",
    "        estimators = {}\n",
    "        for i in range(y.shape[1]):\n",
    "            print('training binary classifier for label: {}'.format(i))\n",
    "            estimator = deepcopy(self.estimator)\n",
    "            estimator.fit(X, y[:, i])\n",
    "            estimators[i] = estimator\n",
    "        self.estimators_ = estimators\n",
    "\n",
    "    def predict(self, X):\n",
    "        y = np.zeros((X.shape[0], len(self.estimators_)))\n",
    "        for i, estimator in self.estimators_.items():\n",
    "            y[:, i] = estimator.predict(X)\n",
    "        return y"
   ]
  },
  {
   "cell_type": "markdown",
   "metadata": {},
   "source": [
    "Multi-label classification results need metrics designed for multi-label output. See [this stackexchange discussion](https://stats.stackexchange.com/questions/12702/what-are-the-measure-for-accuracy-of-multilabel-data) for more about these metrics."
   ]
  },
  {
   "cell_type": "code",
   "execution_count": 7,
   "metadata": {},
   "outputs": [],
   "source": [
    "class MultiLabelClassification:\n",
    "\n",
    "    def __init__(self, y_true, y_pred=None, y_pred_classes=None, labels=None, class_thresh=0.5):\n",
    "        self.true = y_true\n",
    "        if y_pred_classes is None and y_pred is not None:\n",
    "            self.pred = y_pred\n",
    "            y_pred_classes = np.zeros_like(self.pred, dtype=int)\n",
    "            y_pred_classes[self.pred > class_thresh] = 1\n",
    "        else:\n",
    "            self.pred = None\n",
    "        self.pred_classes = y_pred_classes\n",
    "        self.n_samples, self.n_labels = y_true.shape\n",
    "        if labels is not None:\n",
    "            if len(labels) == self.n_labels:\n",
    "                self.labels = np.array(labels)\n",
    "            else:\n",
    "                raise ValueError(\"length of labels and shape of y_true do not match\")\n",
    "        else:\n",
    "            self.labels = np.arange(self.true.shape[1])\n",
    "\n",
    "    @property\n",
    "    def __intersection(self):\n",
    "        return self.true * self.pred_classes\n",
    "\n",
    "    @property\n",
    "    def __union(self):\n",
    "        return np.minimum(1, self.true + self.pred_classes)\n",
    "\n",
    "    @property\n",
    "    def accuracy_score(self):\n",
    "        # Number of labels in common / overall labels (true and predicted)\n",
    "        return np.nanmean(self.__intersection.sum(1) / self.__union.sum(1))\n",
    "\n",
    "    @property\n",
    "    def precision_score(self):\n",
    "        # Proportion of predicted labels that are correct\n",
    "        return np.nanmean(self.__intersection.sum(1) / self.pred_classes.sum(1))\n",
    "\n",
    "    @property\n",
    "    def recall_score(self):\n",
    "        # Proportion of true labels that were predicted\n",
    "        return np.nanmean(self.__intersection.sum(1) / self.true.sum(1))\n",
    "\n",
    "    @property\n",
    "    def f1_score(self):\n",
    "        # Harmonic mean of precision_score and recall_score\n",
    "        p = self.precision_score\n",
    "        r = self.recall_score\n",
    "        return 2 * (p * r) / (p + r)\n",
    "\n",
    "    def confusion_matrix(self, label=None, label_idx=None):\n",
    "        confusion_matrices = multilabel_confusion_matrix(self.true, self.pred_classes)\n",
    "        if label is not None:\n",
    "            return confusion_matrices[np.where(self.labels == label)[0][0]]\n",
    "        elif label_idx is not None:\n",
    "            return confusion_matrices[label_idx]\n",
    "        else:\n",
    "            return confusion_matrices\n",
    "\n",
    "    def print_report(self, verbose=0):\n",
    "        print(\"Multi-label classification report\")\n",
    "        print(\"Accuracy:   {:.2f}\".format(self.accuracy_score))\n",
    "        print(\"Precision:  {:.2f}\".format(self.precision_score))\n",
    "        print(\"Recall:     {:.2f}\".format(self.recall_score))\n",
    "        print(\"F1-score:   {:.2f}\".format(self.f1_score))\n",
    "        if verbose == 1:\n",
    "            for label, matrix in zip(self.labels, self.confusion_matrix()):\n",
    "                print(\"===\\nLabel: {}\".format(label))\n",
    "                print(matrix)"
   ]
  },
  {
   "cell_type": "code",
   "execution_count": 8,
   "metadata": {},
   "outputs": [],
   "source": [
    "def cross_validate_multilabel(X, y, estimator, feature_names=None, evaluation_metric=balanced_accuracy_score, n_splits=5, verbose=False):\n",
    "    kfold = StratifiedKFold(n_splits=n_splits, shuffle=True, random_state=0)\n",
    "    y_prob, y_valid = np.zeros(y.shape), np.zeros(y.shape)\n",
    "    if feature_names is None:\n",
    "        feature_names = [str(x) for x in range(y.shape[1])]\n",
    "    for i, feature in enumerate(feature_names):\n",
    "        if verbose:\n",
    "            print(\"Training on feature '{}'\".format(feature))\n",
    "        scores = np.zeros(n_splits)\n",
    "        confusion_matrices = np.zeros((n_splits, 2, 2))\n",
    "        for j, (train_idx, valid_idx) in enumerate(kfold.split(X, y[:, i])):\n",
    "            if verbose:\n",
    "                print(\"Fold {}/{}\".format(j + 1, n_splits))\n",
    "            X_fold_train, y_fold_train = X[train_idx], y[train_idx, i]\n",
    "            X_fold_valid, y_fold_valid = X[valid_idx], y[valid_idx, i]\n",
    "            estimator_ = deepcopy(estimator)\n",
    "            estimator_.fit(X_fold_train, y_fold_train)\n",
    "            try:\n",
    "                y_fold_prob = estimator_.predict_proba(X_fold_valid)[:, 1]\n",
    "            except AttributeError:\n",
    "                y_fold_prob = estimator_.predict(X_fold_valid).reshape(-1)\n",
    "            y_prob[valid_idx, i] = y_fold_prob\n",
    "            y_valid[valid_idx, i] = y_fold_valid\n",
    "            y_fold_pred = y_fold_prob.round()\n",
    "            scores[j] = evaluation_metric(y_fold_valid, y_fold_pred)\n",
    "            confusion_matrices[j] = confusion_matrix(y_fold_valid, y_fold_pred)\n",
    "        if verbose:\n",
    "            print(\"CV score: {:.2f}% +/- {:.2f}%\".format(scores.mean()* 100, scores.std() * 200))\n",
    "            print(\"Average confusion matrix:\")\n",
    "            print(confusion_matrices.mean(axis=0) / confusion_matrices.sum() * n_splits)\n",
    "    return MultiLabelClassification(y_valid, y_prob)"
   ]
  },
  {
   "cell_type": "code",
   "execution_count": 9,
   "metadata": {},
   "outputs": [],
   "source": [
    "def plot_roc_curve(true, prob, labels):\n",
    "    plt.figure(figsize=(8, 6))\n",
    "    auc = []\n",
    "    for i, label in enumerate(labels):\n",
    "        fpr, tpr, thresholds = roc_curve(true[:, i], prob[:, i])\n",
    "        auc.append(roc_auc_score(true[:, i], prob[:, i]))\n",
    "        plt.step(fpr, tpr, label=label)\n",
    "    plt.plot([0, 1], [0, 1], 'k--')\n",
    "    plt.gca().set_aspect('equal')\n",
    "    plt.xlim([0, 1])\n",
    "    plt.ylim([0, 1])\n",
    "    plt.title(\"ROC curve\", size=20)\n",
    "    plt.xlabel(\"False positive rate\", size=16)\n",
    "    plt.ylabel(\"True positive rate\", size=16)\n",
    "    plt.legend(fontsize=16)\n",
    "    plt.xticks(fontsize=14)\n",
    "    plt.yticks(fontsize=14)\n",
    "    plt.grid(alpha=0.5)\n",
    "    plt.show()\n",
    "    return auc"
   ]
  },
  {
   "cell_type": "markdown",
   "metadata": {},
   "source": [
    "# Random forest classifier"
   ]
  },
  {
   "cell_type": "markdown",
   "metadata": {},
   "source": [
    "### Single-genre classification"
   ]
  },
  {
   "cell_type": "code",
   "execution_count": 14,
   "metadata": {},
   "outputs": [],
   "source": [
    "rf_params = dict(\n",
    "    n_estimators=100,\n",
    "    max_depth=30,\n",
    "    max_features='auto',\n",
    "    min_samples_leaf=1,\n",
    "    min_samples_split=2,\n",
    "    bootstrap=True,\n",
    "    n_jobs=-1,\n",
    "    random_state=0\n",
    ")\n",
    "random_forest = RandomForestClassifier(**rf_params)\n",
    "results = {}\n",
    "for i, genre in enumerate(top_genres):\n",
    "    results[genre] = cross_validate_pipeline(random_forest, 'black', n_splits=5)"
   ]
  },
  {
   "cell_type": "code",
   "execution_count": 17,
   "metadata": {},
   "outputs": [
    {
     "name": "stdout",
     "output_type": "stream",
     "text": [
      "black\n",
      "CV score: 72.56% +/- 0.73%\n",
      "Average confusion matrix:\n",
      "[[0.5930597  0.1815781 ]\n",
      " [0.07083446 0.15452773]]\n",
      "death\n",
      "CV score: 72.72% +/- 1.09%\n",
      "Average confusion matrix:\n",
      "[[0.5963176  0.17876447]\n",
      " [0.07085915 0.15405879]]\n",
      "heavy\n",
      "CV score: 72.46% +/- 1.12%\n",
      "Average confusion matrix:\n",
      "[[0.59108522 0.18155342]\n",
      " [0.0718217  0.15553965]]\n",
      "power\n",
      "CV score: 72.55% +/- 0.39%\n",
      "Average confusion matrix:\n",
      "[[0.59054224 0.18251598]\n",
      " [0.07103191 0.15590986]]\n",
      "thrash\n",
      "CV score: 72.92% +/- 1.20%\n",
      "Average confusion matrix:\n",
      "[[0.59700866 0.17780191]\n",
      " [0.0702668  0.15492263]]\n"
     ]
    }
   ],
   "source": [
    "for genre, folds in results.items():\n",
    "    print(genre)\n",
    "    scores = np.zeros(n_splits)\n",
    "    confusion_matrices = np.zeros((n_splits, 2, 2))\n",
    "    for k, v in folds.items():\n",
    "        y_fold_valid, y_fold_pred = v\n",
    "        scores[k] = balanced_accuracy_score(y_fold_valid, y_fold_pred)\n",
    "        confusion_matrices[k] = confusion_matrix(y_fold_valid, y_fold_pred)\n",
    "    print(\"CV score: {:.2f}% +/- {:.2f}%\".format(scores.mean()* 100, scores.std() * 200))\n",
    "    print(\"Average confusion matrix:\")\n",
    "    print(confusion_matrices.mean(axis=0) / confusion_matrices.sum() * n_splits)"
   ]
  },
  {
   "cell_type": "markdown",
   "metadata": {},
   "source": [
    "### Multi-genre classification"
   ]
  },
  {
   "cell_type": "code",
   "execution_count": 9,
   "metadata": {
    "jupyter": {
     "source_hidden": true
    }
   },
   "outputs": [],
   "source": [
    "# X_train, X_test, y_train, y_test = train_test_split(df.lyrics.values, df_genres.values[:, 0])\n",
    "# pipeline = Pipeline(\n",
    "#     [\n",
    "#         ('vectorizer', CountVectorizer()),\n",
    "#         ('oversampler', RandomOverSampler(random_state=0)),\n",
    "#         ('randomforest', RandomForestClassifier(**rf_params))\n",
    "#     ]\n",
    "# )\n",
    "# pipeline.fit(X_train, y_train)"
   ]
  },
  {
   "cell_type": "code",
   "execution_count": null,
   "metadata": {},
   "outputs": [
    {
     "name": "stdout",
     "output_type": "stream",
     "text": [
      "training on feature 'black'\n",
      "fold 1/3\n",
      "fold 2/3\n",
      "fold 3/3\n",
      "CV score: 73.11% +/- 0.51%\n",
      "Average confusion matrix:\n",
      "[[0.59622485 0.17750311]\n",
      " [0.06975734 0.1565147 ]]\n",
      "training on feature 'death'\n",
      "fold 1/3\n",
      "fold 2/3\n",
      "fold 3/3\n",
      "CV score: 70.23% +/- 0.80%\n",
      "Average confusion matrix:\n",
      "[[0.54368472 0.13773767]\n",
      " [0.12525915 0.19331846]]\n",
      "training on feature 'heavy'\n",
      "fold 1/3\n"
     ]
    }
   ],
   "source": [
    "rf_params = dict(\n",
    "    n_estimators=1000,\n",
    "    max_depth=30,\n",
    "    max_features='auto',\n",
    "    min_samples_leaf=1,\n",
    "    min_samples_split=2,\n",
    "    bootstrap=True,\n",
    "    n_jobs=-1,\n",
    "    random_state=0\n",
    ")\n",
    "pipeline = Pipeline(\n",
    "    [\n",
    "        ('vectorizer', CountVectorizer()),\n",
    "        ('oversampler', RandomOverSampler(random_state=0)),\n",
    "        ('randomforest', RandomForestClassifier(**rf_params))\n",
    "    ]\n",
    ")\n",
    "\n",
    "mlc = cross_validate_multilabel(df.lyrics.values, df_genres.values, pipeline, feature_names=df_genres.columns, n_splits=3, verbose=True)\n",
    "mlc.print_report()\n",
    "plot_roc_curve(mlc.true, mlc.pred, df_genres.columns)"
   ]
  },
  {
   "cell_type": "markdown",
   "metadata": {},
   "source": [
    "## Logistic regression"
   ]
  },
  {
   "cell_type": "code",
   "execution_count": 18,
   "metadata": {},
   "outputs": [
    {
     "name": "stdout",
     "output_type": "stream",
     "text": [
      "training on feature 'black'\n",
      "fold 1/5\n",
      "fold 2/5\n",
      "fold 3/5\n",
      "fold 4/5\n",
      "fold 5/5\n",
      "CV score: 74.92% +/- 0.76%\n",
      "Average confusion matrix:\n",
      "[[0.66238869 0.11133927]\n",
      " [0.08093273 0.14533931]]\n",
      "training on feature 'death'\n",
      "fold 1/5\n",
      "fold 2/5\n",
      "fold 3/5\n",
      "fold 4/5\n",
      "fold 5/5\n",
      "CV score: 70.25% +/- 0.90%\n",
      "Average confusion matrix:\n",
      "[[0.53872885 0.14269355]\n",
      " [0.12283057 0.19574703]]\n",
      "training on feature 'heavy'\n",
      "fold 1/5\n",
      "fold 2/5\n",
      "fold 3/5\n",
      "fold 4/5\n",
      "fold 5/5\n",
      "CV score: 71.59% +/- 1.02%\n",
      "Average confusion matrix:\n",
      "[[0.73196833 0.10559362]\n",
      " [0.07183051 0.09060754]]\n",
      "training on feature 'power'\n",
      "fold 1/5\n",
      "fold 2/5\n",
      "fold 3/5\n",
      "fold 4/5\n",
      "fold 5/5\n",
      "CV score: 73.40% +/- 1.37%\n",
      "Average confusion matrix:\n",
      "[[0.723261   0.10575157]\n",
      " [0.069165   0.10182242]]\n",
      "training on feature 'thrash'\n",
      "fold 1/5\n",
      "fold 2/5\n",
      "fold 3/5\n",
      "fold 4/5\n",
      "fold 5/5\n",
      "CV score: 66.97% +/- 0.65%\n",
      "Average confusion matrix:\n",
      "[[0.67642703 0.13070863]\n",
      " [0.09615574 0.09670859]]\n",
      "Multi-label classification report\n",
      "Accuracy:   0.44\n",
      "Precision:  0.54\n",
      "Recall:     0.61\n",
      "F1-score:   0.57\n"
     ]
    },
    {
     "name": "stderr",
     "output_type": "stream",
     "text": [
      "D:\\Anaconda3\\envs\\metallyrics\\lib\\site-packages\\ipykernel_launcher.py:32: RuntimeWarning: invalid value encountered in true_divide\n",
      "D:\\Anaconda3\\envs\\metallyrics\\lib\\site-packages\\ipykernel_launcher.py:37: RuntimeWarning: invalid value encountered in true_divide\n",
      "D:\\Anaconda3\\envs\\metallyrics\\lib\\site-packages\\ipykernel_launcher.py:42: RuntimeWarning: invalid value encountered in true_divide\n"
     ]
    },
    {
     "data": {
      "image/png": "[encoded data removed]",
      "text/plain": [
       "<Figure size 576x432 with 1 Axes>"
      ]
     },
     "metadata": {
      "needs_background": "light"
     },
     "output_type": "display_data"
    },
    {
     "data": {
      "text/plain": [
       "[0.8270529856595334,\n",
       " 0.7741774659625359,\n",
       " 0.7961579055681185,\n",
       " 0.8175866570599688,\n",
       " 0.7436464827912759]"
      ]
     },
     "execution_count": 18,
     "metadata": {},
     "output_type": "execute_result"
    }
   ],
   "source": [
    "lr_params = dict(\n",
    "    solver='lbfgs',\n",
    "    max_iter=1000,\n",
    "    random_state=0\n",
    ")\n",
    "pipeline = Pipeline(\n",
    "    [\n",
    "        ('vectorizer', CountVectorizer()),\n",
    "        ('oversampler', RandomOverSampler(random_state=0)),\n",
    "        ('randomforest', LogisticRegression(**lr_params))\n",
    "    ]\n",
    ")\n",
    "\n",
    "mlc = cross_validate_multilabel(df.lyrics.values, df_genres.values, pipeline, feature_names=df_genres.columns, n_splits=3, verbose=True)\n",
    "mlc.print_report()\n",
    "plot_roc_curve(mlc.true, mlc.pred, df_genres.columns)"
   ]
  },
  {
   "cell_type": "markdown",
   "metadata": {},
   "source": [
    "# Stacked model"
   ]
  },
  {
   "cell_type": "code",
   "execution_count": 10,
   "metadata": {},
   "outputs": [],
   "source": [
    "class StackedModel(BaseEstimator, TransformerMixin):\n",
    "    def __init__(self, clfs=[], meta_clf=None):\n",
    "        self.clfs = clfs\n",
    "        self.meta_clf = meta_clf\n",
    "\n",
    "    def fit(self, X, y, split_test_size=0.2):\n",
    "        X_train, X_test, y_train, y_test = train_test_split(X, y, test_size=split_test_size)\n",
    "        y_prob = np.zeros((X_test.shape[0], len(self.clfs)))\n",
    "        for j, clf in enumerate(self.clfs):\n",
    "            clf.fit(X_train, y_train)\n",
    "            y_prob[:, j] = clf.predict_proba(X_test)[:, 1]\n",
    "        self.meta_clf.fit(y_prob, y_test)\n",
    "        return self\n",
    "\n",
    "    def predict_base(self, X):\n",
    "        y_prob = np.zeros((X.shape[0], len(self.clfs)))\n",
    "        for j, clf in enumerate(self.clfs):\n",
    "            y_prob[:, j] = clf.predict_proba(X)[:, 1]\n",
    "        return y_prob\n",
    "\n",
    "    def predict(self, X):\n",
    "        return self.meta_clf.predict(self.predict_base(X))\n",
    "\n",
    "    def predict_proba(self, X):\n",
    "        return self.meta_clf.predict_proba(self.predict_base(X))\n"
   ]
  },
  {
   "cell_type": "code",
   "execution_count": 22,
   "metadata": {},
   "outputs": [
    {
     "name": "stdout",
     "output_type": "stream",
     "text": [
      "training on feature 'black'\n",
      "fold 1/3\n",
      "fold 2/3\n",
      "fold 3/3\n",
      "CV score: 72.46% +/- 1.07%\n",
      "Average confusion matrix:\n",
      "[[0.61624578 0.15748218]\n",
      " [0.07856339 0.14770865]]\n",
      "training on feature 'death'\n",
      "fold 1/3\n",
      "fold 2/3\n",
      "fold 3/3\n",
      "CV score: 69.46% +/- 0.44%\n",
      "Average confusion matrix:\n",
      "[[0.5410587  0.14036369]\n",
      " [0.12897111 0.18960649]]\n",
      "training on feature 'heavy'\n",
      "fold 1/3\n",
      "fold 2/3\n",
      "fold 3/3\n",
      "CV score: 69.86% +/- 0.15%\n",
      "Average confusion matrix:\n",
      "[[0.71439572 0.12316623]\n",
      " [0.0740419  0.08839615]]\n",
      "training on feature 'power'\n",
      "fold 1/3\n",
      "fold 2/3\n",
      "fold 3/3\n",
      "CV score: 71.62% +/- 0.40%\n",
      "Average confusion matrix:\n",
      "[[0.71421802 0.11479456]\n",
      " [0.07339033 0.09759709]]\n",
      "training on feature 'thrash'\n",
      "fold 1/3\n",
      "fold 2/3\n",
      "fold 3/3\n",
      "CV score: 66.57% +/- 0.69%\n",
      "Average confusion matrix:\n",
      "[[0.6830217  0.12411397]\n",
      " [0.09929512 0.09356921]]\n",
      "Multi-label classification report\n",
      "Accuracy:   0.40\n",
      "Precision:  0.50\n",
      "Recall:     0.60\n",
      "F1-score:   0.54\n"
     ]
    },
    {
     "name": "stderr",
     "output_type": "stream",
     "text": [
      "D:\\Anaconda3\\envs\\metallyrics\\lib\\site-packages\\ipykernel_launcher.py:32: RuntimeWarning: invalid value encountered in true_divide\n",
      "D:\\Anaconda3\\envs\\metallyrics\\lib\\site-packages\\ipykernel_launcher.py:37: RuntimeWarning: invalid value encountered in true_divide\n",
      "D:\\Anaconda3\\envs\\metallyrics\\lib\\site-packages\\ipykernel_launcher.py:42: RuntimeWarning: invalid value encountered in true_divide\n"
     ]
    },
    {
     "data": {
      "image/png": "[encoded data removed]",
      "text/plain": [
       "<Figure size 576x432 with 1 Axes>"
      ]
     },
     "metadata": {
      "needs_background": "light"
     },
     "output_type": "display_data"
    },
    {
     "data": {
      "text/plain": [
       "[0.8053241937314842,\n",
       " 0.7701724475296019,\n",
       " 0.7912542271348459,\n",
       " 0.8260229136688134,\n",
       " 0.7552315871119535]"
      ]
     },
     "execution_count": 22,
     "metadata": {},
     "output_type": "execute_result"
    }
   ],
   "source": [
    "rf_params = dict(\n",
    "    n_estimators=100,\n",
    "    max_depth=30,\n",
    "    max_features='auto',\n",
    "    min_samples_leaf=1,\n",
    "    min_samples_split=2,\n",
    "    bootstrap=True,\n",
    "    n_jobs=-1,\n",
    "    random_state=0\n",
    ")\n",
    "lr_params = dict(\n",
    "    solver='lbfgs',\n",
    "    max_iter=1000,\n",
    "    random_state=0\n",
    ")\n",
    "stacked_model = StackedModel(\n",
    "    [\n",
    "        RandomForestClassifier(**rf_params)\n",
    "    ],\n",
    "    LogisticRegression(**lr_params)\n",
    ")\n",
    "n_splits = 5\n",
    "\n",
    "pipeline = Pipeline(\n",
    "    [\n",
    "        ('vectorizer', CountVectorizer()),\n",
    "        ('oversampler', RandomOverSampler(random_state=0)),\n",
    "        ('stackedmodel', stacked_model)\n",
    "    ]\n",
    ")\n",
    "mlc = cross_validate_multilabel(df.lyrics.values, df_genres.values, pipeline, feature_names=df_genres.columns, n_splits=3, verbose=True)\n",
    "mlc.print_report()\n",
    "plot_roc_curve(mlc.true, mlc.pred, df_genres.columns)"
   ]
  },
  {
   "cell_type": "markdown",
   "metadata": {},
   "source": [
    "# Neural network"
   ]
  },
  {
   "cell_type": "code",
   "execution_count": 11,
   "metadata": {},
   "outputs": [],
   "source": [
    "def create_keras_model(input_dim):\n",
    "    model = Sequential()\n",
    "    model.add(layers.Dense(64, input_dim=input_dim, activation='relu'))\n",
    "    model.add(layers.Dense(8, activation='relu'))\n",
    "    model.add(layers.Dense(1, activation='sigmoid'))\n",
    "    model.compile(optimizer='adam', loss='binary_crossentropy', metrics=['binary_accuracy'])\n",
    "    return model\n",
    "\n",
    "def keras_batch_generator(X_data, y_data, batch_size):\n",
    "    number_of_batches = X_data.shape[0] // batch_size\n",
    "    counter = 0\n",
    "    index = np.arange(np.shape(y_data)[0])\n",
    "    while 1:\n",
    "        index_batch = index[batch_size * counter:batch_size * (counter + 1)]\n",
    "        X_batch = X_data[index_batch, :].todense()\n",
    "        y_batch = y_data[index_batch]\n",
    "        counter += 1\n",
    "        yield np.array(X_batch), y_batch\n",
    "        if (counter > number_of_batches):\n",
    "            counter = 0"
   ]
  },
  {
   "cell_type": "code",
   "execution_count": 20,
   "metadata": {},
   "outputs": [
    {
     "name": "stdout",
     "output_type": "stream",
     "text": [
      "Training on feature 'black'\n",
      "Fold 1/3\n",
      "Epoch 1/2\n",
      "52248/52248 [==============================] - 1s 16us/step - loss: 0.5572 - binary_accuracy: 0.7207\n",
      "Epoch 2/2\n",
      "52248/52248 [==============================] - 1s 15us/step - loss: 0.4778 - binary_accuracy: 0.7676\n",
      "Fold 2/3\n",
      "Epoch 1/2\n",
      "52250/52250 [==============================] - 1s 15us/step - loss: 0.5656 - binary_accuracy: 0.7118\n",
      "Epoch 2/2\n",
      "52250/52250 [==============================] - 1s 14us/step - loss: 0.4831 - binary_accuracy: 0.7649\n",
      "Fold 3/3\n",
      "Epoch 1/2\n",
      "52250/52250 [==============================] - 1s 16us/step - loss: 0.5587 - binary_accuracy: 0.7192\n",
      "Epoch 2/2\n",
      "52250/52250 [==============================] - 1s 14us/step - loss: 0.4856 - binary_accuracy: 0.7632\n",
      "CV score: 73.89% +/- 0.85%\n",
      "Average confusion matrix:\n",
      "[[0.57879045 0.19493751]\n",
      " [0.06112899 0.16514305]]\n",
      "Training on feature 'death'\n",
      "Fold 1/3\n",
      "Epoch 1/2\n",
      "46016/46016 [==============================] - 1s 15us/step - loss: 0.6021 - binary_accuracy: 0.6838\n",
      "Epoch 2/2\n",
      "46016/46016 [==============================] - 1s 14us/step - loss: 0.5379 - binary_accuracy: 0.7310\n",
      "Fold 2/3\n",
      "Epoch 1/2\n",
      "46016/46016 [==============================] - 1s 16us/step - loss: 0.5960 - binary_accuracy: 0.6803\n",
      "Epoch 2/2\n",
      "46016/46016 [==============================] - 1s 13us/step - loss: 0.5302 - binary_accuracy: 0.7324\n",
      "Fold 3/3\n",
      "Epoch 1/2\n",
      "46016/46016 [==============================] - 1s 16us/step - loss: 0.5950 - binary_accuracy: 0.6737\n",
      "Epoch 2/2\n",
      "46016/46016 [==============================] - 1s 13us/step - loss: 0.5296 - binary_accuracy: 0.7322\n",
      "CV score: 69.60% +/- 1.29%\n",
      "Average confusion matrix:\n",
      "[[0.5072956  0.1741268 ]\n",
      " [0.11230675 0.20627086]]\n",
      "Training on feature 'heavy'\n",
      "Fold 1/3\n",
      "Epoch 1/2\n",
      "56560/56560 [==============================] - 1s 15us/step - loss: 0.5719 - binary_accuracy: 0.7076\n",
      "Epoch 2/2\n",
      "56560/56560 [==============================] - 1s 14us/step - loss: 0.4707 - binary_accuracy: 0.7785\n",
      "Fold 2/3\n",
      "Epoch 1/2\n",
      "56560/56560 [==============================] - 1s 16us/step - loss: 0.5656 - binary_accuracy: 0.7110\n",
      "Epoch 2/2\n",
      "56560/56560 [==============================] - 1s 14us/step - loss: 0.4603 - binary_accuracy: 0.7826\n",
      "Fold 3/3\n",
      "Epoch 1/2\n",
      "56560/56560 [==============================] - 1s 16us/step - loss: 0.5682 - binary_accuracy: 0.7075\n",
      "Epoch 2/2\n",
      "56560/56560 [==============================] - 1s 13us/step - loss: 0.4777 - binary_accuracy: 0.7750\n",
      "CV score: 71.72% +/- 1.13%\n",
      "Average confusion matrix:\n",
      "[[0.66637708 0.17118487]\n",
      " [0.05866093 0.10377712]]\n",
      "Training on feature 'power'\n",
      "Fold 1/3\n",
      "Epoch 1/2\n",
      "55982/55982 [==============================] - 1s 16us/step - loss: 0.5623 - binary_accuracy: 0.7058\n",
      "Epoch 2/2\n",
      "55982/55982 [==============================] - 1s 15us/step - loss: 0.4396 - binary_accuracy: 0.8025\n",
      "Fold 2/3\n",
      "Epoch 1/2\n",
      "55982/55982 [==============================] - 1s 15us/step - loss: 0.5586 - binary_accuracy: 0.7161\n",
      "Epoch 2/2\n",
      "55982/55982 [==============================] - 1s 14us/step - loss: 0.4339 - binary_accuracy: 0.8044\n",
      "Fold 3/3\n",
      "Epoch 1/2\n",
      "55984/55984 [==============================] - 1s 15us/step - loss: 0.5505 - binary_accuracy: 0.7297\n",
      "Epoch 2/2\n",
      "55984/55984 [==============================] - 1s 14us/step - loss: 0.4383 - binary_accuracy: 0.8055\n",
      "CV score: 75.09% +/- 0.64%\n",
      "Average confusion matrix:\n",
      "[[0.6515687  0.17744388]\n",
      " [0.04859123 0.12239619]]\n",
      "Training on feature 'thrash'\n",
      "Fold 1/3\n",
      "Epoch 1/2\n",
      "54504/54504 [==============================] - 1s 15us/step - loss: 0.6075 - binary_accuracy: 0.6693\n",
      "Epoch 2/2\n",
      "54504/54504 [==============================] - 1s 13us/step - loss: 0.5190 - binary_accuracy: 0.7416\n",
      "Fold 2/3\n",
      "Epoch 1/2\n",
      "54506/54506 [==============================] - 1s 16us/step - loss: 0.6099 - binary_accuracy: 0.6716\n",
      "Epoch 2/2\n",
      "54506/54506 [==============================] - 1s 14us/step - loss: 0.5237 - binary_accuracy: 0.7406\n",
      "Fold 3/3\n",
      "Epoch 1/2\n",
      "54506/54506 [==============================] - 1s 15us/step - loss: 0.6087 - binary_accuracy: 0.6761\n",
      "Epoch 2/2\n",
      "54506/54506 [==============================] - 1s 13us/step - loss: 0.5255 - binary_accuracy: 0.7412\n",
      "CV score: 67.00% +/- 1.24%\n",
      "Average confusion matrix:\n",
      "[[0.60384623 0.20328943]\n",
      " [0.0787016  0.11416273]]\n",
      "Multi-label classification report\n",
      "Accuracy:   0.40\n",
      "Precision:  0.46\n",
      "Recall:     0.69\n",
      "F1-score:   0.55\n"
     ]
    },
    {
     "name": "stderr",
     "output_type": "stream",
     "text": [
      "D:\\Anaconda3\\envs\\metallyrics\\lib\\site-packages\\ipykernel_launcher.py:32: RuntimeWarning: invalid value encountered in true_divide\n",
      "D:\\Anaconda3\\envs\\metallyrics\\lib\\site-packages\\ipykernel_launcher.py:37: RuntimeWarning: invalid value encountered in true_divide\n",
      "D:\\Anaconda3\\envs\\metallyrics\\lib\\site-packages\\ipykernel_launcher.py:42: RuntimeWarning: invalid value encountered in true_divide\n"
     ]
    },
    {
     "data": {
      "image/png": "[encoded data removed]",
      "text/plain": [
       "<Figure size 576x432 with 1 Axes>"
      ]
     },
     "metadata": {
      "needs_background": "light"
     },
     "output_type": "display_data"
    },
    {
     "name": "stdout",
     "output_type": "stream",
     "text": [
      "[0.8119114211888928, 0.7666688099684525, 0.7925846574568725, 0.8256276247057884, 0.7382560463543365]\n",
      "0.7870097119348686\n"
     ]
    }
   ],
   "source": [
    "keras_params = dict(\n",
    "    input_dim=1024,\n",
    "    epochs=2,\n",
    "    batch_size=512,\n",
    ")\n",
    "pipeline = Pipeline(\n",
    "    [\n",
    "        ('vectorizer', CountVectorizer()),\n",
    "        ('selectkbest', SelectKBest(k=keras_params['input_dim'])),\n",
    "        ('oversampler', RandomOverSampler(random_state=0)),\n",
    "        ('neuralnet', KerasClassifier(create_keras_model, **keras_params))\n",
    "    ]\n",
    ")\n",
    "\n",
    "mlc = cross_validate_multilabel(df.lyrics.values, df_genres.values, pipeline, feature_names=df_genres.columns, n_splits=3, verbose=True)\n",
    "mlc.print_report()\n",
    "auc_scores = plot_roc_curve(mlc.true, mlc.pred, df_genres.columns)\n",
    "print(auc_scores)\n",
    "print(np.mean(auc_scores))"
   ]
  },
  {
   "cell_type": "markdown",
   "metadata": {},
   "source": [
    "## Stacking RF and NN with logreg aggregator"
   ]
  },
  {
   "cell_type": "code",
   "execution_count": 9,
   "metadata": {},
   "outputs": [
    {
     "ename": "NameError",
     "evalue": "name 'StackedModel' is not defined",
     "output_type": "error",
     "traceback": [
      "\u001b[1;31m---------------------------------------------------------------------------\u001b[0m",
      "\u001b[1;31mNameError\u001b[0m                                 Traceback (most recent call last)",
      "\u001b[1;32m<ipython-input-9-898f61b316ea>\u001b[0m in \u001b[0;36m<module>\u001b[1;34m\u001b[0m\n\u001b[0;32m     19\u001b[0m     \u001b[0mrandom_state\u001b[0m\u001b[1;33m=\u001b[0m\u001b[1;36m0\u001b[0m\u001b[1;33m\u001b[0m\u001b[1;33m\u001b[0m\u001b[0m\n\u001b[0;32m     20\u001b[0m )\n\u001b[1;32m---> 21\u001b[1;33m stacked_model = StackedModel(\n\u001b[0m\u001b[0;32m     22\u001b[0m     [\n\u001b[0;32m     23\u001b[0m         \u001b[0mRandomForestClassifier\u001b[0m\u001b[1;33m(\u001b[0m\u001b[1;33m**\u001b[0m\u001b[0mrf_params\u001b[0m\u001b[1;33m)\u001b[0m\u001b[1;33m,\u001b[0m\u001b[1;33m\u001b[0m\u001b[1;33m\u001b[0m\u001b[0m\n",
      "\u001b[1;31mNameError\u001b[0m: name 'StackedModel' is not defined"
     ]
    }
   ],
   "source": [
    "rf_params = dict(\n",
    "    n_estimators=1000,\n",
    "    max_depth=30,\n",
    "    max_features='auto',\n",
    "    min_samples_leaf=1,\n",
    "    min_samples_split=2,\n",
    "    bootstrap=True,\n",
    "    n_jobs=-1,\n",
    "    random_state=0\n",
    ")\n",
    "keras_params = dict(\n",
    "    input_dim=1000,\n",
    "    epochs=2,\n",
    "    batch_size=16,\n",
    ")\n",
    "lr_params = dict(\n",
    "    solver='lbfgs',\n",
    "    max_iter=1000,\n",
    "    random_state=0\n",
    ")\n",
    "stacked_model = StackedModel(\n",
    "    [\n",
    "        RandomForestClassifier(**rf_params),\n",
    "        KerasClassifier(create_keras_model, **keras_params)\n",
    "    ],\n",
    "    LogisticRegression(**lr_params)\n",
    ")\n",
    "\n",
    "pipeline = Pipeline(\n",
    "    [\n",
    "        ('vectorizer', CountVectorizer()),\n",
    "        ('kbest', SelectKBest(k=keras_params['input_dim']))\n",
    "        ('oversampler', RandomOverSampler(random_state=0)),\n",
    "        ('stackedmodel', stacked_model)\n",
    "    ]\n",
    ")\n",
    "\n",
    "mlc = cross_validate_multilabel(df.lyrics.values, df_genres.values, pipeline, feature_names=df_genres.columns, n_splits=3, verbose=True)\n",
    "mlc.print_report()\n",
    "plot_roc_curve(mlc.true, mlc.pred, df_genres.columns)"
   ]
  },
  {
   "cell_type": "code",
   "execution_count": 33,
   "metadata": {},
   "outputs": [
    {
     "name": "stdout",
     "output_type": "stream",
     "text": [
      "Epoch 1/1\n",
      "30316/30316 [==============================] - 5s 149us/step - loss: 0.4279 - binary_accuracy: 0.8083\n"
     ]
    },
    {
     "name": "stderr",
     "output_type": "stream",
     "text": [
      "C:\\Users\\philippe\\Anaconda3\\envs\\ml\\lib\\site-packages\\sklearn\\linear_model\\logistic.py:432: FutureWarning: Default solver will be changed to 'lbfgs' in 0.22. Specify a solver to silence this warning.\n",
      "  FutureWarning)\n"
     ]
    },
    {
     "name": "stdout",
     "output_type": "stream",
     "text": [
      "Epoch 1/1\n",
      "30318/30318 [==============================] - 5s 155us/step - loss: 0.4212 - binary_accuracy: 0.8162\n"
     ]
    },
    {
     "name": "stderr",
     "output_type": "stream",
     "text": [
      "C:\\Users\\philippe\\Anaconda3\\envs\\ml\\lib\\site-packages\\sklearn\\linear_model\\logistic.py:432: FutureWarning: Default solver will be changed to 'lbfgs' in 0.22. Specify a solver to silence this warning.\n",
      "  FutureWarning)\n"
     ]
    },
    {
     "name": "stdout",
     "output_type": "stream",
     "text": [
      "Epoch 1/1\n",
      "30318/30318 [==============================] - 5s 154us/step - loss: 0.4244 - binary_accuracy: 0.8134\n"
     ]
    },
    {
     "name": "stderr",
     "output_type": "stream",
     "text": [
      "C:\\Users\\philippe\\Anaconda3\\envs\\ml\\lib\\site-packages\\sklearn\\linear_model\\logistic.py:432: FutureWarning: Default solver will be changed to 'lbfgs' in 0.22. Specify a solver to silence this warning.\n",
      "  FutureWarning)\n"
     ]
    },
    {
     "name": "stdout",
     "output_type": "stream",
     "text": [
      "CV score: 71.28% +/- 1.62%\n",
      "Average confusion matrix:\n",
      "[[0.75691828 0.07983985]\n",
      " [0.07819124 0.08505064]]\n"
     ]
    }
   ],
   "source": [
    "feature_reducer = FeatureReducer(0)\n",
    "oversampler = RandomOverSampler(random_state=0)\n",
    "rf_params = dict(\n",
    "    n_estimators=100,\n",
    "    max_depth=30,\n",
    "    max_features='auto',\n",
    "    min_samples_leaf=1,\n",
    "    min_samples_split=2,\n",
    "    bootstrap=True,\n",
    "    n_jobs=-1,\n",
    "    random_state=0\n",
    ")\n",
    "nn_params = dict(\n",
    "    epochs=1,\n",
    "    batch_size=128\n",
    ")\n",
    "lr_params = dict(\n",
    "    random_state=0\n",
    ")\n",
    "n_splits = 3\n",
    "\n",
    "kfold = StratifiedKFold(n_splits=n_splits, shuffle=True, random_state=0)\n",
    "scores = np.zeros(n_splits)\n",
    "confusion_matrices = np.zeros((n_splits, 2, 2))\n",
    "\n",
    "for i, (train_idx, valid_idx) in enumerate(kfold.split(X_train, y_train)):\n",
    "    X_fold_train, y_fold_train = X_train[train_idx], y_train[train_idx]\n",
    "    X_fold_valid, y_fold_valid = X_train[valid_idx], y_train[valid_idx]\n",
    "    feature_reducer.fit(X_fold_train)\n",
    "    X_fold_train = feature_reducer.transform(X_fold_train)\n",
    "    X_fold_valid = feature_reducer.transform(X_fold_valid)\n",
    "    X_fold_train, y_fold_train = oversampler.fit_resample(X_fold_train, y_fold_train)\n",
    "\n",
    "    rf_model = RandomForestClassifier(**rf_params)\n",
    "    keras_model = KerasClassifier(nn_model, input_dim=X_fold_train.shape[1], **nn_params)\n",
    "    lr_model = LogisticRegression(**lr_params)\n",
    "    clfs = [rf_model, keras_model]\n",
    "    meta_clf = lr_model\n",
    "\n",
    "    stacked_model = StackedModel([rf_model, keras_model], lr_model)\n",
    "    stacked_model.fit(X_fold_train, y_fold_train)\n",
    "    y_fold_pred = stacked_model.predict(X_fold_valid)\n",
    "\n",
    "    scores[i] = balanced_accuracy_score(y_fold_valid, y_fold_pred)\n",
    "    confusion_matrices[i] = confusion_matrix(y_fold_valid, y_fold_pred)\n",
    "\n",
    "print(\"CV score: {:.2f}% +/- {:.2f}%\".format(scores.mean()* 100, scores.std() * 200))\n",
    "print(\"Average confusion matrix:\")\n",
    "print(confusion_matrices.mean(axis=0) / confusion_matrices.sum() * n_splits)"
   ]
  }
 ],
 "metadata": {
  "kernelspec": {
   "display_name": "Python [conda env:metallyrics]",
   "language": "python",
   "name": "conda-env-metallyrics-py"
  },
  "language_info": {
   "codemirror_mode": {
    "name": "ipython",
    "version": 3
   },
   "file_extension": ".py",
   "mimetype": "text/x-python",
   "name": "python",
   "nbconvert_exporter": "python",
   "pygments_lexer": "ipython3",
   "version": "3.7.4"
  }
 },
 "nbformat": 4,
 "nbformat_minor": 4
}

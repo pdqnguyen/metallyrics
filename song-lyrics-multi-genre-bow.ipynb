{
 "cells": [
  {
   "cell_type": "code",
   "execution_count": 129,
   "metadata": {},
   "outputs": [],
   "source": [
    "import os\n",
    "import re\n",
    "import h5py\n",
    "from copy import deepcopy\n",
    "import numpy as np\n",
    "import pandas as pd\n",
    "import pickle as pkl\n",
    "\n",
    "import nltk\n",
    "from nltk.corpus import stopwords\n",
    "languages = ['english', 'german', 'french', 'finnish', 'swedish', 'norwegian', 'danish', 'russian']\n",
    "stop_words = set()\n",
    "for language in languages:\n",
    "    stop_words.update(set(stopwords.words(language)))\n",
    "english_vocab = set(w.lower() for w in nltk.corpus.words.words())\n",
    "\n",
    "import matplotlib\n",
    "matplotlib.rcParams['figure.facecolor'] = 'white'\n",
    "import matplotlib.pyplot as plt\n",
    "%matplotlib inline\n",
    "\n",
    "from sklearn.feature_extraction.text import CountVectorizer, TfidfVectorizer, HashingVectorizer\n",
    "from sklearn.preprocessing import LabelEncoder\n",
    "from sklearn.model_selection import train_test_split, cross_val_score, StratifiedKFold\n",
    "from sklearn.metrics import accuracy_score, balanced_accuracy_score, log_loss, confusion_matrix, roc_curve\n",
    "from sklearn.pipeline import make_pipeline\n",
    "from sklearn.base import BaseEstimator, TransformerMixin, clone\n",
    "\n",
    "from sklearn.model_selection import StratifiedKFold\n",
    "from sklearn.ensemble import RandomForestClassifier\n",
    "from sklearn.linear_model import LogisticRegression\n",
    "\n",
    "from mlxtend.classifier import StackingClassifier\n",
    "from imblearn.pipeline import Pipeline\n",
    "\n",
    "from imblearn.over_sampling import RandomOverSampler, SMOTE\n",
    "\n",
    "from keras.preprocessing.text import Tokenizer\n",
    "from keras.preprocessing.sequence import pad_sequences\n",
    "from keras.models import Sequential\n",
    "from keras import layers\n",
    "from keras.wrappers.scikit_learn import KerasClassifier\n",
    "from keras.callbacks import EarlyStopping"
   ]
  },
  {
   "cell_type": "markdown",
   "metadata": {},
   "source": [
    "# Preprocessing\n",
    "## Combine song lyrics with genres"
   ]
  },
  {
   "cell_type": "code",
   "execution_count": 7,
   "metadata": {
    "jupyter": {
     "source_hidden": true
    }
   },
   "outputs": [],
   "source": [
    "# LYRICS_DIR = 'lyrics/'\n",
    "# BANDS_DIR = 'bands/'"
   ]
  },
  {
   "cell_type": "code",
   "execution_count": 8,
   "metadata": {
    "jupyter": {
     "source_hidden": true
    }
   },
   "outputs": [],
   "source": [
    "# band_filenames = [f for f in os.listdir(BANDS_DIR) if '.pkl' in f]\n",
    "# bands = [pkl.load(open(os.path.join(BANDS_DIR, f), 'rb')) for f in band_filenames]\n",
    "# band_genres = {b.name.lower(): b.genres for b in bands}"
   ]
  },
  {
   "cell_type": "code",
   "execution_count": 9,
   "metadata": {
    "jupyter": {
     "source_hidden": true
    }
   },
   "outputs": [
    {
     "name": "stdout",
     "output_type": "stream",
     "text": [
      "vocabulary size: 170519\n"
     ]
    }
   ],
   "source": [
    "# lyrics_filenames = [f for f in os.listdir(LYRICS_DIR) if '.pkl' in f]\n",
    "# lyrics = {filename.replace('.pkl', ''): pkl.load(open(os.path.join(LYRICS_DIR, filename), 'rb')) for filename in lyrics_filenames}\n",
    "# corpus = []\n",
    "# band_names = []\n",
    "# song_names = []\n",
    "# vocabulary = set()\n",
    "# genres = []\n",
    "# for band, band_lyrics in lyrics.items():\n",
    "#     if band in band_genres.keys():\n",
    "#         for album, album_lyrics in band_lyrics.items():\n",
    "#             for song, song_lyrics in album_lyrics.items():\n",
    "#                 words = []\n",
    "#                 for line in song_lyrics:\n",
    "#                     for w in line.split():\n",
    "#                         s = re.search(\"(\\w+)|(\\w+([-'])(\\w+)?[']?(\\w+))\", w.lower())\n",
    "#                         if s:\n",
    "#                             w = s.group()\n",
    "#                             if w not in stop_words:\n",
    "#                                 words.append(w)\n",
    "#                 song_name = []\n",
    "#                 for w in song.split():\n",
    "#                     s = re.search(\"(\\w+)|(\\w+([-'])(\\w+)?[']?(\\w+))\", re.sub('\\d+\\.', '', w).lower())\n",
    "#                     if s:\n",
    "#                         song_name.append(s.group())\n",
    "#                 song_name = ' '.join(song_name)\n",
    "#                 document = ' '.join(words)\n",
    "#                 if len(document) > 0:\n",
    "#                     corpus.append(document)\n",
    "#                     band_names.append(band)\n",
    "#                     song_names.append(song_name)\n",
    "#                     vocabulary.update(set(words))\n",
    "#                     genres.append(band_genres[band])\n",
    "# print(\"vocabulary size: {}\".format(len(vocabulary)))"
   ]
  },
  {
   "cell_type": "markdown",
   "metadata": {},
   "source": [
    "### Full lyrics + genres dataframe"
   ]
  },
  {
   "cell_type": "code",
   "execution_count": 10,
   "metadata": {
    "collapsed": true,
    "jupyter": {
     "outputs_hidden": true,
     "source_hidden": true
    }
   },
   "outputs": [
    {
     "name": "stdout",
     "output_type": "stream",
     "text": [
      "(42460, 4)\n"
     ]
    },
    {
     "data": {
      "text/html": [
       "<div>\n",
       "<style scoped>\n",
       "    .dataframe tbody tr th:only-of-type {\n",
       "        vertical-align: middle;\n",
       "    }\n",
       "\n",
       "    .dataframe tbody tr th {\n",
       "        vertical-align: top;\n",
       "    }\n",
       "\n",
       "    .dataframe thead th {\n",
       "        text-align: right;\n",
       "    }\n",
       "</style>\n",
       "<table border=\"1\" class=\"dataframe\">\n",
       "  <thead>\n",
       "    <tr style=\"text-align: right;\">\n",
       "      <th></th>\n",
       "      <th>band</th>\n",
       "      <th>song</th>\n",
       "      <th>lyrics</th>\n",
       "      <th>genres</th>\n",
       "    </tr>\n",
       "  </thead>\n",
       "  <tbody>\n",
       "    <tr>\n",
       "      <td>0</td>\n",
       "      <td>aarni</td>\n",
       "      <td>myrrys</td>\n",
       "      <td>ääni tuulen varjot puiden yksinäni uneksin hal...</td>\n",
       "      <td>[avant-garde, doom]</td>\n",
       "    </tr>\n",
       "    <tr>\n",
       "      <td>1</td>\n",
       "      <td>aarni</td>\n",
       "      <td>the black keyes of r</td>\n",
       "      <td>five hundred years gone since summoned thee le...</td>\n",
       "      <td>[avant-garde, doom]</td>\n",
       "    </tr>\n",
       "    <tr>\n",
       "      <td>2</td>\n",
       "      <td>aarni</td>\n",
       "      <td>metsänpeitto sample 1 2</td>\n",
       "      <td>metsäpolulta metsän polulle metsänpeitossa for...</td>\n",
       "      <td>[avant-garde, doom]</td>\n",
       "    </tr>\n",
       "    <tr>\n",
       "      <td>3</td>\n",
       "      <td>aarni</td>\n",
       "      <td>persona mortuae cutis</td>\n",
       "      <td>yog clavis portaque cum primis digitis cutem m...</td>\n",
       "      <td>[avant-garde, doom]</td>\n",
       "    </tr>\n",
       "    <tr>\n",
       "      <td>4</td>\n",
       "      <td>aarni</td>\n",
       "      <td>ubbo</td>\n",
       "      <td>ubbo source coming zhothaqquah yok kthulhut st...</td>\n",
       "      <td>[avant-garde, doom]</td>\n",
       "    </tr>\n",
       "  </tbody>\n",
       "</table>\n",
       "</div>"
      ],
      "text/plain": [
       "    band                     song  \\\n",
       "0  aarni                   myrrys   \n",
       "1  aarni     the black keyes of r   \n",
       "2  aarni  metsänpeitto sample 1 2   \n",
       "3  aarni    persona mortuae cutis   \n",
       "4  aarni                     ubbo   \n",
       "\n",
       "                                              lyrics               genres  \n",
       "0  ääni tuulen varjot puiden yksinäni uneksin hal...  [avant-garde, doom]  \n",
       "1  five hundred years gone since summoned thee le...  [avant-garde, doom]  \n",
       "2  metsäpolulta metsän polulle metsänpeitossa for...  [avant-garde, doom]  \n",
       "3  yog clavis portaque cum primis digitis cutem m...  [avant-garde, doom]  \n",
       "4  ubbo source coming zhothaqquah yok kthulhut st...  [avant-garde, doom]  "
      ]
     },
     "execution_count": 10,
     "metadata": {},
     "output_type": "execute_result"
    }
   ],
   "source": [
    "# df_rows = [\n",
    "#     {'band': band_names[i], 'song': song_names[i], 'lyrics': corpus[i], 'genres': genres[i]} for i in range(len(corpus))\n",
    "# ]\n",
    "# df = pd.DataFrame(df_rows, columns=['band', 'song', 'lyrics', 'genres'])\n",
    "# df = df.drop_duplicates(subset=['band', 'song'])\n",
    "# print(df.shape)\n",
    "# df.head()"
   ]
  },
  {
   "cell_type": "code",
   "execution_count": 2,
   "metadata": {},
   "outputs": [],
   "source": [
    "df = pd.read_hdf('combined-data/song-lyrics-genres-short.h5', key='df', mode='r')"
   ]
  },
  {
   "cell_type": "markdown",
   "metadata": {},
   "source": [
    "### Statistics of song word counts"
   ]
  },
  {
   "cell_type": "code",
   "execution_count": 3,
   "metadata": {
    "collapsed": true,
    "jupyter": {
     "outputs_hidden": true
    }
   },
   "outputs": [
    {
     "name": "stdout",
     "output_type": "stream",
     "text": [
      "72.0 25.0 0 123\n"
     ]
    }
   ],
   "source": [
    "song_lengths = df['lyrics'].apply(lambda x: len(x.split()))\n",
    "print(round(song_lengths.mean()), round(song_lengths.std()), song_lengths.min(), song_lengths.max())"
   ]
  },
  {
   "cell_type": "code",
   "execution_count": 4,
   "metadata": {
    "collapsed": true,
    "jupyter": {
     "outputs_hidden": true
    }
   },
   "outputs": [
    {
     "data": {
      "image/png": "[encoded data removed]",
      "text/plain": [
       "<Figure size 432x288 with 1 Axes>"
      ]
     },
     "metadata": {
      "needs_background": "light"
     },
     "output_type": "display_data"
    }
   ],
   "source": [
    "plt.fill_between(range(1, df.shape[0] + 1), 0, song_lengths.sort_values()[::-1].reset_index(drop=True))\n",
    "plt.title(\"song lengths\")\n",
    "plt.xlabel('song ranking by length')\n",
    "plt.ylabel('word count')\n",
    "plt.xscale('log')\n",
    "plt.grid(axis='both')\n",
    "plt.show()"
   ]
  },
  {
   "cell_type": "code",
   "execution_count": 5,
   "metadata": {
    "collapsed": true,
    "jupyter": {
     "outputs_hidden": true
    }
   },
   "outputs": [
    {
     "data": {
      "image/png": "[encoded data removed]",
      "text/plain": [
       "<Figure size 432x288 with 1 Axes>"
      ]
     },
     "metadata": {
      "needs_background": "light"
     },
     "output_type": "display_data"
    }
   ],
   "source": [
    "song_lengths.hist(bins=100)\n",
    "plt.title(\"song lengths\")\n",
    "plt.xlabel('word count')\n",
    "plt.ylabel('songs')\n",
    "plt.show()"
   ]
  },
  {
   "cell_type": "markdown",
   "metadata": {},
   "source": [
    "### Genres dataframe"
   ]
  },
  {
   "cell_type": "code",
   "execution_count": 6,
   "metadata": {},
   "outputs": [],
   "source": [
    "unique_genres = []\n",
    "for lst in df['genres'].tolist():\n",
    "    for x in lst:\n",
    "        if (x not in stop_words) and (not re.match('\\-.*', x)) and (x not in unique_genres):\n",
    "            unique_genres.append(x)\n",
    "unique_genres.sort()\n",
    "\n",
    "df_genres_full = pd.DataFrame(index=df.index, columns=unique_genres)\n",
    "for genre in unique_genres:\n",
    "    df_genres_full[genre] = df['genres'].apply(lambda x: 1 if genre in x else 0)\n",
    "df_genres_full['band'] = df['band'].copy()\n",
    "df_genres_bands = df_genres_full.groupby('band').max()\n",
    "df_genres_full.drop('band', axis=1, inplace=True)\n",
    "top_genres = df_genres_full.columns[df_genres_full.mean(axis=0) > 0.15]\n",
    "df_genres = df_genres_full[top_genres].copy()"
   ]
  },
  {
   "cell_type": "code",
   "execution_count": 8,
   "metadata": {},
   "outputs": [
    {
     "data": {
      "text/plain": [
       "death     16135\n",
       "black     11460\n",
       "thrash     9768\n",
       "power      8660\n",
       "heavy      8227\n",
       "dtype: int64"
      ]
     },
     "execution_count": 8,
     "metadata": {},
     "output_type": "execute_result"
    }
   ],
   "source": [
    "df_genres.sum(axis=0).sort_values(ascending=False)"
   ]
  },
  {
   "cell_type": "markdown",
   "metadata": {},
   "source": [
    "## Tokenization & oversampling"
   ]
  },
  {
   "cell_type": "markdown",
   "metadata": {
    "jupyter": {
     "source_hidden": true
    }
   },
   "source": [
    "### Train-test split lyrics and single genre label"
   ]
  },
  {
   "cell_type": "code",
   "execution_count": 10,
   "metadata": {
    "jupyter": {
     "source_hidden": true
    }
   },
   "outputs": [],
   "source": [
    "# corpus_train, corpus_test, y_train, y_test = train_test_split(df['lyrics'].values, df_genres.values, test_size=0.2)"
   ]
  },
  {
   "cell_type": "markdown",
   "metadata": {
    "jupyter": {
     "source_hidden": true
    }
   },
   "source": [
    "### Transform corpuses with vectorizer fit to training corpus"
   ]
  },
  {
   "cell_type": "code",
   "execution_count": 11,
   "metadata": {
    "collapsed": true,
    "jupyter": {
     "outputs_hidden": true,
     "source_hidden": true
    }
   },
   "outputs": [
    {
     "name": "stdout",
     "output_type": "stream",
     "text": [
      "(40517, 147340) (10130, 147340) (40517, 5) (10130, 5)\n"
     ]
    }
   ],
   "source": [
    "# vectorizer = CountVectorizer()\n",
    "# vectorizer.fit(corpus_train)\n",
    "# X_train = vectorizer.transform(corpus_train)\n",
    "# X_test = vectorizer.transform(corpus_test)\n",
    "# print(X_train.shape, X_test.shape, y_train.shape, y_test.shape)"
   ]
  },
  {
   "cell_type": "code",
   "execution_count": 12,
   "metadata": {},
   "outputs": [],
   "source": [
    "def split_vectorize(texts, labels, test_size=0.2):\n",
    "    corpus_train, corpus_test, y_train, y_test = train_test_split(texts, labels, test_size=test_size)\n",
    "    vectorizer = CountVectorizer()\n",
    "    vectorizer.fit(corpus_train)\n",
    "    X_train = vectorizer.transform(corpus_train)\n",
    "    X_test = vectorizer.transform(corpus_test)\n",
    "    return X_train, X_test, y_train, y_test"
   ]
  },
  {
   "cell_type": "markdown",
   "metadata": {},
   "source": [
    "### Cross-validation"
   ]
  },
  {
   "cell_type": "code",
   "execution_count": 13,
   "metadata": {},
   "outputs": [],
   "source": [
    "def cross_validation(model, X, y, n_splits=3):\n",
    "    out = {}\n",
    "    kfold = StratifiedKFold(n_splits=n_splits, shuffle=True, random_state=0)\n",
    "    scores = np.zeros(n_splits)\n",
    "    confusion_matrices = np.zeros((n_splits, 2, 2))\n",
    "    for i, (train_idx, valid_idx) in enumerate(kfold.split(X, y)):\n",
    "        X_fold_train, y_fold_train = X[train_idx], y[train_idx]\n",
    "        X_fold_valid, y_fold_valid = X[valid_idx], y[valid_idx]\n",
    "        model_ = clone(model)\n",
    "        model_.fit(X_fold_train, y_fold_train)\n",
    "        y_fold_pred = model_.predict(X_fold_valid)\n",
    "        out[i] = [y_fold_valid, y_fold_pred]\n",
    "    return out"
   ]
  },
  {
   "cell_type": "code",
   "execution_count": 14,
   "metadata": {},
   "outputs": [],
   "source": [
    "def cross_validate_pipeline(classifier, genre, oversampler, n_splits=5):\n",
    "    X_train, X_test, y_train, y_test = split_vectorize(df['lyrics'].values, df_genres[genre].values)\n",
    "    pipeline = Pipeline(\n",
    "        [\n",
    "            ('oversampler', oversampler(random_state=0)),\n",
    "            ('classifier', classifier)\n",
    "        ]\n",
    "    )\n",
    "    results = cross_validation(pipeline, X_train, y_train, n_splits)\n",
    "    return results"
   ]
  },
  {
   "cell_type": "markdown",
   "metadata": {},
   "source": [
    "# Multi-label classification tools"
   ]
  },
  {
   "cell_type": "markdown",
   "metadata": {},
   "source": [
    "**Binary relevance** is one method of classifying multiple labels at once. A binary relevance model trains a classifier for each label, making it a one-vs-all approach."
   ]
  },
  {
   "cell_type": "code",
   "execution_count": 15,
   "metadata": {},
   "outputs": [],
   "source": [
    "class BinaryRelevance:\n",
    "    def __init__(self, estimator=None, estimators=[]):\n",
    "        if estimator:\n",
    "            self.estimator = estimator\n",
    "            self.estimators_ = {}\n",
    "        elif estimators:\n",
    "            self.estimators_ = dict(estimators)\n",
    "\n",
    "    def fit(self, X, y):\n",
    "        estimators = {}\n",
    "        for i in range(y.shape[1]):\n",
    "            print('training binary classifier for label: {}'.format(i))\n",
    "            estimator = deepcopy(self.estimator)\n",
    "            estimator.fit(X, y[:, i])\n",
    "            estimators[i] = estimator\n",
    "        self.estimators_ = estimators\n",
    "\n",
    "    def predict(self, X):\n",
    "        y = np.zeros((X.shape[0], len(self.estimators_)))\n",
    "        for i, estimator in self.estimators_.items():\n",
    "            y[:, i] = estimator.predict(X)\n",
    "        return y"
   ]
  },
  {
   "cell_type": "markdown",
   "metadata": {},
   "source": [
    "Multi-label classification results need metrics designed for multi-label output. See [this stackexchange discussion](https://stats.stackexchange.com/questions/12702/what-are-the-measure-for-accuracy-of-multilabel-data) for more about these metrics."
   ]
  },
  {
   "cell_type": "code",
   "execution_count": 16,
   "metadata": {},
   "outputs": [],
   "source": [
    "class MultiLabelClassification:\n",
    "\n",
    "    def __init__(self, y_true, y_pred=None, y_pred_classes=None, labels=None, class_thresh=0.5):\n",
    "        self.true = y_true\n",
    "        if y_pred_classes is None and y_pred is not None:\n",
    "            self.pred = y_pred\n",
    "            y_pred_classes = np.zeros_like(self.pred, dtype=int)\n",
    "            y_pred_classes[self.pred > class_thresh] = 1\n",
    "        else:\n",
    "            self.pred = None\n",
    "        self.pred_classes = y_pred_classes\n",
    "        self.n_samples, self.n_labels = y_true.shape\n",
    "        if labels is not None:\n",
    "            if len(labels) == self.n_labels:\n",
    "                self.labels = np.array(labels)\n",
    "            else:\n",
    "                raise ValueError(\"length of labels and shape of y_true do not match\")\n",
    "        else:\n",
    "            self.labels = np.arange(self.true.shape[1])\n",
    "\n",
    "    @property\n",
    "    def __intersection(self):\n",
    "        return self.true * self.pred_classes\n",
    "\n",
    "    @property\n",
    "    def __union(self):\n",
    "        return np.minimum(1, self.true + self.pred_classes)\n",
    "\n",
    "    @property\n",
    "    def accuracy_score(self):\n",
    "        # Number of labels in common / overall labels (true and predicted)\n",
    "        return np.nanmean(self.__intersection.sum(1) / self.__union.sum(1))\n",
    "\n",
    "    @property\n",
    "    def precision_score(self):\n",
    "        # Proportion of predicted labels that are correct\n",
    "        return np.nanmean(self.__intersection.sum(1) / self.pred_classes.sum(1))\n",
    "\n",
    "    @property\n",
    "    def recall_score(self):\n",
    "        # Proportion of true labels that were predicted\n",
    "        return np.nanmean(self.__intersection.sum(1) / self.true.sum(1))\n",
    "\n",
    "    @property\n",
    "    def f1_score(self):\n",
    "        # Harmonic mean of precision_score and recall_score\n",
    "        p = self.precision_score\n",
    "        r = self.recall_score\n",
    "        return 2 * (p * r) / (p + r)\n",
    "\n",
    "    def confusion_matrix(self, label=None, label_idx=None):\n",
    "        confusion_matrices = multilabel_confusion_matrix(self.true, self.pred_classes)\n",
    "        if label is not None:\n",
    "            return confusion_matrices[np.where(self.labels == label)[0][0]]\n",
    "        elif label_idx is not None:\n",
    "            return confusion_matrices[label_idx]\n",
    "        else:\n",
    "            return confusion_matrices\n",
    "\n",
    "    def print_report(self, verbose=0):\n",
    "        print(\"Multi-label classification report\")\n",
    "        print(\"Accuracy:   {:.2f}\".format(self.accuracy_score))\n",
    "        print(\"Precision:  {:.2f}\".format(self.precision_score))\n",
    "        print(\"Recall:     {:.2f}\".format(self.recall_score))\n",
    "        print(\"F1-score:   {:.2f}\".format(self.f1_score))\n",
    "        if verbose == 1:\n",
    "            for label, matrix in zip(self.labels, self.confusion_matrix()):\n",
    "                print(\"===\\nLabel: {}\".format(label))\n",
    "                print(matrix)"
   ]
  },
  {
   "cell_type": "code",
   "execution_count": 86,
   "metadata": {},
   "outputs": [],
   "source": [
    "def cross_validate_multilabel(X, y, estimator, feature_names=None, evaluation_metric=balanced_accuracy_score, n_splits=5, verbose=False):\n",
    "    kfold = StratifiedKFold(n_splits=n_splits, shuffle=True, random_state=0)\n",
    "    y_prob, y_valid = np.zeros(y.shape), np.zeros(y.shape)\n",
    "    if feature_names is None:\n",
    "        feature_names = [str(x) for x in range(y.shape[1])]\n",
    "    for i, feature in enumerate(feature_names):\n",
    "        if verbose:\n",
    "            print(\"training on feature '{}'\".format(feature))\n",
    "        scores = np.zeros(n_splits)\n",
    "        confusion_matrices = np.zeros((n_splits, 2, 2))\n",
    "        for j, (train_idx, valid_idx) in enumerate(kfold.split(X, y[:, i])):\n",
    "            if verbose:\n",
    "                print(\"fold {}/{}\".format(j + 1, n_splits))\n",
    "            X_fold_train, y_fold_train = X[train_idx], y[train_idx, i]\n",
    "            X_fold_valid, y_fold_valid = X[valid_idx], y[valid_idx, i]\n",
    "            estimator_ = deepcopy(estimator)\n",
    "            estimator_.fit(X_fold_train, y_fold_train)\n",
    "            try:\n",
    "                y_fold_prob = estimator_.predict_proba(X_fold_valid)[:, 1]\n",
    "            except AttributeError:\n",
    "                y_fold_prob = estimator_.predict(X_fold_valid).reshape(-1)\n",
    "            y_prob[valid_idx, i] = y_fold_prob\n",
    "            y_valid[valid_idx, i] = y_fold_valid\n",
    "            y_fold_pred = y_fold_prob.round()\n",
    "            scores[j] = evaluation_metric(y_fold_valid, y_fold_pred)\n",
    "            confusion_matrices[j] = confusion_matrix(y_fold_valid, y_fold_pred)\n",
    "        if verbose:\n",
    "            print(\"CV score: {:.2f}% +/- {:.2f}%\".format(scores.mean()* 100, scores.std() * 200))\n",
    "            print(\"Average confusion matrix:\")\n",
    "            print(confusion_matrices.mean(axis=0) / confusion_matrices.sum() * n_splits)\n",
    "    return MultiLabelClassification(y_valid, y_prob)"
   ]
  },
  {
   "cell_type": "code",
   "execution_count": 134,
   "metadata": {},
   "outputs": [],
   "source": [
    "def plot_roc_curve(true, prob, labels):\n",
    "    plt.figure(figsize=(8, 6))\n",
    "    for i, label in enumerate(labels):\n",
    "        fpr, tpr, thresholds = roc_curve(true[:, i], prob[:, i])\n",
    "        plt.step(fpr, tpr, label=label)\n",
    "    plt.plot([0, 1], [0, 1], 'k--')\n",
    "    plt.gca().set_aspect('equal')\n",
    "    plt.xlim([0, 1])\n",
    "    plt.ylim([0, 1])\n",
    "    plt.title(\"ROC curve\", size=20)\n",
    "    plt.xlabel(\"False positive rate\", size=16)\n",
    "    plt.ylabel(\"True positive rate\", size=16)\n",
    "    plt.legend(fontsize=16)\n",
    "    plt.xticks(fontsize=14)\n",
    "    plt.yticks(fontsize=14)\n",
    "    plt.grid(alpha=0.5)\n",
    "    plt.show()"
   ]
  },
  {
   "cell_type": "markdown",
   "metadata": {},
   "source": [
    "# Random forest classifier"
   ]
  },
  {
   "cell_type": "markdown",
   "metadata": {},
   "source": [
    "### Single-genre classification"
   ]
  },
  {
   "cell_type": "code",
   "execution_count": 14,
   "metadata": {},
   "outputs": [],
   "source": [
    "rf_params = dict(\n",
    "    n_estimators=100,\n",
    "    max_depth=30,\n",
    "    max_features='auto',\n",
    "    min_samples_leaf=1,\n",
    "    min_samples_split=2,\n",
    "    bootstrap=True,\n",
    "    n_jobs=-1,\n",
    "    random_state=0\n",
    ")\n",
    "random_forest = RandomForestClassifier(**rf_params)\n",
    "results = {}\n",
    "for i, genre in enumerate(top_genres):\n",
    "    results[genre] = cross_validate_pipeline(random_forest, 'black', n_splits=5)"
   ]
  },
  {
   "cell_type": "code",
   "execution_count": 17,
   "metadata": {},
   "outputs": [
    {
     "name": "stdout",
     "output_type": "stream",
     "text": [
      "black\n",
      "CV score: 72.56% +/- 0.73%\n",
      "Average confusion matrix:\n",
      "[[0.5930597  0.1815781 ]\n",
      " [0.07083446 0.15452773]]\n",
      "death\n",
      "CV score: 72.72% +/- 1.09%\n",
      "Average confusion matrix:\n",
      "[[0.5963176  0.17876447]\n",
      " [0.07085915 0.15405879]]\n",
      "heavy\n",
      "CV score: 72.46% +/- 1.12%\n",
      "Average confusion matrix:\n",
      "[[0.59108522 0.18155342]\n",
      " [0.0718217  0.15553965]]\n",
      "power\n",
      "CV score: 72.55% +/- 0.39%\n",
      "Average confusion matrix:\n",
      "[[0.59054224 0.18251598]\n",
      " [0.07103191 0.15590986]]\n",
      "thrash\n",
      "CV score: 72.92% +/- 1.20%\n",
      "Average confusion matrix:\n",
      "[[0.59700866 0.17780191]\n",
      " [0.0702668  0.15492263]]\n"
     ]
    }
   ],
   "source": [
    "for genre, folds in results.items():\n",
    "    print(genre)\n",
    "    scores = np.zeros(n_splits)\n",
    "    confusion_matrices = np.zeros((n_splits, 2, 2))\n",
    "    for k, v in folds.items():\n",
    "        y_fold_valid, y_fold_pred = v\n",
    "        scores[k] = balanced_accuracy_score(y_fold_valid, y_fold_pred)\n",
    "        confusion_matrices[k] = confusion_matrix(y_fold_valid, y_fold_pred)\n",
    "    print(\"CV score: {:.2f}% +/- {:.2f}%\".format(scores.mean()* 100, scores.std() * 200))\n",
    "    print(\"Average confusion matrix:\")\n",
    "    print(confusion_matrices.mean(axis=0) / confusion_matrices.sum() * n_splits)"
   ]
  },
  {
   "cell_type": "markdown",
   "metadata": {},
   "source": [
    "### Multi-genre classification"
   ]
  },
  {
   "cell_type": "code",
   "execution_count": 74,
   "metadata": {},
   "outputs": [],
   "source": [
    "X_train, X_test, y_train, y_test = train_test_split(df.lyrics.values, df_genres.values[:, 0])\n",
    "pipeline = Pipeline(\n",
    "    [\n",
    "        ('vectorizer', CountVectorizer()),\n",
    "        ('oversampler', RandomOverSampler(random_state=0)),\n",
    "        ('randomforest', RandomForestClassifier(**rf_params))\n",
    "    ]\n",
    ")\n",
    "pipeline.fit(X_train, y_train)"
   ]
  },
  {
   "cell_type": "code",
   "execution_count": 87,
   "metadata": {},
   "outputs": [
    {
     "name": "stdout",
     "output_type": "stream",
     "text": [
      "training on feature 'black'\n",
      "fold 1/3\n",
      "fold 2/3\n",
      "fold 3/3\n",
      "CV score: 72.69% +/- 0.65%\n",
      "Average confusion matrix:\n",
      "[[0.59221672 0.18151124]\n",
      " [0.07050763 0.15576441]]\n",
      "training on feature 'death'\n",
      "fold 1/3\n",
      "fold 2/3\n",
      "fold 3/3\n",
      "CV score: 69.68% +/- 0.70%\n",
      "Average confusion matrix:\n",
      "[[0.53750469 0.1439177 ]\n",
      " [0.12593046 0.19264715]]\n",
      "training on feature 'heavy'\n",
      "fold 1/3\n",
      "fold 2/3\n",
      "fold 3/3\n",
      "CV score: 70.66% +/- 0.20%\n",
      "Average confusion matrix:\n",
      "[[0.69478942 0.14277252]\n",
      " [0.06762493 0.09481312]]\n",
      "training on feature 'power'\n",
      "fold 1/3\n",
      "fold 2/3\n",
      "fold 3/3\n",
      "CV score: 72.96% +/- 0.08%\n",
      "Average confusion matrix:\n",
      "[[0.69660592 0.13240666]\n",
      " [0.06515687 0.10583055]]\n",
      "training on feature 'thrash'\n",
      "fold 1/3\n",
      "fold 2/3\n",
      "fold 3/3\n",
      "CV score: 67.06% +/- 0.91%\n",
      "Average confusion matrix:\n",
      "[[0.67129346 0.1358422 ]\n",
      " [0.09459593 0.09826841]]\n",
      "Multi-label classification report\n",
      "Accuracy:   0.40\n",
      "Precision:  0.48\n",
      "Recall:     0.63\n",
      "F1-score:   0.55\n"
     ]
    },
    {
     "name": "stderr",
     "output_type": "stream",
     "text": [
      "D:\\Anaconda3\\envs\\metallyrics\\lib\\site-packages\\ipykernel_launcher.py:32: RuntimeWarning: invalid value encountered in true_divide\n",
      "D:\\Anaconda3\\envs\\metallyrics\\lib\\site-packages\\ipykernel_launcher.py:37: RuntimeWarning: invalid value encountered in true_divide\n",
      "D:\\Anaconda3\\envs\\metallyrics\\lib\\site-packages\\ipykernel_launcher.py:42: RuntimeWarning: invalid value encountered in true_divide\n"
     ]
    }
   ],
   "source": [
    "rf_params = dict(\n",
    "    n_estimators=100,\n",
    "    max_depth=30,\n",
    "    max_features='auto',\n",
    "    min_samples_leaf=1,\n",
    "    min_samples_split=2,\n",
    "    bootstrap=True,\n",
    "    n_jobs=-1,\n",
    "    random_state=0\n",
    ")\n",
    "pipeline = Pipeline(\n",
    "    [\n",
    "        ('vectorizer', CountVectorizer()),\n",
    "        ('oversampler', RandomOverSampler(random_state=0)),\n",
    "        ('randomforest', RandomForestClassifier(**rf_params))\n",
    "    ]\n",
    ")\n",
    "\n",
    "mlc = cross_validate_multilabel(df.lyrics.values, df_genres.values, pipeline, feature_names=df_genres.columns, n_splits=3, verbose=True)\n",
    "mlc.print_report()"
   ]
  },
  {
   "cell_type": "code",
   "execution_count": 135,
   "metadata": {},
   "outputs": [
    {
     "data": {
      "image/png": "[encoded data removed]",
      "text/plain": [
       "<Figure size 576x432 with 1 Axes>"
      ]
     },
     "metadata": {
      "needs_background": "light"
     },
     "output_type": "display_data"
    }
   ],
   "source": [
    "plot_roc_curve(mlc.true, mlc.pred, df_genres.columns)"
   ]
  },
  {
   "cell_type": "markdown",
   "metadata": {},
   "source": [
    "## Logistic regression"
   ]
  },
  {
   "cell_type": "code",
   "execution_count": 138,
   "metadata": {},
   "outputs": [
    {
     "name": "stdout",
     "output_type": "stream",
     "text": [
      "training on feature 'black'\n",
      "fold 1/5\n",
      "fold 2/5\n",
      "fold 3/5\n",
      "fold 4/5\n",
      "fold 5/5\n",
      "CV score: 74.92% +/- 0.76%\n",
      "Average confusion matrix:\n",
      "[[0.66238869 0.11133927]\n",
      " [0.08093273 0.14533931]]\n",
      "training on feature 'death'\n",
      "fold 1/5\n",
      "fold 2/5\n",
      "fold 3/5\n",
      "fold 4/5\n",
      "fold 5/5\n",
      "CV score: 70.25% +/- 0.90%\n",
      "Average confusion matrix:\n",
      "[[0.53872885 0.14269355]\n",
      " [0.12283057 0.19574703]]\n",
      "training on feature 'heavy'\n",
      "fold 1/5\n",
      "fold 2/5\n",
      "fold 3/5\n",
      "fold 4/5\n",
      "fold 5/5\n",
      "CV score: 71.59% +/- 1.02%\n",
      "Average confusion matrix:\n",
      "[[0.73196833 0.10559362]\n",
      " [0.07183051 0.09060754]]\n",
      "training on feature 'power'\n",
      "fold 1/5\n",
      "fold 2/5\n",
      "fold 3/5\n",
      "fold 4/5\n",
      "fold 5/5\n",
      "CV score: 73.40% +/- 1.37%\n",
      "Average confusion matrix:\n",
      "[[0.723261   0.10575157]\n",
      " [0.069165   0.10182242]]\n",
      "training on feature 'thrash'\n",
      "fold 1/5\n",
      "fold 2/5\n",
      "fold 3/5\n",
      "fold 4/5\n",
      "fold 5/5\n",
      "CV score: 66.97% +/- 0.65%\n",
      "Average confusion matrix:\n",
      "[[0.67642703 0.13070863]\n",
      " [0.09615574 0.09670859]]\n",
      "Multi-label classification report\n",
      "Accuracy:   0.44\n",
      "Precision:  0.54\n",
      "Recall:     0.61\n",
      "F1-score:   0.57\n"
     ]
    },
    {
     "name": "stderr",
     "output_type": "stream",
     "text": [
      "D:\\Anaconda3\\envs\\metallyrics\\lib\\site-packages\\ipykernel_launcher.py:32: RuntimeWarning: invalid value encountered in true_divide\n",
      "D:\\Anaconda3\\envs\\metallyrics\\lib\\site-packages\\ipykernel_launcher.py:37: RuntimeWarning: invalid value encountered in true_divide\n",
      "D:\\Anaconda3\\envs\\metallyrics\\lib\\site-packages\\ipykernel_launcher.py:42: RuntimeWarning: invalid value encountered in true_divide\n"
     ]
    },
    {
     "data": {
      "image/png": "[encoded data removed]",
      "text/plain": [
       "<Figure size 576x432 with 1 Axes>"
      ]
     },
     "metadata": {
      "needs_background": "light"
     },
     "output_type": "display_data"
    }
   ],
   "source": [
    "lr_params = dict(\n",
    "    solver='lbfgs',\n",
    "    max_iter=1000,\n",
    "    random_state=0\n",
    ")\n",
    "pipeline = Pipeline(\n",
    "    [\n",
    "        ('vectorizer', CountVectorizer()),\n",
    "        ('oversampler', RandomOverSampler(random_state=0)),\n",
    "        ('randomforest', LogisticRegression(**lr_params))\n",
    "    ]\n",
    ")\n",
    "\n",
    "mlc = cross_validate_multilabel(df.lyrics.values, df_genres.values, pipeline, feature_names=df_genres.columns, verbose=True)\n",
    "mlc.print_report()\n",
    "plot_roc_curve(mlc.true, mlc.pred, df_genres.columns)"
   ]
  },
  {
   "cell_type": "markdown",
   "metadata": {},
   "source": [
    "# Stacked model"
   ]
  },
  {
   "cell_type": "code",
   "execution_count": 143,
   "metadata": {},
   "outputs": [],
   "source": [
    "class StackedModel(BaseEstimator, TransformerMixin):\n",
    "    def __init__(self, clfs=[], meta_clf=None):\n",
    "        self.clfs = clfs\n",
    "        self.meta_clf = meta_clf\n",
    "\n",
    "    def fit(self, X, y, split_test_size=0.2):\n",
    "        X_train, X_test, y_train, y_test = train_test_split(X, y, test_size=split_test_size)\n",
    "        y_prob = np.zeros((X_test.shape[0], len(self.clfs)))\n",
    "        for j, clf in enumerate(self.clfs):\n",
    "            clf.fit(X_train, y_train)\n",
    "            y_prob[:, j] = clf.predict_proba(X_test)[:, 1]\n",
    "        self.meta_clf.fit(y_prob, y_test)\n",
    "        return self\n",
    "\n",
    "    def predict_base(self, X):\n",
    "        y_prob = np.zeros((X.shape[0], len(self.clfs)))\n",
    "        for j, clf in enumerate(self.clfs):\n",
    "            y_prob[:, j] = clf.predict_proba(X)[:, 1]\n",
    "        return y_prob\n",
    "\n",
    "    def predict(self, X):\n",
    "        return self.meta_clf.predict(self.predict_base(X))\n",
    "\n",
    "    def predict_proba(self, X):\n",
    "        return self.meta_clf.predict_proba(self.predict_base(X))\n"
   ]
  },
  {
   "cell_type": "code",
   "execution_count": 144,
   "metadata": {},
   "outputs": [
    {
     "name": "stdout",
     "output_type": "stream",
     "text": [
      "training on feature 'black'\n",
      "fold 1/3\n",
      "fold 2/3\n",
      "fold 3/3\n",
      "CV score: 72.23% +/- 1.12%\n",
      "Average confusion matrix:\n",
      "[[0.61806227 0.15566569]\n",
      " [0.08016269 0.14610935]]\n",
      "training on feature 'death'\n",
      "fold 1/3\n",
      "fold 2/3\n",
      "fold 3/3\n",
      "CV score: 69.36% +/- 0.69%\n",
      "Average confusion matrix:\n",
      "[[0.53890655 0.14251584]\n",
      " [0.12859597 0.18998164]]\n",
      "training on feature 'heavy'\n",
      "fold 1/3\n",
      "fold 2/3\n",
      "fold 3/3\n",
      "CV score: 69.78% +/- 0.43%\n",
      "Average confusion matrix:\n",
      "[[0.71192766 0.12563429]\n",
      " [0.07380496 0.08863309]]\n",
      "training on feature 'power'\n",
      "fold 1/3\n",
      "fold 2/3\n",
      "fold 3/3\n",
      "CV score: 71.81% +/- 0.53%\n",
      "Average confusion matrix:\n",
      "[[0.71496831 0.11404427]\n",
      " [0.07289672 0.09809071]]\n",
      "training on feature 'thrash'\n",
      "fold 1/3\n",
      "fold 2/3\n",
      "fold 3/3\n",
      "CV score: 66.29% +/- 0.48%\n",
      "Average confusion matrix:\n",
      "[[0.6796059  0.12752976]\n",
      " [0.09957154 0.09329279]]\n",
      "Multi-label classification report\n",
      "Accuracy:   0.40\n",
      "Precision:  0.49\n",
      "Recall:     0.60\n",
      "F1-score:   0.54\n"
     ]
    },
    {
     "name": "stderr",
     "output_type": "stream",
     "text": [
      "D:\\Anaconda3\\envs\\metallyrics\\lib\\site-packages\\ipykernel_launcher.py:32: RuntimeWarning: invalid value encountered in true_divide\n",
      "D:\\Anaconda3\\envs\\metallyrics\\lib\\site-packages\\ipykernel_launcher.py:37: RuntimeWarning: invalid value encountered in true_divide\n",
      "D:\\Anaconda3\\envs\\metallyrics\\lib\\site-packages\\ipykernel_launcher.py:42: RuntimeWarning: invalid value encountered in true_divide\n"
     ]
    },
    {
     "data": {
      "image/png": "[encoded data removed]",
      "text/plain": [
       "<Figure size 576x432 with 1 Axes>"
      ]
     },
     "metadata": {
      "needs_background": "light"
     },
     "output_type": "display_data"
    }
   ],
   "source": [
    "rf_params = dict(\n",
    "    n_estimators=100,\n",
    "    max_depth=30,\n",
    "    max_features='auto',\n",
    "    min_samples_leaf=1,\n",
    "    min_samples_split=2,\n",
    "    bootstrap=True,\n",
    "    n_jobs=-1,\n",
    "    random_state=0\n",
    ")\n",
    "lr_params = dict(\n",
    "    solver='lbfgs',\n",
    "    max_iter=1000,\n",
    "    random_state=0\n",
    ")\n",
    "stacked_model = StackedModel(\n",
    "    [\n",
    "        RandomForestClassifier(**rf_params)\n",
    "    ],\n",
    "    LogisticRegression(**lr_params)\n",
    ")\n",
    "n_splits = 5\n",
    "\n",
    "pipeline = Pipeline(\n",
    "    [\n",
    "        ('vectorizer', CountVectorizer()),\n",
    "        ('oversampler', RandomOverSampler(random_state=0)),\n",
    "        ('stackedmodel', stacked_model)\n",
    "    ]\n",
    ")\n",
    "results = cross_validation(pipeline, X_train, y_train, n_splits)\n",
    "mlc = cross_validate_multilabel(df.lyrics.values, df_genres.values, pipeline, feature_names=df_genres.columns, n_splits=3, verbose=True)\n",
    "mlc.print_report()\n",
    "plot_roc_curve(mlc.true, mlc.pred, df_genres.columns)"
   ]
  },
  {
   "cell_type": "markdown",
   "metadata": {},
   "source": [
    "# Test with Keras model"
   ]
  },
  {
   "cell_type": "code",
   "execution_count": 8,
   "metadata": {},
   "outputs": [],
   "source": [
    "def nn_model(input_dim):\n",
    "    model = Sequential()\n",
    "    model.add(layers.Dense(40, input_dim=input_dim, activation='relu'))\n",
    "    model.add(layers.Dense(1, activation='sigmoid'))\n",
    "    model.compile(\n",
    "        optimizer='adam',\n",
    "        loss='binary_crossentropy',\n",
    "        metrics=['binary_accuracy']\n",
    "    )\n",
    "    return model\n",
    "\n",
    "def nn_batch_generator(X_data, y_data, batch_size):\n",
    "    number_of_batches = X_data.shape[0] // batch_size\n",
    "    counter = 0\n",
    "    index = np.arange(np.shape(y_data)[0])\n",
    "    while 1:\n",
    "        index_batch = index[batch_size * counter:batch_size * (counter + 1)]\n",
    "        X_batch = X_data[index_batch, :].todense()\n",
    "        y_batch = y_data[index_batch]\n",
    "        counter += 1\n",
    "        yield np.array(X_batch), y_batch\n",
    "        if (counter > number_of_batches):\n",
    "            counter = 0"
   ]
  },
  {
   "cell_type": "code",
   "execution_count": 24,
   "metadata": {},
   "outputs": [
    {
     "name": "stdout",
     "output_type": "stream",
     "text": [
      "black\n",
      "Train on 50164 samples, validate on 8104 samples\n",
      "Epoch 1/5\n",
      "50164/50164 [==============================] - 81s 2ms/step - loss: 0.3786 - binary_accuracy: 0.8555 - val_loss: 0.4257 - val_binary_accuracy: 0.8166 7s - \n",
      "Epoch 2/5\n",
      "50164/50164 [==============================] - 79s 2ms/step - loss: 0.1697 - binary_accuracy: 0.9366 - val_loss: 0.4938 - val_binary_accuracy: 0.8108\n",
      "Train on 50164 samples, validate on 8104 samples\n",
      "Epoch 1/5\n",
      "50164/50164 [==============================] - 80s 2ms/step - loss: 0.3777 - binary_accuracy: 0.8572 - val_loss: 0.4198 - val_binary_accuracy: 0.8206\n",
      "Epoch 2/5\n",
      "50164/50164 [==============================] - 80s 2ms/step - loss: 0.1739 - binary_accuracy: 0.9354 - val_loss: 0.4738 - val_binary_accuracy: 0.8214\n",
      "Train on 50164 samples, validate on 8104 samples\n",
      "Epoch 1/5\n",
      "50164/50164 [==============================] - 82s 2ms/step - loss: 0.3773 - binary_accuracy: 0.8581 - val_loss: 0.4211 - val_binary_accuracy: 0.8168\n",
      "Epoch 2/5\n",
      "50164/50164 [==============================] - 81s 2ms/step - loss: 0.1711 - binary_accuracy: 0.9364 - val_loss: 0.4797 - val_binary_accuracy: 0.8182\n",
      "Train on 50166 samples, validate on 8103 samples\n",
      "Epoch 1/5\n",
      "50166/50166 [==============================] - 80s 2ms/step - loss: 0.3819 - binary_accuracy: 0.8548 - val_loss: 0.4037 - val_binary_accuracy: 0.8251\n",
      "Epoch 2/5\n",
      "50166/50166 [==============================] - 79s 2ms/step - loss: 0.1773 - binary_accuracy: 0.9328 - val_loss: 0.4564 - val_binary_accuracy: 0.8214\n",
      "Train on 50166 samples, validate on 8102 samples\n",
      "Epoch 1/5\n",
      "50166/50166 [==============================] - 81s 2ms/step - loss: 0.3763 - binary_accuracy: 0.8566 - val_loss: 0.4157 - val_binary_accuracy: 0.8172\n",
      "Epoch 2/5\n",
      "50166/50166 [==============================] - 80s 2ms/step - loss: 0.1735 - binary_accuracy: 0.9351 - val_loss: 0.4596 - val_binary_accuracy: 0.8172\n",
      "CV score: 72.69% +/- 0.93%\n",
      "Average confusion matrix:\n",
      "[[0.6909939  0.08282943]\n",
      " [0.09934102 0.12683565]]\n",
      "death\n",
      "Train on 44198 samples, validate on 8104 samples\n",
      "Epoch 1/5\n",
      "44198/44198 [==============================] - 71s 2ms/step - loss: 0.4891 - binary_accuracy: 0.7839 - val_loss: 0.5230 - val_binary_accuracy: 0.7399\n",
      "Epoch 2/5\n",
      "44198/44198 [==============================] - 71s 2ms/step - loss: 0.2783 - binary_accuracy: 0.8835 - val_loss: 0.5990 - val_binary_accuracy: 0.7317\n",
      "Train on 44198 samples, validate on 8104 samples\n",
      "Epoch 1/5\n",
      "44198/44198 [==============================] - 71s 2ms/step - loss: 0.4818 - binary_accuracy: 0.7830 - val_loss: 0.5173 - val_binary_accuracy: 0.7394\n",
      "Epoch 2/5\n",
      "44198/44198 [==============================] - 70s 2ms/step - loss: 0.2739 - binary_accuracy: 0.8836 - val_loss: 0.5903 - val_binary_accuracy: 0.7363\n",
      "Train on 44198 samples, validate on 8104 samples\n",
      "Epoch 1/5\n",
      "44198/44198 [==============================] - 71s 2ms/step - loss: 0.4877 - binary_accuracy: 0.7805 - val_loss: 0.5272 - val_binary_accuracy: 0.7369\n",
      "Epoch 2/5\n",
      "44198/44198 [==============================] - 73s 2ms/step - loss: 0.2781 - binary_accuracy: 0.8820 - val_loss: 0.5790 - val_binary_accuracy: 0.7405\n",
      "Train on 44198 samples, validate on 8103 samples\n",
      "Epoch 1/5\n",
      "44198/44198 [==============================] - 70s 2ms/step - loss: 0.4907 - binary_accuracy: 0.7820 - val_loss: 0.5095 - val_binary_accuracy: 0.7427\n",
      "Epoch 2/5\n",
      "44198/44198 [==============================] - 71s 2ms/step - loss: 0.2758 - binary_accuracy: 0.8854 - val_loss: 0.5888 - val_binary_accuracy: 0.7347\n",
      "Train on 44200 samples, validate on 8102 samples\n",
      "Epoch 1/5\n",
      "44200/44200 [==============================] - 70s 2ms/step - loss: 0.4867 - binary_accuracy: 0.7789 - val_loss: 0.5289 - val_binary_accuracy: 0.7381\n",
      "Epoch 2/5\n",
      "44200/44200 [==============================] - 71s 2ms/step - loss: 0.2756 - binary_accuracy: 0.8849 - val_loss: 0.5987 - val_binary_accuracy: 0.7366\n",
      "CV score: 69.45% +/- 0.96%\n",
      "Average confusion matrix:\n",
      "[[0.55122541 0.13056248]\n",
      " [0.13347484 0.18473727]]\n",
      "heavy\n",
      "Train on 54318 samples, validate on 8104 samples\n",
      "Epoch 1/5\n",
      "54318/54318 [==============================] - 88s 2ms/step - loss: 0.3549 - binary_accuracy: 0.8718 - val_loss: 0.4231 - val_binary_accuracy: 0.8256\n",
      "Epoch 2/5\n",
      "54318/54318 [==============================] - 87s 2ms/step - loss: 0.1745 - binary_accuracy: 0.9351 - val_loss: 0.4702 - val_binary_accuracy: 0.8277\n",
      "Train on 54318 samples, validate on 8104 samples\n",
      "Epoch 1/5\n",
      "54318/54318 [==============================] - 86s 2ms/step - loss: 0.3544 - binary_accuracy: 0.8714 - val_loss: 0.4345 - val_binary_accuracy: 0.8270\n",
      "Epoch 2/5\n",
      "54318/54318 [==============================] - 84s 2ms/step - loss: 0.1733 - binary_accuracy: 0.9366 - val_loss: 0.4740 - val_binary_accuracy: 0.8177\n",
      "Train on 54318 samples, validate on 8104 samples\n",
      "Epoch 1/5\n",
      "54318/54318 [==============================] - 84s 2ms/step - loss: 0.3600 - binary_accuracy: 0.8688 - val_loss: 0.4155 - val_binary_accuracy: 0.8243\n",
      "Epoch 2/5\n",
      "54318/54318 [==============================] - 88s 2ms/step - loss: 0.1779 - binary_accuracy: 0.9338 - val_loss: 0.4471 - val_binary_accuracy: 0.8333\n",
      "Train on 54318 samples, validate on 8103 samples\n",
      "Epoch 1/5\n",
      "54318/54318 [==============================] - 90s 2ms/step - loss: 0.3490 - binary_accuracy: 0.8725 - val_loss: 0.4342 - val_binary_accuracy: 0.8256\n",
      "Epoch 2/5\n",
      "54318/54318 [==============================] - 87s 2ms/step - loss: 0.1696 - binary_accuracy: 0.9373 - val_loss: 0.4651 - val_binary_accuracy: 0.8301\n",
      "Train on 54320 samples, validate on 8102 samples\n",
      "Epoch 1/5\n",
      "54320/54320 [==============================] - 87s 2ms/step - loss: 0.3447 - binary_accuracy: 0.8719 - val_loss: 0.4339 - val_binary_accuracy: 0.8273\n",
      "Epoch 2/5\n",
      "54320/54320 [==============================] - 94s 2ms/step - loss: 0.1631 - binary_accuracy: 0.9405 - val_loss: 0.4654 - val_binary_accuracy: 0.8314\n",
      "CV score: 68.19% +/- 1.02%\n",
      "Average confusion matrix:\n",
      "[[0.75254831 0.08534689]\n",
      " [0.08660562 0.07549917]]\n",
      "power\n",
      "Train on 53676 samples, validate on 8104 samples\n",
      "Epoch 1/5\n",
      "53676/53676 [==============================] - 92s 2ms/step - loss: 0.3708 - binary_accuracy: 0.8622 - val_loss: 0.4437 - val_binary_accuracy: 0.8065\n",
      "Epoch 2/5\n",
      "53676/53676 [==============================] - 94s 2ms/step - loss: 0.1865 - binary_accuracy: 0.9289 - val_loss: 0.4849 - val_binary_accuracy: 0.8123\n",
      "Train on 53676 samples, validate on 8104 samples\n",
      "Epoch 1/5\n",
      "53676/53676 [==============================] - 93s 2ms/step - loss: 0.3745 - binary_accuracy: 0.8589 - val_loss: 0.4472 - val_binary_accuracy: 0.8081\n",
      "Epoch 2/5\n",
      "53676/53676 [==============================] - 94s 2ms/step - loss: 0.1880 - binary_accuracy: 0.9279 - val_loss: 0.4777 - val_binary_accuracy: 0.8155\n",
      "Train on 53676 samples, validate on 8104 samples\n",
      "Epoch 1/5\n",
      "53676/53676 [==============================] - 95s 2ms/step - loss: 0.3794 - binary_accuracy: 0.8567 - val_loss: 0.4558 - val_binary_accuracy: 0.7990\n",
      "Epoch 2/5\n",
      "53676/53676 [==============================] - 93s 2ms/step - loss: 0.1928 - binary_accuracy: 0.9273 - val_loss: 0.4787 - val_binary_accuracy: 0.8111\n",
      "Train on 53678 samples, validate on 8103 samples\n",
      "Epoch 1/5\n",
      "53678/53678 [==============================] - 93s 2ms/step - loss: 0.3639 - binary_accuracy: 0.8592 - val_loss: 0.4263 - val_binary_accuracy: 0.8128\n",
      "Epoch 2/5\n",
      "53678/53678 [==============================] - 93s 2ms/step - loss: 0.1803 - binary_accuracy: 0.9320 - val_loss: 0.4551 - val_binary_accuracy: 0.8232\n",
      "Train on 53678 samples, validate on 8102 samples\n",
      "Epoch 1/5\n",
      "53678/53678 [==============================] - 93s 2ms/step - loss: 0.3745 - binary_accuracy: 0.8565 - val_loss: 0.4318 - val_binary_accuracy: 0.8120\n",
      "Epoch 2/5\n",
      "53678/53678 [==============================] - 91s 2ms/step - loss: 0.1926 - binary_accuracy: 0.9250 - val_loss: 0.4641 - val_binary_accuracy: 0.8154\n",
      "CV score: 67.18% +/- 2.80%\n",
      "Average confusion matrix:\n",
      "[[0.73761631 0.09038182]\n",
      " [0.09413333 0.07786855]]\n",
      "thrash\n",
      "Train on 52304 samples, validate on 8104 samples\n",
      "Epoch 1/5\n",
      "52304/52304 [==============================] - 88s 2ms/step - loss: 0.4129 - binary_accuracy: 0.8294 - val_loss: 0.4898 - val_binary_accuracy: 0.7774\n",
      "Epoch 2/5\n",
      "52304/52304 [==============================] - 87s 2ms/step - loss: 0.2095 - binary_accuracy: 0.9184 - val_loss: 0.5488 - val_binary_accuracy: 0.7857\n",
      "Train on 52304 samples, validate on 8104 samples\n",
      "Epoch 1/5\n",
      "52304/52304 [==============================] - 87s 2ms/step - loss: 0.4117 - binary_accuracy: 0.8362 - val_loss: 0.4838 - val_binary_accuracy: 0.7848\n",
      "Epoch 2/5\n",
      "52304/52304 [==============================] - 88s 2ms/step - loss: 0.2089 - binary_accuracy: 0.9193 - val_loss: 0.5435 - val_binary_accuracy: 0.7815\n",
      "Train on 52304 samples, validate on 8103 samples\n",
      "Epoch 1/5\n",
      "52304/52304 [==============================] - 89s 2ms/step - loss: 0.4239 - binary_accuracy: 0.8339 - val_loss: 0.4876 - val_binary_accuracy: 0.7788\n",
      "Epoch 2/5\n",
      "52304/52304 [==============================] - 95s 2ms/step - loss: 0.2176 - binary_accuracy: 0.9152 - val_loss: 0.5532 - val_binary_accuracy: 0.7781\n",
      "Train on 52304 samples, validate on 8103 samples\n",
      "Epoch 1/5\n",
      "52304/52304 [==============================] - 87s 2ms/step - loss: 0.4083 - binary_accuracy: 0.8329 - val_loss: 0.4924 - val_binary_accuracy: 0.7755\n",
      "Epoch 2/5\n",
      "52304/52304 [==============================] - 88s 2ms/step - loss: 0.2049 - binary_accuracy: 0.9199 - val_loss: 0.5470 - val_binary_accuracy: 0.7770\n",
      "Train on 52304 samples, validate on 8103 samples\n",
      "Epoch 1/5\n",
      "52304/52304 [==============================] - 85s 2ms/step - loss: 0.4245 - binary_accuracy: 0.8312 - val_loss: 0.5046 - val_binary_accuracy: 0.7738\n",
      "Epoch 2/5\n",
      "52304/52304 [==============================] - 84s 2ms/step - loss: 0.2148 - binary_accuracy: 0.9156 - val_loss: 0.5527 - val_binary_accuracy: 0.7742\n",
      "CV score: 62.35% +/- 1.50%\n",
      "Average confusion matrix:\n",
      "[[0.70787571 0.09894612]\n",
      " [0.12177604 0.07140213]]\n",
      "Multi-label classification report\n",
      "Accuracy:   0.40\n",
      "Precision:  0.52\n",
      "Recall:     0.60\n",
      "F1-score:   0.56\n"
     ]
    },
    {
     "name": "stderr",
     "output_type": "stream",
     "text": [
      "D:\\Anaconda3\\envs\\metallyrics\\lib\\site-packages\\ipykernel_launcher.py:32: RuntimeWarning: invalid value encountered in true_divide\n",
      "D:\\Anaconda3\\envs\\metallyrics\\lib\\site-packages\\ipykernel_launcher.py:37: RuntimeWarning: invalid value encountered in true_divide\n",
      "D:\\Anaconda3\\envs\\metallyrics\\lib\\site-packages\\ipykernel_launcher.py:42: RuntimeWarning: invalid value encountered in true_divide\n"
     ]
    }
   ],
   "source": [
    "epochs = 5\n",
    "batch_size = 128\n",
    "# feature_reducer = FeatureReducer(0)\n",
    "oversampler = SMOTE(random_state=0)\n",
    "\n",
    "n_splits = 5\n",
    "kfold = StratifiedKFold(n_splits=n_splits, shuffle=True, random_state=0)\n",
    "y_pred, y_valid = np.zeros(y_train.shape), np.zeros(y_train.shape)\n",
    "for i, genre in enumerate(top_genres):\n",
    "    print(genre)\n",
    "    scores = np.zeros(n_splits)\n",
    "    confusion_matrices = np.zeros((n_splits, 2, 2))\n",
    "    for j, (train_idx, valid_idx) in enumerate(kfold.split(X_train, y_train[:, i])):\n",
    "        X_fold_train, y_fold_train = X_train[train_idx], y_train[train_idx, i]\n",
    "        X_fold_valid, y_fold_valid = X_train[valid_idx], y_train[valid_idx, i]\n",
    "#         feature_reducer.fit(X_fold_train)\n",
    "#         X_fold_train = feature_reducer.transform(X_fold_train)\n",
    "#         X_fold_valid = feature_reducer.transform(X_fold_valid)\n",
    "        X_fold_train, y_fold_train = oversampler.fit_resample(X_fold_train, y_fold_train)\n",
    "        keras_model = KerasClassifier(\n",
    "            nn_model,\n",
    "            input_dim=X_fold_train.shape[1],\n",
    "            epochs=epochs,\n",
    "            batch_size=batch_size,\n",
    "            callbacks=[EarlyStopping(monitor='val_loss', min_delta=0.01, patience=0)],\n",
    "            validation_data=(X_fold_valid, y_fold_valid)\n",
    "        )\n",
    "        keras_model.fit(X_fold_train, y_fold_train)\n",
    "        y_fold_pred = keras_model.predict(X_fold_valid).reshape(-1)\n",
    "        y_pred[valid_idx, i] = y_fold_pred\n",
    "        y_valid[valid_idx, i] = y_fold_valid\n",
    "        scores[j] = balanced_accuracy_score(y_fold_valid, y_fold_pred)\n",
    "        confusion_matrices[j] = confusion_matrix(y_fold_valid, y_fold_pred)\n",
    "    print(\"CV score: {:.2f}% +/- {:.2f}%\".format(scores.mean()* 100, scores.std() * 200))\n",
    "    print(\"Average confusion matrix:\")\n",
    "    print(confusion_matrices.mean(axis=0) / confusion_matrices.sum() * n_splits)\n",
    "mlc = MultiLabelClassification(y_pred, y_valid)\n",
    "mlc.print_report()"
   ]
  },
  {
   "cell_type": "markdown",
   "metadata": {},
   "source": [
    "## Stacking RF with NN"
   ]
  },
  {
   "cell_type": "code",
   "execution_count": 159,
   "metadata": {},
   "outputs": [
    {
     "name": "stdout",
     "output_type": "stream",
     "text": [
      "Epoch 1/1\n",
      "36380/36380 [==============================] - 61s 2ms/step - loss: 0.3912 - binary_accuracy: 0.8296\n"
     ]
    },
    {
     "name": "stderr",
     "output_type": "stream",
     "text": [
      "C:\\Users\\philippe\\Anaconda3\\envs\\ml\\lib\\site-packages\\sklearn\\linear_model\\logistic.py:432: FutureWarning: Default solver will be changed to 'lbfgs' in 0.22. Specify a solver to silence this warning.\n",
      "  FutureWarning)\n"
     ]
    },
    {
     "name": "stdout",
     "output_type": "stream",
     "text": [
      "Epoch 1/1\n",
      "36380/36380 [==============================] - 61s 2ms/step - loss: 0.4036 - binary_accuracy: 0.8233\n"
     ]
    },
    {
     "name": "stderr",
     "output_type": "stream",
     "text": [
      "C:\\Users\\philippe\\Anaconda3\\envs\\ml\\lib\\site-packages\\sklearn\\linear_model\\logistic.py:432: FutureWarning: Default solver will be changed to 'lbfgs' in 0.22. Specify a solver to silence this warning.\n",
      "  FutureWarning)\n"
     ]
    },
    {
     "name": "stdout",
     "output_type": "stream",
     "text": [
      "Epoch 1/1\n",
      "36380/36380 [==============================] - 61s 2ms/step - loss: 0.4031 - binary_accuracy: 0.8275\n"
     ]
    },
    {
     "name": "stderr",
     "output_type": "stream",
     "text": [
      "C:\\Users\\philippe\\Anaconda3\\envs\\ml\\lib\\site-packages\\sklearn\\linear_model\\logistic.py:432: FutureWarning: Default solver will be changed to 'lbfgs' in 0.22. Specify a solver to silence this warning.\n",
      "  FutureWarning)\n"
     ]
    },
    {
     "name": "stdout",
     "output_type": "stream",
     "text": [
      "Epoch 1/1\n",
      "36382/36382 [==============================] - 66s 2ms/step - loss: 0.3995 - binary_accuracy: 0.8255\n"
     ]
    },
    {
     "name": "stderr",
     "output_type": "stream",
     "text": [
      "C:\\Users\\philippe\\Anaconda3\\envs\\ml\\lib\\site-packages\\sklearn\\linear_model\\logistic.py:432: FutureWarning: Default solver will be changed to 'lbfgs' in 0.22. Specify a solver to silence this warning.\n",
      "  FutureWarning)\n"
     ]
    },
    {
     "name": "stdout",
     "output_type": "stream",
     "text": [
      "Epoch 1/1\n",
      "36382/36382 [==============================] - 63s 2ms/step - loss: 0.3920 - binary_accuracy: 0.8311\n"
     ]
    },
    {
     "name": "stderr",
     "output_type": "stream",
     "text": [
      "C:\\Users\\philippe\\Anaconda3\\envs\\ml\\lib\\site-packages\\sklearn\\linear_model\\logistic.py:432: FutureWarning: Default solver will be changed to 'lbfgs' in 0.22. Specify a solver to silence this warning.\n",
      "  FutureWarning)\n"
     ]
    }
   ],
   "source": [
    "feature_reducer = FeatureReducer(0)\n",
    "oversampler = RandomOverSampler(random_state=0)\n",
    "rf_params = dict(\n",
    "    n_estimators=100,\n",
    "    max_depth=30,\n",
    "    max_features='auto',\n",
    "    min_samples_leaf=1,\n",
    "    min_samples_split=2,\n",
    "    bootstrap=True,\n",
    "    n_jobs=-1,\n",
    "    random_state=0\n",
    ")\n",
    "random_forest = RandomForestClassifier(**rf_params)\n",
    "nn_params = dict(\n",
    "    epochs=1,\n",
    "    batch_size=128\n",
    ")\n",
    "keras_nn = KerasClassifier(nn_model, input_dim=X_train.shape[1], **nn_params)\n",
    "lr_params = dict(\n",
    "    random_state=0\n",
    ")\n",
    "logistic_regression = LogisticRegression(**lr_params)\n",
    "stacked_model = StackedModel([random_forest, keras_nn], logistic_regression)\n",
    "n_splits = 5\n",
    "\n",
    "pipeline = Pipeline(\n",
    "    [\n",
    "#         ('featurereducer', feature_reducer),\n",
    "        ('oversampler', oversampler),\n",
    "        ('stackedmodel', stacked_model)\n",
    "    ]\n",
    ")\n",
    "results = cross_validation(pipeline, X_train, y_train, n_splits)"
   ]
  },
  {
   "cell_type": "code",
   "execution_count": 160,
   "metadata": {},
   "outputs": [
    {
     "name": "stdout",
     "output_type": "stream",
     "text": [
      "CV score: 71.72% +/- 1.04%\n",
      "Average confusion matrix:\n",
      "[[0.74258125 0.09417687]\n",
      " [0.07395195 0.08928992]]\n"
     ]
    }
   ],
   "source": [
    "scores = np.zeros(n_splits)\n",
    "confusion_matrices = np.zeros((n_splits, 2, 2))\n",
    "for k, v in results.items():\n",
    "    y_fold_valid, y_fold_pred = v\n",
    "    scores[k] = balanced_accuracy_score(y_fold_valid, y_fold_pred)\n",
    "    confusion_matrices[k] = confusion_matrix(y_fold_valid, y_fold_pred)\n",
    "print(\"CV score: {:.2f}% +/- {:.2f}%\".format(scores.mean()* 100, scores.std() * 200))\n",
    "print(\"Average confusion matrix:\")\n",
    "print(confusion_matrices.mean(axis=0) / confusion_matrices.sum() * n_splits)"
   ]
  },
  {
   "cell_type": "code",
   "execution_count": 33,
   "metadata": {},
   "outputs": [
    {
     "name": "stdout",
     "output_type": "stream",
     "text": [
      "Epoch 1/1\n",
      "30316/30316 [==============================] - 5s 149us/step - loss: 0.4279 - binary_accuracy: 0.8083\n"
     ]
    },
    {
     "name": "stderr",
     "output_type": "stream",
     "text": [
      "C:\\Users\\philippe\\Anaconda3\\envs\\ml\\lib\\site-packages\\sklearn\\linear_model\\logistic.py:432: FutureWarning: Default solver will be changed to 'lbfgs' in 0.22. Specify a solver to silence this warning.\n",
      "  FutureWarning)\n"
     ]
    },
    {
     "name": "stdout",
     "output_type": "stream",
     "text": [
      "Epoch 1/1\n",
      "30318/30318 [==============================] - 5s 155us/step - loss: 0.4212 - binary_accuracy: 0.8162\n"
     ]
    },
    {
     "name": "stderr",
     "output_type": "stream",
     "text": [
      "C:\\Users\\philippe\\Anaconda3\\envs\\ml\\lib\\site-packages\\sklearn\\linear_model\\logistic.py:432: FutureWarning: Default solver will be changed to 'lbfgs' in 0.22. Specify a solver to silence this warning.\n",
      "  FutureWarning)\n"
     ]
    },
    {
     "name": "stdout",
     "output_type": "stream",
     "text": [
      "Epoch 1/1\n",
      "30318/30318 [==============================] - 5s 154us/step - loss: 0.4244 - binary_accuracy: 0.8134\n"
     ]
    },
    {
     "name": "stderr",
     "output_type": "stream",
     "text": [
      "C:\\Users\\philippe\\Anaconda3\\envs\\ml\\lib\\site-packages\\sklearn\\linear_model\\logistic.py:432: FutureWarning: Default solver will be changed to 'lbfgs' in 0.22. Specify a solver to silence this warning.\n",
      "  FutureWarning)\n"
     ]
    },
    {
     "name": "stdout",
     "output_type": "stream",
     "text": [
      "CV score: 71.28% +/- 1.62%\n",
      "Average confusion matrix:\n",
      "[[0.75691828 0.07983985]\n",
      " [0.07819124 0.08505064]]\n"
     ]
    }
   ],
   "source": [
    "feature_reducer = FeatureReducer(0)\n",
    "oversampler = RandomOverSampler(random_state=0)\n",
    "rf_params = dict(\n",
    "    n_estimators=100,\n",
    "    max_depth=30,\n",
    "    max_features='auto',\n",
    "    min_samples_leaf=1,\n",
    "    min_samples_split=2,\n",
    "    bootstrap=True,\n",
    "    n_jobs=-1,\n",
    "    random_state=0\n",
    ")\n",
    "nn_params = dict(\n",
    "    epochs=1,\n",
    "    batch_size=128\n",
    ")\n",
    "lr_params = dict(\n",
    "    random_state=0\n",
    ")\n",
    "n_splits = 3\n",
    "\n",
    "kfold = StratifiedKFold(n_splits=n_splits, shuffle=True, random_state=0)\n",
    "scores = np.zeros(n_splits)\n",
    "confusion_matrices = np.zeros((n_splits, 2, 2))\n",
    "\n",
    "for i, (train_idx, valid_idx) in enumerate(kfold.split(X_train, y_train)):\n",
    "    X_fold_train, y_fold_train = X_train[train_idx], y_train[train_idx]\n",
    "    X_fold_valid, y_fold_valid = X_train[valid_idx], y_train[valid_idx]\n",
    "    feature_reducer.fit(X_fold_train)\n",
    "    X_fold_train = feature_reducer.transform(X_fold_train)\n",
    "    X_fold_valid = feature_reducer.transform(X_fold_valid)\n",
    "    X_fold_train, y_fold_train = oversampler.fit_resample(X_fold_train, y_fold_train)\n",
    "\n",
    "    rf_model = RandomForestClassifier(**rf_params)\n",
    "    keras_model = KerasClassifier(nn_model, input_dim=X_fold_train.shape[1], **nn_params)\n",
    "    lr_model = LogisticRegression(**lr_params)\n",
    "    clfs = [rf_model, keras_model]\n",
    "    meta_clf = lr_model\n",
    "\n",
    "    stacked_model = StackedModel([rf_model, keras_model], lr_model)\n",
    "    stacked_model.fit(X_fold_train, y_fold_train)\n",
    "    y_fold_pred = stacked_model.predict(X_fold_valid)\n",
    "\n",
    "    scores[i] = balanced_accuracy_score(y_fold_valid, y_fold_pred)\n",
    "    confusion_matrices[i] = confusion_matrix(y_fold_valid, y_fold_pred)\n",
    "\n",
    "print(\"CV score: {:.2f}% +/- {:.2f}%\".format(scores.mean()* 100, scores.std() * 200))\n",
    "print(\"Average confusion matrix:\")\n",
    "print(confusion_matrices.mean(axis=0) / confusion_matrices.sum() * n_splits)"
   ]
  }
 ],
 "metadata": {
  "kernelspec": {
   "display_name": "Python [conda env:metallyrics]",
   "language": "python",
   "name": "conda-env-metallyrics-py"
  },
  "language_info": {
   "codemirror_mode": {
    "name": "ipython",
    "version": 3
   },
   "file_extension": ".py",
   "mimetype": "text/x-python",
   "name": "python",
   "nbconvert_exporter": "python",
   "pygments_lexer": "ipython3",
   "version": "3.7.4"
  }
 },
 "nbformat": 4,
 "nbformat_minor": 4
}

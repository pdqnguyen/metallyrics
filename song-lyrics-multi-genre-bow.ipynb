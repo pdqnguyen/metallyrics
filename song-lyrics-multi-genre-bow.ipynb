{
 "cells": [
  {
   "cell_type": "markdown",
   "metadata": {},
   "source": [
    "# Multi-genre classification of lyrics from Metal-Archives and Dark Lyrics\n",
    "\n",
    "The aim of this notebook is to demonstrate a machine learning approach to tagging heavy metal songs with genre labels based on their lyrics alone. The task is to develop a model which will predict for a given piece of text which genre(s) describe the text well.\n",
    "\n",
    "This notebook will implement and discuss the usage of:\n",
    "* Binary relevance as a multi-label classification framework\n",
    "* Multi-label classification cross-validation and evaluation metrics\n",
    "* Bag-of-words text representation (and why it is favorable over word embeddings for this task)\n",
    "* Oversampling methods to curb the effects of imbalanced datasets\n",
    "* A wide range of different classification models including:\n",
    "    * Logistic regression\n",
    "    * Bayesian methods\n",
    "    * Ensemble methods\n",
    "    * Neural networks"
   ]
  },
  {
   "cell_type": "markdown",
   "metadata": {},
   "source": [
    "# Table of contents\n",
    "\n",
    "1. [Imports](#imports)\n",
    "\n",
    "* [Data](#data)\n",
    "\n",
    "* [Multi-label classification tools](#mlctools)\n",
    "\n",
    "* [Evaluation metrics](#metrics)\n",
    "\n",
    "* [Pipeline](#pipeline)\n",
    "\n",
    "* [Logistic regression](#logreg)\n",
    "\n",
    "* [SGD classifier](#sgd)\n",
    "\n",
    "* [Naive Bayes](#naivebayes)\n",
    "\n",
    "    * [Multinomial Naive Bayes](#multinomialnb)\n",
    "\n",
    "    * [Complement Multinomial Naive Bayes](#complementnb)\n",
    "\n",
    "    * [Bernoulli Naive Bayes](#bernoullinb)\n",
    "\n",
    "* [Random forest](#rf)\n",
    "\n",
    "* [Gradient boosted model](#gbm)\n",
    "\n",
    "* [Neural network](#nn)\n",
    "\n",
    "* [Stacked model](#stacking)\n",
    "\n",
    "* [Test on new lyrics](#test)"
   ]
  },
  {
   "cell_type": "markdown",
   "metadata": {},
   "source": [
    "<a id='imports'></a>\n",
    "# Imports"
   ]
  },
  {
   "cell_type": "code",
   "execution_count": 1,
   "metadata": {
    "pycharm": {
     "is_executing": false
    }
   },
   "outputs": [
    {
     "name": "stderr",
     "output_type": "stream",
     "text": [
      "Using TensorFlow backend.\n"
     ]
    }
   ],
   "source": [
    "from copy import deepcopy\n",
    "import numpy as np\n",
    "import pandas as pd\n",
    "\n",
    "import nltk\n",
    "from nltk.corpus import stopwords\n",
    "languages = ['english', 'german', 'french', 'finnish', 'swedish', 'norwegian', 'danish', 'russian']\n",
    "stop_words = set()\n",
    "for language in languages:\n",
    "    stop_words.update(set(stopwords.words(language)))\n",
    "english_vocab = set(w.lower() for w in nltk.corpus.words.words())\n",
    "\n",
    "import matplotlib\n",
    "matplotlib.rcParams['figure.facecolor'] = 'white'\n",
    "import matplotlib.pyplot as plt\n",
    "%matplotlib inline\n",
    "\n",
    "from sklearn.feature_extraction.text import CountVectorizer\n",
    "from sklearn.feature_selection import SelectKBest\n",
    "from sklearn.model_selection import train_test_split, StratifiedKFold, KFold\n",
    "from sklearn.metrics import balanced_accuracy_score, precision_score, recall_score, f1_score, \\\n",
    "confusion_matrix, multilabel_confusion_matrix, roc_curve, roc_auc_score, precision_recall_curve\n",
    "from sklearn.base import BaseEstimator, TransformerMixin\n",
    "\n",
    "from sklearn.ensemble import RandomForestClassifier\n",
    "from sklearn.linear_model import LogisticRegression, SGDClassifier\n",
    "from sklearn.naive_bayes import MultinomialNB, ComplementNB, BernoulliNB\n",
    "\n",
    "from imblearn.pipeline import Pipeline\n",
    "\n",
    "from imblearn.over_sampling import RandomOverSampler\n",
    "\n",
    "from keras.models import Sequential\n",
    "from keras import layers\n",
    "from keras.wrappers.scikit_learn import KerasClassifier\n",
    "\n",
    "import lightgbm as lgb"
   ]
  },
  {
   "cell_type": "markdown",
   "metadata": {},
   "source": [
    "<a id='data'></a>\n",
    "# Data\n",
    "\n",
    "See the previous chapters for more discussion about the data set. The data set is formatted as an array comprised of one independent variable (lyrics, retrieved from [Dark Lyrics](http://darklyrics.com)) and five dependent variable labels (genres, retrieved from [Metal-Archives](https://www.metal-archives.com)), for each row (song). Here are some things to keep in mind about the data:\n",
    "* Each song can belong to any one or more, or none, of the genres. For example, a song can be labeled as thrash metal, or both thrash and power metal, and so on, or it can be unlabeled; it can therefore be predicted to be any combination of labels, or unlabeled, as well. This makes the task of tagging song lyrics with the appropriate genre labels a multi-label classification problem.\n",
    "* The dataset is multi-lingual, since heavy metal spans many languages around the world. This will affect classification since there are correlations between genres and country of origin, as show in the previous chapter.\n",
    "* The length of song lyrics can vary wildly, but this won't be a big issue in a bag-of-words representation."
   ]
  },
  {
   "cell_type": "code",
   "execution_count": 2,
   "metadata": {
    "pycharm": {
     "is_executing": false
    }
   },
   "outputs": [],
   "source": [
    "df = pd.read_hdf('combined-data/lyrics-genres.h5', key='df', mode='r')\n",
    "X = df.pop('lyrics').values\n",
    "y = df.values\n",
    "genres = df.columns"
   ]
  },
  {
   "cell_type": "markdown",
   "metadata": {},
   "source": [
    "<a id='mlctools'></a>\n",
    "# Multi-label classification tools\n",
    "\n",
    "**Binary relevance** is the simplest method of classifying multiple labels at once; it trains an independent classifier for each label, breaking the multi-label problem down into many binary classification problems ([Zhang, M., Li, Y., Liu, X., et al, 2018](http://palm.seu.edu.cn/zhangml/files/FCS'17.pdf)). In this context a binary classifier would be trained on each genre, and a song's genre tags predicted by concatenating the predictions of all genre classifiers. The advantage of this method is that the number of classifiers needed is equal to the number of labels, so the computational cost scales linearly with how many labels we want to predict. However, by assuming that the labels are independent, this method fails to capture correlations between labels. For example, the \"heavy\" and \"power\" genre labels are more likely to appear together, so an song's likelihood of being tagged as power metal should be higher if it is also tagged as heavy metal as opposed to, say, black metal. Another issue is that each binary classifier will face a class imbalance problem due to the sparsity of genre tags.\n",
    "\n",
    "In the **classifier chain** method, a classifier is trained on one label and its output is fed as an additional feature to the next label, and so on until all labels have been exhausted ([Read, J., Pfahringer, B., Holmes., G, Frank, E. 2011](https://www.cs.waikato.ac.nz/~eibe/pubs/chains.pdf)). This again requires only as many classifiers as there are labels, but unlike binary relevance it does learn correlations between labels. However, the correlations it is capable of learning can vary with different chain orders.\n",
    "\n",
    "Unlike the above two methods, which transform the multi-label problem into multiple independent binary classification problems, the **label powerset** method transforms it into a single multi-class problem by treating every combination of labels as its own class. For example, from the genres in the metal lyrics dataset, \"black\" + \"death\", \"black\" + \"power\", \"black\" + \"death\" + \"power\" would each yield a new class. This tackles the issue of correlated labels head-on by treating correlations as classes on their own, but comes at the cost of having smaller class sizes to train on and consequently an even bigger class imbalance problem. This issue inspired the **RAndom k-labELsets (RAKEL)** method, which uses an ensemble of classifiers, each trained on a random subset of labels ([Rokach, L., Schclar, A., Itach, E. 2013](https://arxiv.org/ftp/arxiv/papers/1307/1307.1769.pdf))."
   ]
  },
  {
   "cell_type": "code",
   "execution_count": 33,
   "metadata": {
    "pycharm": {
     "is_executing": false
    }
   },
   "outputs": [],
   "source": [
    "class BinaryRelevance:\n",
    "    def __init__(self, classifier, labels, thresholds=None):\n",
    "        self.classifier = classifier\n",
    "        self.labels = labels\n",
    "        self.classifiers_ = []\n",
    "        self.thresholds = thresholds\n",
    "\n",
    "    def fit(self, X, y):\n",
    "        for i, label in enumerate(self.labels):\n",
    "            print('training binary classifier for label: {}'.format(label))\n",
    "            clf = deepcopy(self.classifier)\n",
    "            clf.fit(X, y[:, i])\n",
    "            self.classifiers_.append((label, clf))\n",
    "\n",
    "    def predict(self, X):\n",
    "        return self._predict(X).astype(int)\n",
    "\n",
    "    def predict_proba(self, X):\n",
    "        return self._predict(X, return_prob=True)\n",
    "\n",
    "    def _predict(self, X, return_prob=False):\n",
    "        y = np.zeros((X.shape[0], len(self.classifiers_)))\n",
    "        for i, (label, clf) in enumerate(self.classifiers_):\n",
    "            if return_prob:\n",
    "                y[:, i] = clf.predict_proba(X)[:, 1]\n",
    "            elif self.thresholds is not None:\n",
    "                y[:, i] = (clf.predict_proba(X)[:, 1] > self.thresholds[i])\n",
    "            else:\n",
    "                y[:, i] = clf.predict(X)\n",
    "        return y\n",
    "\n",
    "    def cross_validate(self, X, y, n_splits=5, verbose=False):\n",
    "        kfold = StratifiedKFold(n_splits=n_splits, shuffle=True, random_state=0)\n",
    "        y_prob, y_valid = np.zeros(y.shape), np.zeros(y.shape)\n",
    "        for i, label in enumerate(self.labels):\n",
    "            if verbose:\n",
    "                print(\"Training on label '{}'\".format(label))\n",
    "            scores = np.zeros((n_splits, 4))\n",
    "            confusion_matrices = np.zeros((n_splits, 2, 2))\n",
    "            for j, (train_idx, valid_idx) in enumerate(kfold.split(X, y[:, i])):\n",
    "                if verbose:\n",
    "                    print(\"Fold {}/{}\".format(j + 1, n_splits))\n",
    "                X_fold_train, y_fold_train = X[train_idx], y[train_idx, i]\n",
    "                X_fold_valid, y_fold_valid = X[valid_idx], y[valid_idx, i]\n",
    "                clf = deepcopy(self.classifier)\n",
    "                clf.fit(X_fold_train, y_fold_train)\n",
    "                try:\n",
    "                    y_fold_prob = clf.predict_proba(X_fold_valid)[:, 1]\n",
    "                except AttributeError:\n",
    "                    y_fold_prob = clf.predict(X_fold_valid).reshape(-1)\n",
    "                y_prob[valid_idx, i] = y_fold_prob\n",
    "                y_valid[valid_idx, i] = y_fold_valid\n",
    "                y_fold_pred = y_fold_prob.round()\n",
    "                scores[j, 0] = balanced_accuracy_score(y_fold_valid, y_fold_pred)\n",
    "                scores[j, 1] = precision_score(y_fold_valid, y_fold_pred)\n",
    "                scores[j, 2] = recall_score(y_fold_valid, y_fold_pred)\n",
    "                scores[j, 3] = f1_score(y_fold_valid, y_fold_pred)\n",
    "                confusion_matrices[j] = confusion_matrix(y_fold_valid, y_fold_pred)\n",
    "            if verbose:\n",
    "                avg_accuracy, avg_precision, avg_recall, avg_f1 = scores.mean(axis=0)\n",
    "                std_accuracy, std_precision, std_recall, std_f1 = scores.std(axis=0)\n",
    "                print(\"CV scores:\")\n",
    "                print(\"Accuracy:    {:.2f} +/- {:.2f}\".format(avg_accuracy, std_accuracy))\n",
    "                print(\"Precision:   {:.2f} +/- {:.2f}\".format(avg_precision, std_precision))\n",
    "                print(\"Recall:      {:.2f} +/- {:.2f}\".format(avg_recall, std_recall))\n",
    "                print(\"F1-score:    {:.2f} +/- {:.2f}\".format(avg_f1, std_f1))\n",
    "                print(\"Average confusion matrix:\")\n",
    "                print(confusion_matrices.mean(axis=0) / confusion_matrices.sum() * n_splits)\n",
    "        return MultiLabelClassification(y_valid, y_prob, labels=self.labels)"
   ]
  },
  {
   "cell_type": "code",
   "execution_count": 38,
   "metadata": {},
   "outputs": [],
   "source": [
    "class ClassifierChain:\n",
    "    def __init__(self, classifier, labels):\n",
    "        self.classifier = classifier\n",
    "        self.labels = labels\n",
    "        self.classifiers_ = []\n",
    "\n",
    "    def fit(self, X, y, verbose=False):\n",
    "        y_chain = np.zeros((y.shape[0], y.shape[1] - 1))\n",
    "        for i in range(y.shape[1]):\n",
    "            if verbose:\n",
    "                print('training binary classifier for label: {}'.format(i))\n",
    "            X_ = X.copy()\n",
    "            y_ = y[:, i]\n",
    "            clf = deepcopy(self.classifier)\n",
    "            if isinstance(clf, Pipeline):\n",
    "                for name, step in clf.steps:\n",
    "                    try:\n",
    "                        X_ = step.fit_transform(X_)\n",
    "                    except AttributeError:\n",
    "                        try:\n",
    "                            if len(X_.shape) > 1:\n",
    "                                X_, y_ = step.fit_resample(X_[:, : X_.shape[1]], y_)\n",
    "                            else:\n",
    "                                X_, y_ = step.fit_resample(X_, y_)\n",
    "                        except AttributeError:\n",
    "                            if i > 0:\n",
    "                                X_ = np.concatenate((X_, y_chain[:, : i]), axis=1)\n",
    "                            step.fit(X_, y_)\n",
    "                            y_pred = step.predict(X_).reshape(-1)\n",
    "                            print(X_.shape, y_.shape, y_pred.shape)\n",
    "            else:\n",
    "                if i > 0:\n",
    "                    X_ = np.concatenate((X_, y_chain[:, : i]), axis=1)\n",
    "                clf.fit(X_, y_)\n",
    "                y_pred = clf.predict(X_).reshape(-1)\n",
    "            y_chain[:, i] = y_pred\n",
    "            self.classifiers_.append(clf)\n",
    "\n",
    "    def predict(self, X):\n",
    "        return self._predict(X)\n",
    "\n",
    "    def predict_proba(self, X):\n",
    "        return self._predict(X, return_prob=True)\n",
    "\n",
    "    def _predict(self, X, return_prob=False):\n",
    "        y, y_chain = np.zeros((2, X.shape[0], len(self.classifiers_)))\n",
    "        for i, clf in enumerate(self.classifiers_):\n",
    "            X_ = X.copy()\n",
    "            y_ = y[:, i]\n",
    "            if isinstance(clf, Pipeline):\n",
    "                for name, step in clf.steps:\n",
    "                    try:\n",
    "                        X_ = step.transform(X_)\n",
    "                    except AttributeError:\n",
    "                        try:\n",
    "                            if len(X_.shape) > 1:\n",
    "                                X_, y_ = step.resample(X_[:, : X_.shape[1]], y_)\n",
    "                            else:\n",
    "                                X_, y_ = step.resample(X_, y_)\n",
    "                        except AttributeError:\n",
    "                            if i > 0:\n",
    "                                X_ = np.concatenate((X_, y_chain[:, : i]), axis=1)\n",
    "                            y_pred = step.predict(X_).reshape(-1)\n",
    "                            y_prob = step.predict_proba(X_)[:, 1].reshape(-1)\n",
    "            else:\n",
    "                if i > 0:\n",
    "                    X_ = np.concatenate((X_, y_chain[:, : i]), axis=1)\n",
    "                y_pred = clf.predict(X_).reshape(-1)\n",
    "                y_prob = clf.predict_proba(X_)[:, 1].reshape(-1)\n",
    "            y_chain[:, i] = y_pred\n",
    "            if return_prob:\n",
    "                y[:, i] = y_prob\n",
    "            else:\n",
    "                y[:, i] = y_pred\n",
    "        return y\n",
    "\n",
    "    def cross_validate(self, X, y, n_splits=5, verbose=False):\n",
    "        kfold = KFold(n_splits=n_splits, shuffle=True, random_state=0)\n",
    "        y_prob, y_valid = np.zeros(y.shape), np.zeros(y.shape)\n",
    "        scores = np.zeros((len(self.labels), n_splits, 4))\n",
    "        confusion_matrices = np.zeros((len(self.labels), n_splits, 2, 2))\n",
    "        for i, (train_idx, valid_idx) in enumerate(kfold.split(X, y)):\n",
    "            if verbose:\n",
    "                print(\"Fold {}/{}\".format(i + 1, n_splits))\n",
    "            X_fold_train, y_fold_train = X[train_idx], y[train_idx]\n",
    "            X_fold_valid, y_fold_valid = X[valid_idx], y[valid_idx]\n",
    "            clf = deepcopy(self)\n",
    "            clf.fit(X_fold_train, y_fold_train)\n",
    "            try:\n",
    "                y_fold_prob = clf.predict_proba(X_fold_valid)\n",
    "            except AttributeError:\n",
    "                y_fold_prob = clf.predict(X_fold_valid)\n",
    "            y_prob[valid_idx, :] = y_fold_prob\n",
    "            y_valid[valid_idx, :] = y_fold_valid\n",
    "            y_fold_pred = y_fold_prob.round()\n",
    "            for j, label in enumerate(self.labels):\n",
    "                scores[j, i, 0] = balanced_accuracy_score(y_fold_valid, y_fold_pred)\n",
    "                scores[j, i, 1] = precision_score(y_fold_valid, y_fold_pred)\n",
    "                scores[j, i, 2] = recall_score(y_fold_valid, y_fold_pred)\n",
    "                scores[j, i, 3] = f1_score(y_fold_valid, y_fold_pred)\n",
    "                confusion_matrices[j, i] = confusion_matrix(y_fold_valid, y_fold_pred)\n",
    "        if verbose:\n",
    "            for j, label in enumerate(self.labels):\n",
    "                avg_accuracy, avg_precision, avg_recall, avg_f1 = scores[j].mean(axis=0)\n",
    "                std_accuracy, std_precision, std_recall, std_f1 = scores[j].std(axis=0)\n",
    "                print(\"CV scores for label {}:\".format(label))\n",
    "                print(\"Accuracy:    {:.2f} +/- {:.2f}\".format(avg_accuracy, std_accuracy))\n",
    "                print(\"Precision:   {:.2f} +/- {:.2f}\".format(avg_precision, std_precision))\n",
    "                print(\"Recall:      {:.2f} +/- {:.2f}\".format(avg_recall, std_recall))\n",
    "                print(\"F1-score:    {:.2f} +/- {:.2f}\".format(avg_f1, std_f1))\n",
    "                print(\"Average confusion matrix:\")\n",
    "                print(confusion_matrices[j].mean(axis=0) / confusion_matrices[j].sum() * n_splits)\n",
    "        return MultiLabelClassification(y_valid, y_prob, labels=self.labels)"
   ]
  },
  {
   "cell_type": "markdown",
   "metadata": {},
   "source": [
    "<a id='metrics'></a>\n",
    "# Evaluation metrics\n",
    "\n",
    "Since binary relevance involves training independent binary classifiers, each classifier can be evaluated during training and cross-validation using the familiar binary classification metrics.\n",
    "\n",
    "However, evaluating the overall results requires metrics designed for the multi-label output, which are more complicated than the usual evaluation metrics ([Zhang, M., Zhou, Z. 2014](https://cs.nju.edu.cn/zhouzh/zhouzh.files/publication/tkde13rev.pdf)). If $h(\\mathbf{x}_i)$ is the model which predicts the labels $Y_i$ based on the independent variables $\\mathbf{x}_i$, then over $p$ observations the accuracy, precision, recall, and F scores are defined as\n",
    "\n",
    "\\begin{align}\n",
    "\\mathrm{accuracy}(h) &= \\frac{1}{p}\\sum_{i=1}^{p}(\\mathrm{fraction\\ of\\ labels\\ in\\ common}) &= \\frac{1}{p}\\sum_{i=1}^{p}\\frac{|Y_i \\cap h(\\mathbf{x}_i)|}{|Y_i \\cup h(\\mathbf{x}_i)|}\\\\\n",
    "\\mathrm{precision}(h) &= \\frac{1}{p}\\sum_{i=1}^{p}(\\mathrm{fraction\\ of\\ predicted\\ labels\\ that\\ are\\ correct}) &= \\frac{1}{p}\\sum_{i=1}^{p}\\frac{|Y_i \\cap h(\\mathbf{x}_i)|}{|h(\\mathbf{x}_i)|}\\\\\n",
    "\\mathrm{recall}(h) &= \\frac{1}{p}\\sum_{i=1}^{p}(\\mathrm{fraction\\ of\\ true\\ labels\\ that\\ were\\ predicted\\ correctly}) &= \\frac{1}{p}\\sum_{i=1}^{p}\\frac{|Y_i \\cap h(\\mathbf{x}_i)|}{|Y_i|}\\\\\n",
    "\\mathrm{F_1\\ score}(h) &= \\mathrm{harmonic\\ mean\\ of\\ precision\\ and\\ recall} &= 2 \\left[ \\frac{\\mathrm{precision}(h) \\cdot \\mathrm{recall}(h)}{\\mathrm{precision}(h) + \\mathrm{recall}(h)} \\right]\n",
    "\\end{align}\n",
    "\n",
    "Another useful metric is the Hamming loss, which is the mean symmetric difference (non-matching genre tags) between the two sets:\n",
    "\n",
    "$$\\mathrm{Hamming}(h) = \\frac{1}{p} \\sum_{i=1}^{p} |h(\\mathbf{x}_i\\Delta Y_i|$$\n",
    "\n",
    "The receiver operating characteristic (ROC) is a common metric for binary classification problems that can be easily extended to multi-label problems. ROC measures the ratio of true positive rate to false positive rate as a function of classification threshold. An ROC curve is generated by varying the threshold over its full range, and the area under the curve (ROC AUC) is often used as another evaluation metric. This can be micro- or macro-averaged across all binary classifiers to evaluate the full multi-label classification model."
   ]
  },
  {
   "cell_type": "code",
   "execution_count": 24,
   "metadata": {
    "pycharm": {
     "is_executing": false
    }
   },
   "outputs": [],
   "source": [
    "class MultiLabelClassification:\n",
    "\n",
    "    def __init__(self, y_true, y_pred=None, y_pred_classes=None, labels=None, class_thresh=0.5):\n",
    "        self.true = y_true.astype(int)\n",
    "        if y_pred_classes is None and y_pred is not None:\n",
    "            self.pred = y_pred\n",
    "            y_pred_classes = np.zeros_like(self.pred, dtype=int)\n",
    "            y_pred_classes[self.pred > class_thresh] = 1\n",
    "        else:\n",
    "            self.pred = None\n",
    "        self.pred_classes = y_pred_classes\n",
    "        self.n_samples, self.n_labels = y_true.shape\n",
    "        if labels is not None:\n",
    "            if len(labels) == self.n_labels:\n",
    "                self.labels = np.array(labels)\n",
    "            else:\n",
    "                raise ValueError(\"length of labels and shape of y_true do not match\")\n",
    "        else:\n",
    "            self.labels = np.arange(self.true.shape[1])\n",
    "\n",
    "    @property\n",
    "    def __intersection(self):\n",
    "        return self.true * self.pred_classes\n",
    "\n",
    "    @property\n",
    "    def __union(self):\n",
    "        return np.minimum(1, self.true + self.pred_classes)\n",
    "\n",
    "    @property\n",
    "    def accuracy_score(self):\n",
    "        # Number of labels in common / overall labels (true and predicted)\n",
    "        return np.nanmean(self.__intersection.sum(1) / self.__union.sum(1))\n",
    "\n",
    "    @property\n",
    "    def precision_score(self):\n",
    "        # Proportion of predicted labels that are correct\n",
    "        return np.nanmean(self.__intersection.sum(1) / self.pred_classes.sum(1))\n",
    "\n",
    "    @property\n",
    "    def recall_score(self):\n",
    "        # Proportion of true labels that were predicted\n",
    "        return np.nanmean(self.__intersection.sum(1) / self.true.sum(1))\n",
    "\n",
    "    @property\n",
    "    def f1_score(self):\n",
    "        # Harmonic mean of precision_score and recall_score\n",
    "        p = self.precision_score\n",
    "        r = self.recall_score\n",
    "        return 2 * (p * r) / (p + r)\n",
    "\n",
    "    @property\n",
    "    def hamming_loss(self):\n",
    "        # Symmetric difference b/w pred and true labels (true XOR pred)\n",
    "        delta = np.zeros(self.true.shape[0])\n",
    "        for i in range(delta.shape[0]):\n",
    "            delta[i] = np.sum(self.true[i] ^ self.pred_classes[i])\n",
    "        return delta.mean()\n",
    "\n",
    "    def confusion_matrix(self, label=None, label_idx=None):\n",
    "        confusion_matrices = multilabel_confusion_matrix(self.true, self.pred_classes)\n",
    "        if label is not None:\n",
    "            return confusion_matrices[np.where(self.labels == label)[0][0]]\n",
    "        elif label_idx is not None:\n",
    "            return confusion_matrices[label_idx]\n",
    "        else:\n",
    "            return confusion_matrices\n",
    "\n",
    "    def print_report(self, verbose=0):\n",
    "        print(\"Multi-label classification report:\")\n",
    "        print(\"Accuracy:      {:.2f}\".format(self.accuracy_score))\n",
    "        print(\"Precision:     {:.2f}\".format(self.precision_score))\n",
    "        print(\"Recall:        {:.2f}\".format(self.recall_score))\n",
    "        print(\"F1-score:      {:.2f}\".format(self.f1_score))\n",
    "        print(\"Hamming loss:  {:.2f}\".format(self.hamming_loss))\n",
    "        if verbose == 1:\n",
    "            for label, matrix in zip(self.labels, self.confusion_matrix()):\n",
    "                print(\"===\\nLabel: {}\".format(label))\n",
    "                print(matrix)\n",
    "        return\n",
    "\n",
    "    def roc_auc_score(self):\n",
    "        auc = np.zeros(len(self.labels))\n",
    "        for i, label in enumerate(self.labels):\n",
    "            auc[i] = roc_auc_score(self.true[:, i], self.pred[:, i])\n",
    "        return auc\n",
    "\n",
    "    def best_thresholds(self):\n",
    "        best = np.zeros(len(self.labels))\n",
    "        for i, label in enumerate(self.labels):\n",
    "            fpr, tpr, thresholds = roc_curve(self.true[:, i], self.pred[:, i])\n",
    "            gmean = np.sqrt(tpr * (1 - fpr))\n",
    "            best[i] = thresholds[gmean.argmax()]\n",
    "        return best\n",
    "\n",
    "    def plot_roc_curve(self):\n",
    "        fig = plt.figure(figsize=(8, 6))\n",
    "        for i, label in enumerate(self.labels):\n",
    "            true = self.true[:, i]\n",
    "            pred = self.pred[:, i]\n",
    "            fpr, tpr, thresholds = roc_curve(true, pred)\n",
    "            plt.step(fpr, tpr, label=label)\n",
    "        plt.plot([0, 1], [0, 1], 'k--')\n",
    "        plt.gca().set_aspect('equal')\n",
    "        plt.xlim([0, 1])\n",
    "        plt.ylim([0, 1])\n",
    "        plt.title(\"ROC curve\", size=20)\n",
    "        plt.xlabel(\"False positive rate\", size=16)\n",
    "        plt.ylabel(\"True positive rate\", size=16)\n",
    "        plt.legend(fontsize=16)\n",
    "        plt.xticks(fontsize=14)\n",
    "        plt.yticks(fontsize=14)\n",
    "        plt.grid(alpha=0.5)\n",
    "        return fig\n",
    "\n",
    "    def plot_precision_recall_curve(self):\n",
    "        fig, ax = plt.subplots(1, 1, figsize=(8, 6))\n",
    "        ax.set_title(\"Precision and recall scores\\nvs decision threshold\", fontsize=20)\n",
    "        for i, label in enumerate(self.labels):\n",
    "            precision, recall, thresholds = precision_recall_curve(self.true[:, i], self.pred[:, i])\n",
    "            line = ax.plot(thresholds, precision[:-1], label=label)\n",
    "            ax.plot(thresholds, recall[:-1], \":\", color=line[0].get_color())\n",
    "        ax.set_xlabel(\"Decision threshold\", size=16)\n",
    "        ax.set_ylabel(\"Score\", size=16)\n",
    "        plt.gca().set_aspect('equal')\n",
    "        plt.xlim([0, 1])\n",
    "        plt.ylim([0, 1])\n",
    "        ax.tick_params(labelsize=14)\n",
    "        plt.grid(alpha=0.5)\n",
    "        ax.text(0.01, 0.01, \"solid lines show precision score\\ndotted lines show recall score\", size=16)\n",
    "        ax.legend(loc='upper right', fontsize=16)\n",
    "        return fig"
   ]
  },
  {
   "cell_type": "markdown",
   "metadata": {},
   "source": [
    "<a id='pipeline'></a>\n",
    "# Pipeline\n",
    "\n",
    "Two pre-processing steps must be performed before a model can be trained on this dataset:\n",
    "\n",
    "1. **Vectorization**: To transform the data from raw song lyrics to an array of values ready for training, the lyrics must be vectorized. In this notebook this will be done using a bag-of-words representation, which simply transforms the corpus into a matrix whose rows represent documents (songs) and columns represent words. The value of each word in a document is determined by the vectorization method. The `CountVectorizer` will populate this matrix with raw word counts; the `TfidfVectorizer` takes this an extra step by computing the term-frequency inverse-document-frequency (TF-IDF) value for each term in a document. TF-IDF measures the frequency of a term in a document relative to its frequency in all documents, thus providing a better measure of how unique the term is to that document. A shortcoming of the bag-of-words representation is that it fails to capture any syntactical structure in the lyrics. A popular alternative is to implement a word embedding, which transforms the documents into a word-vector space in which closely related words are closer to each. This opens up the possibility of training a model over the full documents in a way that is sensitive to sentence structure. However, in the case of song lyrics, syntax is usually unimportant, if it even exists. Lyrics are often comprised of broken phrases that combine words in unusual ways and may not necessarily convey meaning in the way that prose sentences do. For this reason a bag-of-words representation should suffice, and may even outperform word embeddings.\n",
    "\n",
    "2. **Oversampling**: To remedy the class imbalance in each single-genre binary classification, the data can be either oversampled or undersampled to have an equal number of positive and negative class occurrences. Undersampling requires no manipulation of the data; the classifier is simply trained with a subset of the majority class equal in number to the minority class. This comes at the cost of reducing the amount of data to train from. Oversampling is often preferred over undersampling. The simplest method of oversampling is random oversampling, in which randomly selected rows from the minority class are duplicated during training. Synthetic Minority Oversampling Technique (SMOTE) is a more complex method that generates new data based on the distribution of values in the minority class [Chawla, N., Bowyer, K., Hall, L., Kegelmeyer, W. 2011](https://arxiv.org/abs/1106.1813). It does so by randomly selecting two observations at a time in the minority class and sampling a new observation from the line between those two in the feature space. This is somewhat like producing from randomly selected parent observations a child whose traits are somewhere between those of its parents. In the context of song lyrics SMOTE would generate new songs with word frequencies (or TF-IDF values) similar to the genre being classified by the binary classifier."
   ]
  },
  {
   "cell_type": "markdown",
   "metadata": {
    "jupyter": {
     "source_hidden": true
    }
   },
   "source": [
    "<a id='logreg'></a>\n",
    "# Logistic regression\n",
    "\n",
    "One very simple model for a binary classification task is the [`LogisticRegression`](https://scikit-learn.org/stable/modules/linear_model.html#logistic-regression) classifier, which assumes a linear relationship between the feature variables (word counts) and the log-odds of the target variables (genre). Logistic regression is a very common tool for tackling classification problems in a variety of applications, sometimes under the names logit regression or maximum-entropy (MaxEnt) classification."
   ]
  },
  {
   "cell_type": "code",
   "execution_count": null,
   "metadata": {
    "pycharm": {
     "is_executing": false
    }
   },
   "outputs": [
    {
     "name": "stdout",
     "output_type": "stream",
     "text": [
      "Training on label 'black'\n",
      "Fold 1/3\n"
     ]
    },
    {
     "name": "stderr",
     "output_type": "stream",
     "text": [
      "/home/philippe/anaconda3/envs/metallyrics/lib/python3.7/site-packages/sklearn/linear_model/_logistic.py:940: ConvergenceWarning: lbfgs failed to converge (status=1):\n",
      "STOP: TOTAL NO. of ITERATIONS REACHED LIMIT.\n",
      "\n",
      "Increase the number of iterations (max_iter) or scale the data as shown in:\n",
      "    https://scikit-learn.org/stable/modules/preprocessing.html\n",
      "Please also refer to the documentation for alternative solver options:\n",
      "    https://scikit-learn.org/stable/modules/linear_model.html#logistic-regression\n",
      "  extra_warning_msg=_LOGISTIC_SOLVER_CONVERGENCE_MSG)\n"
     ]
    },
    {
     "name": "stdout",
     "output_type": "stream",
     "text": [
      "Fold 2/3\n"
     ]
    },
    {
     "name": "stderr",
     "output_type": "stream",
     "text": [
      "/home/philippe/anaconda3/envs/metallyrics/lib/python3.7/site-packages/sklearn/linear_model/_logistic.py:940: ConvergenceWarning: lbfgs failed to converge (status=1):\n",
      "STOP: TOTAL NO. of ITERATIONS REACHED LIMIT.\n",
      "\n",
      "Increase the number of iterations (max_iter) or scale the data as shown in:\n",
      "    https://scikit-learn.org/stable/modules/preprocessing.html\n",
      "Please also refer to the documentation for alternative solver options:\n",
      "    https://scikit-learn.org/stable/modules/linear_model.html#logistic-regression\n",
      "  extra_warning_msg=_LOGISTIC_SOLVER_CONVERGENCE_MSG)\n"
     ]
    },
    {
     "name": "stdout",
     "output_type": "stream",
     "text": [
      "Fold 3/3\n"
     ]
    },
    {
     "name": "stderr",
     "output_type": "stream",
     "text": [
      "/home/philippe/anaconda3/envs/metallyrics/lib/python3.7/site-packages/sklearn/linear_model/_logistic.py:940: ConvergenceWarning: lbfgs failed to converge (status=1):\n",
      "STOP: TOTAL NO. of ITERATIONS REACHED LIMIT.\n",
      "\n",
      "Increase the number of iterations (max_iter) or scale the data as shown in:\n",
      "    https://scikit-learn.org/stable/modules/preprocessing.html\n",
      "Please also refer to the documentation for alternative solver options:\n",
      "    https://scikit-learn.org/stable/modules/linear_model.html#logistic-regression\n",
      "  extra_warning_msg=_LOGISTIC_SOLVER_CONVERGENCE_MSG)\n"
     ]
    },
    {
     "name": "stdout",
     "output_type": "stream",
     "text": [
      "CV scores:\n",
      "Accuracy:    0.73 +/- 0.00\n",
      "Precision:   0.48 +/- 0.00\n",
      "Recall:      0.69 +/- 0.00\n",
      "F1-score:    0.57 +/- 0.00\n",
      "Average confusion matrix:\n",
      "[[0.58130497 0.17841617]\n",
      " [0.07430334 0.16597552]]\n",
      "Training on label 'death'\n",
      "Fold 1/3\n"
     ]
    },
    {
     "name": "stderr",
     "output_type": "stream",
     "text": [
      "/home/philippe/anaconda3/envs/metallyrics/lib/python3.7/site-packages/sklearn/linear_model/_logistic.py:940: ConvergenceWarning: lbfgs failed to converge (status=1):\n",
      "STOP: TOTAL NO. of ITERATIONS REACHED LIMIT.\n",
      "\n",
      "Increase the number of iterations (max_iter) or scale the data as shown in:\n",
      "    https://scikit-learn.org/stable/modules/preprocessing.html\n",
      "Please also refer to the documentation for alternative solver options:\n",
      "    https://scikit-learn.org/stable/modules/linear_model.html#logistic-regression\n",
      "  extra_warning_msg=_LOGISTIC_SOLVER_CONVERGENCE_MSG)\n"
     ]
    },
    {
     "name": "stdout",
     "output_type": "stream",
     "text": [
      "Fold 2/3\n"
     ]
    },
    {
     "name": "stderr",
     "output_type": "stream",
     "text": [
      "/home/philippe/anaconda3/envs/metallyrics/lib/python3.7/site-packages/sklearn/linear_model/_logistic.py:940: ConvergenceWarning: lbfgs failed to converge (status=1):\n",
      "STOP: TOTAL NO. of ITERATIONS REACHED LIMIT.\n",
      "\n",
      "Increase the number of iterations (max_iter) or scale the data as shown in:\n",
      "    https://scikit-learn.org/stable/modules/preprocessing.html\n",
      "Please also refer to the documentation for alternative solver options:\n",
      "    https://scikit-learn.org/stable/modules/linear_model.html#logistic-regression\n",
      "  extra_warning_msg=_LOGISTIC_SOLVER_CONVERGENCE_MSG)\n"
     ]
    },
    {
     "name": "stdout",
     "output_type": "stream",
     "text": [
      "Fold 3/3\n"
     ]
    },
    {
     "name": "stderr",
     "output_type": "stream",
     "text": [
      "/home/philippe/anaconda3/envs/metallyrics/lib/python3.7/site-packages/sklearn/linear_model/_logistic.py:940: ConvergenceWarning: lbfgs failed to converge (status=1):\n",
      "STOP: TOTAL NO. of ITERATIONS REACHED LIMIT.\n",
      "\n",
      "Increase the number of iterations (max_iter) or scale the data as shown in:\n",
      "    https://scikit-learn.org/stable/modules/preprocessing.html\n",
      "Please also refer to the documentation for alternative solver options:\n",
      "    https://scikit-learn.org/stable/modules/linear_model.html#logistic-regression\n",
      "  extra_warning_msg=_LOGISTIC_SOLVER_CONVERGENCE_MSG)\n"
     ]
    },
    {
     "name": "stdout",
     "output_type": "stream",
     "text": [
      "CV scores:\n",
      "Accuracy:    0.67 +/- 0.00\n",
      "Precision:   0.56 +/- 0.01\n",
      "Recall:      0.54 +/- 0.00\n",
      "F1-score:    0.55 +/- 0.00\n",
      "Average confusion matrix:\n",
      "[[0.54171925 0.13546487]\n",
      " [0.15006911 0.17274676]]\n",
      "Training on label 'heavy'\n",
      "Fold 1/3\n"
     ]
    }
   ],
   "source": [
    "lr_params = dict(\n",
    "    solver='lbfgs',\n",
    "    max_iter=1000,\n",
    "    random_state=0\n",
    ")\n",
    "pipeline = Pipeline(\n",
    "    [\n",
    "        ('vectorizer', CountVectorizer()),\n",
    "        ('oversampler', RandomOverSampler(random_state=0)),\n",
    "        ('logreg', LogisticRegression(**lr_params))\n",
    "    ]\n",
    ")\n",
    "\n",
    "br = BinaryRelevance(pipeline, genres)\n",
    "mlc = br.cross_validate(X, y, n_splits=3, verbose=True)\n",
    "mlc.print_report()\n",
    "fig, auc = mlc.plot_roc_curve()\n",
    "plt.show()\n",
    "auc = mlc.roc_auc_score()\n",
    "print(auc)\n",
    "print(\"AUC ROC score = {:.2f} +/- {:.2f}\".format(auc.mean(), auc.std()))\n",
    "best_thresholds = mlc.best_thresholds()\n",
    "print(\"Best thresholds:\")\n",
    "for i, label in enumerate(mlc.labels):\n",
    "    print(f\"{label:<10s}: {best_thresholds[i]:.2f}\")"
   ]
  },
  {
   "cell_type": "markdown",
   "metadata": {
    "jupyter": {
     "source_hidden": true
    }
   },
   "source": [
    "<a id='sgd'></a>\n",
    "# SGD Classifier\n",
    "\n",
    "The scikit-learn [`SGDClassifier`](https://scikit-learn.org/stable/modules/generated/sklearn.linear_model.SGDClassifier.html) is a generalized classifier that trains via stochastic gradient descent (SGD). It can assume the form of a logistic regression if using 'log' loss, but by default it uses the 'hinge' loss in which case the linear model it fits is a linear support vector machine (SVM)."
   ]
  },
  {
   "cell_type": "code",
   "execution_count": 14,
   "metadata": {},
   "outputs": [
    {
     "name": "stdout",
     "output_type": "stream",
     "text": [
      "Training on label 'black'\n",
      "Fold 1/3\n",
      "Fold 2/3\n",
      "Fold 3/3\n",
      "CV scores:\n",
      "Accuracy:    0.72 +/- 0.00\n",
      "Precision:   0.54 +/- 0.01\n",
      "Recall:      0.59 +/- 0.01\n",
      "F1-score:    0.56 +/- 0.01\n",
      "Average confusion matrix:\n",
      "[[0.66073015 0.11299781]\n",
      " [0.09345075 0.13282129]]\n",
      "Training on label 'death'\n",
      "Fold 1/3\n",
      "Fold 2/3\n",
      "Fold 3/3\n",
      "CV scores:\n",
      "Accuracy:    0.68 +/- 0.00\n",
      "Precision:   0.56 +/- 0.00\n",
      "Recall:      0.58 +/- 0.01\n",
      "F1-score:    0.57 +/- 0.00\n",
      "Average confusion matrix:\n",
      "[[0.53470097 0.14672142]\n",
      " [0.1353091  0.18326851]]\n",
      "Training on label 'heavy'\n",
      "Fold 1/3\n",
      "Fold 2/3\n",
      "Fold 3/3\n",
      "CV scores:\n",
      "Accuracy:    0.68 +/- 0.01\n",
      "Precision:   0.43 +/- 0.01\n",
      "Recall:      0.48 +/- 0.01\n",
      "F1-score:    0.45 +/- 0.01\n",
      "Average confusion matrix:\n",
      "[[0.73269888 0.10486307]\n",
      " [0.08434853 0.07808952]]\n",
      "Training on label 'power'\n",
      "Fold 1/3\n",
      "Fold 2/3\n",
      "Fold 3/3\n",
      "CV scores:\n",
      "Accuracy:    0.69 +/- 0.01\n",
      "Precision:   0.44 +/- 0.01\n",
      "Recall:      0.50 +/- 0.01\n",
      "F1-score:    0.47 +/- 0.01\n",
      "Average confusion matrix:\n",
      "[[0.71947006 0.10954252]\n",
      " [0.08496061 0.08602681]]\n",
      "Training on label 'thrash'\n",
      "Fold 1/3\n",
      "Fold 2/3\n",
      "Fold 3/3\n",
      "CV scores:\n",
      "Accuracy:    0.65 +/- 0.00\n",
      "Precision:   0.41 +/- 0.00\n",
      "Recall:      0.46 +/- 0.00\n",
      "F1-score:    0.43 +/- 0.00\n",
      "Average confusion matrix:\n",
      "[[0.68189626 0.1252394 ]\n",
      " [0.10464588 0.08821845]]\n",
      "Multi-label classification report:\n",
      "Accuracy:      0.39\n",
      "Precision:     0.52\n",
      "Recall:        0.55\n",
      "F1-score:      0.53\n"
     ]
    },
    {
     "name": "stderr",
     "output_type": "stream",
     "text": [
      "D:\\Anaconda3\\envs\\metallyrics\\lib\\site-packages\\ipykernel_launcher.py:32: RuntimeWarning: invalid value encountered in true_divide\n",
      "D:\\Anaconda3\\envs\\metallyrics\\lib\\site-packages\\ipykernel_launcher.py:37: RuntimeWarning: invalid value encountered in true_divide\n",
      "D:\\Anaconda3\\envs\\metallyrics\\lib\\site-packages\\ipykernel_launcher.py:42: RuntimeWarning: invalid value encountered in true_divide\n"
     ]
    },
    {
     "name": "stdout",
     "output_type": "stream",
     "text": [
      "Hamming loss:  1.10\n"
     ]
    },
    {
     "data": {
      "image/png": "[encoded data removed]",
      "text/plain": [
       "<Figure size 576x432 with 1 Axes>"
      ]
     },
     "metadata": {
      "needs_background": "light"
     },
     "output_type": "display_data"
    },
    {
     "name": "stdout",
     "output_type": "stream",
     "text": [
      "[0.7688474  0.72335291 0.7178901  0.71355291 0.69044885]\n",
      "AUC ROC score = 0.72 +/- 0.03\n"
     ]
    }
   ],
   "source": [
    "pipeline = Pipeline(\n",
    "    [\n",
    "        ('vectorizer', CountVectorizer()),\n",
    "        ('oversampler', RandomOverSampler(random_state=0)),\n",
    "        ('sgd', SGDClassifier(loss='modified_huber', alpha=0.0001))\n",
    "    ]\n",
    ")\n",
    "\n",
    "br = BinaryRelevance(pipeline, genres)\n",
    "mlc = br.cross_validate(X, y, n_splits=3, verbose=True)\n",
    "mlc.print_report()\n",
    "fig, auc = mlc.plot_roc_curve()\n",
    "plt.show()\n",
    "auc = mlc.roc_auc_score()\n",
    "print(auc)\n",
    "print(\"AUC ROC score = {:.2f} +/- {:.2f}\".format(auc.mean(), auc.std()))\n",
    "best_thresholds = mlc.best_thresholds()\n",
    "print(\"Best thresholds:\")\n",
    "for i, label in enumerate(mlc.labels):\n",
    "    print(f\"{label:<10s}: {best_thresholds[i]:.2f}\")"
   ]
  },
  {
   "cell_type": "markdown",
   "metadata": {
    "jupyter": {
     "source_hidden": true
    }
   },
   "source": [
    "<a id='naivebayes'></a>\n",
    "# Naive Bayes\n",
    "\n",
    "[Naive Bayes classifiers](https://en.wikipedia.org/wiki/Naive_Bayes_classifier) have long been popular in text classification. The method is rooted in Bayes' Theorem, which states the probability of a particular class $y$ given input $\\mathbf{x}=(x_1, \\dots, x_n)$ can be written as\n",
    "\n",
    "$$ P(y|\\mathbf{x}) = \\frac{P(y)P(\\mathbf{x}|y)}{P(\\mathbf{x})} $$\n",
    "\n",
    "where $P(y)$, $P(\\mathbf{x}|y)$, and $P(\\mathbf{x})$ are known as the prior, likelihood and evidence. The evidence is class-independent and can be ignored when comparing the probabilities of different classes, while the likelihood can be expanded using the chain rule for probabilities as\n",
    "\n",
    "\\begin{align}\n",
    "P(\\mathbf{x}|y) &= P(x_1, \\dots, x_n|y)\\\\\n",
    "                &= P(x_1|x_2, \\dots, x_n, y) P(x_2, \\dots, x_n|y)\\\\\n",
    "                &= \\dots\\\\\n",
    "                &= P(x_1|x_2, \\dots, x_n, y) P(x_2| x_3 \\dots, x_n, y) \\dots P(x_{n-1}|x_n, y) P(x_n|y) P(y)\n",
    "\\end{align}\n",
    "\n",
    "The \"naive\" assumption is that the input variables $x_i$ are assumed to be mutually independent, so $P(x_i|x_{i+1}, \\dots, x_n, y) = P(x_i|y)$. Thus the likelihood becomes a product sum of single-feature probabilities $P(x_i|y)$:\n",
    "\n",
    "$$ P(\\mathbf{x}|y) = P(y) \\prod_{i=1}^{n} P(x_i|y) $$\n",
    "\n",
    "Thus the Naive Bayes classification problem can be expressed as a maximum a posteriori estimation (like maximum-likelihood but with a prior term included that behaves like a regularization parameter (see [this blog post](https://wiseodd.github.io/techblog/2017/01/01/mle-vs-map/) for a quick discussion of MAP and MLE)) with the following classification rule:\n",
    "\n",
    "$$ \\hat{y} = \\mathrm{argmax}_k P(y_k) \\prod_{i=1}^{n} P(x_i|y_k) $$\n",
    "\n",
    "The scikit-learn implementation [`NaiveBayes`](https://scikit-learn.org/stable/modules/naive_bayes.html#naive-bayes) provides different options for the likelihood distribution $P(x_i|y)$. The Multinomial and Bernoulli algorithms are the most popular for document classification tasks."
   ]
  },
  {
   "cell_type": "markdown",
   "metadata": {
    "pycharm": {
     "name": "#%% md\n"
    }
   },
   "source": [
    "<a id='multinomialnb'></a>\n",
    "### Multinomial Naive Bayes\n",
    "\n"
   ]
  },
  {
   "cell_type": "code",
   "execution_count": 22,
   "metadata": {
    "pycharm": {
     "is_executing": false
    }
   },
   "outputs": [
    {
     "name": "stdout",
     "output_type": "stream",
     "text": [
      "Training on label 'black'\n",
      "Fold 1/3\n",
      "Fold 2/3\n",
      "Fold 3/3\n",
      "CV scores:\n",
      "Accuracy:    0.69 +/- 0.00\n",
      "Precision:   0.59 +/- 0.01\n",
      "Recall:      0.50 +/- 0.01\n",
      "F1-score:    0.54 +/- 0.01\n",
      "Average confusion matrix:\n",
      "[[0.67686359 0.08285754]\n",
      " [0.12118116 0.1190977 ]]\n",
      "Training on label 'death'\n",
      "Fold 1/3\n",
      "Fold 2/3\n",
      "Fold 3/3\n",
      "CV scores:\n",
      "Accuracy:    0.68 +/- 0.00\n",
      "Precision:   0.51 +/- 0.00\n",
      "Recall:      0.68 +/- 0.00\n",
      "F1-score:    0.58 +/- 0.00\n",
      "Average confusion matrix:\n",
      "[[0.46723561 0.20994851]\n",
      " [0.1033716  0.21944428]]\n",
      "Training on label 'heavy'\n",
      "Fold 1/3\n",
      "Fold 2/3\n",
      "Fold 3/3\n",
      "CV scores:\n",
      "Accuracy:    0.71 +/- 0.00\n",
      "Precision:   0.33 +/- 0.00\n",
      "Recall:      0.69 +/- 0.01\n",
      "F1-score:    0.45 +/- 0.00\n",
      "Average confusion matrix:\n",
      "[[0.62263357 0.21804195]\n",
      " [0.04962237 0.10970211]]\n",
      "Training on label 'power'\n",
      "Fold 1/3\n",
      "Fold 2/3\n",
      "Fold 3/3\n",
      "CV scores:\n",
      "Accuracy:    0.73 +/- 0.00\n",
      "Precision:   0.31 +/- 0.00\n",
      "Recall:      0.81 +/- 0.01\n",
      "F1-score:    0.44 +/- 0.00\n",
      "Average confusion matrix:\n",
      "[[0.55403971 0.28869924]\n",
      " [0.03031032 0.12695074]]\n",
      "Training on label 'thrash'\n",
      "Fold 1/3\n",
      "Fold 2/3\n",
      "Fold 3/3\n",
      "CV scores:\n",
      "Accuracy:    0.66 +/- 0.00\n",
      "Precision:   0.29 +/- 0.00\n",
      "Recall:      0.76 +/- 0.01\n",
      "F1-score:    0.42 +/- 0.00\n",
      "Average confusion matrix:\n",
      "[[0.4612657  0.35100266]\n",
      " [0.04535529 0.14237634]]\n",
      "Multi-label classification report:\n",
      "Accuracy:      0.36\n",
      "Precision:     0.42\n",
      "Recall:        0.68\n",
      "F1-score:      0.52\n"
     ]
    },
    {
     "name": "stderr",
     "output_type": "stream",
     "text": [
      "/home/philippe/anaconda3/envs/metallyrics/lib/python3.7/site-packages/ipykernel_launcher.py:32: RuntimeWarning: invalid value encountered in true_divide\n",
      "/home/philippe/anaconda3/envs/metallyrics/lib/python3.7/site-packages/ipykernel_launcher.py:37: RuntimeWarning: invalid value encountered in true_divide\n",
      "/home/philippe/anaconda3/envs/metallyrics/lib/python3.7/site-packages/ipykernel_launcher.py:42: RuntimeWarning: invalid value encountered in true_divide\n"
     ]
    },
    {
     "name": "stdout",
     "output_type": "stream",
     "text": [
      "Hamming loss:  1.50\n"
     ]
    },
    {
     "data": {
      "image/png": "[encoded data removed]",
      "text/plain": [
       "<Figure size 576x432 with 1 Axes>"
      ]
     },
     "metadata": {
      "needs_background": "light"
     },
     "output_type": "display_data"
    },
    {
     "data": {
      "image/png": "[encoded data removed]",
      "text/plain": [
       "<Figure size 576x432 with 1 Axes>"
      ]
     },
     "metadata": {
      "needs_background": "light"
     },
     "output_type": "display_data"
    },
    {
     "name": "stdout",
     "output_type": "stream",
     "text": [
      "[0.80647485 0.76271736 0.78668571 0.81222745 0.74537499]\n",
      "AUC ROC score = 0.78 +/- 0.03\n",
      "Best thresholds:\n",
      "black     : 0.00\n",
      "death     : 0.80\n",
      "heavy     : 0.68\n",
      "power     : 1.00\n",
      "thrash    : 0.99\n"
     ]
    }
   ],
   "source": [
    "pipeline = Pipeline(\n",
    "    [\n",
    "        ('vectorizer', CountVectorizer()),\n",
    "        ('oversampler', RandomOverSampler(random_state=0)),\n",
    "        ('multinomialnb', MultinomialNB())\n",
    "    ]\n",
    ")\n",
    "\n",
    "br = BinaryRelevance(pipeline, genres)\n",
    "mlc = br.cross_validate(X, y, n_splits=3, verbose=True)\n",
    "mlc.print_report()\n",
    "fig, auc = mlc.plot_roc_curve()\n",
    "plt.show()\n",
    "mlc.plot_precision_recall_curve()\n",
    "plt.show()\n",
    "auc = mlc.roc_auc_score()\n",
    "print(auc)\n",
    "print(\"AUC ROC score = {:.2f} +/- {:.2f}\".format(auc.mean(), auc.std()))\n",
    "best_thresholds = mlc.best_thresholds()\n",
    "print(\"Best thresholds:\")\n",
    "for i, label in enumerate(mlc.labels):\n",
    "    print(f\"{label:<10s}: {best_thresholds[i]:.2f}\")"
   ]
  },
  {
   "cell_type": "markdown",
   "metadata": {
    "jupyter": {
     "source_hidden": true
    }
   },
   "source": [
    "<a id='complementnb'></a>\n",
    "### Complement multinomial Naive Bayes"
   ]
  },
  {
   "cell_type": "code",
   "execution_count": 11,
   "metadata": {
    "pycharm": {
     "is_executing": false
    }
   },
   "outputs": [
    {
     "name": "stdout",
     "output_type": "stream",
     "text": [
      "Training on label 'black'\n",
      "Fold 1/3\n",
      "Fold 2/3\n",
      "Fold 3/3\n",
      "CV scores:\n",
      "Accuracy:    0.69 +/- 0.00\n",
      "Precision:   0.59 +/- 0.01\n",
      "Recall:      0.50 +/- 0.01\n",
      "F1-score:    0.54 +/- 0.01\n",
      "Average confusion matrix:\n",
      "[[0.67686359 0.08285754]\n",
      " [0.12118116 0.1190977 ]]\n",
      "Training on label 'death'\n",
      "Fold 1/3\n",
      "Fold 2/3\n",
      "Fold 3/3\n",
      "CV scores:\n",
      "Accuracy:    0.68 +/- 0.00\n",
      "Precision:   0.51 +/- 0.00\n",
      "Recall:      0.68 +/- 0.00\n",
      "F1-score:    0.58 +/- 0.00\n",
      "Average confusion matrix:\n",
      "[[0.46723561 0.20994851]\n",
      " [0.1033716  0.21944428]]\n",
      "Training on label 'heavy'\n",
      "Fold 1/3\n",
      "Fold 2/3\n",
      "Fold 3/3\n",
      "CV scores:\n",
      "Accuracy:    0.71 +/- 0.00\n",
      "Precision:   0.33 +/- 0.00\n",
      "Recall:      0.69 +/- 0.01\n",
      "F1-score:    0.45 +/- 0.00\n",
      "Average confusion matrix:\n",
      "[[0.62263357 0.21804195]\n",
      " [0.04962237 0.10970211]]\n",
      "Training on label 'power'\n",
      "Fold 1/3\n",
      "Fold 2/3\n",
      "Fold 3/3\n",
      "CV scores:\n",
      "Accuracy:    0.73 +/- 0.00\n",
      "Precision:   0.31 +/- 0.00\n",
      "Recall:      0.81 +/- 0.01\n",
      "F1-score:    0.44 +/- 0.00\n",
      "Average confusion matrix:\n",
      "[[0.55403971 0.28869924]\n",
      " [0.03031032 0.12695074]]\n",
      "Training on label 'thrash'\n",
      "Fold 1/3\n",
      "Fold 2/3\n",
      "Fold 3/3\n",
      "CV scores:\n",
      "Accuracy:    0.66 +/- 0.00\n",
      "Precision:   0.29 +/- 0.00\n",
      "Recall:      0.76 +/- 0.01\n",
      "F1-score:    0.42 +/- 0.00\n",
      "Average confusion matrix:\n",
      "[[0.4612657  0.35100266]\n",
      " [0.04535529 0.14237634]]\n",
      "Multi-label classification report:\n",
      "Accuracy:      0.36\n",
      "Precision:     0.42\n",
      "Recall:        0.68\n",
      "F1-score:      0.52\n",
      "Hamming loss:  1.50\n",
      "[0.80647748 0.76271199 0.78667153 0.81221615 0.74537564]\n",
      "AUC ROC score = 0.78 +/- 0.03\n"
     ]
    },
    {
     "name": "stderr",
     "output_type": "stream",
     "text": [
      "/home/philippe/anaconda3/envs/metallyrics/lib/python3.7/site-packages/ipykernel_launcher.py:32: RuntimeWarning: invalid value encountered in true_divide\n",
      "/home/philippe/anaconda3/envs/metallyrics/lib/python3.7/site-packages/ipykernel_launcher.py:37: RuntimeWarning: invalid value encountered in true_divide\n",
      "/home/philippe/anaconda3/envs/metallyrics/lib/python3.7/site-packages/ipykernel_launcher.py:42: RuntimeWarning: invalid value encountered in true_divide\n"
     ]
    },
    {
     "data": {
      "image/png": "[encoded data removed]",
      "text/plain": [
       "<Figure size 576x432 with 1 Axes>"
      ]
     },
     "metadata": {
      "needs_background": "light"
     },
     "output_type": "display_data"
    }
   ],
   "source": [
    "pipeline = Pipeline(\n",
    "    [\n",
    "        ('vectorizer', CountVectorizer()),\n",
    "        ('oversampler', RandomOverSampler(random_state=0)),\n",
    "        ('complementnb', ComplementNB())\n",
    "    ]\n",
    ")\n",
    "\n",
    "br = BinaryRelevance(pipeline, genres)\n",
    "mlc = br.cross_validate(X, y, n_splits=3, verbose=True)\n",
    "mlc.print_report()\n",
    "fig, auc = mlc.plot_roc_curve()\n",
    "plt.show()\n",
    "auc = mlc.roc_auc_score()\n",
    "print(auc)\n",
    "print(\"AUC ROC score = {:.2f} +/- {:.2f}\".format(auc.mean(), auc.std()))\n",
    "best_thresholds = mlc.best_thresholds()\n",
    "print(\"Best thresholds:\")\n",
    "for i, label in enumerate(mlc.labels):\n",
    "    print(f\"{label:<10s}: {best_thresholds[i]:.2f}\")"
   ]
  },
  {
   "cell_type": "markdown",
   "metadata": {
    "jupyter": {
     "source_hidden": true
    }
   },
   "source": [
    "<a id='bernoullinb'></a>\n",
    "### Bernoulli Naive Bayes"
   ]
  },
  {
   "cell_type": "code",
   "execution_count": 12,
   "metadata": {
    "pycharm": {
     "is_executing": false
    }
   },
   "outputs": [
    {
     "name": "stdout",
     "output_type": "stream",
     "text": [
      "Training on label 'black'\n",
      "Fold 1/3\n",
      "Fold 2/3\n",
      "Fold 3/3\n",
      "CV scores:\n",
      "Accuracy:    0.71 +/- 0.01\n",
      "Precision:   0.49 +/- 0.00\n",
      "Recall:      0.61 +/- 0.01\n",
      "F1-score:    0.55 +/- 0.01\n",
      "Average confusion matrix:\n",
      "[[0.6080694  0.15165174]\n",
      " [0.09297434 0.14730453]]\n",
      "Training on label 'death'\n",
      "Fold 1/3\n",
      "Fold 2/3\n",
      "Fold 3/3\n",
      "CV scores:\n",
      "Accuracy:    0.68 +/- 0.00\n",
      "Precision:   0.47 +/- 0.00\n",
      "Recall:      0.79 +/- 0.00\n",
      "F1-score:    0.59 +/- 0.00\n",
      "Average confusion matrix:\n",
      "[[0.38844482 0.28873931]\n",
      " [0.06701124 0.25580464]]\n",
      "Training on label 'heavy'\n",
      "Fold 1/3\n",
      "Fold 2/3\n",
      "Fold 3/3\n",
      "CV scores:\n",
      "Accuracy:    0.71 +/- 0.00\n",
      "Precision:   0.32 +/- 0.00\n",
      "Recall:      0.72 +/- 0.00\n",
      "F1-score:    0.44 +/- 0.00\n",
      "Average confusion matrix:\n",
      "[[0.59228319 0.24839233]\n",
      " [0.04483443 0.11449005]]\n",
      "Training on label 'power'\n",
      "Fold 1/3\n",
      "Fold 2/3\n",
      "Fold 3/3\n",
      "CV scores:\n",
      "Accuracy:    0.74 +/- 0.00\n",
      "Precision:   0.31 +/- 0.00\n",
      "Recall:      0.81 +/- 0.01\n",
      "F1-score:    0.45 +/- 0.00\n",
      "Average confusion matrix:\n",
      "[[0.56020995 0.282529  ]\n",
      " [0.02932869 0.12793237]]\n",
      "Training on label 'thrash'\n",
      "Fold 1/3\n",
      "Fold 2/3\n",
      "Fold 3/3\n",
      "CV scores:\n",
      "Accuracy:    0.66 +/- 0.00\n",
      "Precision:   0.28 +/- 0.00\n",
      "Recall:      0.76 +/- 0.01\n",
      "F1-score:    0.41 +/- 0.00\n",
      "Average confusion matrix:\n",
      "[[0.45146944 0.36079893]\n",
      " [0.04483443 0.14289721]]\n",
      "Multi-label classification report:\n",
      "Accuracy:      0.38\n",
      "Precision:     0.40\n",
      "Recall:        0.75\n",
      "F1-score:      0.52\n",
      "Hamming loss:  1.61\n",
      "[0.78763907 0.76737166 0.7894685  0.80663015 0.7323883 ]\n",
      "AUC ROC score = 0.78 +/- 0.03\n"
     ]
    },
    {
     "name": "stderr",
     "output_type": "stream",
     "text": [
      "/home/philippe/anaconda3/envs/metallyrics/lib/python3.7/site-packages/ipykernel_launcher.py:32: RuntimeWarning: invalid value encountered in true_divide\n",
      "/home/philippe/anaconda3/envs/metallyrics/lib/python3.7/site-packages/ipykernel_launcher.py:37: RuntimeWarning: invalid value encountered in true_divide\n",
      "/home/philippe/anaconda3/envs/metallyrics/lib/python3.7/site-packages/ipykernel_launcher.py:42: RuntimeWarning: invalid value encountered in true_divide\n"
     ]
    },
    {
     "data": {
      "image/png": "[encoded data removed]",
      "text/plain": [
       "<Figure size 576x432 with 1 Axes>"
      ]
     },
     "metadata": {
      "needs_background": "light"
     },
     "output_type": "display_data"
    }
   ],
   "source": [
    "pipeline = Pipeline(\n",
    "    [\n",
    "        ('vectorizer', CountVectorizer()),\n",
    "        ('oversampler', RandomOverSampler(random_state=0)),\n",
    "        ('bernoullinb', BernoulliNB())\n",
    "    ]\n",
    ")\n",
    "\n",
    "br = BinaryRelevance(pipeline, genres)\n",
    "mlc = br.cross_validate(X, y, n_splits=3, verbose=True)\n",
    "mlc.print_report()\n",
    "fig, auc = mlc.plot_roc_curve()\n",
    "plt.show()\n",
    "auc = mlc.roc_auc_score()\n",
    "print(auc)\n",
    "print(\"AUC ROC score = {:.2f} +/- {:.2f}\".format(auc.mean(), auc.std()))\n",
    "best_thresholds = mlc.best_thresholds()\n",
    "print(\"Best thresholds:\")\n",
    "for i, label in enumerate(mlc.labels):\n",
    "    print(f\"{label:<10s}: {best_thresholds[i]:.2f}\")"
   ]
  },
  {
   "cell_type": "markdown",
   "metadata": {
    "jupyter": {
     "source_hidden": true
    }
   },
   "source": [
    "<a id='rf'></a>\n",
    "# Random forest classifier\n",
    "\n",
    "The random forest classifier is a popular choice in classification problems, especially when overfitting is a concern. As an ensemble model, the random forest does a good job of minimizing bias by averaging out the contributions of many hundreds or thousands of predictors."
   ]
  },
  {
   "cell_type": "code",
   "execution_count": 6,
   "metadata": {},
   "outputs": [
    {
     "name": "stdout",
     "output_type": "stream",
     "text": [
      "Training on label 'black'\n",
      "Fold 1/3\n",
      "Fold 2/3\n",
      "Fold 3/3\n",
      "CV scores:\n",
      "Accuracy:    0.72 +/- 0.00\n",
      "Precision:   0.51 +/- 0.01\n",
      "Recall:      0.62 +/- 0.01\n",
      "F1-score:    0.56 +/- 0.01\n",
      "Average confusion matrix:\n",
      "[[0.64238751 0.13134045]\n",
      " [0.08691532 0.13935672]]\n",
      "Training on label 'death'\n",
      "Fold 1/3\n",
      "Fold 2/3\n",
      "Fold 3/3\n",
      "CV scores:\n",
      "Accuracy:    0.71 +/- 0.00\n",
      "Precision:   0.61 +/- 0.01\n",
      "Recall:      0.59 +/- 0.01\n",
      "F1-score:    0.60 +/- 0.01\n",
      "Average confusion matrix:\n",
      "[[0.56151401 0.11990839]\n",
      " [0.13143918 0.18713843]]\n",
      "Training on label 'heavy'\n",
      "Fold 1/3\n",
      "Fold 2/3\n",
      "Fold 3/3\n",
      "CV scores:\n",
      "Accuracy:    0.70 +/- 0.00\n",
      "Precision:   0.49 +/- 0.00\n",
      "Recall:      0.50 +/- 0.01\n",
      "F1-score:    0.50 +/- 0.00\n",
      "Average confusion matrix:\n",
      "[[0.75185105 0.0857109 ]\n",
      " [0.08071554 0.08172251]]\n",
      "Training on label 'power'\n",
      "Fold 1/3\n",
      "Fold 2/3\n",
      "Fold 3/3\n",
      "CV scores:\n",
      "Accuracy:    0.68 +/- 0.00\n",
      "Precision:   0.61 +/- 0.01\n",
      "Recall:      0.42 +/- 0.00\n",
      "F1-score:    0.50 +/- 0.00\n",
      "Average confusion matrix:\n",
      "[[0.7827512  0.04626138]\n",
      " [0.0986633  0.07232413]]\n",
      "Training on label 'thrash'\n",
      "Fold 1/3\n",
      "Fold 2/3\n",
      "Fold 3/3\n",
      "CV scores:\n",
      "Accuracy:    0.65 +/- 0.00\n",
      "Precision:   0.55 +/- 0.01\n",
      "Recall:      0.38 +/- 0.01\n",
      "F1-score:    0.45 +/- 0.00\n",
      "Average confusion matrix:\n",
      "[[0.74740853 0.05972713]\n",
      " [0.11927656 0.07358777]]\n",
      "Multi-label classification report:\n",
      "Accuracy:      0.40\n",
      "Precision:     0.57\n",
      "Recall:        0.54\n",
      "F1-score:      0.56\n"
     ]
    },
    {
     "name": "stderr",
     "output_type": "stream",
     "text": [
      "D:\\Anaconda3\\envs\\metallyrics\\lib\\site-packages\\ipykernel_launcher.py:32: RuntimeWarning: invalid value encountered in true_divide\n",
      "D:\\Anaconda3\\envs\\metallyrics\\lib\\site-packages\\ipykernel_launcher.py:37: RuntimeWarning: invalid value encountered in true_divide\n",
      "D:\\Anaconda3\\envs\\metallyrics\\lib\\site-packages\\ipykernel_launcher.py:42: RuntimeWarning: invalid value encountered in true_divide\n"
     ]
    },
    {
     "name": "stdout",
     "output_type": "stream",
     "text": [
      "Hamming loss:  0.96\n"
     ]
    },
    {
     "data": {
      "image/png": "[encoded data removed]",
      "text/plain": [
       "<Figure size 576x432 with 1 Axes>"
      ]
     },
     "metadata": {
      "needs_background": "light"
     },
     "output_type": "display_data"
    },
    {
     "name": "stdout",
     "output_type": "stream",
     "text": [
      "[0.81281877 0.79095052 0.80984639 0.84750585 0.77868239]\n",
      "AUC ROC score = 0.81 +/- 0.02\n"
     ]
    }
   ],
   "source": [
    "rf_params = dict(\n",
    "    n_estimators=1000,\n",
    "    max_depth=50,\n",
    "    max_features='auto',\n",
    "    min_samples_leaf=1,\n",
    "    min_samples_split=2,\n",
    "    bootstrap=True,\n",
    "    n_jobs=-1,\n",
    "    random_state=0\n",
    ")\n",
    "pipeline = Pipeline(\n",
    "    [\n",
    "        ('vectorizer', CountVectorizer()),\n",
    "        ('oversampler', RandomOverSampler(random_state=0)),\n",
    "        ('randomforest', RandomForestClassifier(**rf_params))\n",
    "    ]\n",
    ")\n",
    "\n",
    "br = BinaryRelevance(pipeline, genres)\n",
    "mlc = br.cross_validate(X, y, n_splits=3, verbose=True)\n",
    "mlc.print_report()\n",
    "fig, auc = mlc.plot_roc_curve()\n",
    "plt.show()\n",
    "auc = mlc.roc_auc_score()\n",
    "print(auc)\n",
    "print(\"AUC ROC score = {:.2f} +/- {:.2f}\".format(auc.mean(), auc.std()))\n",
    "best_thresholds = mlc.best_thresholds()\n",
    "print(\"Best thresholds:\")\n",
    "for i, label in enumerate(mlc.labels):\n",
    "    print(f\"{label:<10s}: {best_thresholds[i]:.2f}\")"
   ]
  },
  {
   "cell_type": "markdown",
   "metadata": {
    "jupyter": {
     "source_hidden": true
    }
   },
   "source": [
    "<a id='gbm'></a>\n",
    "# Gradient boosting model"
   ]
  },
  {
   "cell_type": "code",
   "execution_count": 38,
   "metadata": {
    "pycharm": {
     "is_executing": false
    }
   },
   "outputs": [
    {
     "name": "stdout",
     "output_type": "stream",
     "text": [
      "Training on label 'black'\n",
      "Fold 1/3\n",
      "Fold 2/3\n",
      "Fold 3/3\n",
      "CV scores:\n",
      "Accuracy:    0.74 +/- 0.00\n",
      "Precision:   0.53 +/- 0.00\n",
      "Recall:      0.67 +/- 0.00\n",
      "F1-score:    0.59 +/- 0.00\n",
      "Average confusion matrix:\n",
      "[[0.61728469 0.14243644]\n",
      " [0.07957209 0.16070677]]\n",
      "Training on label 'death'\n",
      "Fold 1/3\n",
      "Fold 2/3\n",
      "Fold 3/3\n",
      "CV scores:\n",
      "Accuracy:    0.69 +/- 0.00\n",
      "Precision:   0.61 +/- 0.00\n",
      "Recall:      0.54 +/- 0.00\n",
      "F1-score:    0.57 +/- 0.00\n",
      "Average confusion matrix:\n",
      "[[0.56607969 0.11110443]\n",
      " [0.14976862 0.17304726]]\n",
      "Training on label 'heavy'\n",
      "Fold 1/3\n",
      "Fold 2/3\n",
      "Fold 3/3\n",
      "CV scores:\n",
      "Accuracy:    0.69 +/- 0.00\n",
      "Precision:   0.54 +/- 0.01\n",
      "Recall:      0.44 +/- 0.01\n",
      "F1-score:    0.49 +/- 0.00\n",
      "Average confusion matrix:\n",
      "[[0.78123685 0.05943867]\n",
      " [0.08866719 0.07065729]]\n",
      "Training on label 'power'\n",
      "Fold 1/3\n",
      "Fold 2/3\n",
      "Fold 3/3\n",
      "CV scores:\n",
      "Accuracy:    0.71 +/- 0.00\n",
      "Precision:   0.58 +/- 0.01\n",
      "Recall:      0.48 +/- 0.01\n",
      "F1-score:    0.52 +/- 0.00\n",
      "Average confusion matrix:\n",
      "[[0.78790793 0.05483102]\n",
      " [0.08235671 0.07490434]]\n",
      "Training on label 'thrash'\n",
      "Fold 1/3\n",
      "Fold 2/3\n",
      "Fold 3/3\n",
      "CV scores:\n",
      "Accuracy:    0.65 +/- 0.00\n",
      "Precision:   0.51 +/- 0.00\n",
      "Recall:      0.39 +/- 0.00\n",
      "F1-score:    0.44 +/- 0.00\n",
      "Average confusion matrix:\n",
      "[[0.74303344 0.06923493]\n",
      " [0.11499088 0.07274075]]\n",
      "Multi-label classification report:\n",
      "Accuracy:      0.42\n",
      "Precision:     0.57\n",
      "Recall:        0.54\n",
      "F1-score:      0.55\n"
     ]
    },
    {
     "name": "stderr",
     "output_type": "stream",
     "text": [
      "/home/philippe/anaconda3/envs/metallyrics/lib/python3.7/site-packages/ipykernel_launcher.py:32: RuntimeWarning: invalid value encountered in true_divide\n",
      "/home/philippe/anaconda3/envs/metallyrics/lib/python3.7/site-packages/ipykernel_launcher.py:37: RuntimeWarning: invalid value encountered in true_divide\n",
      "/home/philippe/anaconda3/envs/metallyrics/lib/python3.7/site-packages/ipykernel_launcher.py:42: RuntimeWarning: invalid value encountered in true_divide\n"
     ]
    },
    {
     "name": "stdout",
     "output_type": "stream",
     "text": [
      "Hamming loss:  0.95\n"
     ]
    },
    {
     "data": {
      "image/png": "[encoded data removed]",
      "text/plain": [
       "<Figure size 576x432 with 1 Axes>"
      ]
     },
     "metadata": {
      "needs_background": "light"
     },
     "output_type": "display_data"
    },
    {
     "name": "stdout",
     "output_type": "stream",
     "text": [
      "[0.82943626 0.77361459 0.79401304 0.81774339 0.74109965]\n",
      "AUC ROC score = 0.79 +/- 0.03\n",
      "Best thresholds:\n",
      "black     : 0.34\n",
      "death     : 0.41\n",
      "heavy     : 0.22\n",
      "power     : 0.23\n",
      "thrash    : 0.32\n"
     ]
    }
   ],
   "source": [
    "gbm_params = dict(\n",
    "    n_estimators=1000,\n",
    "    max_depth=30,\n",
    "    n_jobs=-1,\n",
    "    random_state=0\n",
    ")\n",
    "pipeline = Pipeline(\n",
    "    [\n",
    "        ('vectorizer', CountVectorizer(dtype=np.float64)),\n",
    "        ('oversampler', RandomOverSampler(random_state=0)),\n",
    "        ('gbm', lgb.LGBMClassifier(**gbm_params))\n",
    "    ]\n",
    ")\n",
    "\n",
    "br = BinaryRelevance(pipeline, genres)\n",
    "mlc = br.cross_validate(X, y, n_splits=3, verbose=True)\n",
    "mlc.print_report()\n",
    "fig, auc = mlc.plot_roc_curve()\n",
    "plt.show()\n",
    "auc = mlc.roc_auc_score()\n",
    "print(auc)\n",
    "print(\"AUC ROC score = {:.2f} +/- {:.2f}\".format(auc.mean(), auc.std()))\n",
    "best_thresholds = mlc.best_thresholds()\n",
    "print(\"Best thresholds:\")\n",
    "for i, label in enumerate(mlc.labels):\n",
    "    print(f\"{label:<10s}: {best_thresholds[i]:.2f}\")"
   ]
  },
  {
   "cell_type": "markdown",
   "metadata": {
    "jupyter": {
     "source_hidden": true
    }
   },
   "source": [
    "<a id='nn'></a>\n",
    "# Neural network"
   ]
  },
  {
   "cell_type": "code",
   "execution_count": 10,
   "metadata": {},
   "outputs": [],
   "source": [
    "def create_keras_model(input_dim):\n",
    "    model = Sequential()\n",
    "    model.add(layers.Dense(64, input_dim=input_dim, activation='relu'))\n",
    "    model.add(layers.Dense(1, activation='sigmoid'))\n",
    "    model.compile(optimizer='adam', loss='binary_crossentropy', metrics=['binary_accuracy'])\n",
    "    return model\n",
    "\n",
    "def keras_batch_generator(X_data, y_data, batch_size):\n",
    "    number_of_batches = X_data.shape[0] // batch_size\n",
    "    counter = 0\n",
    "    index = np.arange(np.shape(y_data)[0])\n",
    "    while 1:\n",
    "        index_batch = index[batch_size * counter:batch_size * (counter + 1)]\n",
    "        X_batch = X_data[index_batch, :].todense()\n",
    "        y_batch = y_data[index_batch]\n",
    "        counter += 1\n",
    "        yield np.array(X_batch), y_batch\n",
    "        if counter > number_of_batches:\n",
    "            counter = 0"
   ]
  },
  {
   "cell_type": "code",
   "execution_count": 42,
   "metadata": {},
   "outputs": [
    {
     "name": "stdout",
     "output_type": "stream",
     "text": [
      "Fold 1/3\n",
      "Epoch 1/15\n",
      "52248/52248 [==============================] - 5s 90us/step - loss: 0.5539 - binary_accuracy: 0.7324\n",
      "Epoch 2/15\n",
      "52248/52248 [==============================] - 5s 89us/step - loss: 0.4501 - binary_accuracy: 0.7908\n",
      "Epoch 3/15\n",
      "52248/52248 [==============================] - 5s 88us/step - loss: 0.4075 - binary_accuracy: 0.8131\n",
      "Epoch 4/15\n",
      "52248/52248 [==============================] - 5s 90us/step - loss: 0.3759 - binary_accuracy: 0.8314\n",
      "Epoch 5/15\n",
      "52248/52248 [==============================] - 5s 89us/step - loss: 0.3506 - binary_accuracy: 0.8464\n",
      "Epoch 6/15\n",
      "52248/52248 [==============================] - 5s 88us/step - loss: 0.3283 - binary_accuracy: 0.8564\n",
      "Epoch 7/15\n",
      "52248/52248 [==============================] - 5s 89us/step - loss: 0.3087 - binary_accuracy: 0.8679\n",
      "Epoch 8/15\n",
      "52248/52248 [==============================] - 5s 89us/step - loss: 0.2900 - binary_accuracy: 0.8772\n",
      "Epoch 9/15\n",
      "52248/52248 [==============================] - 5s 88us/step - loss: 0.2719 - binary_accuracy: 0.8886\n",
      "Epoch 10/15\n",
      "52248/52248 [==============================] - 5s 88us/step - loss: 0.2553 - binary_accuracy: 0.8978\n",
      "Epoch 11/15\n",
      "52248/52248 [==============================] - 5s 87us/step - loss: 0.2395 - binary_accuracy: 0.9074\n",
      "Epoch 12/15\n",
      "52248/52248 [==============================] - 5s 87us/step - loss: 0.2232 - binary_accuracy: 0.9183\n",
      "Epoch 13/15\n",
      "52248/52248 [==============================] - 5s 88us/step - loss: 0.2084 - binary_accuracy: 0.9273\n",
      "Epoch 14/15\n",
      "52248/52248 [==============================] - 5s 88us/step - loss: 0.1940 - binary_accuracy: 0.9348\n",
      "Epoch 15/15\n",
      "52248/52248 [==============================] - 5s 88us/step - loss: 0.1809 - binary_accuracy: 0.9417\n",
      "Fold 2/3\n",
      "Epoch 1/15\n",
      "52250/52250 [==============================] - 5s 89us/step - loss: 0.5674 - binary_accuracy: 0.7301\n",
      "Epoch 2/15\n",
      "52250/52250 [==============================] - 5s 88us/step - loss: 0.4573 - binary_accuracy: 0.7882\n",
      "Epoch 3/15\n",
      "52250/52250 [==============================] - 5s 88us/step - loss: 0.4125 - binary_accuracy: 0.8096\n",
      "Epoch 4/15\n",
      "52250/52250 [==============================] - 5s 88us/step - loss: 0.3811 - binary_accuracy: 0.8273\n",
      "Epoch 5/15\n",
      "52250/52250 [==============================] - 5s 88us/step - loss: 0.3568 - binary_accuracy: 0.8389: 0s - loss: 0.3563 - binary_accuracy: \n",
      "Epoch 6/15\n",
      "52250/52250 [==============================] - 5s 88us/step - loss: 0.3360 - binary_accuracy: 0.8489\n",
      "Epoch 7/15\n",
      "52250/52250 [==============================] - 5s 88us/step - loss: 0.3177 - binary_accuracy: 0.8583\n",
      "Epoch 8/15\n",
      "52250/52250 [==============================] - 5s 88us/step - loss: 0.3014 - binary_accuracy: 0.8687\n",
      "Epoch 9/15\n",
      "52250/52250 [==============================] - 5s 89us/step - loss: 0.2860 - binary_accuracy: 0.8766\n",
      "Epoch 10/15\n",
      "52250/52250 [==============================] - 5s 89us/step - loss: 0.2711 - binary_accuracy: 0.8847\n",
      "Epoch 11/15\n",
      "52250/52250 [==============================] - 5s 89us/step - loss: 0.2566 - binary_accuracy: 0.8936\n",
      "Epoch 12/15\n",
      "52250/52250 [==============================] - 5s 89us/step - loss: 0.2427 - binary_accuracy: 0.9033\n",
      "Epoch 13/15\n",
      "52250/52250 [==============================] - 5s 90us/step - loss: 0.2291 - binary_accuracy: 0.9108\n",
      "Epoch 14/15\n",
      "52250/52250 [==============================] - 5s 89us/step - loss: 0.2158 - binary_accuracy: 0.9198\n",
      "Epoch 15/15\n",
      "52250/52250 [==============================] - 5s 89us/step - loss: 0.2027 - binary_accuracy: 0.9268\n",
      "Fold 3/3\n",
      "Epoch 1/15\n",
      "52250/52250 [==============================] - 5s 90us/step - loss: 0.5613 - binary_accuracy: 0.7253\n",
      "Epoch 2/15\n",
      "52250/52250 [==============================] - 5s 88us/step - loss: 0.4557 - binary_accuracy: 0.7864\n",
      "Epoch 3/15\n",
      "52250/52250 [==============================] - 5s 87us/step - loss: 0.4114 - binary_accuracy: 0.8112\n",
      "Epoch 4/15\n",
      "52250/52250 [==============================] - 5s 88us/step - loss: 0.3808 - binary_accuracy: 0.8306\n",
      "Epoch 5/15\n",
      "52250/52250 [==============================] - 5s 87us/step - loss: 0.3563 - binary_accuracy: 0.8427\n",
      "Epoch 6/15\n",
      "52250/52250 [==============================] - 5s 89us/step - loss: 0.3353 - binary_accuracy: 0.8538\n",
      "Epoch 7/15\n",
      "52250/52250 [==============================] - 5s 91us/step - loss: 0.3167 - binary_accuracy: 0.8616\n",
      "Epoch 8/15\n",
      "52250/52250 [==============================] - 5s 88us/step - loss: 0.2997 - binary_accuracy: 0.8704\n",
      "Epoch 9/15\n",
      "52250/52250 [==============================] - 5s 89us/step - loss: 0.2831 - binary_accuracy: 0.8794\n",
      "Epoch 10/15\n",
      "52250/52250 [==============================] - 5s 90us/step - loss: 0.2671 - binary_accuracy: 0.8893\n",
      "Epoch 11/15\n",
      "52250/52250 [==============================] - 5s 87us/step - loss: 0.2512 - binary_accuracy: 0.8988\n",
      "Epoch 12/15\n",
      "52250/52250 [==============================] - 5s 88us/step - loss: 0.2362 - binary_accuracy: 0.9082\n",
      "Epoch 13/15\n",
      "52250/52250 [==============================] - 5s 88us/step - loss: 0.2214 - binary_accuracy: 0.9180\n",
      "Epoch 14/15\n",
      "52250/52250 [==============================] - 5s 88us/step - loss: 0.2067 - binary_accuracy: 0.9250\n",
      "Epoch 15/15\n",
      "52250/52250 [==============================] - 5s 88us/step - loss: 0.1932 - binary_accuracy: 0.9332: 1s - loss: 0.1941 - binary_accuracy\n",
      "CV scores:\n",
      "Accuracy:    0.73 +/- 0.00\n",
      "Precision:   0.57 +/- 0.01\n",
      "Recall:      0.60 +/- 0.01\n",
      "F1-score:    0.58 +/- 0.01\n",
      "Average confusion matrix:\n",
      "[[0.67010879 0.10361917]\n",
      " [0.09159476 0.13467728]]\n",
      "ROC AUC score:\n"
     ]
    },
    {
     "data": {
      "text/plain": [
       "0.8147570264402336"
      ]
     },
     "execution_count": 42,
     "metadata": {},
     "output_type": "execute_result"
    }
   ],
   "source": [
    "keras_params = dict(\n",
    "    input_dim=10_000,\n",
    "    epochs=15,\n",
    "    batch_size=2048,\n",
    ")\n",
    "pipeline = Pipeline(\n",
    "    [\n",
    "        ('vectorizer', CountVectorizer()),\n",
    "        ('selectkbest', SelectKBest(k=keras_params['input_dim'])),\n",
    "        ('oversampler', RandomOverSampler(random_state=0)),\n",
    "        ('neuralnet', KerasClassifier(create_keras_model, **keras_params))\n",
    "    ]\n",
    ")\n",
    "n_splits = 3\n",
    "kfold = StratifiedKFold(n_splits=n_splits, shuffle=True, random_state=0)\n",
    "y_prob, y_valid = np.zeros((2, y.shape[0]))\n",
    "scores = np.zeros((n_splits, 4))\n",
    "confusion_matrices = np.zeros((n_splits, 2, 2))\n",
    "for i, (train_idx, valid_idx) in enumerate(kfold.split(X, y[:, 0])):\n",
    "    print(\"Fold {}/{}\".format(i + 1, n_splits))\n",
    "    X_fold_train, y_fold_train = X[train_idx], y[train_idx, 0]\n",
    "    X_fold_valid, y_fold_valid = X[valid_idx], y[valid_idx, 0]\n",
    "    clf = deepcopy(pipeline)\n",
    "    clf.fit(X_fold_train, y_fold_train)\n",
    "    try:\n",
    "        y_fold_prob = clf.predict_proba(X_fold_valid)[:, 1]\n",
    "    except AttributeError:\n",
    "        y_fold_prob = clf.predict(X_fold_valid).reshape(-1)\n",
    "    y_prob[valid_idx] = y_fold_prob\n",
    "    y_valid[valid_idx] = y_fold_valid\n",
    "    y_fold_pred = y_fold_prob.round()\n",
    "    scores[i, 0] = balanced_accuracy_score(y_fold_valid, y_fold_pred)\n",
    "    scores[i, 1] = precision_score(y_fold_valid, y_fold_pred)\n",
    "    scores[i, 2] = recall_score(y_fold_valid, y_fold_pred)\n",
    "    scores[i, 3] = f1_score(y_fold_valid, y_fold_pred)\n",
    "    confusion_matrices[i] = confusion_matrix(y_fold_valid, y_fold_pred)\n",
    "avg_accuracy, avg_precision, avg_recall, avg_f1 = scores.mean(axis=0)\n",
    "std_accuracy, std_precision, std_recall, std_f1 = scores.std(axis=0)\n",
    "print(\"CV scores:\")\n",
    "print(\"Accuracy:    {:.2f} +/- {:.2f}\".format(avg_accuracy, std_accuracy))\n",
    "print(\"Precision:   {:.2f} +/- {:.2f}\".format(avg_precision, std_precision))\n",
    "print(\"Recall:      {:.2f} +/- {:.2f}\".format(avg_recall, std_recall))\n",
    "print(\"F1-score:    {:.2f} +/- {:.2f}\".format(avg_f1, std_f1))\n",
    "print(\"Average confusion matrix:\")\n",
    "print(confusion_matrices.mean(axis=0) / confusion_matrices.sum() * n_splits)\n",
    "print(\"ROC AUC score:\")\n",
    "roc_auc_score(y_valid, y_prob)"
   ]
  },
  {
   "cell_type": "code",
   "execution_count": 45,
   "metadata": {},
   "outputs": [
    {
     "name": "stdout",
     "output_type": "stream",
     "text": [
      "Training on label 'black'\n",
      "Fold 1/3\n",
      "Epoch 1/1\n",
      "52248/52248 [==============================] - 48s 913us/step - loss: 0.4155 - binary_accuracy: 0.8180\n",
      "Fold 2/3\n",
      "Epoch 1/1\n",
      "52250/52250 [==============================] - 48s 911us/step - loss: 0.4128 - binary_accuracy: 0.8166\n",
      "Fold 3/3\n",
      "Epoch 1/1\n",
      "52250/52250 [==============================] - 48s 915us/step - loss: 0.4224 - binary_accuracy: 0.8152\n",
      "CV scores:\n",
      "Accuracy:    0.76 +/- 0.00\n",
      "Precision:   0.60 +/- 0.02\n",
      "Recall:      0.63 +/- 0.01\n",
      "F1-score:    0.62 +/- 0.01\n",
      "Average confusion matrix:\n",
      "[[0.67893459 0.09479337]\n",
      " [0.08261101 0.14366103]]\n",
      "Training on label 'death'\n",
      "Fold 1/3\n",
      "Epoch 1/1\n",
      "46016/46016 [==============================] - 42s 923us/step - loss: 0.5106 - binary_accuracy: 0.7505\n",
      "Fold 2/3\n",
      "Epoch 1/1\n",
      "46016/46016 [==============================] - 42s 912us/step - loss: 0.5079 - binary_accuracy: 0.7520\n",
      "Fold 3/3\n",
      "Epoch 1/1\n",
      "46016/46016 [==============================] - 42s 904us/step - loss: 0.5081 - binary_accuracy: 0.7527\n",
      "CV scores:\n",
      "Accuracy:    0.72 +/- 0.00\n",
      "Precision:   0.59 +/- 0.01\n",
      "Recall:      0.66 +/- 0.02\n",
      "F1-score:    0.62 +/- 0.00\n",
      "Average confusion matrix:\n",
      "[[0.53531305 0.14610935]\n",
      " [0.10983869 0.20873892]]\n",
      "Training on label 'heavy'\n",
      "Fold 1/3\n",
      "Epoch 1/1\n",
      "56560/56560 [==============================] - 52s 911us/step - loss: 0.4143 - binary_accuracy: 0.8208\n",
      "Fold 2/3\n",
      "Epoch 1/1\n",
      "56560/56560 [==============================] - 52s 924us/step - loss: 0.4150 - binary_accuracy: 0.8188\n",
      "Fold 3/3\n",
      "Epoch 1/1\n",
      "56560/56560 [==============================] - 51s 904us/step - loss: 0.4140 - binary_accuracy: 0.8177\n",
      "CV scores:\n",
      "Accuracy:    0.73 +/- 0.00\n",
      "Precision:   0.46 +/- 0.01\n",
      "Recall:      0.59 +/- 0.01\n",
      "F1-score:    0.52 +/- 0.00\n",
      "Average confusion matrix:\n",
      "[[0.72545264 0.11210931]\n",
      " [0.06691413 0.09552392]]\n",
      "Training on label 'power'\n",
      "Fold 1/3\n",
      "Epoch 1/1\n",
      "55982/55982 [==============================] - 51s 919us/step - loss: 0.4009 - binary_accuracy: 0.8284\n",
      "Fold 2/3\n",
      "Epoch 1/1\n",
      "55982/55982 [==============================] - 57s 1ms/step - loss: 0.4139 - binary_accuracy: 0.8214\n",
      "Fold 3/3\n",
      "Epoch 1/1\n",
      "55984/55984 [==============================] - 57s 1ms/step - loss: 0.4105 - binary_accuracy: 0.8208\n",
      "CV scores:\n",
      "Accuracy:    0.75 +/- 0.00\n",
      "Precision:   0.48 +/- 0.01\n",
      "Recall:      0.65 +/- 0.01\n",
      "F1-score:    0.55 +/- 0.00\n",
      "Average confusion matrix:\n",
      "[[0.70861058 0.120402  ]\n",
      " [0.05945071 0.11153671]]\n",
      "Training on label 'thrash'\n",
      "Fold 1/3\n",
      "Epoch 1/1\n",
      "54504/54504 [==============================] - 56s 1ms/step - loss: 0.4712 - binary_accuracy: 0.7835\n",
      "Fold 2/3\n",
      "Epoch 1/1\n",
      "54506/54506 [==============================] - 55s 1ms/step - loss: 0.4693 - binary_accuracy: 0.7808\n",
      "Fold 3/3\n",
      "Epoch 1/1\n",
      "54506/54506 [==============================] - 56s 1ms/step - loss: 0.4661 - binary_accuracy: 0.7833\n",
      "CV scores:\n",
      "Accuracy:    0.68 +/- 0.01\n",
      "Precision:   0.45 +/- 0.01\n",
      "Recall:      0.51 +/- 0.02\n",
      "F1-score:    0.48 +/- 0.01\n",
      "Average confusion matrix:\n",
      "[[0.6844433  0.12269236]\n",
      " [0.09426027 0.09860406]]\n",
      "Multi-label classification report:\n",
      "Accuracy:      0.45\n",
      "Precision:     0.55\n",
      "Recall:        0.64\n",
      "F1-score:      0.59\n"
     ]
    },
    {
     "name": "stderr",
     "output_type": "stream",
     "text": [
      "D:\\Anaconda3\\envs\\metallyrics\\lib\\site-packages\\ipykernel_launcher.py:32: RuntimeWarning: invalid value encountered in true_divide\n",
      "D:\\Anaconda3\\envs\\metallyrics\\lib\\site-packages\\ipykernel_launcher.py:37: RuntimeWarning: invalid value encountered in true_divide\n",
      "D:\\Anaconda3\\envs\\metallyrics\\lib\\site-packages\\ipykernel_launcher.py:42: RuntimeWarning: invalid value encountered in true_divide\n"
     ]
    },
    {
     "name": "stdout",
     "output_type": "stream",
     "text": [
      "Hamming loss:  1.01\n"
     ]
    },
    {
     "data": {
      "image/png": "[encoded data removed]",
      "text/plain": [
       "<Figure size 576x432 with 1 Axes>"
      ]
     },
     "metadata": {
      "needs_background": "light"
     },
     "output_type": "display_data"
    },
    {
     "name": "stdout",
     "output_type": "stream",
     "text": [
      "[0.84445619 0.80370395 0.81588365 0.83852935 0.76888179]\n",
      "AUC ROC score = 0.81 +/- 0.03\n"
     ]
    }
   ],
   "source": [
    "keras_params = dict(\n",
    "    input_dim=100_000,\n",
    "    epochs=1,\n",
    "    batch_size=512,\n",
    ")\n",
    "pipeline = Pipeline(\n",
    "    [\n",
    "        ('vectorizer', CountVectorizer()),\n",
    "        ('selectkbest', SelectKBest(k=keras_params['input_dim'])),\n",
    "        ('oversampler', RandomOverSampler(random_state=0)),\n",
    "        ('neuralnet', KerasClassifier(create_keras_model, **keras_params))\n",
    "    ]\n",
    ")\n",
    "\n",
    "br = BinaryRelevance(pipeline, genres)\n",
    "mlc = br.cross_validate(X, y, n_splits=3, verbose=True)\n",
    "mlc.print_report()\n",
    "fig, auc = mlc.plot_roc_curve()\n",
    "plt.show()\n",
    "auc = mlc.roc_auc_score()\n",
    "print(auc)\n",
    "print(\"AUC ROC score = {:.2f} +/- {:.2f}\".format(auc.mean(), auc.std()))\n",
    "best_thresholds = mlc.best_thresholds()\n",
    "print(\"Best thresholds:\")\n",
    "for i, label in enumerate(mlc.labels):\n",
    "    print(f\"{label:<10s}: {best_thresholds[i]:.2f}\")"
   ]
  },
  {
   "cell_type": "markdown",
   "metadata": {
    "jupyter": {
     "source_hidden": true
    }
   },
   "source": [
    "<a id='stacking'></a>\n",
    "# Stacked model"
   ]
  },
  {
   "cell_type": "code",
   "execution_count": 12,
   "metadata": {},
   "outputs": [],
   "source": [
    "class StackedModel(BaseEstimator, TransformerMixin):\n",
    "    def __init__(self, clfs=None, meta_clf=None):\n",
    "        if clfs is not None:\n",
    "            self.clfs = clfs\n",
    "        else:\n",
    "            self.clfs = []\n",
    "        self.meta_clf = meta_clf\n",
    "\n",
    "    def fit(self, X, y, split_test_size=0.2):\n",
    "        X_train, X_test, y_train, y_test = train_test_split(X, y, test_size=split_test_size)\n",
    "        y_prob = np.zeros((X_test.shape[0], len(self.clfs)))\n",
    "        for j, clf in enumerate(self.clfs):\n",
    "            clf.fit(X_train, y_train)\n",
    "            y_prob[:, j] = clf.predict_proba(X_test)[:, 1]\n",
    "        self.meta_clf.fit(y_prob, y_test)\n",
    "        return self\n",
    "\n",
    "    def predict(self, X):\n",
    "        return self.meta_clf.predict(self._predict_base(X))\n",
    "\n",
    "    def predict_proba(self, X):\n",
    "        return self.meta_clf.predict_proba(self._predict_base(X))\n",
    "\n",
    "    def _predict_base(self, X):\n",
    "        y_prob = np.zeros((X.shape[0], len(self.clfs)))\n",
    "        for j, clf in enumerate(self.clfs):\n",
    "            y_prob[:, j] = clf.predict_proba(X)[:, 1]\n",
    "        return y_prob"
   ]
  },
  {
   "cell_type": "code",
   "execution_count": 22,
   "metadata": {},
   "outputs": [
    {
     "name": "stdout",
     "output_type": "stream",
     "text": [
      "training on feature 'black'\n",
      "fold 1/3\n",
      "fold 2/3\n",
      "fold 3/3\n",
      "CV score: 72.46% +/- 1.07%\n",
      "Average confusion matrix:\n",
      "[[0.61624578 0.15748218]\n",
      " [0.07856339 0.14770865]]\n",
      "training on feature 'death'\n",
      "fold 1/3\n",
      "fold 2/3\n",
      "fold 3/3\n",
      "CV score: 69.46% +/- 0.44%\n",
      "Average confusion matrix:\n",
      "[[0.5410587  0.14036369]\n",
      " [0.12897111 0.18960649]]\n",
      "training on feature 'heavy'\n",
      "fold 1/3\n",
      "fold 2/3\n",
      "fold 3/3\n",
      "CV score: 69.86% +/- 0.15%\n",
      "Average confusion matrix:\n",
      "[[0.71439572 0.12316623]\n",
      " [0.0740419  0.08839615]]\n",
      "training on feature 'power'\n",
      "fold 1/3\n",
      "fold 2/3\n",
      "fold 3/3\n",
      "CV score: 71.62% +/- 0.40%\n",
      "Average confusion matrix:\n",
      "[[0.71421802 0.11479456]\n",
      " [0.07339033 0.09759709]]\n",
      "training on feature 'thrash'\n",
      "fold 1/3\n",
      "fold 2/3\n",
      "fold 3/3\n",
      "CV score: 66.57% +/- 0.69%\n",
      "Average confusion matrix:\n",
      "[[0.6830217  0.12411397]\n",
      " [0.09929512 0.09356921]]\n",
      "Multi-label classification report\n",
      "Accuracy:   0.40\n",
      "Precision:  0.50\n",
      "Recall:     0.60\n",
      "F1-score:   0.54\n"
     ]
    },
    {
     "name": "stderr",
     "output_type": "stream",
     "text": [
      "D:\\Anaconda3\\envs\\metallyrics\\lib\\site-packages\\ipykernel_launcher.py:32: RuntimeWarning: invalid value encountered in true_divide\n",
      "D:\\Anaconda3\\envs\\metallyrics\\lib\\site-packages\\ipykernel_launcher.py:37: RuntimeWarning: invalid value encountered in true_divide\n",
      "D:\\Anaconda3\\envs\\metallyrics\\lib\\site-packages\\ipykernel_launcher.py:42: RuntimeWarning: invalid value encountered in true_divide\n"
     ]
    },
    {
     "data": {
      "image/png": "[encoded data removed]",
      "text/plain": [
       "<Figure size 576x432 with 1 Axes>"
      ]
     },
     "metadata": {
      "needs_background": "light"
     },
     "output_type": "display_data"
    },
    {
     "data": {
      "text/plain": [
       "[0.8053241937314842,\n",
       " 0.7701724475296019,\n",
       " 0.7912542271348459,\n",
       " 0.8260229136688134,\n",
       " 0.7552315871119535]"
      ]
     },
     "execution_count": 22,
     "metadata": {},
     "output_type": "execute_result"
    }
   ],
   "source": [
    "lgb_params = dict(\n",
    "    n_estimators=1000,\n",
    "    max_depth=30,\n",
    "    n_jobs=-1,\n",
    "    random_state=0\n",
    ")\n",
    "lr_params = dict(\n",
    "    solver='lbfgs',\n",
    "    max_iter=1000,\n",
    "    random_state=0\n",
    ")\n",
    "stacked_model = StackedModel(\n",
    "    [\n",
    "        MultinomialNB(),\n",
    "        BernoulliNB(),\n",
    "        lgb.LGBMClassifier(**lgb_params),\n",
    "    ],\n",
    "    LogisticRegression(**lr_params)\n",
    ")\n",
    "pipeline = Pipeline(\n",
    "    [\n",
    "        ('vectorizer', CountVectorizer(dtype=np.float(64))),\n",
    "        ('oversampler', RandomOverSampler(random_state=0)),\n",
    "        ('stackedmodel', stacked_model)\n",
    "    ]\n",
    ")\n",
    "br = BinaryRelevance(pipeline, genres)\n",
    "mlc = br.cross_validate(X, y, n_splits=3, verbose=True)\n",
    "mlc.print_report()\n",
    "fig, auc = mlc.plot_roc_curve()\n",
    "plt.show()\n",
    "auc = mlc.roc_auc_score()\n",
    "print(auc)\n",
    "print(\"AUC ROC score = {:.2f} +/- {:.2f}\".format(auc.mean(), auc.std()))\n",
    "best_thresholds = mlc.best_thresholds()\n",
    "print(\"Best thresholds:\")\n",
    "for i, label in enumerate(mlc.labels):\n",
    "    print(f\"{label:<10s}: {best_thresholds[i]:.2f}\")"
   ]
  },
  {
   "cell_type": "markdown",
   "metadata": {
    "jupyter": {
     "source_hidden": true
    }
   },
   "source": [
    "## Stacking with NN"
   ]
  },
  {
   "cell_type": "code",
   "execution_count": 47,
   "metadata": {},
   "outputs": [
    {
     "name": "stdout",
     "output_type": "stream",
     "text": [
      "Training on label 'black'\n",
      "Fold 1/3\n",
      "Epoch 1/1\n",
      "41798/41798 [==============================] - 37s 882us/step - loss: 0.4383 - binary_accuracy: 0.8053\n",
      "Fold 2/3\n",
      "Epoch 1/1\n",
      "41800/41800 [==============================] - 37s 883us/step - loss: 0.4442 - binary_accuracy: 0.8051\n",
      "Fold 3/3\n",
      "Epoch 1/1\n",
      "41800/41800 [==============================] - 37s 886us/step - loss: 0.4494 - binary_accuracy: 0.7972\n",
      "CV scores:\n",
      "Accuracy:    0.75 +/- 0.01\n",
      "Precision:   0.62 +/- 0.01\n",
      "Recall:      0.61 +/- 0.01\n",
      "F1-score:    0.61 +/- 0.01\n",
      "Average confusion matrix:\n",
      "[[0.68888582 0.08484214]\n",
      " [0.08879104 0.137481  ]]\n",
      "Training on label 'death'\n",
      "Fold 1/3\n",
      "Epoch 1/1\n",
      "36812/36812 [==============================] - 34s 917us/step - loss: 0.5263 - binary_accuracy: 0.7406\n",
      "Fold 2/3\n",
      "Epoch 1/1\n",
      "36812/36812 [==============================] - 34s 924us/step - loss: 0.5271 - binary_accuracy: 0.7368\n",
      "Fold 3/3\n",
      "Epoch 1/1\n",
      "36812/36812 [==============================] - 35s 938us/step - loss: 0.5262 - binary_accuracy: 0.7430\n",
      "CV scores:\n",
      "Accuracy:    0.72 +/- 0.00\n",
      "Precision:   0.62 +/- 0.00\n",
      "Recall:      0.61 +/- 0.01\n",
      "F1-score:    0.61 +/- 0.00\n",
      "Average confusion matrix:\n",
      "[[0.56025036 0.12117203]\n",
      " [0.12395601 0.1946216 ]]\n",
      "Training on label 'heavy'\n",
      "Fold 1/3\n",
      "Epoch 1/1\n",
      "45248/45248 [==============================] - 38s 839us/step - loss: 0.4329 - binary_accuracy: 0.8064\n",
      "Fold 2/3\n",
      "Epoch 1/1\n",
      "45248/45248 [==============================] - 41s 912us/step - loss: 0.4346 - binary_accuracy: 0.8074\n",
      "Fold 3/3\n",
      "Epoch 1/1\n",
      "45248/45248 [==============================] - 41s 909us/step - loss: 0.4362 - binary_accuracy: 0.8073\n",
      "CV scores:\n",
      "Accuracy:    0.70 +/- 0.00\n",
      "Precision:   0.55 +/- 0.01\n",
      "Recall:      0.47 +/- 0.01\n",
      "F1-score:    0.51 +/- 0.00\n",
      "Average confusion matrix:\n",
      "[[0.77499161 0.06257034]\n",
      " [0.08608605 0.07635201]]\n",
      "Training on label 'power'\n",
      "Fold 1/3\n",
      "Epoch 1/1\n",
      "44785/44785 [==============================] - 41s 923us/step - loss: 0.4283 - binary_accuracy: 0.8060\n",
      "Fold 2/3\n",
      "Epoch 1/1\n",
      "44785/44785 [==============================] - 41s 919us/step - loss: 0.4334 - binary_accuracy: 0.8105\n",
      "Fold 3/3\n",
      "Epoch 1/1\n",
      "44787/44787 [==============================] - 42s 938us/step - loss: 0.4270 - binary_accuracy: 0.8127\n",
      "CV scores:\n",
      "Accuracy:    0.71 +/- 0.00\n",
      "Precision:   0.59 +/- 0.00\n",
      "Recall:      0.50 +/- 0.01\n",
      "F1-score:    0.54 +/- 0.01\n",
      "Average confusion matrix:\n",
      "[[0.76975931 0.05925326]\n",
      " [0.08602681 0.08496061]]\n",
      "Training on label 'thrash'\n",
      "Fold 1/3\n",
      "Epoch 1/1\n",
      "43603/43603 [==============================] - 40s 917us/step - loss: 0.5035 - binary_accuracy: 0.7622\n",
      "Fold 2/3\n",
      "Epoch 1/1\n",
      "43604/43604 [==============================] - 40s 928us/step - loss: 0.4916 - binary_accuracy: 0.7667\n",
      "Fold 3/3\n",
      "Epoch 1/1\n",
      "43604/43604 [==============================] - 41s 942us/step - loss: 0.4952 - binary_accuracy: 0.7620\n",
      "CV scores:\n",
      "Accuracy:    0.67 +/- 0.00\n",
      "Precision:   0.50 +/- 0.00\n",
      "Recall:      0.45 +/- 0.01\n",
      "F1-score:    0.47 +/- 0.01\n",
      "Average confusion matrix:\n",
      "[[0.71996367 0.08717199]\n",
      " [0.10675854 0.08610579]]\n",
      "Multi-label classification report:\n",
      "Accuracy:      0.44\n",
      "Precision:     0.60\n",
      "Recall:        0.57\n",
      "F1-score:      0.58\n"
     ]
    },
    {
     "name": "stderr",
     "output_type": "stream",
     "text": [
      "D:\\Anaconda3\\envs\\metallyrics\\lib\\site-packages\\ipykernel_launcher.py:32: RuntimeWarning: invalid value encountered in true_divide\n",
      "D:\\Anaconda3\\envs\\metallyrics\\lib\\site-packages\\ipykernel_launcher.py:37: RuntimeWarning: invalid value encountered in true_divide\n",
      "D:\\Anaconda3\\envs\\metallyrics\\lib\\site-packages\\ipykernel_launcher.py:42: RuntimeWarning: invalid value encountered in true_divide\n"
     ]
    },
    {
     "name": "stdout",
     "output_type": "stream",
     "text": [
      "Hamming loss:  0.91\n"
     ]
    },
    {
     "data": {
      "image/png": "[encoded data removed]",
      "text/plain": [
       "<Figure size 576x432 with 1 Axes>"
      ]
     },
     "metadata": {
      "needs_background": "light"
     },
     "output_type": "display_data"
    },
    {
     "name": "stdout",
     "output_type": "stream",
     "text": [
      "[0.84364726 0.80025013 0.81588745 0.8396794  0.77325707]\n",
      "AUC ROC score = 0.81 +/- 0.03\n"
     ]
    }
   ],
   "source": [
    "lgb_params = dict(\n",
    "    n_estimators=1000,\n",
    "    max_depth=30,\n",
    "    n_jobs=-1,\n",
    "    random_state=0\n",
    ")\n",
    "lr_params = dict(\n",
    "    solver='lbfgs',\n",
    "    max_iter=1000,\n",
    "    random_state=0\n",
    ")\n",
    "keras_params = dict(\n",
    "    input_dim=100_000,\n",
    "    epochs=1,\n",
    "    batch_size=512,\n",
    ")\n",
    "stacked_model = StackedModel(\n",
    "    [\n",
    "        MultinomialNB(),\n",
    "        BernoulliNB(),\n",
    "        lgb.LGBMClassifier(**lgb_params),\n",
    "        KerasClassifier(create_keras_model, **keras_params)\n",
    "    ],\n",
    "    LogisticRegression(**lr_params)\n",
    ")\n",
    "pipeline = Pipeline(\n",
    "    [\n",
    "        ('vectorizer', CountVectorizer(dtype=np.float64)),\n",
    "        ('selectkbest', SelectKBest(k=keras_params['input_dim'])),\n",
    "        ('oversampler', RandomOverSampler(random_state=0)),\n",
    "        ('stackedmodel', stacked_model)\n",
    "    ]\n",
    ")\n",
    "br = BinaryRelevance(pipeline, genres)\n",
    "mlc = br.cross_validate(X, y, n_splits=3, verbose=True)\n",
    "mlc.print_report()\n",
    "fig, auc = mlc.plot_roc_curve()\n",
    "plt.show()\n",
    "auc = mlc.roc_auc_score()\n",
    "print(auc)\n",
    "print(\"AUC ROC score = {:.2f} +/- {:.2f}\".format(auc.mean(), auc.std()))\n",
    "best_thresholds = mlc.best_thresholds()\n",
    "print(\"Best thresholds:\")\n",
    "for i, label in enumerate(mlc.labels):\n",
    "    print(f\"{label:<10s}: {best_thresholds[i]:.2f}\")"
   ]
  },
  {
   "cell_type": "markdown",
   "metadata": {},
   "source": [
    "<a id='test'></a>\n",
    "# Test on new lyrics"
   ]
  },
  {
   "cell_type": "code",
   "execution_count": 41,
   "metadata": {
    "pycharm": {
     "is_executing": false
    }
   },
   "outputs": [
    {
     "name": "stdout",
     "output_type": "stream",
     "text": [
      "training binary classifier for label: black\n",
      "training binary classifier for label: death\n",
      "training binary classifier for label: heavy\n",
      "training binary classifier for label: power\n",
      "training binary classifier for label: thrash\n"
     ]
    }
   ],
   "source": [
    "# pipeline = Pipeline(\n",
    "#     [\n",
    "#         ('vectorizer', CountVectorizer()),\n",
    "#         ('oversampler', RandomOverSampler(random_state=0)),\n",
    "#         ('multinomialnb', MultinomialNB())\n",
    "#     ]\n",
    "# )\n",
    "gbm_params = dict(\n",
    "    n_estimators=1000,\n",
    "    max_depth=30,\n",
    "    n_jobs=-1,\n",
    "    random_state=0,\n",
    ")\n",
    "pipeline = Pipeline(\n",
    "    [\n",
    "        ('vectorizer', CountVectorizer(dtype=np.float64)),\n",
    "        ('oversampler', RandomOverSampler(random_state=0)),\n",
    "        ('gbm', lgb.LGBMClassifier(**gbm_params))\n",
    "    ]\n",
    ")\n",
    "br = BinaryRelevance(pipeline, genres, thresholds=best_thresholds)\n",
    "br.fit(X, y)"
   ]
  },
  {
   "cell_type": "code",
   "execution_count": 71,
   "metadata": {},
   "outputs": [],
   "source": [
    "def classify_text(text):\n",
    "    X_test = np.array([' '.join(text.lower().split())])\n",
    "    y_prob = br.predict_proba(X_test)[0]\n",
    "    y_pred = br.predict(X_test)[0]\n",
    "    genre_results = [(genre, y_prob[i], y_pred[i]) for i, genre in enumerate(genres)]\n",
    "    genre_results.sort(key=lambda x: 1 - x[1])\n",
    "    print(\"Classification:\")\n",
    "    if genre_results[0][2] < 1:\n",
    "        print(\"NONE\")\n",
    "    else:\n",
    "        print(\", \".join([genre.upper() for genre, prob, pred in genre_results if pred > 0]))\n",
    "    print(\"\\nIndividual genre probabilities:\")\n",
    "    for genre, prob, _ in genre_results:\n",
    "        print(\"{:<10s}{:>3.0f}%\".format(genre, 100 * prob))\n",
    "    return"
   ]
  },
  {
   "cell_type": "code",
   "execution_count": 76,
   "metadata": {
    "pycharm": {
     "is_executing": false
    }
   },
   "outputs": [
    {
     "name": "stdout",
     "output_type": "stream",
     "text": [
      "Classification:\n",
      "DEATH, THRASH, BLACK, POWER\n",
      "\n",
      "Individual genre probabilities:\n",
      "death      59%\n",
      "thrash     55%\n",
      "black      42%\n",
      "power      38%\n",
      "heavy      21%\n"
     ]
    }
   ],
   "source": [
    "# Deathspell Omega\n",
    "classify_text(\"\"\"\n",
    "Our skies are forever black\n",
    "Here is no signs of life at all\n",
    "For burning spirits we are\n",
    "Consuming your small universe\n",
    "Slowly but surely\n",
    "No one believes in us\n",
    "We came from realms of Hell\n",
    "No eyes can see us\n",
    "We're not made of flesh and blood\n",
    "In times past we reigned everywhere\n",
    "One day life emerged from the chaos\n",
    "We still dominate but this error must end\n",
    "The void shall swallow the decease\n",
    "Slowly but surely\n",
    "Changing from a dimention to another..\n",
    "of being possession\n",
    "Out of the nihilistic kingdom\n",
    "to spread destruction\n",
    "An unseen invasion to conquer\n",
    "the spiled land...till total extinxion\n",
    "The human claim to rule their world\n",
    "They don't even understand the meaning\n",
    "of death\n",
    "A black hole is eating each soul\n",
    "The ultimate desolation will supress\n",
    "life and prevail again\n",
    "Then there won't be mistakes anymore\n",
    "The apotheosis of Satan approaches\n",
    "He who is inside of us\n",
    "\"\"\")"
   ]
  },
  {
   "cell_type": "code",
   "execution_count": 75,
   "metadata": {},
   "outputs": [
    {
     "name": "stdout",
     "output_type": "stream",
     "text": [
      "Classification:\n",
      "DEATH, THRASH\n",
      "\n",
      "Individual genre probabilities:\n",
      "death      71%\n",
      "thrash     68%\n",
      "power       3%\n",
      "heavy       3%\n",
      "black       2%\n"
     ]
    }
   ],
   "source": [
    "# Lamb of God\n",
    "classify_text(\"\"\"\n",
    "If there was a single day I could live... a single breath I could take\n",
    "I'd trade all the others away.\n",
    "The blood's on the wall, so you'd might as well just admit it\n",
    "And bleach out the stains, commit to forgetting it.\n",
    "You're better off empty and blank, than left with a single pathetic trace of this\n",
    "Smother another failure, lay this to rest.\n",
    "Console yourself, you're better alone\n",
    "Destroy yourself, see who gives a fuck\n",
    "Absorb yourself, you're better alone\n",
    "Destroy yourself.\n",
    "I'll chain you to the truth, for the truth shall set you free\n",
    "I'll turn the screws of vengeance and bury you with honesty\n",
    "I'll make all your dreams come to life, then slay them as quickly as they came\n",
    "Smother another failure, lay this to rest.\n",
    "Console yourself, you're better alone\n",
    "Destroy yourself, see who gives a fuck\n",
    "Absorb yourself, you're better alone\n",
    "Destroy yourself, see who gives a fuck.\n",
    "Failure.\n",
    "If there was a day I could live, if there was a single breath I could take\n",
    "I'd trade all the others away.\n",
    "\"\"\")"
   ]
  },
  {
   "cell_type": "code",
   "execution_count": 78,
   "metadata": {},
   "outputs": [
    {
     "name": "stdout",
     "output_type": "stream",
     "text": [
      "Classification:\n",
      "BLACK\n",
      "\n",
      "Individual genre probabilities:\n",
      "black      77%\n",
      "death      19%\n",
      "power       4%\n",
      "heavy       3%\n",
      "thrash      3%\n"
     ]
    }
   ],
   "source": [
    "# Nokturnal Mortum\n",
    "classify_text(\"\"\"\n",
    "The edge of continuity for dream and reality.\n",
    "Shaman is dancing his dance of death;\n",
    "the masks of the demonssurrounding me.\n",
    "This is my wedding ritual that gives the violence.\n",
    "The fog of the night, the dark water...\n",
    "to run through the expanse of light.\n",
    "The mysteries of civilizations\n",
    "that left the Earth more of ten times return to me;\n",
    "it gives no repose to me again and again.\n",
    "Standing in the forestand seeing the atricities...\n",
    "all is inside me, and it comes back in the dreams.\n",
    "The shaman dances, the masks are waiting for its demon.\n",
    "The knife is in my hand.\n",
    "The fog... will never crawl away.\n",
    "My words are devoured by the bestial of silence\n",
    "and in invisible chains shackle my moves.\n",
    "The dream continues it's gush to reality\n",
    "and the shaman drums louder the rhytm to his dance of death.\n",
    "\"\"\")"
   ]
  },
  {
   "cell_type": "code",
   "execution_count": 79,
   "metadata": {},
   "outputs": [
    {
     "name": "stdout",
     "output_type": "stream",
     "text": [
      "Classification:\n",
      "DEATH, HEAVY, THRASH\n",
      "\n",
      "Individual genre probabilities:\n",
      "death      75%\n",
      "heavy      50%\n",
      "thrash     49%\n",
      "black      27%\n",
      "power      10%\n"
     ]
    }
   ],
   "source": [
    "# Waking the Cadaver\n",
    "classify_text(\"\"\"\n",
    "Full force assault,\n",
    "With my arsenal,\n",
    "Of destruction,\n",
    "\n",
    "Seeing the neighborhood,\n",
    "With a horrid stare,\n",
    "Blasting authority,\n",
    "\n",
    "You will never catch me,\n",
    "On my killing spree,\n",
    "Appetite for death,\n",
    "Realize there is no God.\n",
    "\n",
    "You will never catch me,\n",
    "On my killing spree,\n",
    "Appetite for death,\n",
    "Realize there is no God.\n",
    "\n",
    "Full force assault,\n",
    "With my arsenal,\n",
    "Of destruction,\n",
    "\n",
    "Seeing the neighborhood,\n",
    "With a horrid stare,\n",
    "Blasting authority,\n",
    "\n",
    "You will never catch me,\n",
    "On my killing spree,\n",
    "Appetite for death,\n",
    "Realize there is no God.\n",
    "\"\"\")"
   ]
  },
  {
   "cell_type": "code",
   "execution_count": 80,
   "metadata": {},
   "outputs": [
    {
     "name": "stdout",
     "output_type": "stream",
     "text": [
      "Classification:\n",
      "BLACK, DEATH\n",
      "\n",
      "Individual genre probabilities:\n",
      "black      63%\n",
      "death      45%\n",
      "thrash     16%\n",
      "power       2%\n",
      "heavy       0%\n"
     ]
    }
   ],
   "source": [
    "# Wolves in the Throne Room\n",
    "classify_text(\"\"\"\n",
    "The journey is long and steep\n",
    "Sweat turns lack and runs with dust\n",
    "Here I seek the edge of the world\n",
    "The secrets that lie behind the veil\n",
    "The rapture of the universe\n",
    "\n",
    "As the sun pours down like honey\n",
    "Three sentries loom at the skyline\n",
    "Bravely staring on\n",
    "Our sun of eternity pours down as it shines bright\n",
    "\n",
    "Many souls slumber\n",
    "On the mountainside below\n",
    "Dressed in royal robes of green and red\n",
    "\n",
    "My left hand points to the earth\n",
    "My right towards the starry sky\n",
    "Writhing serpent belt of eternity\n",
    "Wrapped round my waist\n",
    "Black banner blows in the wind\n",
    "Emblazoned with the white rose of death\n",
    "\n",
    "Under the cover of night, by fire light\n",
    "Blood smoke in my lungs\n",
    "Moss and blood in my hair\n",
    "Ash in my eyes, I grip the torch\n",
    "My light illuminates her ritual\n",
    "Lost sigil burns in the dark\n",
    "Her ecstasy shakes the cannon\n",
    "The future now glows with a blue brilliance\n",
    "In my mind's eye I can see a stronghold\n",
    "With a moat of pure spring water\n",
    "Spires of cedar and fir\n",
    "\"\"\")"
   ]
  },
  {
   "cell_type": "code",
   "execution_count": 81,
   "metadata": {},
   "outputs": [
    {
     "name": "stdout",
     "output_type": "stream",
     "text": [
      "Classification:\n",
      "POWER\n",
      "\n",
      "Individual genre probabilities:\n",
      "power      39%\n",
      "death      19%\n",
      "black       5%\n",
      "thrash      5%\n",
      "heavy       4%\n"
     ]
    }
   ],
   "source": [
    "# Ne Obliviscaris\n",
    "classify_text(\"\"\"\n",
    "ALL HORIZONS FALL THROUGH DYING STAINS\n",
    "A CRIMSON CROWN TO CALL MY OWN\n",
    "O HOME IS EVERYWHERE I VOYAGE\n",
    "AND DARKNESS IS ALWAYS WITH ME...\n",
    "\n",
    "I CALL TO THE SIRENS ECHOING IN SWEET LAUGHTER\n",
    "BROKEN HOPES 'NEATH THE SURFACE\n",
    "WITH HAUNTING EYES THEY STARE...\n",
    "through black waters, wearing tresses\n",
    "a figurehead warped, stares homesick afar\n",
    "\n",
    "NEVER DEPTHS... MY DEAR DESPAIR\n",
    "NEVER\n",
    "\n",
    "BLIND IN DELIRIUM, NAVIGATING THE CONTINUUM FLUX... NOTHING\n",
    "SUBMERGED IN LIMBO, OF NAUTICA THEY SING... TRUE MAJESTY\n",
    "OCEANS WIDE, EYES WIDE... FOREVER TO TREASURE... CARRY ON\n",
    "INFUSING INSIGHT, THE FABRIC OF SPACE IGNITED\n",
    "\n",
    "silent time reveals tragedies chartered\n",
    "all triumphs were drowned...and the sirens too...\n",
    "SILENT TIME REVEALS...\n",
    "ALL TRIUMPHS WERE DROWNED...\n",
    "symphony for the pilgrim, intrinsic wake, opulent discordant soul... my arabesque\n",
    "setting sail from paradox lost to a paradise found\n",
    "PARADISE, PARADISE FOUND\n",
    "PARADISE, PARADISE FOUND\n",
    "\"\"\")"
   ]
  },
  {
   "cell_type": "code",
   "execution_count": 82,
   "metadata": {},
   "outputs": [
    {
     "name": "stdout",
     "output_type": "stream",
     "text": [
      "Classification:\n",
      "HEAVY\n",
      "\n",
      "Individual genre probabilities:\n",
      "heavy      71%\n",
      "thrash     30%\n",
      "black      13%\n",
      "death      13%\n",
      "power      11%\n"
     ]
    }
   ],
   "source": [
    "# Car Bomb\n",
    "classify_text(\"\"\"\n",
    "Dark smiles saying nothing\n",
    "The warpath, straight and lonely\n",
    "Both sides feel the cold front closing in\n",
    "\n",
    "Reveal the frozen pieces of earth\n",
    "\n",
    "Can’t hear the hidden sounds from its closed mouth\n",
    "No more secret truths said into the soundproof walls\n",
    "\n",
    "They sing we’re restored to life\n",
    "\n",
    "From the dust of this planet you sing\n",
    "Stand up and sing\n",
    "Ashes in ears\n",
    "There’s no way home\n",
    "Just sing this song\n",
    "\n",
    "They sing we’re restored to life\n",
    "Pull the rusting nails from these walls\n",
    "Peel off your broken nails\n",
    "\n",
    "Wake wake up the sun\n",
    "Just take it all back\n",
    "\"\"\")"
   ]
  },
  {
   "cell_type": "code",
   "execution_count": 83,
   "metadata": {},
   "outputs": [
    {
     "name": "stdout",
     "output_type": "stream",
     "text": [
      "Classification:\n",
      "THRASH, HEAVY, BLACK\n",
      "\n",
      "Individual genre probabilities:\n",
      "thrash     93%\n",
      "heavy      69%\n",
      "black      42%\n",
      "death      24%\n",
      "power      13%\n"
     ]
    }
   ],
   "source": [
    "# Death Angel\n",
    "classify_text(\"\"\"\n",
    "Metal mayhem; hit the stage\n",
    "Thrashing to the madness,\n",
    "You can feel the rage!\n",
    "\n",
    "Denim, leather, in the crowd\n",
    "Feel your ears are bleeding,\n",
    "Wanna hear it loud!\n",
    "\n",
    "Thrasher! [4x]\n",
    "\n",
    "Posers strike us in the back\n",
    "I can’t take their bullshit,\n",
    "Turn around and attack\n",
    "(Attack!)\n",
    "\n",
    "Metal bodies slamming into me,\n",
    "How I live my life\n",
    "And baby can’t you see?\n",
    "\n",
    "Thrashers! [4x]\n",
    "\n",
    "Smashing, thrashing, on your knees\n",
    "You beg for mercy\n",
    "Smashing, thrashing, on your knees\n",
    "You plead for mercy\n",
    "\n",
    "Thrasher! [4x]\n",
    "\n",
    "Fighting, fall off the stage\n",
    "Screaming with a rage\n",
    "Thrashing, lose control\n",
    "Smashing I like drugs\n",
    "Madness, all around\n",
    "Falling to the ground\n",
    "Dying for your breath\n",
    "Living to your death\n",
    "\n",
    "Thrashing, smashing, on their knees\n",
    "You beg for mercy\n",
    "Thrashing, smashing, on their knees\n",
    "You plead for mercy\n",
    "\n",
    "Thrasher! [4x]\n",
    "\"\"\")"
   ]
  },
  {
   "cell_type": "code",
   "execution_count": 84,
   "metadata": {},
   "outputs": [
    {
     "name": "stdout",
     "output_type": "stream",
     "text": [
      "Classification:\n",
      "POWER\n",
      "\n",
      "Individual genre probabilities:\n",
      "power      70%\n",
      "thrash     29%\n",
      "death      14%\n",
      "black       2%\n",
      "heavy       1%\n"
     ]
    }
   ],
   "source": [
    "# Fleshgod Apocalypse\n",
    "classify_text(\"\"\"\n",
    "Bow your head before your king, as I’m the bringer of light\n",
    "The chosen one amongst all men, the lord and master of light\n",
    "“But who decided it all?”\n",
    "Shut up you servant,, respect divine right\n",
    "For I belong to the elite of mankind\n",
    "Enlightened guardian of justice and right\n",
    "My word is law or it’s eye for an eye\n",
    "\n",
    "Bow down before the sovereign of the kingdom\n",
    "I will lead you through the hardest times\n",
    "Devote we are to the crown, in sole command forever glorious\n",
    "\n",
    "Hail: Long live the great king!\n",
    "\n",
    "Born with the fire inside\n",
    "The flame of wisdom burns in my noble heart\n",
    "Turns into guiding light that blows the mist on the path\n",
    "“We’ll follow you ‘till the end!”\n",
    "Balance of power, the art of the wise\n",
    "Ancestral pride to preserve for my bloodline\n",
    "Resounds my name through spirals of time\n",
    "Until kingdom come I\n",
    "\n",
    "God bless my soul, guide my fury through this cold war\n",
    "Hunting Judas down\n",
    "Now free my hands from the spires of the serpent\n",
    "Death to the traitors of the crown\n",
    "\n",
    "No one to trust and no one to save\n",
    "As this court is a den of snakes\n",
    "Walk alone through this treacherous world\n",
    "Mutilating the venomous tongue\n",
    "Your misleading words, hide desire to prevail\n",
    "In this devious show, fail\n",
    "\n",
    "No one is virtuous, no one is grown\n",
    "No one deserves to be heir to the throne\n",
    "‘Till their veins will be filled with their gall\n",
    "I will stand for the sake of the sacred crown\n",
    "Forever at war\n",
    "You deceiving worms will be smashed by my rage\n",
    "In the name of god, slayed\n",
    "\n",
    "In aeternam, draining struggle to serve my reign\n",
    "With full force restore the integrity\n",
    "Purify consciences through blood\n",
    "Extirpate those cancers, dictate my law\n",
    "‘Till the day of my fall\n",
    "Beware you’ll pay for your faults\n",
    "\"\"\")"
   ]
  },
  {
   "cell_type": "code",
   "execution_count": 85,
   "metadata": {},
   "outputs": [
    {
     "name": "stdout",
     "output_type": "stream",
     "text": [
      "Classification:\n",
      "DEATH\n",
      "\n",
      "Individual genre probabilities:\n",
      "death      63%\n",
      "power      20%\n",
      "heavy       6%\n",
      "black       5%\n",
      "thrash      4%\n"
     ]
    }
   ],
   "source": [
    "# Protest the Hero\n",
    "classify_text(\"\"\"\n",
    "Without a word uttered\n",
    "A comparison is drawn.\n",
    "A distant future, a cluttered past\n",
    "Amid the stars.\n",
    "Vague yet persistent, \n",
    "Thought lacking consistency.\n",
    "Unwilling victim of farce.\n",
    "The loudest voices scream uninspired.\n",
    "Their numbers vast, their spirits strong.\n",
    "Quiet choices sing against the choir\n",
    "The majority is almost never wrong...\n",
    "Never wrong... Ever... Never wrong.\n",
    "\n",
    "A laughable assertion\n",
    "That there might be some connection\n",
    "(smoke-filled halls)\n",
    "Adorn the walls with mirrors and misdirection,\n",
    "Or let it go. [4x]\n",
    "\n",
    "No common thread, \n",
    "No ties that bind.\n",
    "Just grasping at threads and keep in mind.\n",
    "Historical analysis\n",
    "They play a separate role,\n",
    "But one contributes more to the whole!\n",
    "\n",
    "Like a saucer sep...\n",
    "Let's separate and shuffle off this conflict.\n",
    "My armament will suffocate (will suffocate),\n",
    "And leave you feeling useless.\n",
    "\n",
    "We are your beginning \n",
    "And we will be your end.\n",
    "Affluence permitting, a mutual annihilation.\n",
    "\n",
    "A laughable assertion\n",
    "That there might be some connection\n",
    "(smoke-filled halls)\n",
    "Adorn the walls with mirrors and misdirection,\n",
    "Or let it go. [4x]\n",
    "\n",
    "Discussion moot\n",
    "Argument ended\n",
    "An aggressive mute\n",
    "Strumbling defendant\n",
    "Fiction versus fantasy\n",
    "One fact remains unclear\n",
    "How you pretend both franchises stand soley on one tier?!\n",
    "\n",
    "We are your beginning \n",
    "And we will be your end.\n",
    "Affluence permitting, a mutual annihilation.\n",
    "\n",
    "I don't care who shot first\n",
    "Or for the song and dance you've rehearsed.\n",
    "(a mutual annihilation)\n",
    "I don't care who shot first,\n",
    "Or for the song and dance that you've rehearsed.\n",
    "\n",
    "The maps are divided\n",
    "And each are traversed.\n",
    "Aligment in flux for better or worse.\n",
    "Is the drain finally swirling or are we swirling the drain?\n",
    "This drought is relieved with acid rain.\n",
    "\n",
    "This drought is relieved with acid rain. [3x]\n",
    "\n",
    "(we are) We are your beginning (and the end)\n",
    "And we will be your end (we will be your end) [2x]\n",
    "\n",
    "Affluence permitting a mutual annihilation\n",
    "\"\"\")"
   ]
  }
 ],
 "metadata": {
  "kernelspec": {
   "display_name": "metallyrics",
   "language": "python",
   "name": "metallyrics"
  },
  "language_info": {
   "codemirror_mode": {
    "name": "ipython",
    "version": 3
   },
   "file_extension": ".py",
   "mimetype": "text/x-python",
   "name": "python",
   "nbconvert_exporter": "python",
   "pygments_lexer": "ipython3",
   "version": "3.7.6"
  },
  "pycharm": {
   "stem_cell": {
    "cell_type": "raw",
    "metadata": {
     "collapsed": false
    },
    "source": []
   }
  }
 },
 "nbformat": 4,
 "nbformat_minor": 4
}
